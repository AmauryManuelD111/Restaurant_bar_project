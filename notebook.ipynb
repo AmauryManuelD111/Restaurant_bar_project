{
 "cells": [
  {
   "cell_type": "code",
   "execution_count": 1,
   "metadata": {},
   "outputs": [],
   "source": [
    "import os\n",
    "import json\n",
    "import pandas as pd\n",
    "import matplotlib.pyplot as plt\n",
    "import plotly.express as px\n",
    "from datetime import datetime\n",
    "from utiles import json_loader, obtener_df\n",
    "\n",
    "\n",
    "pd.set_option('display.max_rows', None)\n",
    "pd.set_option('display.max_columns', None)\n",
    "\n",
    "json_list = json_loader('jsons')\n",
    "\n",
    "df = obtener_df(json_list)\n"
   ]
  },
  {
   "cell_type": "code",
   "execution_count": 2,
   "metadata": {},
   "outputs": [
    {
     "data": {
      "application/vnd.plotly.v1+json": {
       "config": {
        "plotlyServerURL": "https://plot.ly"
       },
       "data": [
        {
         "customdata": [
          [
           "bar"
          ],
          [
           "barrestaurant"
          ],
          [
           "restaurant"
          ]
         ],
         "domain": {
          "x": [
           0,
           1
          ],
          "y": [
           0,
           1
          ]
         },
         "hovertemplate": "Tipo=%{customdata[0]}<br>Cantidad=%{value}<extra></extra>",
         "labels": [
          "bar",
          "barrestaurant",
          "restaurant"
         ],
         "legendgroup": "",
         "marker": {
          "colors": [
           "#636efa",
           "#EF553B",
           "#00cc96"
          ]
         },
         "name": "",
         "showlegend": true,
         "type": "pie",
         "values": {
          "bdata": "EQA3AIcA",
          "dtype": "i2"
         }
        }
       ],
       "layout": {
        "height": 400,
        "legend": {
         "tracegroupgap": 0
        },
        "template": {
         "data": {
          "bar": [
           {
            "error_x": {
             "color": "#2a3f5f"
            },
            "error_y": {
             "color": "#2a3f5f"
            },
            "marker": {
             "line": {
              "color": "#E5ECF6",
              "width": 0.5
             },
             "pattern": {
              "fillmode": "overlay",
              "size": 10,
              "solidity": 0.2
             }
            },
            "type": "bar"
           }
          ],
          "barpolar": [
           {
            "marker": {
             "line": {
              "color": "#E5ECF6",
              "width": 0.5
             },
             "pattern": {
              "fillmode": "overlay",
              "size": 10,
              "solidity": 0.2
             }
            },
            "type": "barpolar"
           }
          ],
          "carpet": [
           {
            "aaxis": {
             "endlinecolor": "#2a3f5f",
             "gridcolor": "white",
             "linecolor": "white",
             "minorgridcolor": "white",
             "startlinecolor": "#2a3f5f"
            },
            "baxis": {
             "endlinecolor": "#2a3f5f",
             "gridcolor": "white",
             "linecolor": "white",
             "minorgridcolor": "white",
             "startlinecolor": "#2a3f5f"
            },
            "type": "carpet"
           }
          ],
          "choropleth": [
           {
            "colorbar": {
             "outlinewidth": 0,
             "ticks": ""
            },
            "type": "choropleth"
           }
          ],
          "contour": [
           {
            "colorbar": {
             "outlinewidth": 0,
             "ticks": ""
            },
            "colorscale": [
             [
              0,
              "#0d0887"
             ],
             [
              0.1111111111111111,
              "#46039f"
             ],
             [
              0.2222222222222222,
              "#7201a8"
             ],
             [
              0.3333333333333333,
              "#9c179e"
             ],
             [
              0.4444444444444444,
              "#bd3786"
             ],
             [
              0.5555555555555556,
              "#d8576b"
             ],
             [
              0.6666666666666666,
              "#ed7953"
             ],
             [
              0.7777777777777778,
              "#fb9f3a"
             ],
             [
              0.8888888888888888,
              "#fdca26"
             ],
             [
              1,
              "#f0f921"
             ]
            ],
            "type": "contour"
           }
          ],
          "contourcarpet": [
           {
            "colorbar": {
             "outlinewidth": 0,
             "ticks": ""
            },
            "type": "contourcarpet"
           }
          ],
          "heatmap": [
           {
            "colorbar": {
             "outlinewidth": 0,
             "ticks": ""
            },
            "colorscale": [
             [
              0,
              "#0d0887"
             ],
             [
              0.1111111111111111,
              "#46039f"
             ],
             [
              0.2222222222222222,
              "#7201a8"
             ],
             [
              0.3333333333333333,
              "#9c179e"
             ],
             [
              0.4444444444444444,
              "#bd3786"
             ],
             [
              0.5555555555555556,
              "#d8576b"
             ],
             [
              0.6666666666666666,
              "#ed7953"
             ],
             [
              0.7777777777777778,
              "#fb9f3a"
             ],
             [
              0.8888888888888888,
              "#fdca26"
             ],
             [
              1,
              "#f0f921"
             ]
            ],
            "type": "heatmap"
           }
          ],
          "histogram": [
           {
            "marker": {
             "pattern": {
              "fillmode": "overlay",
              "size": 10,
              "solidity": 0.2
             }
            },
            "type": "histogram"
           }
          ],
          "histogram2d": [
           {
            "colorbar": {
             "outlinewidth": 0,
             "ticks": ""
            },
            "colorscale": [
             [
              0,
              "#0d0887"
             ],
             [
              0.1111111111111111,
              "#46039f"
             ],
             [
              0.2222222222222222,
              "#7201a8"
             ],
             [
              0.3333333333333333,
              "#9c179e"
             ],
             [
              0.4444444444444444,
              "#bd3786"
             ],
             [
              0.5555555555555556,
              "#d8576b"
             ],
             [
              0.6666666666666666,
              "#ed7953"
             ],
             [
              0.7777777777777778,
              "#fb9f3a"
             ],
             [
              0.8888888888888888,
              "#fdca26"
             ],
             [
              1,
              "#f0f921"
             ]
            ],
            "type": "histogram2d"
           }
          ],
          "histogram2dcontour": [
           {
            "colorbar": {
             "outlinewidth": 0,
             "ticks": ""
            },
            "colorscale": [
             [
              0,
              "#0d0887"
             ],
             [
              0.1111111111111111,
              "#46039f"
             ],
             [
              0.2222222222222222,
              "#7201a8"
             ],
             [
              0.3333333333333333,
              "#9c179e"
             ],
             [
              0.4444444444444444,
              "#bd3786"
             ],
             [
              0.5555555555555556,
              "#d8576b"
             ],
             [
              0.6666666666666666,
              "#ed7953"
             ],
             [
              0.7777777777777778,
              "#fb9f3a"
             ],
             [
              0.8888888888888888,
              "#fdca26"
             ],
             [
              1,
              "#f0f921"
             ]
            ],
            "type": "histogram2dcontour"
           }
          ],
          "mesh3d": [
           {
            "colorbar": {
             "outlinewidth": 0,
             "ticks": ""
            },
            "type": "mesh3d"
           }
          ],
          "parcoords": [
           {
            "line": {
             "colorbar": {
              "outlinewidth": 0,
              "ticks": ""
             }
            },
            "type": "parcoords"
           }
          ],
          "pie": [
           {
            "automargin": true,
            "type": "pie"
           }
          ],
          "scatter": [
           {
            "fillpattern": {
             "fillmode": "overlay",
             "size": 10,
             "solidity": 0.2
            },
            "type": "scatter"
           }
          ],
          "scatter3d": [
           {
            "line": {
             "colorbar": {
              "outlinewidth": 0,
              "ticks": ""
             }
            },
            "marker": {
             "colorbar": {
              "outlinewidth": 0,
              "ticks": ""
             }
            },
            "type": "scatter3d"
           }
          ],
          "scattercarpet": [
           {
            "marker": {
             "colorbar": {
              "outlinewidth": 0,
              "ticks": ""
             }
            },
            "type": "scattercarpet"
           }
          ],
          "scattergeo": [
           {
            "marker": {
             "colorbar": {
              "outlinewidth": 0,
              "ticks": ""
             }
            },
            "type": "scattergeo"
           }
          ],
          "scattergl": [
           {
            "marker": {
             "colorbar": {
              "outlinewidth": 0,
              "ticks": ""
             }
            },
            "type": "scattergl"
           }
          ],
          "scattermap": [
           {
            "marker": {
             "colorbar": {
              "outlinewidth": 0,
              "ticks": ""
             }
            },
            "type": "scattermap"
           }
          ],
          "scattermapbox": [
           {
            "marker": {
             "colorbar": {
              "outlinewidth": 0,
              "ticks": ""
             }
            },
            "type": "scattermapbox"
           }
          ],
          "scatterpolar": [
           {
            "marker": {
             "colorbar": {
              "outlinewidth": 0,
              "ticks": ""
             }
            },
            "type": "scatterpolar"
           }
          ],
          "scatterpolargl": [
           {
            "marker": {
             "colorbar": {
              "outlinewidth": 0,
              "ticks": ""
             }
            },
            "type": "scatterpolargl"
           }
          ],
          "scatterternary": [
           {
            "marker": {
             "colorbar": {
              "outlinewidth": 0,
              "ticks": ""
             }
            },
            "type": "scatterternary"
           }
          ],
          "surface": [
           {
            "colorbar": {
             "outlinewidth": 0,
             "ticks": ""
            },
            "colorscale": [
             [
              0,
              "#0d0887"
             ],
             [
              0.1111111111111111,
              "#46039f"
             ],
             [
              0.2222222222222222,
              "#7201a8"
             ],
             [
              0.3333333333333333,
              "#9c179e"
             ],
             [
              0.4444444444444444,
              "#bd3786"
             ],
             [
              0.5555555555555556,
              "#d8576b"
             ],
             [
              0.6666666666666666,
              "#ed7953"
             ],
             [
              0.7777777777777778,
              "#fb9f3a"
             ],
             [
              0.8888888888888888,
              "#fdca26"
             ],
             [
              1,
              "#f0f921"
             ]
            ],
            "type": "surface"
           }
          ],
          "table": [
           {
            "cells": {
             "fill": {
              "color": "#EBF0F8"
             },
             "line": {
              "color": "white"
             }
            },
            "header": {
             "fill": {
              "color": "#C8D4E3"
             },
             "line": {
              "color": "white"
             }
            },
            "type": "table"
           }
          ]
         },
         "layout": {
          "annotationdefaults": {
           "arrowcolor": "#2a3f5f",
           "arrowhead": 0,
           "arrowwidth": 1
          },
          "autotypenumbers": "strict",
          "coloraxis": {
           "colorbar": {
            "outlinewidth": 0,
            "ticks": ""
           }
          },
          "colorscale": {
           "diverging": [
            [
             0,
             "#8e0152"
            ],
            [
             0.1,
             "#c51b7d"
            ],
            [
             0.2,
             "#de77ae"
            ],
            [
             0.3,
             "#f1b6da"
            ],
            [
             0.4,
             "#fde0ef"
            ],
            [
             0.5,
             "#f7f7f7"
            ],
            [
             0.6,
             "#e6f5d0"
            ],
            [
             0.7,
             "#b8e186"
            ],
            [
             0.8,
             "#7fbc41"
            ],
            [
             0.9,
             "#4d9221"
            ],
            [
             1,
             "#276419"
            ]
           ],
           "sequential": [
            [
             0,
             "#0d0887"
            ],
            [
             0.1111111111111111,
             "#46039f"
            ],
            [
             0.2222222222222222,
             "#7201a8"
            ],
            [
             0.3333333333333333,
             "#9c179e"
            ],
            [
             0.4444444444444444,
             "#bd3786"
            ],
            [
             0.5555555555555556,
             "#d8576b"
            ],
            [
             0.6666666666666666,
             "#ed7953"
            ],
            [
             0.7777777777777778,
             "#fb9f3a"
            ],
            [
             0.8888888888888888,
             "#fdca26"
            ],
            [
             1,
             "#f0f921"
            ]
           ],
           "sequentialminus": [
            [
             0,
             "#0d0887"
            ],
            [
             0.1111111111111111,
             "#46039f"
            ],
            [
             0.2222222222222222,
             "#7201a8"
            ],
            [
             0.3333333333333333,
             "#9c179e"
            ],
            [
             0.4444444444444444,
             "#bd3786"
            ],
            [
             0.5555555555555556,
             "#d8576b"
            ],
            [
             0.6666666666666666,
             "#ed7953"
            ],
            [
             0.7777777777777778,
             "#fb9f3a"
            ],
            [
             0.8888888888888888,
             "#fdca26"
            ],
            [
             1,
             "#f0f921"
            ]
           ]
          },
          "colorway": [
           "#636efa",
           "#EF553B",
           "#00cc96",
           "#ab63fa",
           "#FFA15A",
           "#19d3f3",
           "#FF6692",
           "#B6E880",
           "#FF97FF",
           "#FECB52"
          ],
          "font": {
           "color": "#2a3f5f"
          },
          "geo": {
           "bgcolor": "white",
           "lakecolor": "white",
           "landcolor": "#E5ECF6",
           "showlakes": true,
           "showland": true,
           "subunitcolor": "white"
          },
          "hoverlabel": {
           "align": "left"
          },
          "hovermode": "closest",
          "mapbox": {
           "style": "light"
          },
          "paper_bgcolor": "white",
          "plot_bgcolor": "#E5ECF6",
          "polar": {
           "angularaxis": {
            "gridcolor": "white",
            "linecolor": "white",
            "ticks": ""
           },
           "bgcolor": "#E5ECF6",
           "radialaxis": {
            "gridcolor": "white",
            "linecolor": "white",
            "ticks": ""
           }
          },
          "scene": {
           "xaxis": {
            "backgroundcolor": "#E5ECF6",
            "gridcolor": "white",
            "gridwidth": 2,
            "linecolor": "white",
            "showbackground": true,
            "ticks": "",
            "zerolinecolor": "white"
           },
           "yaxis": {
            "backgroundcolor": "#E5ECF6",
            "gridcolor": "white",
            "gridwidth": 2,
            "linecolor": "white",
            "showbackground": true,
            "ticks": "",
            "zerolinecolor": "white"
           },
           "zaxis": {
            "backgroundcolor": "#E5ECF6",
            "gridcolor": "white",
            "gridwidth": 2,
            "linecolor": "white",
            "showbackground": true,
            "ticks": "",
            "zerolinecolor": "white"
           }
          },
          "shapedefaults": {
           "line": {
            "color": "#2a3f5f"
           }
          },
          "ternary": {
           "aaxis": {
            "gridcolor": "white",
            "linecolor": "white",
            "ticks": ""
           },
           "baxis": {
            "gridcolor": "white",
            "linecolor": "white",
            "ticks": ""
           },
           "bgcolor": "#E5ECF6",
           "caxis": {
            "gridcolor": "white",
            "linecolor": "white",
            "ticks": ""
           }
          },
          "title": {
           "x": 0.05
          },
          "xaxis": {
           "automargin": true,
           "gridcolor": "white",
           "linecolor": "white",
           "ticks": "",
           "title": {
            "standoff": 15
           },
           "zerolinecolor": "white",
           "zerolinewidth": 2
          },
          "yaxis": {
           "automargin": true,
           "gridcolor": "white",
           "linecolor": "white",
           "ticks": "",
           "title": {
            "standoff": 15
           },
           "zerolinecolor": "white",
           "zerolinewidth": 2
          }
         }
        },
        "title": {
         "text": "Proporción de establecimientos por tipo de local:"
        }
       }
      }
     },
     "metadata": {},
     "output_type": "display_data"
    },
    {
     "data": {
      "application/vnd.plotly.v1+json": {
       "config": {
        "plotlyServerURL": "https://plot.ly"
       },
       "data": [
        {
         "hovertemplate": "Tipo=%{x}<br>Calificación=%{y}<extra></extra>",
         "legendgroup": "bar",
         "marker": {
          "color": "#636efa",
          "pattern": {
           "shape": ""
          }
         },
         "name": "bar",
         "orientation": "v",
         "showlegend": true,
         "textposition": "auto",
         "type": "bar",
         "x": [
          "bar"
         ],
         "xaxis": "x",
         "y": {
          "bdata": "gy3Ygi3YEkA=",
          "dtype": "f8"
         },
         "yaxis": "y"
        },
        {
         "hovertemplate": "Tipo=%{x}<br>Calificación=%{y}<extra></extra>",
         "legendgroup": "barrestaurant",
         "marker": {
          "color": "#EF553B",
          "pattern": {
           "shape": ""
          }
         },
         "name": "barrestaurant",
         "orientation": "v",
         "showlegend": true,
         "textposition": "auto",
         "type": "bar",
         "x": [
          "barrestaurant"
         ],
         "xaxis": "x",
         "y": {
          "bdata": "rkfhehSuEUA=",
          "dtype": "f8"
         },
         "yaxis": "y"
        },
        {
         "hovertemplate": "Tipo=%{x}<br>Calificación=%{y}<extra></extra>",
         "legendgroup": "restaurant",
         "marker": {
          "color": "#00cc96",
          "pattern": {
           "shape": ""
          }
         },
         "name": "restaurant",
         "orientation": "v",
         "showlegend": true,
         "textposition": "auto",
         "type": "bar",
         "x": [
          "restaurant"
         ],
         "xaxis": "x",
         "y": {
          "bdata": "SOF6FK7HEEA=",
          "dtype": "f8"
         },
         "yaxis": "y"
        }
       ],
       "layout": {
        "barmode": "relative",
        "height": 400,
        "legend": {
         "title": {
          "text": "Tipo"
         },
         "tracegroupgap": 0
        },
        "template": {
         "data": {
          "bar": [
           {
            "error_x": {
             "color": "#2a3f5f"
            },
            "error_y": {
             "color": "#2a3f5f"
            },
            "marker": {
             "line": {
              "color": "#E5ECF6",
              "width": 0.5
             },
             "pattern": {
              "fillmode": "overlay",
              "size": 10,
              "solidity": 0.2
             }
            },
            "type": "bar"
           }
          ],
          "barpolar": [
           {
            "marker": {
             "line": {
              "color": "#E5ECF6",
              "width": 0.5
             },
             "pattern": {
              "fillmode": "overlay",
              "size": 10,
              "solidity": 0.2
             }
            },
            "type": "barpolar"
           }
          ],
          "carpet": [
           {
            "aaxis": {
             "endlinecolor": "#2a3f5f",
             "gridcolor": "white",
             "linecolor": "white",
             "minorgridcolor": "white",
             "startlinecolor": "#2a3f5f"
            },
            "baxis": {
             "endlinecolor": "#2a3f5f",
             "gridcolor": "white",
             "linecolor": "white",
             "minorgridcolor": "white",
             "startlinecolor": "#2a3f5f"
            },
            "type": "carpet"
           }
          ],
          "choropleth": [
           {
            "colorbar": {
             "outlinewidth": 0,
             "ticks": ""
            },
            "type": "choropleth"
           }
          ],
          "contour": [
           {
            "colorbar": {
             "outlinewidth": 0,
             "ticks": ""
            },
            "colorscale": [
             [
              0,
              "#0d0887"
             ],
             [
              0.1111111111111111,
              "#46039f"
             ],
             [
              0.2222222222222222,
              "#7201a8"
             ],
             [
              0.3333333333333333,
              "#9c179e"
             ],
             [
              0.4444444444444444,
              "#bd3786"
             ],
             [
              0.5555555555555556,
              "#d8576b"
             ],
             [
              0.6666666666666666,
              "#ed7953"
             ],
             [
              0.7777777777777778,
              "#fb9f3a"
             ],
             [
              0.8888888888888888,
              "#fdca26"
             ],
             [
              1,
              "#f0f921"
             ]
            ],
            "type": "contour"
           }
          ],
          "contourcarpet": [
           {
            "colorbar": {
             "outlinewidth": 0,
             "ticks": ""
            },
            "type": "contourcarpet"
           }
          ],
          "heatmap": [
           {
            "colorbar": {
             "outlinewidth": 0,
             "ticks": ""
            },
            "colorscale": [
             [
              0,
              "#0d0887"
             ],
             [
              0.1111111111111111,
              "#46039f"
             ],
             [
              0.2222222222222222,
              "#7201a8"
             ],
             [
              0.3333333333333333,
              "#9c179e"
             ],
             [
              0.4444444444444444,
              "#bd3786"
             ],
             [
              0.5555555555555556,
              "#d8576b"
             ],
             [
              0.6666666666666666,
              "#ed7953"
             ],
             [
              0.7777777777777778,
              "#fb9f3a"
             ],
             [
              0.8888888888888888,
              "#fdca26"
             ],
             [
              1,
              "#f0f921"
             ]
            ],
            "type": "heatmap"
           }
          ],
          "histogram": [
           {
            "marker": {
             "pattern": {
              "fillmode": "overlay",
              "size": 10,
              "solidity": 0.2
             }
            },
            "type": "histogram"
           }
          ],
          "histogram2d": [
           {
            "colorbar": {
             "outlinewidth": 0,
             "ticks": ""
            },
            "colorscale": [
             [
              0,
              "#0d0887"
             ],
             [
              0.1111111111111111,
              "#46039f"
             ],
             [
              0.2222222222222222,
              "#7201a8"
             ],
             [
              0.3333333333333333,
              "#9c179e"
             ],
             [
              0.4444444444444444,
              "#bd3786"
             ],
             [
              0.5555555555555556,
              "#d8576b"
             ],
             [
              0.6666666666666666,
              "#ed7953"
             ],
             [
              0.7777777777777778,
              "#fb9f3a"
             ],
             [
              0.8888888888888888,
              "#fdca26"
             ],
             [
              1,
              "#f0f921"
             ]
            ],
            "type": "histogram2d"
           }
          ],
          "histogram2dcontour": [
           {
            "colorbar": {
             "outlinewidth": 0,
             "ticks": ""
            },
            "colorscale": [
             [
              0,
              "#0d0887"
             ],
             [
              0.1111111111111111,
              "#46039f"
             ],
             [
              0.2222222222222222,
              "#7201a8"
             ],
             [
              0.3333333333333333,
              "#9c179e"
             ],
             [
              0.4444444444444444,
              "#bd3786"
             ],
             [
              0.5555555555555556,
              "#d8576b"
             ],
             [
              0.6666666666666666,
              "#ed7953"
             ],
             [
              0.7777777777777778,
              "#fb9f3a"
             ],
             [
              0.8888888888888888,
              "#fdca26"
             ],
             [
              1,
              "#f0f921"
             ]
            ],
            "type": "histogram2dcontour"
           }
          ],
          "mesh3d": [
           {
            "colorbar": {
             "outlinewidth": 0,
             "ticks": ""
            },
            "type": "mesh3d"
           }
          ],
          "parcoords": [
           {
            "line": {
             "colorbar": {
              "outlinewidth": 0,
              "ticks": ""
             }
            },
            "type": "parcoords"
           }
          ],
          "pie": [
           {
            "automargin": true,
            "type": "pie"
           }
          ],
          "scatter": [
           {
            "fillpattern": {
             "fillmode": "overlay",
             "size": 10,
             "solidity": 0.2
            },
            "type": "scatter"
           }
          ],
          "scatter3d": [
           {
            "line": {
             "colorbar": {
              "outlinewidth": 0,
              "ticks": ""
             }
            },
            "marker": {
             "colorbar": {
              "outlinewidth": 0,
              "ticks": ""
             }
            },
            "type": "scatter3d"
           }
          ],
          "scattercarpet": [
           {
            "marker": {
             "colorbar": {
              "outlinewidth": 0,
              "ticks": ""
             }
            },
            "type": "scattercarpet"
           }
          ],
          "scattergeo": [
           {
            "marker": {
             "colorbar": {
              "outlinewidth": 0,
              "ticks": ""
             }
            },
            "type": "scattergeo"
           }
          ],
          "scattergl": [
           {
            "marker": {
             "colorbar": {
              "outlinewidth": 0,
              "ticks": ""
             }
            },
            "type": "scattergl"
           }
          ],
          "scattermap": [
           {
            "marker": {
             "colorbar": {
              "outlinewidth": 0,
              "ticks": ""
             }
            },
            "type": "scattermap"
           }
          ],
          "scattermapbox": [
           {
            "marker": {
             "colorbar": {
              "outlinewidth": 0,
              "ticks": ""
             }
            },
            "type": "scattermapbox"
           }
          ],
          "scatterpolar": [
           {
            "marker": {
             "colorbar": {
              "outlinewidth": 0,
              "ticks": ""
             }
            },
            "type": "scatterpolar"
           }
          ],
          "scatterpolargl": [
           {
            "marker": {
             "colorbar": {
              "outlinewidth": 0,
              "ticks": ""
             }
            },
            "type": "scatterpolargl"
           }
          ],
          "scatterternary": [
           {
            "marker": {
             "colorbar": {
              "outlinewidth": 0,
              "ticks": ""
             }
            },
            "type": "scatterternary"
           }
          ],
          "surface": [
           {
            "colorbar": {
             "outlinewidth": 0,
             "ticks": ""
            },
            "colorscale": [
             [
              0,
              "#0d0887"
             ],
             [
              0.1111111111111111,
              "#46039f"
             ],
             [
              0.2222222222222222,
              "#7201a8"
             ],
             [
              0.3333333333333333,
              "#9c179e"
             ],
             [
              0.4444444444444444,
              "#bd3786"
             ],
             [
              0.5555555555555556,
              "#d8576b"
             ],
             [
              0.6666666666666666,
              "#ed7953"
             ],
             [
              0.7777777777777778,
              "#fb9f3a"
             ],
             [
              0.8888888888888888,
              "#fdca26"
             ],
             [
              1,
              "#f0f921"
             ]
            ],
            "type": "surface"
           }
          ],
          "table": [
           {
            "cells": {
             "fill": {
              "color": "#EBF0F8"
             },
             "line": {
              "color": "white"
             }
            },
            "header": {
             "fill": {
              "color": "#C8D4E3"
             },
             "line": {
              "color": "white"
             }
            },
            "type": "table"
           }
          ]
         },
         "layout": {
          "annotationdefaults": {
           "arrowcolor": "#2a3f5f",
           "arrowhead": 0,
           "arrowwidth": 1
          },
          "autotypenumbers": "strict",
          "coloraxis": {
           "colorbar": {
            "outlinewidth": 0,
            "ticks": ""
           }
          },
          "colorscale": {
           "diverging": [
            [
             0,
             "#8e0152"
            ],
            [
             0.1,
             "#c51b7d"
            ],
            [
             0.2,
             "#de77ae"
            ],
            [
             0.3,
             "#f1b6da"
            ],
            [
             0.4,
             "#fde0ef"
            ],
            [
             0.5,
             "#f7f7f7"
            ],
            [
             0.6,
             "#e6f5d0"
            ],
            [
             0.7,
             "#b8e186"
            ],
            [
             0.8,
             "#7fbc41"
            ],
            [
             0.9,
             "#4d9221"
            ],
            [
             1,
             "#276419"
            ]
           ],
           "sequential": [
            [
             0,
             "#0d0887"
            ],
            [
             0.1111111111111111,
             "#46039f"
            ],
            [
             0.2222222222222222,
             "#7201a8"
            ],
            [
             0.3333333333333333,
             "#9c179e"
            ],
            [
             0.4444444444444444,
             "#bd3786"
            ],
            [
             0.5555555555555556,
             "#d8576b"
            ],
            [
             0.6666666666666666,
             "#ed7953"
            ],
            [
             0.7777777777777778,
             "#fb9f3a"
            ],
            [
             0.8888888888888888,
             "#fdca26"
            ],
            [
             1,
             "#f0f921"
            ]
           ],
           "sequentialminus": [
            [
             0,
             "#0d0887"
            ],
            [
             0.1111111111111111,
             "#46039f"
            ],
            [
             0.2222222222222222,
             "#7201a8"
            ],
            [
             0.3333333333333333,
             "#9c179e"
            ],
            [
             0.4444444444444444,
             "#bd3786"
            ],
            [
             0.5555555555555556,
             "#d8576b"
            ],
            [
             0.6666666666666666,
             "#ed7953"
            ],
            [
             0.7777777777777778,
             "#fb9f3a"
            ],
            [
             0.8888888888888888,
             "#fdca26"
            ],
            [
             1,
             "#f0f921"
            ]
           ]
          },
          "colorway": [
           "#636efa",
           "#EF553B",
           "#00cc96",
           "#ab63fa",
           "#FFA15A",
           "#19d3f3",
           "#FF6692",
           "#B6E880",
           "#FF97FF",
           "#FECB52"
          ],
          "font": {
           "color": "#2a3f5f"
          },
          "geo": {
           "bgcolor": "white",
           "lakecolor": "white",
           "landcolor": "#E5ECF6",
           "showlakes": true,
           "showland": true,
           "subunitcolor": "white"
          },
          "hoverlabel": {
           "align": "left"
          },
          "hovermode": "closest",
          "mapbox": {
           "style": "light"
          },
          "paper_bgcolor": "white",
          "plot_bgcolor": "#E5ECF6",
          "polar": {
           "angularaxis": {
            "gridcolor": "white",
            "linecolor": "white",
            "ticks": ""
           },
           "bgcolor": "#E5ECF6",
           "radialaxis": {
            "gridcolor": "white",
            "linecolor": "white",
            "ticks": ""
           }
          },
          "scene": {
           "xaxis": {
            "backgroundcolor": "#E5ECF6",
            "gridcolor": "white",
            "gridwidth": 2,
            "linecolor": "white",
            "showbackground": true,
            "ticks": "",
            "zerolinecolor": "white"
           },
           "yaxis": {
            "backgroundcolor": "#E5ECF6",
            "gridcolor": "white",
            "gridwidth": 2,
            "linecolor": "white",
            "showbackground": true,
            "ticks": "",
            "zerolinecolor": "white"
           },
           "zaxis": {
            "backgroundcolor": "#E5ECF6",
            "gridcolor": "white",
            "gridwidth": 2,
            "linecolor": "white",
            "showbackground": true,
            "ticks": "",
            "zerolinecolor": "white"
           }
          },
          "shapedefaults": {
           "line": {
            "color": "#2a3f5f"
           }
          },
          "ternary": {
           "aaxis": {
            "gridcolor": "white",
            "linecolor": "white",
            "ticks": ""
           },
           "baxis": {
            "gridcolor": "white",
            "linecolor": "white",
            "ticks": ""
           },
           "bgcolor": "#E5ECF6",
           "caxis": {
            "gridcolor": "white",
            "linecolor": "white",
            "ticks": ""
           }
          },
          "title": {
           "x": 0.05
          },
          "xaxis": {
           "automargin": true,
           "gridcolor": "white",
           "linecolor": "white",
           "ticks": "",
           "title": {
            "standoff": 15
           },
           "zerolinecolor": "white",
           "zerolinewidth": 2
          },
          "yaxis": {
           "automargin": true,
           "gridcolor": "white",
           "linecolor": "white",
           "ticks": "",
           "title": {
            "standoff": 15
           },
           "zerolinecolor": "white",
           "zerolinewidth": 2
          }
         }
        },
        "title": {
         "text": "Calificación promedio por tipo de local:"
        },
        "xaxis": {
         "anchor": "y",
         "categoryarray": [
          "bar",
          "barrestaurant",
          "restaurant"
         ],
         "categoryorder": "array",
         "domain": [
          0,
          1
         ],
         "title": {
          "text": "Tipo"
         }
        },
        "yaxis": {
         "anchor": "x",
         "domain": [
          0,
          1
         ],
         "range": [
          4.095000000000001,
          4.811111111111111
         ],
         "title": {
          "text": "Calificación"
         }
        }
       }
      }
     },
     "metadata": {},
     "output_type": "display_data"
    }
   ],
   "source": [
    "\n",
    "df_type_counts = df.groupby('type').size().reset_index(name='counts')\n",
    "df_type_qualification = df.groupby('type')['qualification'].mean().reset_index(name='qualification')\n",
    "px.pie(\n",
    "    df_type_counts,\n",
    "    names='type',\n",
    "    values='counts',\n",
    "    title='Proporción de establecimientos por tipo de local:',\n",
    "    labels={'type': 'Tipo', 'counts': 'Cantidad'},\n",
    "    color='type',\n",
    "    height=400\n",
    ").show()\n",
    "px.bar(\n",
    "    df_type_qualification,\n",
    "    x='type',\n",
    "    y='qualification',\n",
    "    title='Calificación promedio por tipo de local:',\n",
    "    labels={'type': 'Tipo', 'qualification': 'Calificación'},\n",
    "    color='type',\n",
    "    height=400,\n",
    "    range_y= (df_type_qualification['qualification'].min() - 0.1, df_type_qualification['qualification'].max() + 0.1)\n",
    ")"
   ]
  },
  {
   "cell_type": "code",
   "execution_count": 3,
   "metadata": {},
   "outputs": [
    {
     "data": {
      "application/vnd.plotly.v1+json": {
       "config": {
        "plotlyServerURL": "https://plot.ly"
       },
       "data": [
        {
         "hovertemplate": "Facebook=%{x}<br>Cantidad de locales=%{y}<extra></extra>",
         "legendgroup": "No tienen",
         "marker": {
          "color": "#636efa",
          "pattern": {
           "shape": ""
          }
         },
         "name": "No tienen",
         "orientation": "v",
         "showlegend": true,
         "textposition": "auto",
         "type": "bar",
         "x": [
          "No tienen"
         ],
         "xaxis": "x",
         "y": {
          "bdata": "hQA=",
          "dtype": "i2"
         },
         "yaxis": "y"
        },
        {
         "hovertemplate": "Facebook=%{x}<br>Cantidad de locales=%{y}<extra></extra>",
         "legendgroup": "Tienen",
         "marker": {
          "color": "#EF553B",
          "pattern": {
           "shape": ""
          }
         },
         "name": "Tienen",
         "orientation": "v",
         "showlegend": true,
         "textposition": "auto",
         "type": "bar",
         "x": [
          "Tienen"
         ],
         "xaxis": "x",
         "y": {
          "bdata": "Sg==",
          "dtype": "i1"
         },
         "yaxis": "y"
        }
       ],
       "layout": {
        "barmode": "relative",
        "height": 300,
        "legend": {
         "title": {
          "text": "Facebook"
         },
         "tracegroupgap": 0
        },
        "template": {
         "data": {
          "bar": [
           {
            "error_x": {
             "color": "#2a3f5f"
            },
            "error_y": {
             "color": "#2a3f5f"
            },
            "marker": {
             "line": {
              "color": "#E5ECF6",
              "width": 0.5
             },
             "pattern": {
              "fillmode": "overlay",
              "size": 10,
              "solidity": 0.2
             }
            },
            "type": "bar"
           }
          ],
          "barpolar": [
           {
            "marker": {
             "line": {
              "color": "#E5ECF6",
              "width": 0.5
             },
             "pattern": {
              "fillmode": "overlay",
              "size": 10,
              "solidity": 0.2
             }
            },
            "type": "barpolar"
           }
          ],
          "carpet": [
           {
            "aaxis": {
             "endlinecolor": "#2a3f5f",
             "gridcolor": "white",
             "linecolor": "white",
             "minorgridcolor": "white",
             "startlinecolor": "#2a3f5f"
            },
            "baxis": {
             "endlinecolor": "#2a3f5f",
             "gridcolor": "white",
             "linecolor": "white",
             "minorgridcolor": "white",
             "startlinecolor": "#2a3f5f"
            },
            "type": "carpet"
           }
          ],
          "choropleth": [
           {
            "colorbar": {
             "outlinewidth": 0,
             "ticks": ""
            },
            "type": "choropleth"
           }
          ],
          "contour": [
           {
            "colorbar": {
             "outlinewidth": 0,
             "ticks": ""
            },
            "colorscale": [
             [
              0,
              "#0d0887"
             ],
             [
              0.1111111111111111,
              "#46039f"
             ],
             [
              0.2222222222222222,
              "#7201a8"
             ],
             [
              0.3333333333333333,
              "#9c179e"
             ],
             [
              0.4444444444444444,
              "#bd3786"
             ],
             [
              0.5555555555555556,
              "#d8576b"
             ],
             [
              0.6666666666666666,
              "#ed7953"
             ],
             [
              0.7777777777777778,
              "#fb9f3a"
             ],
             [
              0.8888888888888888,
              "#fdca26"
             ],
             [
              1,
              "#f0f921"
             ]
            ],
            "type": "contour"
           }
          ],
          "contourcarpet": [
           {
            "colorbar": {
             "outlinewidth": 0,
             "ticks": ""
            },
            "type": "contourcarpet"
           }
          ],
          "heatmap": [
           {
            "colorbar": {
             "outlinewidth": 0,
             "ticks": ""
            },
            "colorscale": [
             [
              0,
              "#0d0887"
             ],
             [
              0.1111111111111111,
              "#46039f"
             ],
             [
              0.2222222222222222,
              "#7201a8"
             ],
             [
              0.3333333333333333,
              "#9c179e"
             ],
             [
              0.4444444444444444,
              "#bd3786"
             ],
             [
              0.5555555555555556,
              "#d8576b"
             ],
             [
              0.6666666666666666,
              "#ed7953"
             ],
             [
              0.7777777777777778,
              "#fb9f3a"
             ],
             [
              0.8888888888888888,
              "#fdca26"
             ],
             [
              1,
              "#f0f921"
             ]
            ],
            "type": "heatmap"
           }
          ],
          "histogram": [
           {
            "marker": {
             "pattern": {
              "fillmode": "overlay",
              "size": 10,
              "solidity": 0.2
             }
            },
            "type": "histogram"
           }
          ],
          "histogram2d": [
           {
            "colorbar": {
             "outlinewidth": 0,
             "ticks": ""
            },
            "colorscale": [
             [
              0,
              "#0d0887"
             ],
             [
              0.1111111111111111,
              "#46039f"
             ],
             [
              0.2222222222222222,
              "#7201a8"
             ],
             [
              0.3333333333333333,
              "#9c179e"
             ],
             [
              0.4444444444444444,
              "#bd3786"
             ],
             [
              0.5555555555555556,
              "#d8576b"
             ],
             [
              0.6666666666666666,
              "#ed7953"
             ],
             [
              0.7777777777777778,
              "#fb9f3a"
             ],
             [
              0.8888888888888888,
              "#fdca26"
             ],
             [
              1,
              "#f0f921"
             ]
            ],
            "type": "histogram2d"
           }
          ],
          "histogram2dcontour": [
           {
            "colorbar": {
             "outlinewidth": 0,
             "ticks": ""
            },
            "colorscale": [
             [
              0,
              "#0d0887"
             ],
             [
              0.1111111111111111,
              "#46039f"
             ],
             [
              0.2222222222222222,
              "#7201a8"
             ],
             [
              0.3333333333333333,
              "#9c179e"
             ],
             [
              0.4444444444444444,
              "#bd3786"
             ],
             [
              0.5555555555555556,
              "#d8576b"
             ],
             [
              0.6666666666666666,
              "#ed7953"
             ],
             [
              0.7777777777777778,
              "#fb9f3a"
             ],
             [
              0.8888888888888888,
              "#fdca26"
             ],
             [
              1,
              "#f0f921"
             ]
            ],
            "type": "histogram2dcontour"
           }
          ],
          "mesh3d": [
           {
            "colorbar": {
             "outlinewidth": 0,
             "ticks": ""
            },
            "type": "mesh3d"
           }
          ],
          "parcoords": [
           {
            "line": {
             "colorbar": {
              "outlinewidth": 0,
              "ticks": ""
             }
            },
            "type": "parcoords"
           }
          ],
          "pie": [
           {
            "automargin": true,
            "type": "pie"
           }
          ],
          "scatter": [
           {
            "fillpattern": {
             "fillmode": "overlay",
             "size": 10,
             "solidity": 0.2
            },
            "type": "scatter"
           }
          ],
          "scatter3d": [
           {
            "line": {
             "colorbar": {
              "outlinewidth": 0,
              "ticks": ""
             }
            },
            "marker": {
             "colorbar": {
              "outlinewidth": 0,
              "ticks": ""
             }
            },
            "type": "scatter3d"
           }
          ],
          "scattercarpet": [
           {
            "marker": {
             "colorbar": {
              "outlinewidth": 0,
              "ticks": ""
             }
            },
            "type": "scattercarpet"
           }
          ],
          "scattergeo": [
           {
            "marker": {
             "colorbar": {
              "outlinewidth": 0,
              "ticks": ""
             }
            },
            "type": "scattergeo"
           }
          ],
          "scattergl": [
           {
            "marker": {
             "colorbar": {
              "outlinewidth": 0,
              "ticks": ""
             }
            },
            "type": "scattergl"
           }
          ],
          "scattermap": [
           {
            "marker": {
             "colorbar": {
              "outlinewidth": 0,
              "ticks": ""
             }
            },
            "type": "scattermap"
           }
          ],
          "scattermapbox": [
           {
            "marker": {
             "colorbar": {
              "outlinewidth": 0,
              "ticks": ""
             }
            },
            "type": "scattermapbox"
           }
          ],
          "scatterpolar": [
           {
            "marker": {
             "colorbar": {
              "outlinewidth": 0,
              "ticks": ""
             }
            },
            "type": "scatterpolar"
           }
          ],
          "scatterpolargl": [
           {
            "marker": {
             "colorbar": {
              "outlinewidth": 0,
              "ticks": ""
             }
            },
            "type": "scatterpolargl"
           }
          ],
          "scatterternary": [
           {
            "marker": {
             "colorbar": {
              "outlinewidth": 0,
              "ticks": ""
             }
            },
            "type": "scatterternary"
           }
          ],
          "surface": [
           {
            "colorbar": {
             "outlinewidth": 0,
             "ticks": ""
            },
            "colorscale": [
             [
              0,
              "#0d0887"
             ],
             [
              0.1111111111111111,
              "#46039f"
             ],
             [
              0.2222222222222222,
              "#7201a8"
             ],
             [
              0.3333333333333333,
              "#9c179e"
             ],
             [
              0.4444444444444444,
              "#bd3786"
             ],
             [
              0.5555555555555556,
              "#d8576b"
             ],
             [
              0.6666666666666666,
              "#ed7953"
             ],
             [
              0.7777777777777778,
              "#fb9f3a"
             ],
             [
              0.8888888888888888,
              "#fdca26"
             ],
             [
              1,
              "#f0f921"
             ]
            ],
            "type": "surface"
           }
          ],
          "table": [
           {
            "cells": {
             "fill": {
              "color": "#EBF0F8"
             },
             "line": {
              "color": "white"
             }
            },
            "header": {
             "fill": {
              "color": "#C8D4E3"
             },
             "line": {
              "color": "white"
             }
            },
            "type": "table"
           }
          ]
         },
         "layout": {
          "annotationdefaults": {
           "arrowcolor": "#2a3f5f",
           "arrowhead": 0,
           "arrowwidth": 1
          },
          "autotypenumbers": "strict",
          "coloraxis": {
           "colorbar": {
            "outlinewidth": 0,
            "ticks": ""
           }
          },
          "colorscale": {
           "diverging": [
            [
             0,
             "#8e0152"
            ],
            [
             0.1,
             "#c51b7d"
            ],
            [
             0.2,
             "#de77ae"
            ],
            [
             0.3,
             "#f1b6da"
            ],
            [
             0.4,
             "#fde0ef"
            ],
            [
             0.5,
             "#f7f7f7"
            ],
            [
             0.6,
             "#e6f5d0"
            ],
            [
             0.7,
             "#b8e186"
            ],
            [
             0.8,
             "#7fbc41"
            ],
            [
             0.9,
             "#4d9221"
            ],
            [
             1,
             "#276419"
            ]
           ],
           "sequential": [
            [
             0,
             "#0d0887"
            ],
            [
             0.1111111111111111,
             "#46039f"
            ],
            [
             0.2222222222222222,
             "#7201a8"
            ],
            [
             0.3333333333333333,
             "#9c179e"
            ],
            [
             0.4444444444444444,
             "#bd3786"
            ],
            [
             0.5555555555555556,
             "#d8576b"
            ],
            [
             0.6666666666666666,
             "#ed7953"
            ],
            [
             0.7777777777777778,
             "#fb9f3a"
            ],
            [
             0.8888888888888888,
             "#fdca26"
            ],
            [
             1,
             "#f0f921"
            ]
           ],
           "sequentialminus": [
            [
             0,
             "#0d0887"
            ],
            [
             0.1111111111111111,
             "#46039f"
            ],
            [
             0.2222222222222222,
             "#7201a8"
            ],
            [
             0.3333333333333333,
             "#9c179e"
            ],
            [
             0.4444444444444444,
             "#bd3786"
            ],
            [
             0.5555555555555556,
             "#d8576b"
            ],
            [
             0.6666666666666666,
             "#ed7953"
            ],
            [
             0.7777777777777778,
             "#fb9f3a"
            ],
            [
             0.8888888888888888,
             "#fdca26"
            ],
            [
             1,
             "#f0f921"
            ]
           ]
          },
          "colorway": [
           "#636efa",
           "#EF553B",
           "#00cc96",
           "#ab63fa",
           "#FFA15A",
           "#19d3f3",
           "#FF6692",
           "#B6E880",
           "#FF97FF",
           "#FECB52"
          ],
          "font": {
           "color": "#2a3f5f"
          },
          "geo": {
           "bgcolor": "white",
           "lakecolor": "white",
           "landcolor": "#E5ECF6",
           "showlakes": true,
           "showland": true,
           "subunitcolor": "white"
          },
          "hoverlabel": {
           "align": "left"
          },
          "hovermode": "closest",
          "mapbox": {
           "style": "light"
          },
          "paper_bgcolor": "white",
          "plot_bgcolor": "#E5ECF6",
          "polar": {
           "angularaxis": {
            "gridcolor": "white",
            "linecolor": "white",
            "ticks": ""
           },
           "bgcolor": "#E5ECF6",
           "radialaxis": {
            "gridcolor": "white",
            "linecolor": "white",
            "ticks": ""
           }
          },
          "scene": {
           "xaxis": {
            "backgroundcolor": "#E5ECF6",
            "gridcolor": "white",
            "gridwidth": 2,
            "linecolor": "white",
            "showbackground": true,
            "ticks": "",
            "zerolinecolor": "white"
           },
           "yaxis": {
            "backgroundcolor": "#E5ECF6",
            "gridcolor": "white",
            "gridwidth": 2,
            "linecolor": "white",
            "showbackground": true,
            "ticks": "",
            "zerolinecolor": "white"
           },
           "zaxis": {
            "backgroundcolor": "#E5ECF6",
            "gridcolor": "white",
            "gridwidth": 2,
            "linecolor": "white",
            "showbackground": true,
            "ticks": "",
            "zerolinecolor": "white"
           }
          },
          "shapedefaults": {
           "line": {
            "color": "#2a3f5f"
           }
          },
          "ternary": {
           "aaxis": {
            "gridcolor": "white",
            "linecolor": "white",
            "ticks": ""
           },
           "baxis": {
            "gridcolor": "white",
            "linecolor": "white",
            "ticks": ""
           },
           "bgcolor": "#E5ECF6",
           "caxis": {
            "gridcolor": "white",
            "linecolor": "white",
            "ticks": ""
           }
          },
          "title": {
           "x": 0.05
          },
          "xaxis": {
           "automargin": true,
           "gridcolor": "white",
           "linecolor": "white",
           "ticks": "",
           "title": {
            "standoff": 15
           },
           "zerolinecolor": "white",
           "zerolinewidth": 2
          },
          "yaxis": {
           "automargin": true,
           "gridcolor": "white",
           "linecolor": "white",
           "ticks": "",
           "title": {
            "standoff": 15
           },
           "zerolinecolor": "white",
           "zerolinewidth": 2
          }
         }
        },
        "title": {
         "text": "Cantidad de locales que poseen Facebook"
        },
        "xaxis": {
         "anchor": "y",
         "categoryarray": [
          "No tienen",
          "Tienen"
         ],
         "categoryorder": "array",
         "domain": [
          0,
          1
         ],
         "title": {
          "text": "Facebook"
         }
        },
        "yaxis": {
         "anchor": "x",
         "domain": [
          0,
          1
         ],
         "title": {
          "text": "Cantidad de locales"
         }
        }
       }
      }
     },
     "metadata": {},
     "output_type": "display_data"
    },
    {
     "data": {
      "application/vnd.plotly.v1+json": {
       "config": {
        "plotlyServerURL": "https://plot.ly"
       },
       "data": [
        {
         "hovertemplate": "Instagram=%{x}<br>Cantidad de locales=%{y}<extra></extra>",
         "legendgroup": "No tienen",
         "marker": {
          "color": "#636efa",
          "pattern": {
           "shape": ""
          }
         },
         "name": "No tienen",
         "orientation": "v",
         "showlegend": true,
         "textposition": "auto",
         "type": "bar",
         "x": [
          "No tienen"
         ],
         "xaxis": "x",
         "y": {
          "bdata": "fg==",
          "dtype": "i1"
         },
         "yaxis": "y"
        },
        {
         "hovertemplate": "Instagram=%{x}<br>Cantidad de locales=%{y}<extra></extra>",
         "legendgroup": "Tienen",
         "marker": {
          "color": "#EF553B",
          "pattern": {
           "shape": ""
          }
         },
         "name": "Tienen",
         "orientation": "v",
         "showlegend": true,
         "textposition": "auto",
         "type": "bar",
         "x": [
          "Tienen"
         ],
         "xaxis": "x",
         "y": {
          "bdata": "UQ==",
          "dtype": "i1"
         },
         "yaxis": "y"
        }
       ],
       "layout": {
        "barmode": "relative",
        "height": 300,
        "legend": {
         "title": {
          "text": "Instagram"
         },
         "tracegroupgap": 0
        },
        "template": {
         "data": {
          "bar": [
           {
            "error_x": {
             "color": "#2a3f5f"
            },
            "error_y": {
             "color": "#2a3f5f"
            },
            "marker": {
             "line": {
              "color": "#E5ECF6",
              "width": 0.5
             },
             "pattern": {
              "fillmode": "overlay",
              "size": 10,
              "solidity": 0.2
             }
            },
            "type": "bar"
           }
          ],
          "barpolar": [
           {
            "marker": {
             "line": {
              "color": "#E5ECF6",
              "width": 0.5
             },
             "pattern": {
              "fillmode": "overlay",
              "size": 10,
              "solidity": 0.2
             }
            },
            "type": "barpolar"
           }
          ],
          "carpet": [
           {
            "aaxis": {
             "endlinecolor": "#2a3f5f",
             "gridcolor": "white",
             "linecolor": "white",
             "minorgridcolor": "white",
             "startlinecolor": "#2a3f5f"
            },
            "baxis": {
             "endlinecolor": "#2a3f5f",
             "gridcolor": "white",
             "linecolor": "white",
             "minorgridcolor": "white",
             "startlinecolor": "#2a3f5f"
            },
            "type": "carpet"
           }
          ],
          "choropleth": [
           {
            "colorbar": {
             "outlinewidth": 0,
             "ticks": ""
            },
            "type": "choropleth"
           }
          ],
          "contour": [
           {
            "colorbar": {
             "outlinewidth": 0,
             "ticks": ""
            },
            "colorscale": [
             [
              0,
              "#0d0887"
             ],
             [
              0.1111111111111111,
              "#46039f"
             ],
             [
              0.2222222222222222,
              "#7201a8"
             ],
             [
              0.3333333333333333,
              "#9c179e"
             ],
             [
              0.4444444444444444,
              "#bd3786"
             ],
             [
              0.5555555555555556,
              "#d8576b"
             ],
             [
              0.6666666666666666,
              "#ed7953"
             ],
             [
              0.7777777777777778,
              "#fb9f3a"
             ],
             [
              0.8888888888888888,
              "#fdca26"
             ],
             [
              1,
              "#f0f921"
             ]
            ],
            "type": "contour"
           }
          ],
          "contourcarpet": [
           {
            "colorbar": {
             "outlinewidth": 0,
             "ticks": ""
            },
            "type": "contourcarpet"
           }
          ],
          "heatmap": [
           {
            "colorbar": {
             "outlinewidth": 0,
             "ticks": ""
            },
            "colorscale": [
             [
              0,
              "#0d0887"
             ],
             [
              0.1111111111111111,
              "#46039f"
             ],
             [
              0.2222222222222222,
              "#7201a8"
             ],
             [
              0.3333333333333333,
              "#9c179e"
             ],
             [
              0.4444444444444444,
              "#bd3786"
             ],
             [
              0.5555555555555556,
              "#d8576b"
             ],
             [
              0.6666666666666666,
              "#ed7953"
             ],
             [
              0.7777777777777778,
              "#fb9f3a"
             ],
             [
              0.8888888888888888,
              "#fdca26"
             ],
             [
              1,
              "#f0f921"
             ]
            ],
            "type": "heatmap"
           }
          ],
          "histogram": [
           {
            "marker": {
             "pattern": {
              "fillmode": "overlay",
              "size": 10,
              "solidity": 0.2
             }
            },
            "type": "histogram"
           }
          ],
          "histogram2d": [
           {
            "colorbar": {
             "outlinewidth": 0,
             "ticks": ""
            },
            "colorscale": [
             [
              0,
              "#0d0887"
             ],
             [
              0.1111111111111111,
              "#46039f"
             ],
             [
              0.2222222222222222,
              "#7201a8"
             ],
             [
              0.3333333333333333,
              "#9c179e"
             ],
             [
              0.4444444444444444,
              "#bd3786"
             ],
             [
              0.5555555555555556,
              "#d8576b"
             ],
             [
              0.6666666666666666,
              "#ed7953"
             ],
             [
              0.7777777777777778,
              "#fb9f3a"
             ],
             [
              0.8888888888888888,
              "#fdca26"
             ],
             [
              1,
              "#f0f921"
             ]
            ],
            "type": "histogram2d"
           }
          ],
          "histogram2dcontour": [
           {
            "colorbar": {
             "outlinewidth": 0,
             "ticks": ""
            },
            "colorscale": [
             [
              0,
              "#0d0887"
             ],
             [
              0.1111111111111111,
              "#46039f"
             ],
             [
              0.2222222222222222,
              "#7201a8"
             ],
             [
              0.3333333333333333,
              "#9c179e"
             ],
             [
              0.4444444444444444,
              "#bd3786"
             ],
             [
              0.5555555555555556,
              "#d8576b"
             ],
             [
              0.6666666666666666,
              "#ed7953"
             ],
             [
              0.7777777777777778,
              "#fb9f3a"
             ],
             [
              0.8888888888888888,
              "#fdca26"
             ],
             [
              1,
              "#f0f921"
             ]
            ],
            "type": "histogram2dcontour"
           }
          ],
          "mesh3d": [
           {
            "colorbar": {
             "outlinewidth": 0,
             "ticks": ""
            },
            "type": "mesh3d"
           }
          ],
          "parcoords": [
           {
            "line": {
             "colorbar": {
              "outlinewidth": 0,
              "ticks": ""
             }
            },
            "type": "parcoords"
           }
          ],
          "pie": [
           {
            "automargin": true,
            "type": "pie"
           }
          ],
          "scatter": [
           {
            "fillpattern": {
             "fillmode": "overlay",
             "size": 10,
             "solidity": 0.2
            },
            "type": "scatter"
           }
          ],
          "scatter3d": [
           {
            "line": {
             "colorbar": {
              "outlinewidth": 0,
              "ticks": ""
             }
            },
            "marker": {
             "colorbar": {
              "outlinewidth": 0,
              "ticks": ""
             }
            },
            "type": "scatter3d"
           }
          ],
          "scattercarpet": [
           {
            "marker": {
             "colorbar": {
              "outlinewidth": 0,
              "ticks": ""
             }
            },
            "type": "scattercarpet"
           }
          ],
          "scattergeo": [
           {
            "marker": {
             "colorbar": {
              "outlinewidth": 0,
              "ticks": ""
             }
            },
            "type": "scattergeo"
           }
          ],
          "scattergl": [
           {
            "marker": {
             "colorbar": {
              "outlinewidth": 0,
              "ticks": ""
             }
            },
            "type": "scattergl"
           }
          ],
          "scattermap": [
           {
            "marker": {
             "colorbar": {
              "outlinewidth": 0,
              "ticks": ""
             }
            },
            "type": "scattermap"
           }
          ],
          "scattermapbox": [
           {
            "marker": {
             "colorbar": {
              "outlinewidth": 0,
              "ticks": ""
             }
            },
            "type": "scattermapbox"
           }
          ],
          "scatterpolar": [
           {
            "marker": {
             "colorbar": {
              "outlinewidth": 0,
              "ticks": ""
             }
            },
            "type": "scatterpolar"
           }
          ],
          "scatterpolargl": [
           {
            "marker": {
             "colorbar": {
              "outlinewidth": 0,
              "ticks": ""
             }
            },
            "type": "scatterpolargl"
           }
          ],
          "scatterternary": [
           {
            "marker": {
             "colorbar": {
              "outlinewidth": 0,
              "ticks": ""
             }
            },
            "type": "scatterternary"
           }
          ],
          "surface": [
           {
            "colorbar": {
             "outlinewidth": 0,
             "ticks": ""
            },
            "colorscale": [
             [
              0,
              "#0d0887"
             ],
             [
              0.1111111111111111,
              "#46039f"
             ],
             [
              0.2222222222222222,
              "#7201a8"
             ],
             [
              0.3333333333333333,
              "#9c179e"
             ],
             [
              0.4444444444444444,
              "#bd3786"
             ],
             [
              0.5555555555555556,
              "#d8576b"
             ],
             [
              0.6666666666666666,
              "#ed7953"
             ],
             [
              0.7777777777777778,
              "#fb9f3a"
             ],
             [
              0.8888888888888888,
              "#fdca26"
             ],
             [
              1,
              "#f0f921"
             ]
            ],
            "type": "surface"
           }
          ],
          "table": [
           {
            "cells": {
             "fill": {
              "color": "#EBF0F8"
             },
             "line": {
              "color": "white"
             }
            },
            "header": {
             "fill": {
              "color": "#C8D4E3"
             },
             "line": {
              "color": "white"
             }
            },
            "type": "table"
           }
          ]
         },
         "layout": {
          "annotationdefaults": {
           "arrowcolor": "#2a3f5f",
           "arrowhead": 0,
           "arrowwidth": 1
          },
          "autotypenumbers": "strict",
          "coloraxis": {
           "colorbar": {
            "outlinewidth": 0,
            "ticks": ""
           }
          },
          "colorscale": {
           "diverging": [
            [
             0,
             "#8e0152"
            ],
            [
             0.1,
             "#c51b7d"
            ],
            [
             0.2,
             "#de77ae"
            ],
            [
             0.3,
             "#f1b6da"
            ],
            [
             0.4,
             "#fde0ef"
            ],
            [
             0.5,
             "#f7f7f7"
            ],
            [
             0.6,
             "#e6f5d0"
            ],
            [
             0.7,
             "#b8e186"
            ],
            [
             0.8,
             "#7fbc41"
            ],
            [
             0.9,
             "#4d9221"
            ],
            [
             1,
             "#276419"
            ]
           ],
           "sequential": [
            [
             0,
             "#0d0887"
            ],
            [
             0.1111111111111111,
             "#46039f"
            ],
            [
             0.2222222222222222,
             "#7201a8"
            ],
            [
             0.3333333333333333,
             "#9c179e"
            ],
            [
             0.4444444444444444,
             "#bd3786"
            ],
            [
             0.5555555555555556,
             "#d8576b"
            ],
            [
             0.6666666666666666,
             "#ed7953"
            ],
            [
             0.7777777777777778,
             "#fb9f3a"
            ],
            [
             0.8888888888888888,
             "#fdca26"
            ],
            [
             1,
             "#f0f921"
            ]
           ],
           "sequentialminus": [
            [
             0,
             "#0d0887"
            ],
            [
             0.1111111111111111,
             "#46039f"
            ],
            [
             0.2222222222222222,
             "#7201a8"
            ],
            [
             0.3333333333333333,
             "#9c179e"
            ],
            [
             0.4444444444444444,
             "#bd3786"
            ],
            [
             0.5555555555555556,
             "#d8576b"
            ],
            [
             0.6666666666666666,
             "#ed7953"
            ],
            [
             0.7777777777777778,
             "#fb9f3a"
            ],
            [
             0.8888888888888888,
             "#fdca26"
            ],
            [
             1,
             "#f0f921"
            ]
           ]
          },
          "colorway": [
           "#636efa",
           "#EF553B",
           "#00cc96",
           "#ab63fa",
           "#FFA15A",
           "#19d3f3",
           "#FF6692",
           "#B6E880",
           "#FF97FF",
           "#FECB52"
          ],
          "font": {
           "color": "#2a3f5f"
          },
          "geo": {
           "bgcolor": "white",
           "lakecolor": "white",
           "landcolor": "#E5ECF6",
           "showlakes": true,
           "showland": true,
           "subunitcolor": "white"
          },
          "hoverlabel": {
           "align": "left"
          },
          "hovermode": "closest",
          "mapbox": {
           "style": "light"
          },
          "paper_bgcolor": "white",
          "plot_bgcolor": "#E5ECF6",
          "polar": {
           "angularaxis": {
            "gridcolor": "white",
            "linecolor": "white",
            "ticks": ""
           },
           "bgcolor": "#E5ECF6",
           "radialaxis": {
            "gridcolor": "white",
            "linecolor": "white",
            "ticks": ""
           }
          },
          "scene": {
           "xaxis": {
            "backgroundcolor": "#E5ECF6",
            "gridcolor": "white",
            "gridwidth": 2,
            "linecolor": "white",
            "showbackground": true,
            "ticks": "",
            "zerolinecolor": "white"
           },
           "yaxis": {
            "backgroundcolor": "#E5ECF6",
            "gridcolor": "white",
            "gridwidth": 2,
            "linecolor": "white",
            "showbackground": true,
            "ticks": "",
            "zerolinecolor": "white"
           },
           "zaxis": {
            "backgroundcolor": "#E5ECF6",
            "gridcolor": "white",
            "gridwidth": 2,
            "linecolor": "white",
            "showbackground": true,
            "ticks": "",
            "zerolinecolor": "white"
           }
          },
          "shapedefaults": {
           "line": {
            "color": "#2a3f5f"
           }
          },
          "ternary": {
           "aaxis": {
            "gridcolor": "white",
            "linecolor": "white",
            "ticks": ""
           },
           "baxis": {
            "gridcolor": "white",
            "linecolor": "white",
            "ticks": ""
           },
           "bgcolor": "#E5ECF6",
           "caxis": {
            "gridcolor": "white",
            "linecolor": "white",
            "ticks": ""
           }
          },
          "title": {
           "x": 0.05
          },
          "xaxis": {
           "automargin": true,
           "gridcolor": "white",
           "linecolor": "white",
           "ticks": "",
           "title": {
            "standoff": 15
           },
           "zerolinecolor": "white",
           "zerolinewidth": 2
          },
          "yaxis": {
           "automargin": true,
           "gridcolor": "white",
           "linecolor": "white",
           "ticks": "",
           "title": {
            "standoff": 15
           },
           "zerolinecolor": "white",
           "zerolinewidth": 2
          }
         }
        },
        "title": {
         "text": "Cantidad de locales que poseen Instagram"
        },
        "xaxis": {
         "anchor": "y",
         "categoryarray": [
          "No tienen",
          "Tienen"
         ],
         "categoryorder": "array",
         "domain": [
          0,
          1
         ],
         "title": {
          "text": "Instagram"
         }
        },
        "yaxis": {
         "anchor": "x",
         "domain": [
          0,
          1
         ],
         "title": {
          "text": "Cantidad de locales"
         }
        }
       }
      }
     },
     "metadata": {},
     "output_type": "display_data"
    },
    {
     "data": {
      "application/vnd.plotly.v1+json": {
       "config": {
        "plotlyServerURL": "https://plot.ly"
       },
       "data": [
        {
         "hovertemplate": "Website=%{x}<br>Cantidad de locales=%{y}<extra></extra>",
         "legendgroup": "No tienen",
         "marker": {
          "color": "#636efa",
          "pattern": {
           "shape": ""
          }
         },
         "name": "No tienen",
         "orientation": "v",
         "showlegend": true,
         "textposition": "auto",
         "type": "bar",
         "x": [
          "No tienen"
         ],
         "xaxis": "x",
         "y": {
          "bdata": "oQA=",
          "dtype": "i2"
         },
         "yaxis": "y"
        },
        {
         "hovertemplate": "Website=%{x}<br>Cantidad de locales=%{y}<extra></extra>",
         "legendgroup": "Tienen",
         "marker": {
          "color": "#EF553B",
          "pattern": {
           "shape": ""
          }
         },
         "name": "Tienen",
         "orientation": "v",
         "showlegend": true,
         "textposition": "auto",
         "type": "bar",
         "x": [
          "Tienen"
         ],
         "xaxis": "x",
         "y": {
          "bdata": "Lg==",
          "dtype": "i1"
         },
         "yaxis": "y"
        }
       ],
       "layout": {
        "barmode": "relative",
        "height": 300,
        "legend": {
         "title": {
          "text": "Website"
         },
         "tracegroupgap": 0
        },
        "template": {
         "data": {
          "bar": [
           {
            "error_x": {
             "color": "#2a3f5f"
            },
            "error_y": {
             "color": "#2a3f5f"
            },
            "marker": {
             "line": {
              "color": "#E5ECF6",
              "width": 0.5
             },
             "pattern": {
              "fillmode": "overlay",
              "size": 10,
              "solidity": 0.2
             }
            },
            "type": "bar"
           }
          ],
          "barpolar": [
           {
            "marker": {
             "line": {
              "color": "#E5ECF6",
              "width": 0.5
             },
             "pattern": {
              "fillmode": "overlay",
              "size": 10,
              "solidity": 0.2
             }
            },
            "type": "barpolar"
           }
          ],
          "carpet": [
           {
            "aaxis": {
             "endlinecolor": "#2a3f5f",
             "gridcolor": "white",
             "linecolor": "white",
             "minorgridcolor": "white",
             "startlinecolor": "#2a3f5f"
            },
            "baxis": {
             "endlinecolor": "#2a3f5f",
             "gridcolor": "white",
             "linecolor": "white",
             "minorgridcolor": "white",
             "startlinecolor": "#2a3f5f"
            },
            "type": "carpet"
           }
          ],
          "choropleth": [
           {
            "colorbar": {
             "outlinewidth": 0,
             "ticks": ""
            },
            "type": "choropleth"
           }
          ],
          "contour": [
           {
            "colorbar": {
             "outlinewidth": 0,
             "ticks": ""
            },
            "colorscale": [
             [
              0,
              "#0d0887"
             ],
             [
              0.1111111111111111,
              "#46039f"
             ],
             [
              0.2222222222222222,
              "#7201a8"
             ],
             [
              0.3333333333333333,
              "#9c179e"
             ],
             [
              0.4444444444444444,
              "#bd3786"
             ],
             [
              0.5555555555555556,
              "#d8576b"
             ],
             [
              0.6666666666666666,
              "#ed7953"
             ],
             [
              0.7777777777777778,
              "#fb9f3a"
             ],
             [
              0.8888888888888888,
              "#fdca26"
             ],
             [
              1,
              "#f0f921"
             ]
            ],
            "type": "contour"
           }
          ],
          "contourcarpet": [
           {
            "colorbar": {
             "outlinewidth": 0,
             "ticks": ""
            },
            "type": "contourcarpet"
           }
          ],
          "heatmap": [
           {
            "colorbar": {
             "outlinewidth": 0,
             "ticks": ""
            },
            "colorscale": [
             [
              0,
              "#0d0887"
             ],
             [
              0.1111111111111111,
              "#46039f"
             ],
             [
              0.2222222222222222,
              "#7201a8"
             ],
             [
              0.3333333333333333,
              "#9c179e"
             ],
             [
              0.4444444444444444,
              "#bd3786"
             ],
             [
              0.5555555555555556,
              "#d8576b"
             ],
             [
              0.6666666666666666,
              "#ed7953"
             ],
             [
              0.7777777777777778,
              "#fb9f3a"
             ],
             [
              0.8888888888888888,
              "#fdca26"
             ],
             [
              1,
              "#f0f921"
             ]
            ],
            "type": "heatmap"
           }
          ],
          "histogram": [
           {
            "marker": {
             "pattern": {
              "fillmode": "overlay",
              "size": 10,
              "solidity": 0.2
             }
            },
            "type": "histogram"
           }
          ],
          "histogram2d": [
           {
            "colorbar": {
             "outlinewidth": 0,
             "ticks": ""
            },
            "colorscale": [
             [
              0,
              "#0d0887"
             ],
             [
              0.1111111111111111,
              "#46039f"
             ],
             [
              0.2222222222222222,
              "#7201a8"
             ],
             [
              0.3333333333333333,
              "#9c179e"
             ],
             [
              0.4444444444444444,
              "#bd3786"
             ],
             [
              0.5555555555555556,
              "#d8576b"
             ],
             [
              0.6666666666666666,
              "#ed7953"
             ],
             [
              0.7777777777777778,
              "#fb9f3a"
             ],
             [
              0.8888888888888888,
              "#fdca26"
             ],
             [
              1,
              "#f0f921"
             ]
            ],
            "type": "histogram2d"
           }
          ],
          "histogram2dcontour": [
           {
            "colorbar": {
             "outlinewidth": 0,
             "ticks": ""
            },
            "colorscale": [
             [
              0,
              "#0d0887"
             ],
             [
              0.1111111111111111,
              "#46039f"
             ],
             [
              0.2222222222222222,
              "#7201a8"
             ],
             [
              0.3333333333333333,
              "#9c179e"
             ],
             [
              0.4444444444444444,
              "#bd3786"
             ],
             [
              0.5555555555555556,
              "#d8576b"
             ],
             [
              0.6666666666666666,
              "#ed7953"
             ],
             [
              0.7777777777777778,
              "#fb9f3a"
             ],
             [
              0.8888888888888888,
              "#fdca26"
             ],
             [
              1,
              "#f0f921"
             ]
            ],
            "type": "histogram2dcontour"
           }
          ],
          "mesh3d": [
           {
            "colorbar": {
             "outlinewidth": 0,
             "ticks": ""
            },
            "type": "mesh3d"
           }
          ],
          "parcoords": [
           {
            "line": {
             "colorbar": {
              "outlinewidth": 0,
              "ticks": ""
             }
            },
            "type": "parcoords"
           }
          ],
          "pie": [
           {
            "automargin": true,
            "type": "pie"
           }
          ],
          "scatter": [
           {
            "fillpattern": {
             "fillmode": "overlay",
             "size": 10,
             "solidity": 0.2
            },
            "type": "scatter"
           }
          ],
          "scatter3d": [
           {
            "line": {
             "colorbar": {
              "outlinewidth": 0,
              "ticks": ""
             }
            },
            "marker": {
             "colorbar": {
              "outlinewidth": 0,
              "ticks": ""
             }
            },
            "type": "scatter3d"
           }
          ],
          "scattercarpet": [
           {
            "marker": {
             "colorbar": {
              "outlinewidth": 0,
              "ticks": ""
             }
            },
            "type": "scattercarpet"
           }
          ],
          "scattergeo": [
           {
            "marker": {
             "colorbar": {
              "outlinewidth": 0,
              "ticks": ""
             }
            },
            "type": "scattergeo"
           }
          ],
          "scattergl": [
           {
            "marker": {
             "colorbar": {
              "outlinewidth": 0,
              "ticks": ""
             }
            },
            "type": "scattergl"
           }
          ],
          "scattermap": [
           {
            "marker": {
             "colorbar": {
              "outlinewidth": 0,
              "ticks": ""
             }
            },
            "type": "scattermap"
           }
          ],
          "scattermapbox": [
           {
            "marker": {
             "colorbar": {
              "outlinewidth": 0,
              "ticks": ""
             }
            },
            "type": "scattermapbox"
           }
          ],
          "scatterpolar": [
           {
            "marker": {
             "colorbar": {
              "outlinewidth": 0,
              "ticks": ""
             }
            },
            "type": "scatterpolar"
           }
          ],
          "scatterpolargl": [
           {
            "marker": {
             "colorbar": {
              "outlinewidth": 0,
              "ticks": ""
             }
            },
            "type": "scatterpolargl"
           }
          ],
          "scatterternary": [
           {
            "marker": {
             "colorbar": {
              "outlinewidth": 0,
              "ticks": ""
             }
            },
            "type": "scatterternary"
           }
          ],
          "surface": [
           {
            "colorbar": {
             "outlinewidth": 0,
             "ticks": ""
            },
            "colorscale": [
             [
              0,
              "#0d0887"
             ],
             [
              0.1111111111111111,
              "#46039f"
             ],
             [
              0.2222222222222222,
              "#7201a8"
             ],
             [
              0.3333333333333333,
              "#9c179e"
             ],
             [
              0.4444444444444444,
              "#bd3786"
             ],
             [
              0.5555555555555556,
              "#d8576b"
             ],
             [
              0.6666666666666666,
              "#ed7953"
             ],
             [
              0.7777777777777778,
              "#fb9f3a"
             ],
             [
              0.8888888888888888,
              "#fdca26"
             ],
             [
              1,
              "#f0f921"
             ]
            ],
            "type": "surface"
           }
          ],
          "table": [
           {
            "cells": {
             "fill": {
              "color": "#EBF0F8"
             },
             "line": {
              "color": "white"
             }
            },
            "header": {
             "fill": {
              "color": "#C8D4E3"
             },
             "line": {
              "color": "white"
             }
            },
            "type": "table"
           }
          ]
         },
         "layout": {
          "annotationdefaults": {
           "arrowcolor": "#2a3f5f",
           "arrowhead": 0,
           "arrowwidth": 1
          },
          "autotypenumbers": "strict",
          "coloraxis": {
           "colorbar": {
            "outlinewidth": 0,
            "ticks": ""
           }
          },
          "colorscale": {
           "diverging": [
            [
             0,
             "#8e0152"
            ],
            [
             0.1,
             "#c51b7d"
            ],
            [
             0.2,
             "#de77ae"
            ],
            [
             0.3,
             "#f1b6da"
            ],
            [
             0.4,
             "#fde0ef"
            ],
            [
             0.5,
             "#f7f7f7"
            ],
            [
             0.6,
             "#e6f5d0"
            ],
            [
             0.7,
             "#b8e186"
            ],
            [
             0.8,
             "#7fbc41"
            ],
            [
             0.9,
             "#4d9221"
            ],
            [
             1,
             "#276419"
            ]
           ],
           "sequential": [
            [
             0,
             "#0d0887"
            ],
            [
             0.1111111111111111,
             "#46039f"
            ],
            [
             0.2222222222222222,
             "#7201a8"
            ],
            [
             0.3333333333333333,
             "#9c179e"
            ],
            [
             0.4444444444444444,
             "#bd3786"
            ],
            [
             0.5555555555555556,
             "#d8576b"
            ],
            [
             0.6666666666666666,
             "#ed7953"
            ],
            [
             0.7777777777777778,
             "#fb9f3a"
            ],
            [
             0.8888888888888888,
             "#fdca26"
            ],
            [
             1,
             "#f0f921"
            ]
           ],
           "sequentialminus": [
            [
             0,
             "#0d0887"
            ],
            [
             0.1111111111111111,
             "#46039f"
            ],
            [
             0.2222222222222222,
             "#7201a8"
            ],
            [
             0.3333333333333333,
             "#9c179e"
            ],
            [
             0.4444444444444444,
             "#bd3786"
            ],
            [
             0.5555555555555556,
             "#d8576b"
            ],
            [
             0.6666666666666666,
             "#ed7953"
            ],
            [
             0.7777777777777778,
             "#fb9f3a"
            ],
            [
             0.8888888888888888,
             "#fdca26"
            ],
            [
             1,
             "#f0f921"
            ]
           ]
          },
          "colorway": [
           "#636efa",
           "#EF553B",
           "#00cc96",
           "#ab63fa",
           "#FFA15A",
           "#19d3f3",
           "#FF6692",
           "#B6E880",
           "#FF97FF",
           "#FECB52"
          ],
          "font": {
           "color": "#2a3f5f"
          },
          "geo": {
           "bgcolor": "white",
           "lakecolor": "white",
           "landcolor": "#E5ECF6",
           "showlakes": true,
           "showland": true,
           "subunitcolor": "white"
          },
          "hoverlabel": {
           "align": "left"
          },
          "hovermode": "closest",
          "mapbox": {
           "style": "light"
          },
          "paper_bgcolor": "white",
          "plot_bgcolor": "#E5ECF6",
          "polar": {
           "angularaxis": {
            "gridcolor": "white",
            "linecolor": "white",
            "ticks": ""
           },
           "bgcolor": "#E5ECF6",
           "radialaxis": {
            "gridcolor": "white",
            "linecolor": "white",
            "ticks": ""
           }
          },
          "scene": {
           "xaxis": {
            "backgroundcolor": "#E5ECF6",
            "gridcolor": "white",
            "gridwidth": 2,
            "linecolor": "white",
            "showbackground": true,
            "ticks": "",
            "zerolinecolor": "white"
           },
           "yaxis": {
            "backgroundcolor": "#E5ECF6",
            "gridcolor": "white",
            "gridwidth": 2,
            "linecolor": "white",
            "showbackground": true,
            "ticks": "",
            "zerolinecolor": "white"
           },
           "zaxis": {
            "backgroundcolor": "#E5ECF6",
            "gridcolor": "white",
            "gridwidth": 2,
            "linecolor": "white",
            "showbackground": true,
            "ticks": "",
            "zerolinecolor": "white"
           }
          },
          "shapedefaults": {
           "line": {
            "color": "#2a3f5f"
           }
          },
          "ternary": {
           "aaxis": {
            "gridcolor": "white",
            "linecolor": "white",
            "ticks": ""
           },
           "baxis": {
            "gridcolor": "white",
            "linecolor": "white",
            "ticks": ""
           },
           "bgcolor": "#E5ECF6",
           "caxis": {
            "gridcolor": "white",
            "linecolor": "white",
            "ticks": ""
           }
          },
          "title": {
           "x": 0.05
          },
          "xaxis": {
           "automargin": true,
           "gridcolor": "white",
           "linecolor": "white",
           "ticks": "",
           "title": {
            "standoff": 15
           },
           "zerolinecolor": "white",
           "zerolinewidth": 2
          },
          "yaxis": {
           "automargin": true,
           "gridcolor": "white",
           "linecolor": "white",
           "ticks": "",
           "title": {
            "standoff": 15
           },
           "zerolinecolor": "white",
           "zerolinewidth": 2
          }
         }
        },
        "title": {
         "text": "Cantidad de locales que poseen Website"
        },
        "xaxis": {
         "anchor": "y",
         "categoryarray": [
          "No tienen",
          "Tienen"
         ],
         "categoryorder": "array",
         "domain": [
          0,
          1
         ],
         "title": {
          "text": "Website"
         }
        },
        "yaxis": {
         "anchor": "x",
         "domain": [
          0,
          1
         ],
         "title": {
          "text": "Cantidad de locales"
         }
        }
       }
      }
     },
     "metadata": {},
     "output_type": "display_data"
    },
    {
     "data": {
      "application/vnd.plotly.v1+json": {
       "config": {
        "plotlyServerURL": "https://plot.ly"
       },
       "data": [
        {
         "hovertemplate": "Telefono=%{x}<br>Cantidad de locales=%{y}<extra></extra>",
         "legendgroup": "No tienen",
         "marker": {
          "color": "#636efa",
          "pattern": {
           "shape": ""
          }
         },
         "name": "No tienen",
         "orientation": "v",
         "showlegend": true,
         "textposition": "auto",
         "type": "bar",
         "x": [
          "No tienen"
         ],
         "xaxis": "x",
         "y": {
          "bdata": "Vg==",
          "dtype": "i1"
         },
         "yaxis": "y"
        },
        {
         "hovertemplate": "Telefono=%{x}<br>Cantidad de locales=%{y}<extra></extra>",
         "legendgroup": "Tienen",
         "marker": {
          "color": "#EF553B",
          "pattern": {
           "shape": ""
          }
         },
         "name": "Tienen",
         "orientation": "v",
         "showlegend": true,
         "textposition": "auto",
         "type": "bar",
         "x": [
          "Tienen"
         ],
         "xaxis": "x",
         "y": {
          "bdata": "eQ==",
          "dtype": "i1"
         },
         "yaxis": "y"
        }
       ],
       "layout": {
        "barmode": "relative",
        "height": 300,
        "legend": {
         "title": {
          "text": "Telefono"
         },
         "tracegroupgap": 0
        },
        "template": {
         "data": {
          "bar": [
           {
            "error_x": {
             "color": "#2a3f5f"
            },
            "error_y": {
             "color": "#2a3f5f"
            },
            "marker": {
             "line": {
              "color": "#E5ECF6",
              "width": 0.5
             },
             "pattern": {
              "fillmode": "overlay",
              "size": 10,
              "solidity": 0.2
             }
            },
            "type": "bar"
           }
          ],
          "barpolar": [
           {
            "marker": {
             "line": {
              "color": "#E5ECF6",
              "width": 0.5
             },
             "pattern": {
              "fillmode": "overlay",
              "size": 10,
              "solidity": 0.2
             }
            },
            "type": "barpolar"
           }
          ],
          "carpet": [
           {
            "aaxis": {
             "endlinecolor": "#2a3f5f",
             "gridcolor": "white",
             "linecolor": "white",
             "minorgridcolor": "white",
             "startlinecolor": "#2a3f5f"
            },
            "baxis": {
             "endlinecolor": "#2a3f5f",
             "gridcolor": "white",
             "linecolor": "white",
             "minorgridcolor": "white",
             "startlinecolor": "#2a3f5f"
            },
            "type": "carpet"
           }
          ],
          "choropleth": [
           {
            "colorbar": {
             "outlinewidth": 0,
             "ticks": ""
            },
            "type": "choropleth"
           }
          ],
          "contour": [
           {
            "colorbar": {
             "outlinewidth": 0,
             "ticks": ""
            },
            "colorscale": [
             [
              0,
              "#0d0887"
             ],
             [
              0.1111111111111111,
              "#46039f"
             ],
             [
              0.2222222222222222,
              "#7201a8"
             ],
             [
              0.3333333333333333,
              "#9c179e"
             ],
             [
              0.4444444444444444,
              "#bd3786"
             ],
             [
              0.5555555555555556,
              "#d8576b"
             ],
             [
              0.6666666666666666,
              "#ed7953"
             ],
             [
              0.7777777777777778,
              "#fb9f3a"
             ],
             [
              0.8888888888888888,
              "#fdca26"
             ],
             [
              1,
              "#f0f921"
             ]
            ],
            "type": "contour"
           }
          ],
          "contourcarpet": [
           {
            "colorbar": {
             "outlinewidth": 0,
             "ticks": ""
            },
            "type": "contourcarpet"
           }
          ],
          "heatmap": [
           {
            "colorbar": {
             "outlinewidth": 0,
             "ticks": ""
            },
            "colorscale": [
             [
              0,
              "#0d0887"
             ],
             [
              0.1111111111111111,
              "#46039f"
             ],
             [
              0.2222222222222222,
              "#7201a8"
             ],
             [
              0.3333333333333333,
              "#9c179e"
             ],
             [
              0.4444444444444444,
              "#bd3786"
             ],
             [
              0.5555555555555556,
              "#d8576b"
             ],
             [
              0.6666666666666666,
              "#ed7953"
             ],
             [
              0.7777777777777778,
              "#fb9f3a"
             ],
             [
              0.8888888888888888,
              "#fdca26"
             ],
             [
              1,
              "#f0f921"
             ]
            ],
            "type": "heatmap"
           }
          ],
          "histogram": [
           {
            "marker": {
             "pattern": {
              "fillmode": "overlay",
              "size": 10,
              "solidity": 0.2
             }
            },
            "type": "histogram"
           }
          ],
          "histogram2d": [
           {
            "colorbar": {
             "outlinewidth": 0,
             "ticks": ""
            },
            "colorscale": [
             [
              0,
              "#0d0887"
             ],
             [
              0.1111111111111111,
              "#46039f"
             ],
             [
              0.2222222222222222,
              "#7201a8"
             ],
             [
              0.3333333333333333,
              "#9c179e"
             ],
             [
              0.4444444444444444,
              "#bd3786"
             ],
             [
              0.5555555555555556,
              "#d8576b"
             ],
             [
              0.6666666666666666,
              "#ed7953"
             ],
             [
              0.7777777777777778,
              "#fb9f3a"
             ],
             [
              0.8888888888888888,
              "#fdca26"
             ],
             [
              1,
              "#f0f921"
             ]
            ],
            "type": "histogram2d"
           }
          ],
          "histogram2dcontour": [
           {
            "colorbar": {
             "outlinewidth": 0,
             "ticks": ""
            },
            "colorscale": [
             [
              0,
              "#0d0887"
             ],
             [
              0.1111111111111111,
              "#46039f"
             ],
             [
              0.2222222222222222,
              "#7201a8"
             ],
             [
              0.3333333333333333,
              "#9c179e"
             ],
             [
              0.4444444444444444,
              "#bd3786"
             ],
             [
              0.5555555555555556,
              "#d8576b"
             ],
             [
              0.6666666666666666,
              "#ed7953"
             ],
             [
              0.7777777777777778,
              "#fb9f3a"
             ],
             [
              0.8888888888888888,
              "#fdca26"
             ],
             [
              1,
              "#f0f921"
             ]
            ],
            "type": "histogram2dcontour"
           }
          ],
          "mesh3d": [
           {
            "colorbar": {
             "outlinewidth": 0,
             "ticks": ""
            },
            "type": "mesh3d"
           }
          ],
          "parcoords": [
           {
            "line": {
             "colorbar": {
              "outlinewidth": 0,
              "ticks": ""
             }
            },
            "type": "parcoords"
           }
          ],
          "pie": [
           {
            "automargin": true,
            "type": "pie"
           }
          ],
          "scatter": [
           {
            "fillpattern": {
             "fillmode": "overlay",
             "size": 10,
             "solidity": 0.2
            },
            "type": "scatter"
           }
          ],
          "scatter3d": [
           {
            "line": {
             "colorbar": {
              "outlinewidth": 0,
              "ticks": ""
             }
            },
            "marker": {
             "colorbar": {
              "outlinewidth": 0,
              "ticks": ""
             }
            },
            "type": "scatter3d"
           }
          ],
          "scattercarpet": [
           {
            "marker": {
             "colorbar": {
              "outlinewidth": 0,
              "ticks": ""
             }
            },
            "type": "scattercarpet"
           }
          ],
          "scattergeo": [
           {
            "marker": {
             "colorbar": {
              "outlinewidth": 0,
              "ticks": ""
             }
            },
            "type": "scattergeo"
           }
          ],
          "scattergl": [
           {
            "marker": {
             "colorbar": {
              "outlinewidth": 0,
              "ticks": ""
             }
            },
            "type": "scattergl"
           }
          ],
          "scattermap": [
           {
            "marker": {
             "colorbar": {
              "outlinewidth": 0,
              "ticks": ""
             }
            },
            "type": "scattermap"
           }
          ],
          "scattermapbox": [
           {
            "marker": {
             "colorbar": {
              "outlinewidth": 0,
              "ticks": ""
             }
            },
            "type": "scattermapbox"
           }
          ],
          "scatterpolar": [
           {
            "marker": {
             "colorbar": {
              "outlinewidth": 0,
              "ticks": ""
             }
            },
            "type": "scatterpolar"
           }
          ],
          "scatterpolargl": [
           {
            "marker": {
             "colorbar": {
              "outlinewidth": 0,
              "ticks": ""
             }
            },
            "type": "scatterpolargl"
           }
          ],
          "scatterternary": [
           {
            "marker": {
             "colorbar": {
              "outlinewidth": 0,
              "ticks": ""
             }
            },
            "type": "scatterternary"
           }
          ],
          "surface": [
           {
            "colorbar": {
             "outlinewidth": 0,
             "ticks": ""
            },
            "colorscale": [
             [
              0,
              "#0d0887"
             ],
             [
              0.1111111111111111,
              "#46039f"
             ],
             [
              0.2222222222222222,
              "#7201a8"
             ],
             [
              0.3333333333333333,
              "#9c179e"
             ],
             [
              0.4444444444444444,
              "#bd3786"
             ],
             [
              0.5555555555555556,
              "#d8576b"
             ],
             [
              0.6666666666666666,
              "#ed7953"
             ],
             [
              0.7777777777777778,
              "#fb9f3a"
             ],
             [
              0.8888888888888888,
              "#fdca26"
             ],
             [
              1,
              "#f0f921"
             ]
            ],
            "type": "surface"
           }
          ],
          "table": [
           {
            "cells": {
             "fill": {
              "color": "#EBF0F8"
             },
             "line": {
              "color": "white"
             }
            },
            "header": {
             "fill": {
              "color": "#C8D4E3"
             },
             "line": {
              "color": "white"
             }
            },
            "type": "table"
           }
          ]
         },
         "layout": {
          "annotationdefaults": {
           "arrowcolor": "#2a3f5f",
           "arrowhead": 0,
           "arrowwidth": 1
          },
          "autotypenumbers": "strict",
          "coloraxis": {
           "colorbar": {
            "outlinewidth": 0,
            "ticks": ""
           }
          },
          "colorscale": {
           "diverging": [
            [
             0,
             "#8e0152"
            ],
            [
             0.1,
             "#c51b7d"
            ],
            [
             0.2,
             "#de77ae"
            ],
            [
             0.3,
             "#f1b6da"
            ],
            [
             0.4,
             "#fde0ef"
            ],
            [
             0.5,
             "#f7f7f7"
            ],
            [
             0.6,
             "#e6f5d0"
            ],
            [
             0.7,
             "#b8e186"
            ],
            [
             0.8,
             "#7fbc41"
            ],
            [
             0.9,
             "#4d9221"
            ],
            [
             1,
             "#276419"
            ]
           ],
           "sequential": [
            [
             0,
             "#0d0887"
            ],
            [
             0.1111111111111111,
             "#46039f"
            ],
            [
             0.2222222222222222,
             "#7201a8"
            ],
            [
             0.3333333333333333,
             "#9c179e"
            ],
            [
             0.4444444444444444,
             "#bd3786"
            ],
            [
             0.5555555555555556,
             "#d8576b"
            ],
            [
             0.6666666666666666,
             "#ed7953"
            ],
            [
             0.7777777777777778,
             "#fb9f3a"
            ],
            [
             0.8888888888888888,
             "#fdca26"
            ],
            [
             1,
             "#f0f921"
            ]
           ],
           "sequentialminus": [
            [
             0,
             "#0d0887"
            ],
            [
             0.1111111111111111,
             "#46039f"
            ],
            [
             0.2222222222222222,
             "#7201a8"
            ],
            [
             0.3333333333333333,
             "#9c179e"
            ],
            [
             0.4444444444444444,
             "#bd3786"
            ],
            [
             0.5555555555555556,
             "#d8576b"
            ],
            [
             0.6666666666666666,
             "#ed7953"
            ],
            [
             0.7777777777777778,
             "#fb9f3a"
            ],
            [
             0.8888888888888888,
             "#fdca26"
            ],
            [
             1,
             "#f0f921"
            ]
           ]
          },
          "colorway": [
           "#636efa",
           "#EF553B",
           "#00cc96",
           "#ab63fa",
           "#FFA15A",
           "#19d3f3",
           "#FF6692",
           "#B6E880",
           "#FF97FF",
           "#FECB52"
          ],
          "font": {
           "color": "#2a3f5f"
          },
          "geo": {
           "bgcolor": "white",
           "lakecolor": "white",
           "landcolor": "#E5ECF6",
           "showlakes": true,
           "showland": true,
           "subunitcolor": "white"
          },
          "hoverlabel": {
           "align": "left"
          },
          "hovermode": "closest",
          "mapbox": {
           "style": "light"
          },
          "paper_bgcolor": "white",
          "plot_bgcolor": "#E5ECF6",
          "polar": {
           "angularaxis": {
            "gridcolor": "white",
            "linecolor": "white",
            "ticks": ""
           },
           "bgcolor": "#E5ECF6",
           "radialaxis": {
            "gridcolor": "white",
            "linecolor": "white",
            "ticks": ""
           }
          },
          "scene": {
           "xaxis": {
            "backgroundcolor": "#E5ECF6",
            "gridcolor": "white",
            "gridwidth": 2,
            "linecolor": "white",
            "showbackground": true,
            "ticks": "",
            "zerolinecolor": "white"
           },
           "yaxis": {
            "backgroundcolor": "#E5ECF6",
            "gridcolor": "white",
            "gridwidth": 2,
            "linecolor": "white",
            "showbackground": true,
            "ticks": "",
            "zerolinecolor": "white"
           },
           "zaxis": {
            "backgroundcolor": "#E5ECF6",
            "gridcolor": "white",
            "gridwidth": 2,
            "linecolor": "white",
            "showbackground": true,
            "ticks": "",
            "zerolinecolor": "white"
           }
          },
          "shapedefaults": {
           "line": {
            "color": "#2a3f5f"
           }
          },
          "ternary": {
           "aaxis": {
            "gridcolor": "white",
            "linecolor": "white",
            "ticks": ""
           },
           "baxis": {
            "gridcolor": "white",
            "linecolor": "white",
            "ticks": ""
           },
           "bgcolor": "#E5ECF6",
           "caxis": {
            "gridcolor": "white",
            "linecolor": "white",
            "ticks": ""
           }
          },
          "title": {
           "x": 0.05
          },
          "xaxis": {
           "automargin": true,
           "gridcolor": "white",
           "linecolor": "white",
           "ticks": "",
           "title": {
            "standoff": 15
           },
           "zerolinecolor": "white",
           "zerolinewidth": 2
          },
          "yaxis": {
           "automargin": true,
           "gridcolor": "white",
           "linecolor": "white",
           "ticks": "",
           "title": {
            "standoff": 15
           },
           "zerolinecolor": "white",
           "zerolinewidth": 2
          }
         }
        },
        "title": {
         "text": "Cantidad de locales que poseen Telefono"
        },
        "xaxis": {
         "anchor": "y",
         "categoryarray": [
          "No tienen",
          "Tienen"
         ],
         "categoryorder": "array",
         "domain": [
          0,
          1
         ],
         "title": {
          "text": "Telefono"
         }
        },
        "yaxis": {
         "anchor": "x",
         "domain": [
          0,
          1
         ],
         "title": {
          "text": "Cantidad de locales"
         }
        }
       }
      }
     },
     "metadata": {},
     "output_type": "display_data"
    }
   ],
   "source": [
    "df_type_facebook = df.groupby('contact.facebook').count().reset_index()\n",
    "df_type_instagram = df.groupby('contact.instagram').count().reset_index()\n",
    "df_type_website = df.groupby('contact.website').count().reset_index()\n",
    "df_type_phone = df.groupby('contact.phone').count().reset_index()\n",
    "\n",
    "df_type_facebook['contact.facebook'] = df_type_facebook['contact.facebook'].map({True: 'Tienen', False: 'No tienen'})\n",
    "df_type_instagram['contact.instagram'] = df_type_instagram['contact.instagram'].map({True: 'Tienen', False: 'No tienen'})\n",
    "df_type_website['contact.website'] = df_type_website['contact.website'].map({True: 'Tienen', False: 'No tienen'})\n",
    "df_type_phone['contact.phone'] = df_type_phone['contact.phone'].map({True: 'Tienen', False: 'No tienen'})\n",
    "\n",
    "px.bar(\n",
    "    df_type_facebook,\n",
    "    x='contact.facebook',\n",
    "    y='name',\n",
    "    labels={'contact.facebook': 'Facebook', 'name': 'Cantidad de locales'},\n",
    "    color='contact.facebook',\n",
    "    title='Cantidad de locales que poseen Facebook',\n",
    "    height=300\n",
    ").show()\n",
    "\n",
    "px.bar(\n",
    "    df_type_instagram,\n",
    "    x='contact.instagram',\n",
    "    y='name',\n",
    "    labels={'contact.instagram': 'Instagram', 'name': 'Cantidad de locales'},\n",
    "    color='contact.instagram',\n",
    "    title='Cantidad de locales que poseen Instagram',\n",
    "    height=300\n",
    ").show()\n",
    "\n",
    "px.bar(\n",
    "    df_type_website,\n",
    "    x='contact.website',\n",
    "    y='name',\n",
    "    labels={'contact.website': 'Website', 'name': 'Cantidad de locales'},\n",
    "    color='contact.website',\n",
    "    title='Cantidad de locales que poseen Website',\n",
    "    height=300\n",
    ").show()\n",
    "\n",
    "px.bar(\n",
    "    df_type_phone,\n",
    "    x='contact.phone',\n",
    "    y='name',\n",
    "    labels={'contact.phone': 'Telefono', 'name': 'Cantidad de locales'},\n",
    "    color='contact.phone',\n",
    "    title='Cantidad de locales que poseen Telefono',\n",
    "    height=300\n",
    ").show()"
   ]
  },
  {
   "cell_type": "code",
   "execution_count": 4,
   "metadata": {},
   "outputs": [
    {
     "data": {
      "application/vnd.plotly.v1+json": {
       "config": {
        "plotlyServerURL": "https://plot.ly"
       },
       "data": [
        {
         "hovertemplate": "Especialidad=%{x}<br>Cantidad=%{y}<extra></extra>",
         "legendgroup": "cocteleria",
         "marker": {
          "color": "#636efa",
          "pattern": {
           "shape": ""
          }
         },
         "name": "cocteleria",
         "orientation": "v",
         "showlegend": true,
         "textposition": "auto",
         "type": "bar",
         "x": [
          "cocteleria"
         ],
         "xaxis": "x",
         "y": {
          "bdata": "BA==",
          "dtype": "i1"
         },
         "yaxis": "y"
        },
        {
         "hovertemplate": "Especialidad=%{x}<br>Cantidad=%{y}<extra></extra>",
         "legendgroup": "Cubana",
         "marker": {
          "color": "#EF553B",
          "pattern": {
           "shape": ""
          }
         },
         "name": "Cubana",
         "orientation": "v",
         "showlegend": true,
         "textposition": "auto",
         "type": "bar",
         "x": [
          "Cubana"
         ],
         "xaxis": "x",
         "y": {
          "bdata": "Aw==",
          "dtype": "i1"
         },
         "yaxis": "y"
        },
        {
         "hovertemplate": "Especialidad=%{x}<br>Cantidad=%{y}<extra></extra>",
         "legendgroup": "italiana",
         "marker": {
          "color": "#00cc96",
          "pattern": {
           "shape": ""
          }
         },
         "name": "italiana",
         "orientation": "v",
         "showlegend": true,
         "textposition": "auto",
         "type": "bar",
         "x": [
          "italiana"
         ],
         "xaxis": "x",
         "y": {
          "bdata": "Aw==",
          "dtype": "i1"
         },
         "yaxis": "y"
        },
        {
         "hovertemplate": "Especialidad=%{x}<br>Cantidad=%{y}<extra></extra>",
         "legendgroup": "Tapas",
         "marker": {
          "color": "#ab63fa",
          "pattern": {
           "shape": ""
          }
         },
         "name": "Tapas",
         "orientation": "v",
         "showlegend": true,
         "textposition": "auto",
         "type": "bar",
         "x": [
          "Tapas"
         ],
         "xaxis": "x",
         "y": {
          "bdata": "Ag==",
          "dtype": "i1"
         },
         "yaxis": "y"
        },
        {
         "hovertemplate": "Especialidad=%{x}<br>Cantidad=%{y}<extra></extra>",
         "legendgroup": "Cocteleria",
         "marker": {
          "color": "#FFA15A",
          "pattern": {
           "shape": ""
          }
         },
         "name": "Cocteleria",
         "orientation": "v",
         "showlegend": true,
         "textposition": "auto",
         "type": "bar",
         "x": [
          "Cocteleria"
         ],
         "xaxis": "x",
         "y": {
          "bdata": "Ag==",
          "dtype": "i1"
         },
         "yaxis": "y"
        },
        {
         "hovertemplate": "Especialidad=%{x}<br>Cantidad=%{y}<extra></extra>",
         "legendgroup": "internacional",
         "marker": {
          "color": "#19d3f3",
          "pattern": {
           "shape": ""
          }
         },
         "name": "internacional",
         "orientation": "v",
         "showlegend": true,
         "textposition": "auto",
         "type": "bar",
         "x": [
          "internacional"
         ],
         "xaxis": "x",
         "y": {
          "bdata": "AQ==",
          "dtype": "i1"
         },
         "yaxis": "y"
        },
        {
         "hovertemplate": "Especialidad=%{x}<br>Cantidad=%{y}<extra></extra>",
         "legendgroup": "italian",
         "marker": {
          "color": "#FF6692",
          "pattern": {
           "shape": ""
          }
         },
         "name": "italian",
         "orientation": "v",
         "showlegend": true,
         "textposition": "auto",
         "type": "bar",
         "x": [
          "italian"
         ],
         "xaxis": "x",
         "y": {
          "bdata": "AQ==",
          "dtype": "i1"
         },
         "yaxis": "y"
        },
        {
         "hovertemplate": "Especialidad=%{x}<br>Cantidad=%{y}<extra></extra>",
         "legendgroup": "pizzas",
         "marker": {
          "color": "#B6E880",
          "pattern": {
           "shape": ""
          }
         },
         "name": "pizzas",
         "orientation": "v",
         "showlegend": true,
         "textposition": "auto",
         "type": "bar",
         "x": [
          "pizzas"
         ],
         "xaxis": "x",
         "y": {
          "bdata": "AQ==",
          "dtype": "i1"
         },
         "yaxis": "y"
        },
        {
         "hovertemplate": "Especialidad=%{x}<br>Cantidad=%{y}<extra></extra>",
         "legendgroup": "pastas",
         "marker": {
          "color": "#FF97FF",
          "pattern": {
           "shape": ""
          }
         },
         "name": "pastas",
         "orientation": "v",
         "showlegend": true,
         "textposition": "auto",
         "type": "bar",
         "x": [
          "pastas"
         ],
         "xaxis": "x",
         "y": {
          "bdata": "AQ==",
          "dtype": "i1"
         },
         "yaxis": "y"
        },
        {
         "hovertemplate": "Especialidad=%{x}<br>Cantidad=%{y}<extra></extra>",
         "legendgroup": "snack food",
         "marker": {
          "color": "#FECB52",
          "pattern": {
           "shape": ""
          }
         },
         "name": "snack food",
         "orientation": "v",
         "showlegend": true,
         "textposition": "auto",
         "type": "bar",
         "x": [
          "snack food"
         ],
         "xaxis": "x",
         "y": {
          "bdata": "AQ==",
          "dtype": "i1"
         },
         "yaxis": "y"
        },
        {
         "hovertemplate": "Especialidad=%{x}<br>Cantidad=%{y}<extra></extra>",
         "legendgroup": "variado",
         "marker": {
          "color": "#636efa",
          "pattern": {
           "shape": ""
          }
         },
         "name": "variado",
         "orientation": "v",
         "showlegend": true,
         "textposition": "auto",
         "type": "bar",
         "x": [
          "variado"
         ],
         "xaxis": "x",
         "y": {
          "bdata": "AQ==",
          "dtype": "i1"
         },
         "yaxis": "y"
        },
        {
         "hovertemplate": "Especialidad=%{x}<br>Cantidad=%{y}<extra></extra>",
         "legendgroup": "Variada",
         "marker": {
          "color": "#EF553B",
          "pattern": {
           "shape": ""
          }
         },
         "name": "Variada",
         "orientation": "v",
         "showlegend": true,
         "textposition": "auto",
         "type": "bar",
         "x": [
          "Variada"
         ],
         "xaxis": "x",
         "y": {
          "bdata": "AQ==",
          "dtype": "i1"
         },
         "yaxis": "y"
        },
        {
         "hovertemplate": "Especialidad=%{x}<br>Cantidad=%{y}<extra></extra>",
         "legendgroup": "Americana",
         "marker": {
          "color": "#00cc96",
          "pattern": {
           "shape": ""
          }
         },
         "name": "Americana",
         "orientation": "v",
         "showlegend": true,
         "textposition": "auto",
         "type": "bar",
         "x": [
          "Americana"
         ],
         "xaxis": "x",
         "y": {
          "bdata": "AQ==",
          "dtype": "i1"
         },
         "yaxis": "y"
        },
        {
         "hovertemplate": "Especialidad=%{x}<br>Cantidad=%{y}<extra></extra>",
         "legendgroup": "caribena",
         "marker": {
          "color": "#ab63fa",
          "pattern": {
           "shape": ""
          }
         },
         "name": "caribena",
         "orientation": "v",
         "showlegend": true,
         "textposition": "auto",
         "type": "bar",
         "x": [
          "caribena"
         ],
         "xaxis": "x",
         "y": {
          "bdata": "AQ==",
          "dtype": "i1"
         },
         "yaxis": "y"
        },
        {
         "hovertemplate": "Especialidad=%{x}<br>Cantidad=%{y}<extra></extra>",
         "legendgroup": "Cafe",
         "marker": {
          "color": "#FFA15A",
          "pattern": {
           "shape": ""
          }
         },
         "name": "Cafe",
         "orientation": "v",
         "showlegend": true,
         "textposition": "auto",
         "type": "bar",
         "x": [
          "Cafe"
         ],
         "xaxis": "x",
         "y": {
          "bdata": "AQ==",
          "dtype": "i1"
         },
         "yaxis": "y"
        },
        {
         "hovertemplate": "Especialidad=%{x}<br>Cantidad=%{y}<extra></extra>",
         "legendgroup": "Pub",
         "marker": {
          "color": "#19d3f3",
          "pattern": {
           "shape": ""
          }
         },
         "name": "Pub",
         "orientation": "v",
         "showlegend": true,
         "textposition": "auto",
         "type": "bar",
         "x": [
          "Pub"
         ],
         "xaxis": "x",
         "y": {
          "bdata": "AQ==",
          "dtype": "i1"
         },
         "yaxis": "y"
        },
        {
         "hovertemplate": "Especialidad=%{x}<br>Cantidad=%{y}<extra></extra>",
         "legendgroup": "Bares para comer",
         "marker": {
          "color": "#FF6692",
          "pattern": {
           "shape": ""
          }
         },
         "name": "Bares para comer",
         "orientation": "v",
         "showlegend": true,
         "textposition": "auto",
         "type": "bar",
         "x": [
          "Bares para comer"
         ],
         "xaxis": "x",
         "y": {
          "bdata": "AQ==",
          "dtype": "i1"
         },
         "yaxis": "y"
        },
        {
         "hovertemplate": "Especialidad=%{x}<br>Cantidad=%{y}<extra></extra>",
         "legendgroup": "mixto",
         "marker": {
          "color": "#B6E880",
          "pattern": {
           "shape": ""
          }
         },
         "name": "mixto",
         "orientation": "v",
         "showlegend": true,
         "textposition": "auto",
         "type": "bar",
         "x": [
          "mixto"
         ],
         "xaxis": "x",
         "y": {
          "bdata": "AQ==",
          "dtype": "i1"
         },
         "yaxis": "y"
        }
       ],
       "layout": {
        "barmode": "relative",
        "height": 550,
        "legend": {
         "title": {
          "text": "Especialidad"
         },
         "tracegroupgap": 0
        },
        "template": {
         "data": {
          "bar": [
           {
            "error_x": {
             "color": "#2a3f5f"
            },
            "error_y": {
             "color": "#2a3f5f"
            },
            "marker": {
             "line": {
              "color": "#E5ECF6",
              "width": 0.5
             },
             "pattern": {
              "fillmode": "overlay",
              "size": 10,
              "solidity": 0.2
             }
            },
            "type": "bar"
           }
          ],
          "barpolar": [
           {
            "marker": {
             "line": {
              "color": "#E5ECF6",
              "width": 0.5
             },
             "pattern": {
              "fillmode": "overlay",
              "size": 10,
              "solidity": 0.2
             }
            },
            "type": "barpolar"
           }
          ],
          "carpet": [
           {
            "aaxis": {
             "endlinecolor": "#2a3f5f",
             "gridcolor": "white",
             "linecolor": "white",
             "minorgridcolor": "white",
             "startlinecolor": "#2a3f5f"
            },
            "baxis": {
             "endlinecolor": "#2a3f5f",
             "gridcolor": "white",
             "linecolor": "white",
             "minorgridcolor": "white",
             "startlinecolor": "#2a3f5f"
            },
            "type": "carpet"
           }
          ],
          "choropleth": [
           {
            "colorbar": {
             "outlinewidth": 0,
             "ticks": ""
            },
            "type": "choropleth"
           }
          ],
          "contour": [
           {
            "colorbar": {
             "outlinewidth": 0,
             "ticks": ""
            },
            "colorscale": [
             [
              0,
              "#0d0887"
             ],
             [
              0.1111111111111111,
              "#46039f"
             ],
             [
              0.2222222222222222,
              "#7201a8"
             ],
             [
              0.3333333333333333,
              "#9c179e"
             ],
             [
              0.4444444444444444,
              "#bd3786"
             ],
             [
              0.5555555555555556,
              "#d8576b"
             ],
             [
              0.6666666666666666,
              "#ed7953"
             ],
             [
              0.7777777777777778,
              "#fb9f3a"
             ],
             [
              0.8888888888888888,
              "#fdca26"
             ],
             [
              1,
              "#f0f921"
             ]
            ],
            "type": "contour"
           }
          ],
          "contourcarpet": [
           {
            "colorbar": {
             "outlinewidth": 0,
             "ticks": ""
            },
            "type": "contourcarpet"
           }
          ],
          "heatmap": [
           {
            "colorbar": {
             "outlinewidth": 0,
             "ticks": ""
            },
            "colorscale": [
             [
              0,
              "#0d0887"
             ],
             [
              0.1111111111111111,
              "#46039f"
             ],
             [
              0.2222222222222222,
              "#7201a8"
             ],
             [
              0.3333333333333333,
              "#9c179e"
             ],
             [
              0.4444444444444444,
              "#bd3786"
             ],
             [
              0.5555555555555556,
              "#d8576b"
             ],
             [
              0.6666666666666666,
              "#ed7953"
             ],
             [
              0.7777777777777778,
              "#fb9f3a"
             ],
             [
              0.8888888888888888,
              "#fdca26"
             ],
             [
              1,
              "#f0f921"
             ]
            ],
            "type": "heatmap"
           }
          ],
          "histogram": [
           {
            "marker": {
             "pattern": {
              "fillmode": "overlay",
              "size": 10,
              "solidity": 0.2
             }
            },
            "type": "histogram"
           }
          ],
          "histogram2d": [
           {
            "colorbar": {
             "outlinewidth": 0,
             "ticks": ""
            },
            "colorscale": [
             [
              0,
              "#0d0887"
             ],
             [
              0.1111111111111111,
              "#46039f"
             ],
             [
              0.2222222222222222,
              "#7201a8"
             ],
             [
              0.3333333333333333,
              "#9c179e"
             ],
             [
              0.4444444444444444,
              "#bd3786"
             ],
             [
              0.5555555555555556,
              "#d8576b"
             ],
             [
              0.6666666666666666,
              "#ed7953"
             ],
             [
              0.7777777777777778,
              "#fb9f3a"
             ],
             [
              0.8888888888888888,
              "#fdca26"
             ],
             [
              1,
              "#f0f921"
             ]
            ],
            "type": "histogram2d"
           }
          ],
          "histogram2dcontour": [
           {
            "colorbar": {
             "outlinewidth": 0,
             "ticks": ""
            },
            "colorscale": [
             [
              0,
              "#0d0887"
             ],
             [
              0.1111111111111111,
              "#46039f"
             ],
             [
              0.2222222222222222,
              "#7201a8"
             ],
             [
              0.3333333333333333,
              "#9c179e"
             ],
             [
              0.4444444444444444,
              "#bd3786"
             ],
             [
              0.5555555555555556,
              "#d8576b"
             ],
             [
              0.6666666666666666,
              "#ed7953"
             ],
             [
              0.7777777777777778,
              "#fb9f3a"
             ],
             [
              0.8888888888888888,
              "#fdca26"
             ],
             [
              1,
              "#f0f921"
             ]
            ],
            "type": "histogram2dcontour"
           }
          ],
          "mesh3d": [
           {
            "colorbar": {
             "outlinewidth": 0,
             "ticks": ""
            },
            "type": "mesh3d"
           }
          ],
          "parcoords": [
           {
            "line": {
             "colorbar": {
              "outlinewidth": 0,
              "ticks": ""
             }
            },
            "type": "parcoords"
           }
          ],
          "pie": [
           {
            "automargin": true,
            "type": "pie"
           }
          ],
          "scatter": [
           {
            "fillpattern": {
             "fillmode": "overlay",
             "size": 10,
             "solidity": 0.2
            },
            "type": "scatter"
           }
          ],
          "scatter3d": [
           {
            "line": {
             "colorbar": {
              "outlinewidth": 0,
              "ticks": ""
             }
            },
            "marker": {
             "colorbar": {
              "outlinewidth": 0,
              "ticks": ""
             }
            },
            "type": "scatter3d"
           }
          ],
          "scattercarpet": [
           {
            "marker": {
             "colorbar": {
              "outlinewidth": 0,
              "ticks": ""
             }
            },
            "type": "scattercarpet"
           }
          ],
          "scattergeo": [
           {
            "marker": {
             "colorbar": {
              "outlinewidth": 0,
              "ticks": ""
             }
            },
            "type": "scattergeo"
           }
          ],
          "scattergl": [
           {
            "marker": {
             "colorbar": {
              "outlinewidth": 0,
              "ticks": ""
             }
            },
            "type": "scattergl"
           }
          ],
          "scattermap": [
           {
            "marker": {
             "colorbar": {
              "outlinewidth": 0,
              "ticks": ""
             }
            },
            "type": "scattermap"
           }
          ],
          "scattermapbox": [
           {
            "marker": {
             "colorbar": {
              "outlinewidth": 0,
              "ticks": ""
             }
            },
            "type": "scattermapbox"
           }
          ],
          "scatterpolar": [
           {
            "marker": {
             "colorbar": {
              "outlinewidth": 0,
              "ticks": ""
             }
            },
            "type": "scatterpolar"
           }
          ],
          "scatterpolargl": [
           {
            "marker": {
             "colorbar": {
              "outlinewidth": 0,
              "ticks": ""
             }
            },
            "type": "scatterpolargl"
           }
          ],
          "scatterternary": [
           {
            "marker": {
             "colorbar": {
              "outlinewidth": 0,
              "ticks": ""
             }
            },
            "type": "scatterternary"
           }
          ],
          "surface": [
           {
            "colorbar": {
             "outlinewidth": 0,
             "ticks": ""
            },
            "colorscale": [
             [
              0,
              "#0d0887"
             ],
             [
              0.1111111111111111,
              "#46039f"
             ],
             [
              0.2222222222222222,
              "#7201a8"
             ],
             [
              0.3333333333333333,
              "#9c179e"
             ],
             [
              0.4444444444444444,
              "#bd3786"
             ],
             [
              0.5555555555555556,
              "#d8576b"
             ],
             [
              0.6666666666666666,
              "#ed7953"
             ],
             [
              0.7777777777777778,
              "#fb9f3a"
             ],
             [
              0.8888888888888888,
              "#fdca26"
             ],
             [
              1,
              "#f0f921"
             ]
            ],
            "type": "surface"
           }
          ],
          "table": [
           {
            "cells": {
             "fill": {
              "color": "#EBF0F8"
             },
             "line": {
              "color": "white"
             }
            },
            "header": {
             "fill": {
              "color": "#C8D4E3"
             },
             "line": {
              "color": "white"
             }
            },
            "type": "table"
           }
          ]
         },
         "layout": {
          "annotationdefaults": {
           "arrowcolor": "#2a3f5f",
           "arrowhead": 0,
           "arrowwidth": 1
          },
          "autotypenumbers": "strict",
          "coloraxis": {
           "colorbar": {
            "outlinewidth": 0,
            "ticks": ""
           }
          },
          "colorscale": {
           "diverging": [
            [
             0,
             "#8e0152"
            ],
            [
             0.1,
             "#c51b7d"
            ],
            [
             0.2,
             "#de77ae"
            ],
            [
             0.3,
             "#f1b6da"
            ],
            [
             0.4,
             "#fde0ef"
            ],
            [
             0.5,
             "#f7f7f7"
            ],
            [
             0.6,
             "#e6f5d0"
            ],
            [
             0.7,
             "#b8e186"
            ],
            [
             0.8,
             "#7fbc41"
            ],
            [
             0.9,
             "#4d9221"
            ],
            [
             1,
             "#276419"
            ]
           ],
           "sequential": [
            [
             0,
             "#0d0887"
            ],
            [
             0.1111111111111111,
             "#46039f"
            ],
            [
             0.2222222222222222,
             "#7201a8"
            ],
            [
             0.3333333333333333,
             "#9c179e"
            ],
            [
             0.4444444444444444,
             "#bd3786"
            ],
            [
             0.5555555555555556,
             "#d8576b"
            ],
            [
             0.6666666666666666,
             "#ed7953"
            ],
            [
             0.7777777777777778,
             "#fb9f3a"
            ],
            [
             0.8888888888888888,
             "#fdca26"
            ],
            [
             1,
             "#f0f921"
            ]
           ],
           "sequentialminus": [
            [
             0,
             "#0d0887"
            ],
            [
             0.1111111111111111,
             "#46039f"
            ],
            [
             0.2222222222222222,
             "#7201a8"
            ],
            [
             0.3333333333333333,
             "#9c179e"
            ],
            [
             0.4444444444444444,
             "#bd3786"
            ],
            [
             0.5555555555555556,
             "#d8576b"
            ],
            [
             0.6666666666666666,
             "#ed7953"
            ],
            [
             0.7777777777777778,
             "#fb9f3a"
            ],
            [
             0.8888888888888888,
             "#fdca26"
            ],
            [
             1,
             "#f0f921"
            ]
           ]
          },
          "colorway": [
           "#636efa",
           "#EF553B",
           "#00cc96",
           "#ab63fa",
           "#FFA15A",
           "#19d3f3",
           "#FF6692",
           "#B6E880",
           "#FF97FF",
           "#FECB52"
          ],
          "font": {
           "color": "#2a3f5f"
          },
          "geo": {
           "bgcolor": "white",
           "lakecolor": "white",
           "landcolor": "#E5ECF6",
           "showlakes": true,
           "showland": true,
           "subunitcolor": "white"
          },
          "hoverlabel": {
           "align": "left"
          },
          "hovermode": "closest",
          "mapbox": {
           "style": "light"
          },
          "paper_bgcolor": "white",
          "plot_bgcolor": "#E5ECF6",
          "polar": {
           "angularaxis": {
            "gridcolor": "white",
            "linecolor": "white",
            "ticks": ""
           },
           "bgcolor": "#E5ECF6",
           "radialaxis": {
            "gridcolor": "white",
            "linecolor": "white",
            "ticks": ""
           }
          },
          "scene": {
           "xaxis": {
            "backgroundcolor": "#E5ECF6",
            "gridcolor": "white",
            "gridwidth": 2,
            "linecolor": "white",
            "showbackground": true,
            "ticks": "",
            "zerolinecolor": "white"
           },
           "yaxis": {
            "backgroundcolor": "#E5ECF6",
            "gridcolor": "white",
            "gridwidth": 2,
            "linecolor": "white",
            "showbackground": true,
            "ticks": "",
            "zerolinecolor": "white"
           },
           "zaxis": {
            "backgroundcolor": "#E5ECF6",
            "gridcolor": "white",
            "gridwidth": 2,
            "linecolor": "white",
            "showbackground": true,
            "ticks": "",
            "zerolinecolor": "white"
           }
          },
          "shapedefaults": {
           "line": {
            "color": "#2a3f5f"
           }
          },
          "ternary": {
           "aaxis": {
            "gridcolor": "white",
            "linecolor": "white",
            "ticks": ""
           },
           "baxis": {
            "gridcolor": "white",
            "linecolor": "white",
            "ticks": ""
           },
           "bgcolor": "#E5ECF6",
           "caxis": {
            "gridcolor": "white",
            "linecolor": "white",
            "ticks": ""
           }
          },
          "title": {
           "x": 0.05
          },
          "xaxis": {
           "automargin": true,
           "gridcolor": "white",
           "linecolor": "white",
           "ticks": "",
           "title": {
            "standoff": 15
           },
           "zerolinecolor": "white",
           "zerolinewidth": 2
          },
          "yaxis": {
           "automargin": true,
           "gridcolor": "white",
           "linecolor": "white",
           "ticks": "",
           "title": {
            "standoff": 15
           },
           "zerolinecolor": "white",
           "zerolinewidth": 2
          }
         }
        },
        "title": {
         "text": "Especialidades más comunes en los Bares:"
        },
        "xaxis": {
         "anchor": "y",
         "categoryarray": [
          "cocteleria",
          "Cubana",
          "italiana",
          "Tapas",
          "Cocteleria",
          "internacional",
          "italian",
          "pizzas",
          "pastas",
          "snack food",
          "variado",
          "Variada",
          "Americana",
          "caribena",
          "Cafe",
          "Pub",
          "Bares para comer",
          "mixto"
         ],
         "categoryorder": "array",
         "domain": [
          0,
          1
         ],
         "title": {
          "text": "Especialidad"
         }
        },
        "yaxis": {
         "anchor": "x",
         "domain": [
          0,
          1
         ],
         "title": {
          "text": "Cantidad"
         }
        }
       }
      }
     },
     "metadata": {},
     "output_type": "display_data"
    },
    {
     "data": {
      "application/vnd.plotly.v1+json": {
       "config": {
        "plotlyServerURL": "https://plot.ly"
       },
       "data": [
        {
         "hovertemplate": "Especialidad=%{x}<br>Cantidad=%{y}<extra></extra>",
         "legendgroup": "Cubana",
         "marker": {
          "color": "#636efa",
          "pattern": {
           "shape": ""
          }
         },
         "name": "Cubana",
         "orientation": "v",
         "showlegend": true,
         "textposition": "auto",
         "type": "bar",
         "x": [
          "Cubana"
         ],
         "xaxis": "x",
         "y": {
          "bdata": "Kw==",
          "dtype": "i1"
         },
         "yaxis": "y"
        },
        {
         "hovertemplate": "Especialidad=%{x}<br>Cantidad=%{y}<extra></extra>",
         "legendgroup": "italiana",
         "marker": {
          "color": "#EF553B",
          "pattern": {
           "shape": ""
          }
         },
         "name": "italiana",
         "orientation": "v",
         "showlegend": true,
         "textposition": "auto",
         "type": "bar",
         "x": [
          "italiana"
         ],
         "xaxis": "x",
         "y": {
          "bdata": "Dw==",
          "dtype": "i1"
         },
         "yaxis": "y"
        },
        {
         "hovertemplate": "Especialidad=%{x}<br>Cantidad=%{y}<extra></extra>",
         "legendgroup": "internacional",
         "marker": {
          "color": "#00cc96",
          "pattern": {
           "shape": ""
          }
         },
         "name": "internacional",
         "orientation": "v",
         "showlegend": true,
         "textposition": "auto",
         "type": "bar",
         "x": [
          "internacional"
         ],
         "xaxis": "x",
         "y": {
          "bdata": "DA==",
          "dtype": "i1"
         },
         "yaxis": "y"
        },
        {
         "hovertemplate": "Especialidad=%{x}<br>Cantidad=%{y}<extra></extra>",
         "legendgroup": "criolla",
         "marker": {
          "color": "#ab63fa",
          "pattern": {
           "shape": ""
          }
         },
         "name": "criolla",
         "orientation": "v",
         "showlegend": true,
         "textposition": "auto",
         "type": "bar",
         "x": [
          "criolla"
         ],
         "xaxis": "x",
         "y": {
          "bdata": "DA==",
          "dtype": "i1"
         },
         "yaxis": "y"
        },
        {
         "hovertemplate": "Especialidad=%{x}<br>Cantidad=%{y}<extra></extra>",
         "legendgroup": "caribena",
         "marker": {
          "color": "#FFA15A",
          "pattern": {
           "shape": ""
          }
         },
         "name": "caribena",
         "orientation": "v",
         "showlegend": true,
         "textposition": "auto",
         "type": "bar",
         "x": [
          "caribena"
         ],
         "xaxis": "x",
         "y": {
          "bdata": "Cw==",
          "dtype": "i1"
         },
         "yaxis": "y"
        },
        {
         "hovertemplate": "Especialidad=%{x}<br>Cantidad=%{y}<extra></extra>",
         "legendgroup": "Variada",
         "marker": {
          "color": "#19d3f3",
          "pattern": {
           "shape": ""
          }
         },
         "name": "Variada",
         "orientation": "v",
         "showlegend": true,
         "textposition": "auto",
         "type": "bar",
         "x": [
          "Variada"
         ],
         "xaxis": "x",
         "y": {
          "bdata": "CA==",
          "dtype": "i1"
         },
         "yaxis": "y"
        },
        {
         "hovertemplate": "Especialidad=%{x}<br>Cantidad=%{y}<extra></extra>",
         "legendgroup": "italian",
         "marker": {
          "color": "#FF6692",
          "pattern": {
           "shape": ""
          }
         },
         "name": "italian",
         "orientation": "v",
         "showlegend": true,
         "textposition": "auto",
         "type": "bar",
         "x": [
          "italian"
         ],
         "xaxis": "x",
         "y": {
          "bdata": "Bg==",
          "dtype": "i1"
         },
         "yaxis": "y"
        },
        {
         "hovertemplate": "Especialidad=%{x}<br>Cantidad=%{y}<extra></extra>",
         "legendgroup": "latina",
         "marker": {
          "color": "#B6E880",
          "pattern": {
           "shape": ""
          }
         },
         "name": "latina",
         "orientation": "v",
         "showlegend": true,
         "textposition": "auto",
         "type": "bar",
         "x": [
          "latina"
         ],
         "xaxis": "x",
         "y": {
          "bdata": "Bg==",
          "dtype": "i1"
         },
         "yaxis": "y"
        },
        {
         "hovertemplate": "Especialidad=%{x}<br>Cantidad=%{y}<extra></extra>",
         "legendgroup": "Otros",
         "marker": {
          "color": "#FF97FF",
          "pattern": {
           "shape": ""
          }
         },
         "name": "Otros",
         "orientation": "v",
         "showlegend": true,
         "textposition": "auto",
         "type": "bar",
         "x": [
          "Otros"
         ],
         "xaxis": "x",
         "y": {
          "bdata": "Bg==",
          "dtype": "i1"
         },
         "yaxis": "y"
        },
        {
         "hovertemplate": "Especialidad=%{x}<br>Cantidad=%{y}<extra></extra>",
         "legendgroup": "Italiana",
         "marker": {
          "color": "#FECB52",
          "pattern": {
           "shape": ""
          }
         },
         "name": "Italiana",
         "orientation": "v",
         "showlegend": true,
         "textposition": "auto",
         "type": "bar",
         "x": [
          "Italiana"
         ],
         "xaxis": "x",
         "y": {
          "bdata": "BQ==",
          "dtype": "i1"
         },
         "yaxis": "y"
        },
        {
         "hovertemplate": "Especialidad=%{x}<br>Cantidad=%{y}<extra></extra>",
         "legendgroup": "Comida China",
         "marker": {
          "color": "#636efa",
          "pattern": {
           "shape": ""
          }
         },
         "name": "Comida China",
         "orientation": "v",
         "showlegend": true,
         "textposition": "auto",
         "type": "bar",
         "x": [
          "Comida China"
         ],
         "xaxis": "x",
         "y": {
          "bdata": "BA==",
          "dtype": "i1"
         },
         "yaxis": "y"
        },
        {
         "hovertemplate": "Especialidad=%{x}<br>Cantidad=%{y}<extra></extra>",
         "legendgroup": "Internacional",
         "marker": {
          "color": "#EF553B",
          "pattern": {
           "shape": ""
          }
         },
         "name": "Internacional",
         "orientation": "v",
         "showlegend": true,
         "textposition": "auto",
         "type": "bar",
         "x": [
          "Internacional"
         ],
         "xaxis": "x",
         "y": {
          "bdata": "BA==",
          "dtype": "i1"
         },
         "yaxis": "y"
        },
        {
         "hovertemplate": "Especialidad=%{x}<br>Cantidad=%{y}<extra></extra>",
         "legendgroup": "comida criolla",
         "marker": {
          "color": "#00cc96",
          "pattern": {
           "shape": ""
          }
         },
         "name": "comida criolla",
         "orientation": "v",
         "showlegend": true,
         "textposition": "auto",
         "type": "bar",
         "x": [
          "comida criolla"
         ],
         "xaxis": "x",
         "y": {
          "bdata": "Aw==",
          "dtype": "i1"
         },
         "yaxis": "y"
        },
        {
         "hovertemplate": "Especialidad=%{x}<br>Cantidad=%{y}<extra></extra>",
         "legendgroup": "cocteleria",
         "marker": {
          "color": "#ab63fa",
          "pattern": {
           "shape": ""
          }
         },
         "name": "cocteleria",
         "orientation": "v",
         "showlegend": true,
         "textposition": "auto",
         "type": "bar",
         "x": [
          "cocteleria"
         ],
         "xaxis": "x",
         "y": {
          "bdata": "Aw==",
          "dtype": "i1"
         },
         "yaxis": "y"
        },
        {
         "hovertemplate": "Especialidad=%{x}<br>Cantidad=%{y}<extra></extra>",
         "legendgroup": "Mediterranea",
         "marker": {
          "color": "#FFA15A",
          "pattern": {
           "shape": ""
          }
         },
         "name": "Mediterranea",
         "orientation": "v",
         "showlegend": true,
         "textposition": "auto",
         "type": "bar",
         "x": [
          "Mediterranea"
         ],
         "xaxis": "x",
         "y": {
          "bdata": "Aw==",
          "dtype": "i1"
         },
         "yaxis": "y"
        },
        {
         "hovertemplate": "Especialidad=%{x}<br>Cantidad=%{y}<extra></extra>",
         "legendgroup": "Fusion",
         "marker": {
          "color": "#19d3f3",
          "pattern": {
           "shape": ""
          }
         },
         "name": "Fusion",
         "orientation": "v",
         "showlegend": true,
         "textposition": "auto",
         "type": "bar",
         "x": [
          "Fusion"
         ],
         "xaxis": "x",
         "y": {
          "bdata": "Aw==",
          "dtype": "i1"
         },
         "yaxis": "y"
        },
        {
         "hovertemplate": "Especialidad=%{x}<br>Cantidad=%{y}<extra></extra>",
         "legendgroup": "Latina",
         "marker": {
          "color": "#FF6692",
          "pattern": {
           "shape": ""
          }
         },
         "name": "Latina",
         "orientation": "v",
         "showlegend": true,
         "textposition": "auto",
         "type": "bar",
         "x": [
          "Latina"
         ],
         "xaxis": "x",
         "y": {
          "bdata": "Ag==",
          "dtype": "i1"
         },
         "yaxis": "y"
        },
        {
         "hovertemplate": "Especialidad=%{x}<br>Cantidad=%{y}<extra></extra>",
         "legendgroup": "comida rapida",
         "marker": {
          "color": "#B6E880",
          "pattern": {
           "shape": ""
          }
         },
         "name": "comida rapida",
         "orientation": "v",
         "showlegend": true,
         "textposition": "auto",
         "type": "bar",
         "x": [
          "comida rapida"
         ],
         "xaxis": "x",
         "y": {
          "bdata": "Ag==",
          "dtype": "i1"
         },
         "yaxis": "y"
        },
        {
         "hovertemplate": "Especialidad=%{x}<br>Cantidad=%{y}<extra></extra>",
         "legendgroup": "international",
         "marker": {
          "color": "#FF97FF",
          "pattern": {
           "shape": ""
          }
         },
         "name": "international",
         "orientation": "v",
         "showlegend": true,
         "textposition": "auto",
         "type": "bar",
         "x": [
          "international"
         ],
         "xaxis": "x",
         "y": {
          "bdata": "Ag==",
          "dtype": "i1"
         },
         "yaxis": "y"
        },
        {
         "hovertemplate": "Especialidad=%{x}<br>Cantidad=%{y}<extra></extra>",
         "legendgroup": "Pizza",
         "marker": {
          "color": "#FECB52",
          "pattern": {
           "shape": ""
          }
         },
         "name": "Pizza",
         "orientation": "v",
         "showlegend": true,
         "textposition": "auto",
         "type": "bar",
         "x": [
          "Pizza"
         ],
         "xaxis": "x",
         "y": {
          "bdata": "Ag==",
          "dtype": "i1"
         },
         "yaxis": "y"
        },
        {
         "hovertemplate": "Especialidad=%{x}<br>Cantidad=%{y}<extra></extra>",
         "legendgroup": "cocteleria completa",
         "marker": {
          "color": "#636efa",
          "pattern": {
           "shape": ""
          }
         },
         "name": "cocteleria completa",
         "orientation": "v",
         "showlegend": true,
         "textposition": "auto",
         "type": "bar",
         "x": [
          "cocteleria completa"
         ],
         "xaxis": "x",
         "y": {
          "bdata": "Ag==",
          "dtype": "i1"
         },
         "yaxis": "y"
        },
        {
         "hovertemplate": "Especialidad=%{x}<br>Cantidad=%{y}<extra></extra>",
         "legendgroup": "comida internacional",
         "marker": {
          "color": "#EF553B",
          "pattern": {
           "shape": ""
          }
         },
         "name": "comida internacional",
         "orientation": "v",
         "showlegend": true,
         "textposition": "auto",
         "type": "bar",
         "x": [
          "comida internacional"
         ],
         "xaxis": "x",
         "y": {
          "bdata": "Ag==",
          "dtype": "i1"
         },
         "yaxis": "y"
        },
        {
         "hovertemplate": "Especialidad=%{x}<br>Cantidad=%{y}<extra></extra>",
         "legendgroup": "cocina mixta",
         "marker": {
          "color": "#00cc96",
          "pattern": {
           "shape": ""
          }
         },
         "name": "cocina mixta",
         "orientation": "v",
         "showlegend": true,
         "textposition": "auto",
         "type": "bar",
         "x": [
          "cocina mixta"
         ],
         "xaxis": "x",
         "y": {
          "bdata": "Ag==",
          "dtype": "i1"
         },
         "yaxis": "y"
        },
        {
         "hovertemplate": "Especialidad=%{x}<br>Cantidad=%{y}<extra></extra>",
         "legendgroup": "Pizzeria",
         "marker": {
          "color": "#ab63fa",
          "pattern": {
           "shape": ""
          }
         },
         "name": "Pizzeria",
         "orientation": "v",
         "showlegend": true,
         "textposition": "auto",
         "type": "bar",
         "x": [
          "Pizzeria"
         ],
         "xaxis": "x",
         "y": {
          "bdata": "Ag==",
          "dtype": "i1"
         },
         "yaxis": "y"
        },
        {
         "hovertemplate": "Especialidad=%{x}<br>Cantidad=%{y}<extra></extra>",
         "legendgroup": "Cocina rapida",
         "marker": {
          "color": "#FFA15A",
          "pattern": {
           "shape": ""
          }
         },
         "name": "Cocina rapida",
         "orientation": "v",
         "showlegend": true,
         "textposition": "auto",
         "type": "bar",
         "x": [
          "Cocina rapida"
         ],
         "xaxis": "x",
         "y": {
          "bdata": "Ag==",
          "dtype": "i1"
         },
         "yaxis": "y"
        },
        {
         "hovertemplate": "Especialidad=%{x}<br>Cantidad=%{y}<extra></extra>",
         "legendgroup": "mediterranean",
         "marker": {
          "color": "#19d3f3",
          "pattern": {
           "shape": ""
          }
         },
         "name": "mediterranean",
         "orientation": "v",
         "showlegend": true,
         "textposition": "auto",
         "type": "bar",
         "x": [
          "mediterranean"
         ],
         "xaxis": "x",
         "y": {
          "bdata": "Ag==",
          "dtype": "i1"
         },
         "yaxis": "y"
        },
        {
         "hovertemplate": "Especialidad=%{x}<br>Cantidad=%{y}<extra></extra>",
         "legendgroup": "variada",
         "marker": {
          "color": "#FF6692",
          "pattern": {
           "shape": ""
          }
         },
         "name": "variada",
         "orientation": "v",
         "showlegend": true,
         "textposition": "auto",
         "type": "bar",
         "x": [
          "variada"
         ],
         "xaxis": "x",
         "y": {
          "bdata": "AQ==",
          "dtype": "i1"
         },
         "yaxis": "y"
        },
        {
         "hovertemplate": "Especialidad=%{x}<br>Cantidad=%{y}<extra></extra>",
         "legendgroup": "Cocina mixta",
         "marker": {
          "color": "#B6E880",
          "pattern": {
           "shape": ""
          }
         },
         "name": "Cocina mixta",
         "orientation": "v",
         "showlegend": true,
         "textposition": "auto",
         "type": "bar",
         "x": [
          "Cocina mixta"
         ],
         "xaxis": "x",
         "y": {
          "bdata": "AQ==",
          "dtype": "i1"
         },
         "yaxis": "y"
        },
        {
         "hovertemplate": "Especialidad=%{x}<br>Cantidad=%{y}<extra></extra>",
         "legendgroup": "comida chatarra",
         "marker": {
          "color": "#FF97FF",
          "pattern": {
           "shape": ""
          }
         },
         "name": "comida chatarra",
         "orientation": "v",
         "showlegend": true,
         "textposition": "auto",
         "type": "bar",
         "x": [
          "comida chatarra"
         ],
         "xaxis": "x",
         "y": {
          "bdata": "AQ==",
          "dtype": "i1"
         },
         "yaxis": "y"
        },
        {
         "hovertemplate": "Especialidad=%{x}<br>Cantidad=%{y}<extra></extra>",
         "legendgroup": "comida mixta",
         "marker": {
          "color": "#FECB52",
          "pattern": {
           "shape": ""
          }
         },
         "name": "comida mixta",
         "orientation": "v",
         "showlegend": true,
         "textposition": "auto",
         "type": "bar",
         "x": [
          "comida mixta"
         ],
         "xaxis": "x",
         "y": {
          "bdata": "AQ==",
          "dtype": "i1"
         },
         "yaxis": "y"
        },
        {
         "hovertemplate": "Especialidad=%{x}<br>Cantidad=%{y}<extra></extra>",
         "legendgroup": "francesa",
         "marker": {
          "color": "#636efa",
          "pattern": {
           "shape": ""
          }
         },
         "name": "francesa",
         "orientation": "v",
         "showlegend": true,
         "textposition": "auto",
         "type": "bar",
         "x": [
          "francesa"
         ],
         "xaxis": "x",
         "y": {
          "bdata": "AQ==",
          "dtype": "i1"
         },
         "yaxis": "y"
        },
        {
         "hovertemplate": "Especialidad=%{x}<br>Cantidad=%{y}<extra></extra>",
         "legendgroup": "Cocina criolla",
         "marker": {
          "color": "#EF553B",
          "pattern": {
           "shape": ""
          }
         },
         "name": "Cocina criolla",
         "orientation": "v",
         "showlegend": true,
         "textposition": "auto",
         "type": "bar",
         "x": [
          "Cocina criolla"
         ],
         "xaxis": "x",
         "y": {
          "bdata": "AQ==",
          "dtype": "i1"
         },
         "yaxis": "y"
        },
        {
         "hovertemplate": "Especialidad=%{x}<br>Cantidad=%{y}<extra></extra>",
         "legendgroup": "rapida",
         "marker": {
          "color": "#00cc96",
          "pattern": {
           "shape": ""
          }
         },
         "name": "rapida",
         "orientation": "v",
         "showlegend": true,
         "textposition": "auto",
         "type": "bar",
         "x": [
          "rapida"
         ],
         "xaxis": "x",
         "y": {
          "bdata": "AQ==",
          "dtype": "i1"
         },
         "yaxis": "y"
        },
        {
         "hovertemplate": "Especialidad=%{x}<br>Cantidad=%{y}<extra></extra>",
         "legendgroup": "Comida Italiana",
         "marker": {
          "color": "#ab63fa",
          "pattern": {
           "shape": ""
          }
         },
         "name": "Comida Italiana",
         "orientation": "v",
         "showlegend": true,
         "textposition": "auto",
         "type": "bar",
         "x": [
          "Comida Italiana"
         ],
         "xaxis": "x",
         "y": {
          "bdata": "AQ==",
          "dtype": "i1"
         },
         "yaxis": "y"
        },
        {
         "hovertemplate": "Especialidad=%{x}<br>Cantidad=%{y}<extra></extra>",
         "legendgroup": "Comida Caribena",
         "marker": {
          "color": "#FFA15A",
          "pattern": {
           "shape": ""
          }
         },
         "name": "Comida Caribena",
         "orientation": "v",
         "showlegend": true,
         "textposition": "auto",
         "type": "bar",
         "x": [
          "Comida Caribena"
         ],
         "xaxis": "x",
         "y": {
          "bdata": "AQ==",
          "dtype": "i1"
         },
         "yaxis": "y"
        },
        {
         "hovertemplate": "Especialidad=%{x}<br>Cantidad=%{y}<extra></extra>",
         "legendgroup": "entrantes",
         "marker": {
          "color": "#19d3f3",
          "pattern": {
           "shape": ""
          }
         },
         "name": "entrantes",
         "orientation": "v",
         "showlegend": true,
         "textposition": "auto",
         "type": "bar",
         "x": [
          "entrantes"
         ],
         "xaxis": "x",
         "y": {
          "bdata": "AQ==",
          "dtype": "i1"
         },
         "yaxis": "y"
        },
        {
         "hovertemplate": "Especialidad=%{x}<br>Cantidad=%{y}<extra></extra>",
         "legendgroup": "burgers",
         "marker": {
          "color": "#FF6692",
          "pattern": {
           "shape": ""
          }
         },
         "name": "burgers",
         "orientation": "v",
         "showlegend": true,
         "textposition": "auto",
         "type": "bar",
         "x": [
          "burgers"
         ],
         "xaxis": "x",
         "y": {
          "bdata": "AQ==",
          "dtype": "i1"
         },
         "yaxis": "y"
        },
        {
         "hovertemplate": "Especialidad=%{x}<br>Cantidad=%{y}<extra></extra>",
         "legendgroup": "Criolla",
         "marker": {
          "color": "#B6E880",
          "pattern": {
           "shape": ""
          }
         },
         "name": "Criolla",
         "orientation": "v",
         "showlegend": true,
         "textposition": "auto",
         "type": "bar",
         "x": [
          "Criolla"
         ],
         "xaxis": "x",
         "y": {
          "bdata": "AQ==",
          "dtype": "i1"
         },
         "yaxis": "y"
        },
        {
         "hovertemplate": "Especialidad=%{x}<br>Cantidad=%{y}<extra></extra>",
         "legendgroup": "pasta",
         "marker": {
          "color": "#FF97FF",
          "pattern": {
           "shape": ""
          }
         },
         "name": "pasta",
         "orientation": "v",
         "showlegend": true,
         "textposition": "auto",
         "type": "bar",
         "x": [
          "pasta"
         ],
         "xaxis": "x",
         "y": {
          "bdata": "AQ==",
          "dtype": "i1"
         },
         "yaxis": "y"
        },
        {
         "hovertemplate": "Especialidad=%{x}<br>Cantidad=%{y}<extra></extra>",
         "legendgroup": "Hamburguesera",
         "marker": {
          "color": "#FECB52",
          "pattern": {
           "shape": ""
          }
         },
         "name": "Hamburguesera",
         "orientation": "v",
         "showlegend": true,
         "textposition": "auto",
         "type": "bar",
         "x": [
          "Hamburguesera"
         ],
         "xaxis": "x",
         "y": {
          "bdata": "AQ==",
          "dtype": "i1"
         },
         "yaxis": "y"
        },
        {
         "hovertemplate": "Especialidad=%{x}<br>Cantidad=%{y}<extra></extra>",
         "legendgroup": "Comida Criolla",
         "marker": {
          "color": "#636efa",
          "pattern": {
           "shape": ""
          }
         },
         "name": "Comida Criolla",
         "orientation": "v",
         "showlegend": true,
         "textposition": "auto",
         "type": "bar",
         "x": [
          "Comida Criolla"
         ],
         "xaxis": "x",
         "y": {
          "bdata": "AQ==",
          "dtype": "i1"
         },
         "yaxis": "y"
        },
        {
         "hovertemplate": "Especialidad=%{x}<br>Cantidad=%{y}<extra></extra>",
         "legendgroup": "Desayunos",
         "marker": {
          "color": "#EF553B",
          "pattern": {
           "shape": ""
          }
         },
         "name": "Desayunos",
         "orientation": "v",
         "showlegend": true,
         "textposition": "auto",
         "type": "bar",
         "x": [
          "Desayunos"
         ],
         "xaxis": "x",
         "y": {
          "bdata": "AQ==",
          "dtype": "i1"
         },
         "yaxis": "y"
        },
        {
         "hovertemplate": "Especialidad=%{x}<br>Cantidad=%{y}<extra></extra>",
         "legendgroup": "hamburgueseria",
         "marker": {
          "color": "#00cc96",
          "pattern": {
           "shape": ""
          }
         },
         "name": "hamburgueseria",
         "orientation": "v",
         "showlegend": true,
         "textposition": "auto",
         "type": "bar",
         "x": [
          "hamburgueseria"
         ],
         "xaxis": "x",
         "y": {
          "bdata": "AQ==",
          "dtype": "i1"
         },
         "yaxis": "y"
        },
        {
         "hovertemplate": "Especialidad=%{x}<br>Cantidad=%{y}<extra></extra>",
         "legendgroup": "mexicana",
         "marker": {
          "color": "#ab63fa",
          "pattern": {
           "shape": ""
          }
         },
         "name": "mexicana",
         "orientation": "v",
         "showlegend": true,
         "textposition": "auto",
         "type": "bar",
         "x": [
          "mexicana"
         ],
         "xaxis": "x",
         "y": {
          "bdata": "AQ==",
          "dtype": "i1"
         },
         "yaxis": "y"
        },
        {
         "hovertemplate": "Especialidad=%{x}<br>Cantidad=%{y}<extra></extra>",
         "legendgroup": "americana",
         "marker": {
          "color": "#FFA15A",
          "pattern": {
           "shape": ""
          }
         },
         "name": "americana",
         "orientation": "v",
         "showlegend": true,
         "textposition": "auto",
         "type": "bar",
         "x": [
          "americana"
         ],
         "xaxis": "x",
         "y": {
          "bdata": "AQ==",
          "dtype": "i1"
         },
         "yaxis": "y"
        },
        {
         "hovertemplate": "Especialidad=%{x}<br>Cantidad=%{y}<extra></extra>",
         "legendgroup": "Sushi",
         "marker": {
          "color": "#19d3f3",
          "pattern": {
           "shape": ""
          }
         },
         "name": "Sushi",
         "orientation": "v",
         "showlegend": true,
         "textposition": "auto",
         "type": "bar",
         "x": [
          "Sushi"
         ],
         "xaxis": "x",
         "y": {
          "bdata": "AQ==",
          "dtype": "i1"
         },
         "yaxis": "y"
        },
        {
         "hovertemplate": "Especialidad=%{x}<br>Cantidad=%{y}<extra></extra>",
         "legendgroup": "Japonesa",
         "marker": {
          "color": "#FF6692",
          "pattern": {
           "shape": ""
          }
         },
         "name": "Japonesa",
         "orientation": "v",
         "showlegend": true,
         "textposition": "auto",
         "type": "bar",
         "x": [
          "Japonesa"
         ],
         "xaxis": "x",
         "y": {
          "bdata": "AQ==",
          "dtype": "i1"
         },
         "yaxis": "y"
        },
        {
         "hovertemplate": "Especialidad=%{x}<br>Cantidad=%{y}<extra></extra>",
         "legendgroup": "Saludable",
         "marker": {
          "color": "#B6E880",
          "pattern": {
           "shape": ""
          }
         },
         "name": "Saludable",
         "orientation": "v",
         "showlegend": true,
         "textposition": "auto",
         "type": "bar",
         "x": [
          "Saludable"
         ],
         "xaxis": "x",
         "y": {
          "bdata": "AQ==",
          "dtype": "i1"
         },
         "yaxis": "y"
        },
        {
         "hovertemplate": "Especialidad=%{x}<br>Cantidad=%{y}<extra></extra>",
         "legendgroup": "Marisco",
         "marker": {
          "color": "#FF97FF",
          "pattern": {
           "shape": ""
          }
         },
         "name": "Marisco",
         "orientation": "v",
         "showlegend": true,
         "textposition": "auto",
         "type": "bar",
         "x": [
          "Marisco"
         ],
         "xaxis": "x",
         "y": {
          "bdata": "AQ==",
          "dtype": "i1"
         },
         "yaxis": "y"
        },
        {
         "hovertemplate": "Especialidad=%{x}<br>Cantidad=%{y}<extra></extra>",
         "legendgroup": "Comida Cubana",
         "marker": {
          "color": "#FECB52",
          "pattern": {
           "shape": ""
          }
         },
         "name": "Comida Cubana",
         "orientation": "v",
         "showlegend": true,
         "textposition": "auto",
         "type": "bar",
         "x": [
          "Comida Cubana"
         ],
         "xaxis": "x",
         "y": {
          "bdata": "AQ==",
          "dtype": "i1"
         },
         "yaxis": "y"
        },
        {
         "hovertemplate": "Especialidad=%{x}<br>Cantidad=%{y}<extra></extra>",
         "legendgroup": "Centroamericana",
         "marker": {
          "color": "#636efa",
          "pattern": {
           "shape": ""
          }
         },
         "name": "Centroamericana",
         "orientation": "v",
         "showlegend": true,
         "textposition": "auto",
         "type": "bar",
         "x": [
          "Centroamericana"
         ],
         "xaxis": "x",
         "y": {
          "bdata": "AQ==",
          "dtype": "i1"
         },
         "yaxis": "y"
        },
        {
         "hovertemplate": "Especialidad=%{x}<br>Cantidad=%{y}<extra></extra>",
         "legendgroup": "sandwiches",
         "marker": {
          "color": "#EF553B",
          "pattern": {
           "shape": ""
          }
         },
         "name": "sandwiches",
         "orientation": "v",
         "showlegend": true,
         "textposition": "auto",
         "type": "bar",
         "x": [
          "sandwiches"
         ],
         "xaxis": "x",
         "y": {
          "bdata": "AQ==",
          "dtype": "i1"
         },
         "yaxis": "y"
        },
        {
         "hovertemplate": "Especialidad=%{x}<br>Cantidad=%{y}<extra></extra>",
         "legendgroup": "Asiatica",
         "marker": {
          "color": "#00cc96",
          "pattern": {
           "shape": ""
          }
         },
         "name": "Asiatica",
         "orientation": "v",
         "showlegend": true,
         "textposition": "auto",
         "type": "bar",
         "x": [
          "Asiatica"
         ],
         "xaxis": "x",
         "y": {
          "bdata": "AQ==",
          "dtype": "i1"
         },
         "yaxis": "y"
        },
        {
         "hovertemplate": "Especialidad=%{x}<br>Cantidad=%{y}<extra></extra>",
         "legendgroup": "cocina italiana",
         "marker": {
          "color": "#ab63fa",
          "pattern": {
           "shape": ""
          }
         },
         "name": "cocina italiana",
         "orientation": "v",
         "showlegend": true,
         "textposition": "auto",
         "type": "bar",
         "x": [
          "cocina italiana"
         ],
         "xaxis": "x",
         "y": {
          "bdata": "AQ==",
          "dtype": "i1"
         },
         "yaxis": "y"
        },
        {
         "hovertemplate": "Especialidad=%{x}<br>Cantidad=%{y}<extra></extra>",
         "legendgroup": "european",
         "marker": {
          "color": "#FFA15A",
          "pattern": {
           "shape": ""
          }
         },
         "name": "european",
         "orientation": "v",
         "showlegend": true,
         "textposition": "auto",
         "type": "bar",
         "x": [
          "european"
         ],
         "xaxis": "x",
         "y": {
          "bdata": "AQ==",
          "dtype": "i1"
         },
         "yaxis": "y"
        },
        {
         "hovertemplate": "Especialidad=%{x}<br>Cantidad=%{y}<extra></extra>",
         "legendgroup": "hamburgers",
         "marker": {
          "color": "#19d3f3",
          "pattern": {
           "shape": ""
          }
         },
         "name": "hamburgers",
         "orientation": "v",
         "showlegend": true,
         "textposition": "auto",
         "type": "bar",
         "x": [
          "hamburgers"
         ],
         "xaxis": "x",
         "y": {
          "bdata": "AQ==",
          "dtype": "i1"
         },
         "yaxis": "y"
        },
        {
         "hovertemplate": "Especialidad=%{x}<br>Cantidad=%{y}<extra></extra>",
         "legendgroup": "comida italiana",
         "marker": {
          "color": "#FF6692",
          "pattern": {
           "shape": ""
          }
         },
         "name": "comida italiana",
         "orientation": "v",
         "showlegend": true,
         "textposition": "auto",
         "type": "bar",
         "x": [
          "comida italiana"
         ],
         "xaxis": "x",
         "y": {
          "bdata": "AQ==",
          "dtype": "i1"
         },
         "yaxis": "y"
        },
        {
         "hovertemplate": "Especialidad=%{x}<br>Cantidad=%{y}<extra></extra>",
         "legendgroup": "Mexicana",
         "marker": {
          "color": "#B6E880",
          "pattern": {
           "shape": ""
          }
         },
         "name": "Mexicana",
         "orientation": "v",
         "showlegend": true,
         "textposition": "auto",
         "type": "bar",
         "x": [
          "Mexicana"
         ],
         "xaxis": "x",
         "y": {
          "bdata": "AQ==",
          "dtype": "i1"
         },
         "yaxis": "y"
        },
        {
         "hovertemplate": "Especialidad=%{x}<br>Cantidad=%{y}<extra></extra>",
         "legendgroup": "Americana",
         "marker": {
          "color": "#FF97FF",
          "pattern": {
           "shape": ""
          }
         },
         "name": "Americana",
         "orientation": "v",
         "showlegend": true,
         "textposition": "auto",
         "type": "bar",
         "x": [
          "Americana"
         ],
         "xaxis": "x",
         "y": {
          "bdata": "AQ==",
          "dtype": "i1"
         },
         "yaxis": "y"
        },
        {
         "hovertemplate": "Especialidad=%{x}<br>Cantidad=%{y}<extra></extra>",
         "legendgroup": "Cafe",
         "marker": {
          "color": "#FECB52",
          "pattern": {
           "shape": ""
          }
         },
         "name": "Cafe",
         "orientation": "v",
         "showlegend": true,
         "textposition": "auto",
         "type": "bar",
         "x": [
          "Cafe"
         ],
         "xaxis": "x",
         "y": {
          "bdata": "AQ==",
          "dtype": "i1"
         },
         "yaxis": "y"
        },
        {
         "hovertemplate": "Especialidad=%{x}<br>Cantidad=%{y}<extra></extra>",
         "legendgroup": "Bares para comer",
         "marker": {
          "color": "#636efa",
          "pattern": {
           "shape": ""
          }
         },
         "name": "Bares para comer",
         "orientation": "v",
         "showlegend": true,
         "textposition": "auto",
         "type": "bar",
         "x": [
          "Bares para comer"
         ],
         "xaxis": "x",
         "y": {
          "bdata": "AQ==",
          "dtype": "i1"
         },
         "yaxis": "y"
        },
        {
         "hovertemplate": "Especialidad=%{x}<br>Cantidad=%{y}<extra></extra>",
         "legendgroup": "Pizzas",
         "marker": {
          "color": "#EF553B",
          "pattern": {
           "shape": ""
          }
         },
         "name": "Pizzas",
         "orientation": "v",
         "showlegend": true,
         "textposition": "auto",
         "type": "bar",
         "x": [
          "Pizzas"
         ],
         "xaxis": "x",
         "y": {
          "bdata": "AQ==",
          "dtype": "i1"
         },
         "yaxis": "y"
        },
        {
         "hovertemplate": "Especialidad=%{x}<br>Cantidad=%{y}<extra></extra>",
         "legendgroup": "espanola",
         "marker": {
          "color": "#00cc96",
          "pattern": {
           "shape": ""
          }
         },
         "name": "espanola",
         "orientation": "v",
         "showlegend": true,
         "textposition": "auto",
         "type": "bar",
         "x": [
          "espanola"
         ],
         "xaxis": "x",
         "y": {
          "bdata": "AQ==",
          "dtype": "i1"
         },
         "yaxis": "y"
        },
        {
         "hovertemplate": "Especialidad=%{x}<br>Cantidad=%{y}<extra></extra>",
         "legendgroup": "Comida libanesa",
         "marker": {
          "color": "#ab63fa",
          "pattern": {
           "shape": ""
          }
         },
         "name": "Comida libanesa",
         "orientation": "v",
         "showlegend": true,
         "textposition": "auto",
         "type": "bar",
         "x": [
          "Comida libanesa"
         ],
         "xaxis": "x",
         "y": {
          "bdata": "AQ==",
          "dtype": "i1"
         },
         "yaxis": "y"
        },
        {
         "hovertemplate": "Especialidad=%{x}<br>Cantidad=%{y}<extra></extra>",
         "legendgroup": "de oriente medio",
         "marker": {
          "color": "#FFA15A",
          "pattern": {
           "shape": ""
          }
         },
         "name": "de oriente medio",
         "orientation": "v",
         "showlegend": true,
         "textposition": "auto",
         "type": "bar",
         "x": [
          "de oriente medio"
         ],
         "xaxis": "x",
         "y": {
          "bdata": "AQ==",
          "dtype": "i1"
         },
         "yaxis": "y"
        },
        {
         "hovertemplate": "Especialidad=%{x}<br>Cantidad=%{y}<extra></extra>",
         "legendgroup": "Comida cubana",
         "marker": {
          "color": "#19d3f3",
          "pattern": {
           "shape": ""
          }
         },
         "name": "Comida cubana",
         "orientation": "v",
         "showlegend": true,
         "textposition": "auto",
         "type": "bar",
         "x": [
          "Comida cubana"
         ],
         "xaxis": "x",
         "y": {
          "bdata": "AQ==",
          "dtype": "i1"
         },
         "yaxis": "y"
        },
        {
         "hovertemplate": "Especialidad=%{x}<br>Cantidad=%{y}<extra></extra>",
         "legendgroup": "Italian",
         "marker": {
          "color": "#FF6692",
          "pattern": {
           "shape": ""
          }
         },
         "name": "Italian",
         "orientation": "v",
         "showlegend": true,
         "textposition": "auto",
         "type": "bar",
         "x": [
          "Italian"
         ],
         "xaxis": "x",
         "y": {
          "bdata": "AQ==",
          "dtype": "i1"
         },
         "yaxis": "y"
        },
        {
         "hovertemplate": "Especialidad=%{x}<br>Cantidad=%{y}<extra></extra>",
         "legendgroup": "Mediterranean",
         "marker": {
          "color": "#B6E880",
          "pattern": {
           "shape": ""
          }
         },
         "name": "Mediterranean",
         "orientation": "v",
         "showlegend": true,
         "textposition": "auto",
         "type": "bar",
         "x": [
          "Mediterranean"
         ],
         "xaxis": "x",
         "y": {
          "bdata": "AQ==",
          "dtype": "i1"
         },
         "yaxis": "y"
        },
        {
         "hovertemplate": "Especialidad=%{x}<br>Cantidad=%{y}<extra></extra>",
         "legendgroup": "Healthy",
         "marker": {
          "color": "#FF97FF",
          "pattern": {
           "shape": ""
          }
         },
         "name": "Healthy",
         "orientation": "v",
         "showlegend": true,
         "textposition": "auto",
         "type": "bar",
         "x": [
          "Healthy"
         ],
         "xaxis": "x",
         "y": {
          "bdata": "AQ==",
          "dtype": "i1"
         },
         "yaxis": "y"
        },
        {
         "hovertemplate": "Especialidad=%{x}<br>Cantidad=%{y}<extra></extra>",
         "legendgroup": "Espanola",
         "marker": {
          "color": "#FECB52",
          "pattern": {
           "shape": ""
          }
         },
         "name": "Espanola",
         "orientation": "v",
         "showlegend": true,
         "textposition": "auto",
         "type": "bar",
         "x": [
          "Espanola"
         ],
         "xaxis": "x",
         "y": {
          "bdata": "AQ==",
          "dtype": "i1"
         },
         "yaxis": "y"
        },
        {
         "hovertemplate": "Especialidad=%{x}<br>Cantidad=%{y}<extra></extra>",
         "legendgroup": "japanese",
         "marker": {
          "color": "#636efa",
          "pattern": {
           "shape": ""
          }
         },
         "name": "japanese",
         "orientation": "v",
         "showlegend": true,
         "textposition": "auto",
         "type": "bar",
         "x": [
          "japanese"
         ],
         "xaxis": "x",
         "y": {
          "bdata": "AQ==",
          "dtype": "i1"
         },
         "yaxis": "y"
        },
        {
         "hovertemplate": "Especialidad=%{x}<br>Cantidad=%{y}<extra></extra>",
         "legendgroup": "Caribean",
         "marker": {
          "color": "#EF553B",
          "pattern": {
           "shape": ""
          }
         },
         "name": "Caribean",
         "orientation": "v",
         "showlegend": true,
         "textposition": "auto",
         "type": "bar",
         "x": [
          "Caribean"
         ],
         "xaxis": "x",
         "y": {
          "bdata": "AQ==",
          "dtype": "i1"
         },
         "yaxis": "y"
        },
        {
         "hovertemplate": "Especialidad=%{x}<br>Cantidad=%{y}<extra></extra>",
         "legendgroup": "Latin",
         "marker": {
          "color": "#00cc96",
          "pattern": {
           "shape": ""
          }
         },
         "name": "Latin",
         "orientation": "v",
         "showlegend": true,
         "textposition": "auto",
         "type": "bar",
         "x": [
          "Latin"
         ],
         "xaxis": "x",
         "y": {
          "bdata": "AQ==",
          "dtype": "i1"
         },
         "yaxis": "y"
        },
        {
         "hovertemplate": "Especialidad=%{x}<br>Cantidad=%{y}<extra></extra>",
         "legendgroup": "International",
         "marker": {
          "color": "#ab63fa",
          "pattern": {
           "shape": ""
          }
         },
         "name": "International",
         "orientation": "v",
         "showlegend": true,
         "textposition": "auto",
         "type": "bar",
         "x": [
          "International"
         ],
         "xaxis": "x",
         "y": {
          "bdata": "AQ==",
          "dtype": "i1"
         },
         "yaxis": "y"
        },
        {
         "hovertemplate": "Especialidad=%{x}<br>Cantidad=%{y}<extra></extra>",
         "legendgroup": "fusion",
         "marker": {
          "color": "#FFA15A",
          "pattern": {
           "shape": ""
          }
         },
         "name": "fusion",
         "orientation": "v",
         "showlegend": true,
         "textposition": "auto",
         "type": "bar",
         "x": [
          "fusion"
         ],
         "xaxis": "x",
         "y": {
          "bdata": "AQ==",
          "dtype": "i1"
         },
         "yaxis": "y"
        },
        {
         "hovertemplate": "Especialidad=%{x}<br>Cantidad=%{y}<extra></extra>",
         "legendgroup": "Centroamerican",
         "marker": {
          "color": "#19d3f3",
          "pattern": {
           "shape": ""
          }
         },
         "name": "Centroamerican",
         "orientation": "v",
         "showlegend": true,
         "textposition": "auto",
         "type": "bar",
         "x": [
          "Centroamerican"
         ],
         "xaxis": "x",
         "y": {
          "bdata": "AQ==",
          "dtype": "i1"
         },
         "yaxis": "y"
        },
        {
         "hovertemplate": "Especialidad=%{x}<br>Cantidad=%{y}<extra></extra>",
         "legendgroup": "Tapas",
         "marker": {
          "color": "#FF6692",
          "pattern": {
           "shape": ""
          }
         },
         "name": "Tapas",
         "orientation": "v",
         "showlegend": true,
         "textposition": "auto",
         "type": "bar",
         "x": [
          "Tapas"
         ],
         "xaxis": "x",
         "y": {
          "bdata": "AQ==",
          "dtype": "i1"
         },
         "yaxis": "y"
        }
       ],
       "layout": {
        "barmode": "relative",
        "height": 550,
        "legend": {
         "title": {
          "text": "Especialidad"
         },
         "tracegroupgap": 0
        },
        "template": {
         "data": {
          "bar": [
           {
            "error_x": {
             "color": "#2a3f5f"
            },
            "error_y": {
             "color": "#2a3f5f"
            },
            "marker": {
             "line": {
              "color": "#E5ECF6",
              "width": 0.5
             },
             "pattern": {
              "fillmode": "overlay",
              "size": 10,
              "solidity": 0.2
             }
            },
            "type": "bar"
           }
          ],
          "barpolar": [
           {
            "marker": {
             "line": {
              "color": "#E5ECF6",
              "width": 0.5
             },
             "pattern": {
              "fillmode": "overlay",
              "size": 10,
              "solidity": 0.2
             }
            },
            "type": "barpolar"
           }
          ],
          "carpet": [
           {
            "aaxis": {
             "endlinecolor": "#2a3f5f",
             "gridcolor": "white",
             "linecolor": "white",
             "minorgridcolor": "white",
             "startlinecolor": "#2a3f5f"
            },
            "baxis": {
             "endlinecolor": "#2a3f5f",
             "gridcolor": "white",
             "linecolor": "white",
             "minorgridcolor": "white",
             "startlinecolor": "#2a3f5f"
            },
            "type": "carpet"
           }
          ],
          "choropleth": [
           {
            "colorbar": {
             "outlinewidth": 0,
             "ticks": ""
            },
            "type": "choropleth"
           }
          ],
          "contour": [
           {
            "colorbar": {
             "outlinewidth": 0,
             "ticks": ""
            },
            "colorscale": [
             [
              0,
              "#0d0887"
             ],
             [
              0.1111111111111111,
              "#46039f"
             ],
             [
              0.2222222222222222,
              "#7201a8"
             ],
             [
              0.3333333333333333,
              "#9c179e"
             ],
             [
              0.4444444444444444,
              "#bd3786"
             ],
             [
              0.5555555555555556,
              "#d8576b"
             ],
             [
              0.6666666666666666,
              "#ed7953"
             ],
             [
              0.7777777777777778,
              "#fb9f3a"
             ],
             [
              0.8888888888888888,
              "#fdca26"
             ],
             [
              1,
              "#f0f921"
             ]
            ],
            "type": "contour"
           }
          ],
          "contourcarpet": [
           {
            "colorbar": {
             "outlinewidth": 0,
             "ticks": ""
            },
            "type": "contourcarpet"
           }
          ],
          "heatmap": [
           {
            "colorbar": {
             "outlinewidth": 0,
             "ticks": ""
            },
            "colorscale": [
             [
              0,
              "#0d0887"
             ],
             [
              0.1111111111111111,
              "#46039f"
             ],
             [
              0.2222222222222222,
              "#7201a8"
             ],
             [
              0.3333333333333333,
              "#9c179e"
             ],
             [
              0.4444444444444444,
              "#bd3786"
             ],
             [
              0.5555555555555556,
              "#d8576b"
             ],
             [
              0.6666666666666666,
              "#ed7953"
             ],
             [
              0.7777777777777778,
              "#fb9f3a"
             ],
             [
              0.8888888888888888,
              "#fdca26"
             ],
             [
              1,
              "#f0f921"
             ]
            ],
            "type": "heatmap"
           }
          ],
          "histogram": [
           {
            "marker": {
             "pattern": {
              "fillmode": "overlay",
              "size": 10,
              "solidity": 0.2
             }
            },
            "type": "histogram"
           }
          ],
          "histogram2d": [
           {
            "colorbar": {
             "outlinewidth": 0,
             "ticks": ""
            },
            "colorscale": [
             [
              0,
              "#0d0887"
             ],
             [
              0.1111111111111111,
              "#46039f"
             ],
             [
              0.2222222222222222,
              "#7201a8"
             ],
             [
              0.3333333333333333,
              "#9c179e"
             ],
             [
              0.4444444444444444,
              "#bd3786"
             ],
             [
              0.5555555555555556,
              "#d8576b"
             ],
             [
              0.6666666666666666,
              "#ed7953"
             ],
             [
              0.7777777777777778,
              "#fb9f3a"
             ],
             [
              0.8888888888888888,
              "#fdca26"
             ],
             [
              1,
              "#f0f921"
             ]
            ],
            "type": "histogram2d"
           }
          ],
          "histogram2dcontour": [
           {
            "colorbar": {
             "outlinewidth": 0,
             "ticks": ""
            },
            "colorscale": [
             [
              0,
              "#0d0887"
             ],
             [
              0.1111111111111111,
              "#46039f"
             ],
             [
              0.2222222222222222,
              "#7201a8"
             ],
             [
              0.3333333333333333,
              "#9c179e"
             ],
             [
              0.4444444444444444,
              "#bd3786"
             ],
             [
              0.5555555555555556,
              "#d8576b"
             ],
             [
              0.6666666666666666,
              "#ed7953"
             ],
             [
              0.7777777777777778,
              "#fb9f3a"
             ],
             [
              0.8888888888888888,
              "#fdca26"
             ],
             [
              1,
              "#f0f921"
             ]
            ],
            "type": "histogram2dcontour"
           }
          ],
          "mesh3d": [
           {
            "colorbar": {
             "outlinewidth": 0,
             "ticks": ""
            },
            "type": "mesh3d"
           }
          ],
          "parcoords": [
           {
            "line": {
             "colorbar": {
              "outlinewidth": 0,
              "ticks": ""
             }
            },
            "type": "parcoords"
           }
          ],
          "pie": [
           {
            "automargin": true,
            "type": "pie"
           }
          ],
          "scatter": [
           {
            "fillpattern": {
             "fillmode": "overlay",
             "size": 10,
             "solidity": 0.2
            },
            "type": "scatter"
           }
          ],
          "scatter3d": [
           {
            "line": {
             "colorbar": {
              "outlinewidth": 0,
              "ticks": ""
             }
            },
            "marker": {
             "colorbar": {
              "outlinewidth": 0,
              "ticks": ""
             }
            },
            "type": "scatter3d"
           }
          ],
          "scattercarpet": [
           {
            "marker": {
             "colorbar": {
              "outlinewidth": 0,
              "ticks": ""
             }
            },
            "type": "scattercarpet"
           }
          ],
          "scattergeo": [
           {
            "marker": {
             "colorbar": {
              "outlinewidth": 0,
              "ticks": ""
             }
            },
            "type": "scattergeo"
           }
          ],
          "scattergl": [
           {
            "marker": {
             "colorbar": {
              "outlinewidth": 0,
              "ticks": ""
             }
            },
            "type": "scattergl"
           }
          ],
          "scattermap": [
           {
            "marker": {
             "colorbar": {
              "outlinewidth": 0,
              "ticks": ""
             }
            },
            "type": "scattermap"
           }
          ],
          "scattermapbox": [
           {
            "marker": {
             "colorbar": {
              "outlinewidth": 0,
              "ticks": ""
             }
            },
            "type": "scattermapbox"
           }
          ],
          "scatterpolar": [
           {
            "marker": {
             "colorbar": {
              "outlinewidth": 0,
              "ticks": ""
             }
            },
            "type": "scatterpolar"
           }
          ],
          "scatterpolargl": [
           {
            "marker": {
             "colorbar": {
              "outlinewidth": 0,
              "ticks": ""
             }
            },
            "type": "scatterpolargl"
           }
          ],
          "scatterternary": [
           {
            "marker": {
             "colorbar": {
              "outlinewidth": 0,
              "ticks": ""
             }
            },
            "type": "scatterternary"
           }
          ],
          "surface": [
           {
            "colorbar": {
             "outlinewidth": 0,
             "ticks": ""
            },
            "colorscale": [
             [
              0,
              "#0d0887"
             ],
             [
              0.1111111111111111,
              "#46039f"
             ],
             [
              0.2222222222222222,
              "#7201a8"
             ],
             [
              0.3333333333333333,
              "#9c179e"
             ],
             [
              0.4444444444444444,
              "#bd3786"
             ],
             [
              0.5555555555555556,
              "#d8576b"
             ],
             [
              0.6666666666666666,
              "#ed7953"
             ],
             [
              0.7777777777777778,
              "#fb9f3a"
             ],
             [
              0.8888888888888888,
              "#fdca26"
             ],
             [
              1,
              "#f0f921"
             ]
            ],
            "type": "surface"
           }
          ],
          "table": [
           {
            "cells": {
             "fill": {
              "color": "#EBF0F8"
             },
             "line": {
              "color": "white"
             }
            },
            "header": {
             "fill": {
              "color": "#C8D4E3"
             },
             "line": {
              "color": "white"
             }
            },
            "type": "table"
           }
          ]
         },
         "layout": {
          "annotationdefaults": {
           "arrowcolor": "#2a3f5f",
           "arrowhead": 0,
           "arrowwidth": 1
          },
          "autotypenumbers": "strict",
          "coloraxis": {
           "colorbar": {
            "outlinewidth": 0,
            "ticks": ""
           }
          },
          "colorscale": {
           "diverging": [
            [
             0,
             "#8e0152"
            ],
            [
             0.1,
             "#c51b7d"
            ],
            [
             0.2,
             "#de77ae"
            ],
            [
             0.3,
             "#f1b6da"
            ],
            [
             0.4,
             "#fde0ef"
            ],
            [
             0.5,
             "#f7f7f7"
            ],
            [
             0.6,
             "#e6f5d0"
            ],
            [
             0.7,
             "#b8e186"
            ],
            [
             0.8,
             "#7fbc41"
            ],
            [
             0.9,
             "#4d9221"
            ],
            [
             1,
             "#276419"
            ]
           ],
           "sequential": [
            [
             0,
             "#0d0887"
            ],
            [
             0.1111111111111111,
             "#46039f"
            ],
            [
             0.2222222222222222,
             "#7201a8"
            ],
            [
             0.3333333333333333,
             "#9c179e"
            ],
            [
             0.4444444444444444,
             "#bd3786"
            ],
            [
             0.5555555555555556,
             "#d8576b"
            ],
            [
             0.6666666666666666,
             "#ed7953"
            ],
            [
             0.7777777777777778,
             "#fb9f3a"
            ],
            [
             0.8888888888888888,
             "#fdca26"
            ],
            [
             1,
             "#f0f921"
            ]
           ],
           "sequentialminus": [
            [
             0,
             "#0d0887"
            ],
            [
             0.1111111111111111,
             "#46039f"
            ],
            [
             0.2222222222222222,
             "#7201a8"
            ],
            [
             0.3333333333333333,
             "#9c179e"
            ],
            [
             0.4444444444444444,
             "#bd3786"
            ],
            [
             0.5555555555555556,
             "#d8576b"
            ],
            [
             0.6666666666666666,
             "#ed7953"
            ],
            [
             0.7777777777777778,
             "#fb9f3a"
            ],
            [
             0.8888888888888888,
             "#fdca26"
            ],
            [
             1,
             "#f0f921"
            ]
           ]
          },
          "colorway": [
           "#636efa",
           "#EF553B",
           "#00cc96",
           "#ab63fa",
           "#FFA15A",
           "#19d3f3",
           "#FF6692",
           "#B6E880",
           "#FF97FF",
           "#FECB52"
          ],
          "font": {
           "color": "#2a3f5f"
          },
          "geo": {
           "bgcolor": "white",
           "lakecolor": "white",
           "landcolor": "#E5ECF6",
           "showlakes": true,
           "showland": true,
           "subunitcolor": "white"
          },
          "hoverlabel": {
           "align": "left"
          },
          "hovermode": "closest",
          "mapbox": {
           "style": "light"
          },
          "paper_bgcolor": "white",
          "plot_bgcolor": "#E5ECF6",
          "polar": {
           "angularaxis": {
            "gridcolor": "white",
            "linecolor": "white",
            "ticks": ""
           },
           "bgcolor": "#E5ECF6",
           "radialaxis": {
            "gridcolor": "white",
            "linecolor": "white",
            "ticks": ""
           }
          },
          "scene": {
           "xaxis": {
            "backgroundcolor": "#E5ECF6",
            "gridcolor": "white",
            "gridwidth": 2,
            "linecolor": "white",
            "showbackground": true,
            "ticks": "",
            "zerolinecolor": "white"
           },
           "yaxis": {
            "backgroundcolor": "#E5ECF6",
            "gridcolor": "white",
            "gridwidth": 2,
            "linecolor": "white",
            "showbackground": true,
            "ticks": "",
            "zerolinecolor": "white"
           },
           "zaxis": {
            "backgroundcolor": "#E5ECF6",
            "gridcolor": "white",
            "gridwidth": 2,
            "linecolor": "white",
            "showbackground": true,
            "ticks": "",
            "zerolinecolor": "white"
           }
          },
          "shapedefaults": {
           "line": {
            "color": "#2a3f5f"
           }
          },
          "ternary": {
           "aaxis": {
            "gridcolor": "white",
            "linecolor": "white",
            "ticks": ""
           },
           "baxis": {
            "gridcolor": "white",
            "linecolor": "white",
            "ticks": ""
           },
           "bgcolor": "#E5ECF6",
           "caxis": {
            "gridcolor": "white",
            "linecolor": "white",
            "ticks": ""
           }
          },
          "title": {
           "x": 0.05
          },
          "xaxis": {
           "automargin": true,
           "gridcolor": "white",
           "linecolor": "white",
           "ticks": "",
           "title": {
            "standoff": 15
           },
           "zerolinecolor": "white",
           "zerolinewidth": 2
          },
          "yaxis": {
           "automargin": true,
           "gridcolor": "white",
           "linecolor": "white",
           "ticks": "",
           "title": {
            "standoff": 15
           },
           "zerolinecolor": "white",
           "zerolinewidth": 2
          }
         }
        },
        "title": {
         "text": "Especialidades más comunes en los Restaurantes:"
        },
        "xaxis": {
         "anchor": "y",
         "categoryarray": [
          "Cubana",
          "italiana",
          "internacional",
          "criolla",
          "caribena",
          "Variada",
          "italian",
          "latina",
          "Otros",
          "Italiana",
          "Comida China",
          "Internacional",
          "comida criolla",
          "cocteleria",
          "Mediterranea",
          "Fusion",
          "Latina",
          "comida rapida",
          "international",
          "Pizza",
          "cocteleria completa",
          "comida internacional",
          "cocina mixta",
          "Pizzeria",
          "Cocina rapida",
          "mediterranean",
          "variada",
          "Cocina mixta",
          "comida chatarra",
          "comida mixta",
          "francesa",
          "Cocina criolla",
          "rapida",
          "Comida Italiana",
          "Comida Caribena",
          "entrantes",
          "burgers",
          "Criolla",
          "pasta",
          "Hamburguesera",
          "Comida Criolla",
          "Desayunos",
          "hamburgueseria",
          "mexicana",
          "americana",
          "Sushi",
          "Japonesa",
          "Saludable",
          "Marisco",
          "Comida Cubana",
          "Centroamericana",
          "sandwiches",
          "Asiatica",
          "cocina italiana",
          "european",
          "hamburgers",
          "comida italiana",
          "Mexicana",
          "Americana",
          "Cafe",
          "Bares para comer",
          "Pizzas",
          "espanola",
          "Comida libanesa",
          "de oriente medio",
          "Comida cubana",
          "Italian",
          "Mediterranean",
          "Healthy",
          "Espanola",
          "japanese",
          "Caribean",
          "Latin",
          "International",
          "fusion",
          "Centroamerican",
          "Tapas"
         ],
         "categoryorder": "array",
         "domain": [
          0,
          1
         ],
         "title": {
          "text": "Especialidad"
         }
        },
        "yaxis": {
         "anchor": "x",
         "domain": [
          0,
          1
         ],
         "title": {
          "text": "Cantidad"
         }
        }
       }
      }
     },
     "metadata": {},
     "output_type": "display_data"
    },
    {
     "data": {
      "application/vnd.plotly.v1+json": {
       "config": {
        "plotlyServerURL": "https://plot.ly"
       },
       "data": [
        {
         "hovertemplate": "Especialidad=%{x}<br>Cantidad=%{y}<extra></extra>",
         "legendgroup": "Cubana",
         "marker": {
          "color": "#636efa",
          "pattern": {
           "shape": ""
          }
         },
         "name": "Cubana",
         "orientation": "v",
         "showlegend": true,
         "textposition": "auto",
         "type": "bar",
         "x": [
          "Cubana"
         ],
         "xaxis": "x",
         "y": {
          "bdata": "Eg==",
          "dtype": "i1"
         },
         "yaxis": "y"
        },
        {
         "hovertemplate": "Especialidad=%{x}<br>Cantidad=%{y}<extra></extra>",
         "legendgroup": "caribena",
         "marker": {
          "color": "#EF553B",
          "pattern": {
           "shape": ""
          }
         },
         "name": "caribena",
         "orientation": "v",
         "showlegend": true,
         "textposition": "auto",
         "type": "bar",
         "x": [
          "caribena"
         ],
         "xaxis": "x",
         "y": {
          "bdata": "Cw==",
          "dtype": "i1"
         },
         "yaxis": "y"
        },
        {
         "hovertemplate": "Especialidad=%{x}<br>Cantidad=%{y}<extra></extra>",
         "legendgroup": "Otros",
         "marker": {
          "color": "#00cc96",
          "pattern": {
           "shape": ""
          }
         },
         "name": "Otros",
         "orientation": "v",
         "showlegend": true,
         "textposition": "auto",
         "type": "bar",
         "x": [
          "Otros"
         ],
         "xaxis": "x",
         "y": {
          "bdata": "CA==",
          "dtype": "i1"
         },
         "yaxis": "y"
        },
        {
         "hovertemplate": "Especialidad=%{x}<br>Cantidad=%{y}<extra></extra>",
         "legendgroup": "internacional",
         "marker": {
          "color": "#ab63fa",
          "pattern": {
           "shape": ""
          }
         },
         "name": "internacional",
         "orientation": "v",
         "showlegend": true,
         "textposition": "auto",
         "type": "bar",
         "x": [
          "internacional"
         ],
         "xaxis": "x",
         "y": {
          "bdata": "Bg==",
          "dtype": "i1"
         },
         "yaxis": "y"
        },
        {
         "hovertemplate": "Especialidad=%{x}<br>Cantidad=%{y}<extra></extra>",
         "legendgroup": "italiana",
         "marker": {
          "color": "#FFA15A",
          "pattern": {
           "shape": ""
          }
         },
         "name": "italiana",
         "orientation": "v",
         "showlegend": true,
         "textposition": "auto",
         "type": "bar",
         "x": [
          "italiana"
         ],
         "xaxis": "x",
         "y": {
          "bdata": "BQ==",
          "dtype": "i1"
         },
         "yaxis": "y"
        },
        {
         "hovertemplate": "Especialidad=%{x}<br>Cantidad=%{y}<extra></extra>",
         "legendgroup": "Cocina mixta",
         "marker": {
          "color": "#19d3f3",
          "pattern": {
           "shape": ""
          }
         },
         "name": "Cocina mixta",
         "orientation": "v",
         "showlegend": true,
         "textposition": "auto",
         "type": "bar",
         "x": [
          "Cocina mixta"
         ],
         "xaxis": "x",
         "y": {
          "bdata": "BA==",
          "dtype": "i1"
         },
         "yaxis": "y"
        },
        {
         "hovertemplate": "Especialidad=%{x}<br>Cantidad=%{y}<extra></extra>",
         "legendgroup": "criolla",
         "marker": {
          "color": "#FF6692",
          "pattern": {
           "shape": ""
          }
         },
         "name": "criolla",
         "orientation": "v",
         "showlegend": true,
         "textposition": "auto",
         "type": "bar",
         "x": [
          "criolla"
         ],
         "xaxis": "x",
         "y": {
          "bdata": "BA==",
          "dtype": "i1"
         },
         "yaxis": "y"
        },
        {
         "hovertemplate": "Especialidad=%{x}<br>Cantidad=%{y}<extra></extra>",
         "legendgroup": "Latina",
         "marker": {
          "color": "#B6E880",
          "pattern": {
           "shape": ""
          }
         },
         "name": "Latina",
         "orientation": "v",
         "showlegend": true,
         "textposition": "auto",
         "type": "bar",
         "x": [
          "Latina"
         ],
         "xaxis": "x",
         "y": {
          "bdata": "Aw==",
          "dtype": "i1"
         },
         "yaxis": "y"
        },
        {
         "hovertemplate": "Especialidad=%{x}<br>Cantidad=%{y}<extra></extra>",
         "legendgroup": "Pizza",
         "marker": {
          "color": "#FF97FF",
          "pattern": {
           "shape": ""
          }
         },
         "name": "Pizza",
         "orientation": "v",
         "showlegend": true,
         "textposition": "auto",
         "type": "bar",
         "x": [
          "Pizza"
         ],
         "xaxis": "x",
         "y": {
          "bdata": "Aw==",
          "dtype": "i1"
         },
         "yaxis": "y"
        },
        {
         "hovertemplate": "Especialidad=%{x}<br>Cantidad=%{y}<extra></extra>",
         "legendgroup": "Tapas",
         "marker": {
          "color": "#FECB52",
          "pattern": {
           "shape": ""
          }
         },
         "name": "Tapas",
         "orientation": "v",
         "showlegend": true,
         "textposition": "auto",
         "type": "bar",
         "x": [
          "Tapas"
         ],
         "xaxis": "x",
         "y": {
          "bdata": "Aw==",
          "dtype": "i1"
         },
         "yaxis": "y"
        },
        {
         "hovertemplate": "Especialidad=%{x}<br>Cantidad=%{y}<extra></extra>",
         "legendgroup": "Centroamericana",
         "marker": {
          "color": "#636efa",
          "pattern": {
           "shape": ""
          }
         },
         "name": "Centroamericana",
         "orientation": "v",
         "showlegend": true,
         "textposition": "auto",
         "type": "bar",
         "x": [
          "Centroamericana"
         ],
         "xaxis": "x",
         "y": {
          "bdata": "Aw==",
          "dtype": "i1"
         },
         "yaxis": "y"
        },
        {
         "hovertemplate": "Especialidad=%{x}<br>Cantidad=%{y}<extra></extra>",
         "legendgroup": "latina",
         "marker": {
          "color": "#EF553B",
          "pattern": {
           "shape": ""
          }
         },
         "name": "latina",
         "orientation": "v",
         "showlegend": true,
         "textposition": "auto",
         "type": "bar",
         "x": [
          "latina"
         ],
         "xaxis": "x",
         "y": {
          "bdata": "Aw==",
          "dtype": "i1"
         },
         "yaxis": "y"
        },
        {
         "hovertemplate": "Especialidad=%{x}<br>Cantidad=%{y}<extra></extra>",
         "legendgroup": "europea",
         "marker": {
          "color": "#00cc96",
          "pattern": {
           "shape": ""
          }
         },
         "name": "europea",
         "orientation": "v",
         "showlegend": true,
         "textposition": "auto",
         "type": "bar",
         "x": [
          "europea"
         ],
         "xaxis": "x",
         "y": {
          "bdata": "Ag==",
          "dtype": "i1"
         },
         "yaxis": "y"
        },
        {
         "hovertemplate": "Especialidad=%{x}<br>Cantidad=%{y}<extra></extra>",
         "legendgroup": "Internacional",
         "marker": {
          "color": "#ab63fa",
          "pattern": {
           "shape": ""
          }
         },
         "name": "Internacional",
         "orientation": "v",
         "showlegend": true,
         "textposition": "auto",
         "type": "bar",
         "x": [
          "Internacional"
         ],
         "xaxis": "x",
         "y": {
          "bdata": "Ag==",
          "dtype": "i1"
         },
         "yaxis": "y"
        },
        {
         "hovertemplate": "Especialidad=%{x}<br>Cantidad=%{y}<extra></extra>",
         "legendgroup": "americana",
         "marker": {
          "color": "#FFA15A",
          "pattern": {
           "shape": ""
          }
         },
         "name": "americana",
         "orientation": "v",
         "showlegend": true,
         "textposition": "auto",
         "type": "bar",
         "x": [
          "americana"
         ],
         "xaxis": "x",
         "y": {
          "bdata": "Ag==",
          "dtype": "i1"
         },
         "yaxis": "y"
        },
        {
         "hovertemplate": "Especialidad=%{x}<br>Cantidad=%{y}<extra></extra>",
         "legendgroup": "Criolla",
         "marker": {
          "color": "#19d3f3",
          "pattern": {
           "shape": ""
          }
         },
         "name": "Criolla",
         "orientation": "v",
         "showlegend": true,
         "textposition": "auto",
         "type": "bar",
         "x": [
          "Criolla"
         ],
         "xaxis": "x",
         "y": {
          "bdata": "Ag==",
          "dtype": "i1"
         },
         "yaxis": "y"
        },
        {
         "hovertemplate": "Especialidad=%{x}<br>Cantidad=%{y}<extra></extra>",
         "legendgroup": "saludable",
         "marker": {
          "color": "#FF6692",
          "pattern": {
           "shape": ""
          }
         },
         "name": "saludable",
         "orientation": "v",
         "showlegend": true,
         "textposition": "auto",
         "type": "bar",
         "x": [
          "saludable"
         ],
         "xaxis": "x",
         "y": {
          "bdata": "Ag==",
          "dtype": "i1"
         },
         "yaxis": "y"
        },
        {
         "hovertemplate": "Especialidad=%{x}<br>Cantidad=%{y}<extra></extra>",
         "legendgroup": "Mediterranea",
         "marker": {
          "color": "#B6E880",
          "pattern": {
           "shape": ""
          }
         },
         "name": "Mediterranea",
         "orientation": "v",
         "showlegend": true,
         "textposition": "auto",
         "type": "bar",
         "x": [
          "Mediterranea"
         ],
         "xaxis": "x",
         "y": {
          "bdata": "Ag==",
          "dtype": "i1"
         },
         "yaxis": "y"
        },
        {
         "hovertemplate": "Especialidad=%{x}<br>Cantidad=%{y}<extra></extra>",
         "legendgroup": "comida rapida",
         "marker": {
          "color": "#FF97FF",
          "pattern": {
           "shape": ""
          }
         },
         "name": "comida rapida",
         "orientation": "v",
         "showlegend": true,
         "textposition": "auto",
         "type": "bar",
         "x": [
          "comida rapida"
         ],
         "xaxis": "x",
         "y": {
          "bdata": "AQ==",
          "dtype": "i1"
         },
         "yaxis": "y"
        },
        {
         "hovertemplate": "Especialidad=%{x}<br>Cantidad=%{y}<extra></extra>",
         "legendgroup": "restaurante",
         "marker": {
          "color": "#FECB52",
          "pattern": {
           "shape": ""
          }
         },
         "name": "restaurante",
         "orientation": "v",
         "showlegend": true,
         "textposition": "auto",
         "type": "bar",
         "x": [
          "restaurante"
         ],
         "xaxis": "x",
         "y": {
          "bdata": "AQ==",
          "dtype": "i1"
         },
         "yaxis": "y"
        },
        {
         "hovertemplate": "Especialidad=%{x}<br>Cantidad=%{y}<extra></extra>",
         "legendgroup": "cafe",
         "marker": {
          "color": "#636efa",
          "pattern": {
           "shape": ""
          }
         },
         "name": "cafe",
         "orientation": "v",
         "showlegend": true,
         "textposition": "auto",
         "type": "bar",
         "x": [
          "cafe"
         ],
         "xaxis": "x",
         "y": {
          "bdata": "AQ==",
          "dtype": "i1"
         },
         "yaxis": "y"
        },
        {
         "hovertemplate": "Especialidad=%{x}<br>Cantidad=%{y}<extra></extra>",
         "legendgroup": "Pizzeria",
         "marker": {
          "color": "#EF553B",
          "pattern": {
           "shape": ""
          }
         },
         "name": "Pizzeria",
         "orientation": "v",
         "showlegend": true,
         "textposition": "auto",
         "type": "bar",
         "x": [
          "Pizzeria"
         ],
         "xaxis": "x",
         "y": {
          "bdata": "AQ==",
          "dtype": "i1"
         },
         "yaxis": "y"
        },
        {
         "hovertemplate": "Especialidad=%{x}<br>Cantidad=%{y}<extra></extra>",
         "legendgroup": "ceilanesa",
         "marker": {
          "color": "#00cc96",
          "pattern": {
           "shape": ""
          }
         },
         "name": "ceilanesa",
         "orientation": "v",
         "showlegend": true,
         "textposition": "auto",
         "type": "bar",
         "x": [
          "ceilanesa"
         ],
         "xaxis": "x",
         "y": {
          "bdata": "AQ==",
          "dtype": "i1"
         },
         "yaxis": "y"
        },
        {
         "hovertemplate": "Especialidad=%{x}<br>Cantidad=%{y}<extra></extra>",
         "legendgroup": "india",
         "marker": {
          "color": "#ab63fa",
          "pattern": {
           "shape": ""
          }
         },
         "name": "india",
         "orientation": "v",
         "showlegend": true,
         "textposition": "auto",
         "type": "bar",
         "x": [
          "india"
         ],
         "xaxis": "x",
         "y": {
          "bdata": "AQ==",
          "dtype": "i1"
         },
         "yaxis": "y"
        },
        {
         "hovertemplate": "Especialidad=%{x}<br>Cantidad=%{y}<extra></extra>",
         "legendgroup": "asiatica",
         "marker": {
          "color": "#FFA15A",
          "pattern": {
           "shape": ""
          }
         },
         "name": "asiatica",
         "orientation": "v",
         "showlegend": true,
         "textposition": "auto",
         "type": "bar",
         "x": [
          "asiatica"
         ],
         "xaxis": "x",
         "y": {
          "bdata": "AQ==",
          "dtype": "i1"
         },
         "yaxis": "y"
        },
        {
         "hovertemplate": "Especialidad=%{x}<br>Cantidad=%{y}<extra></extra>",
         "legendgroup": "cafeteria",
         "marker": {
          "color": "#19d3f3",
          "pattern": {
           "shape": ""
          }
         },
         "name": "cafeteria",
         "orientation": "v",
         "showlegend": true,
         "textposition": "auto",
         "type": "bar",
         "x": [
          "cafeteria"
         ],
         "xaxis": "x",
         "y": {
          "bdata": "AQ==",
          "dtype": "i1"
         },
         "yaxis": "y"
        },
        {
         "hovertemplate": "Especialidad=%{x}<br>Cantidad=%{y}<extra></extra>",
         "legendgroup": "international",
         "marker": {
          "color": "#FF6692",
          "pattern": {
           "shape": ""
          }
         },
         "name": "international",
         "orientation": "v",
         "showlegend": true,
         "textposition": "auto",
         "type": "bar",
         "x": [
          "international"
         ],
         "xaxis": "x",
         "y": {
          "bdata": "AQ==",
          "dtype": "i1"
         },
         "yaxis": "y"
        },
        {
         "hovertemplate": "Especialidad=%{x}<br>Cantidad=%{y}<extra></extra>",
         "legendgroup": "cocteleria",
         "marker": {
          "color": "#B6E880",
          "pattern": {
           "shape": ""
          }
         },
         "name": "cocteleria",
         "orientation": "v",
         "showlegend": true,
         "textposition": "auto",
         "type": "bar",
         "x": [
          "cocteleria"
         ],
         "xaxis": "x",
         "y": {
          "bdata": "AQ==",
          "dtype": "i1"
         },
         "yaxis": "y"
        },
        {
         "hovertemplate": "Especialidad=%{x}<br>Cantidad=%{y}<extra></extra>",
         "legendgroup": "turca",
         "marker": {
          "color": "#FF97FF",
          "pattern": {
           "shape": ""
          }
         },
         "name": "turca",
         "orientation": "v",
         "showlegend": true,
         "textposition": "auto",
         "type": "bar",
         "x": [
          "turca"
         ],
         "xaxis": "x",
         "y": {
          "bdata": "AQ==",
          "dtype": "i1"
         },
         "yaxis": "y"
        },
        {
         "hovertemplate": "Especialidad=%{x}<br>Cantidad=%{y}<extra></extra>",
         "legendgroup": "Comida Internacional",
         "marker": {
          "color": "#FECB52",
          "pattern": {
           "shape": ""
          }
         },
         "name": "Comida Internacional",
         "orientation": "v",
         "showlegend": true,
         "textposition": "auto",
         "type": "bar",
         "x": [
          "Comida Internacional"
         ],
         "xaxis": "x",
         "y": {
          "bdata": "AQ==",
          "dtype": "i1"
         },
         "yaxis": "y"
        },
        {
         "hovertemplate": "Especialidad=%{x}<br>Cantidad=%{y}<extra></extra>",
         "legendgroup": "Cocktails",
         "marker": {
          "color": "#636efa",
          "pattern": {
           "shape": ""
          }
         },
         "name": "Cocktails",
         "orientation": "v",
         "showlegend": true,
         "textposition": "auto",
         "type": "bar",
         "x": [
          "Cocktails"
         ],
         "xaxis": "x",
         "y": {
          "bdata": "AQ==",
          "dtype": "i1"
         },
         "yaxis": "y"
        },
        {
         "hovertemplate": "Especialidad=%{x}<br>Cantidad=%{y}<extra></extra>",
         "legendgroup": "comida criolla",
         "marker": {
          "color": "#EF553B",
          "pattern": {
           "shape": ""
          }
         },
         "name": "comida criolla",
         "orientation": "v",
         "showlegend": true,
         "textposition": "auto",
         "type": "bar",
         "x": [
          "comida criolla"
         ],
         "xaxis": "x",
         "y": {
          "bdata": "AQ==",
          "dtype": "i1"
         },
         "yaxis": "y"
        },
        {
         "hovertemplate": "Especialidad=%{x}<br>Cantidad=%{y}<extra></extra>",
         "legendgroup": "japanese",
         "marker": {
          "color": "#00cc96",
          "pattern": {
           "shape": ""
          }
         },
         "name": "japanese",
         "orientation": "v",
         "showlegend": true,
         "textposition": "auto",
         "type": "bar",
         "x": [
          "japanese"
         ],
         "xaxis": "x",
         "y": {
          "bdata": "AQ==",
          "dtype": "i1"
         },
         "yaxis": "y"
        },
        {
         "hovertemplate": "Especialidad=%{x}<br>Cantidad=%{y}<extra></extra>",
         "legendgroup": "Cocina criolla",
         "marker": {
          "color": "#ab63fa",
          "pattern": {
           "shape": ""
          }
         },
         "name": "Cocina criolla",
         "orientation": "v",
         "showlegend": true,
         "textposition": "auto",
         "type": "bar",
         "x": [
          "Cocina criolla"
         ],
         "xaxis": "x",
         "y": {
          "bdata": "AQ==",
          "dtype": "i1"
         },
         "yaxis": "y"
        },
        {
         "hovertemplate": "Especialidad=%{x}<br>Cantidad=%{y}<extra></extra>",
         "legendgroup": "Cocteleria",
         "marker": {
          "color": "#FFA15A",
          "pattern": {
           "shape": ""
          }
         },
         "name": "Cocteleria",
         "orientation": "v",
         "showlegend": true,
         "textposition": "auto",
         "type": "bar",
         "x": [
          "Cocteleria"
         ],
         "xaxis": "x",
         "y": {
          "bdata": "AQ==",
          "dtype": "i1"
         },
         "yaxis": "y"
        },
        {
         "hovertemplate": "Especialidad=%{x}<br>Cantidad=%{y}<extra></extra>",
         "legendgroup": "Maritima",
         "marker": {
          "color": "#19d3f3",
          "pattern": {
           "shape": ""
          }
         },
         "name": "Maritima",
         "orientation": "v",
         "showlegend": true,
         "textposition": "auto",
         "type": "bar",
         "x": [
          "Maritima"
         ],
         "xaxis": "x",
         "y": {
          "bdata": "AQ==",
          "dtype": "i1"
         },
         "yaxis": "y"
        },
        {
         "hovertemplate": "Especialidad=%{x}<br>Cantidad=%{y}<extra></extra>",
         "legendgroup": "caribbean",
         "marker": {
          "color": "#FF6692",
          "pattern": {
           "shape": ""
          }
         },
         "name": "caribbean",
         "orientation": "v",
         "showlegend": true,
         "textposition": "auto",
         "type": "bar",
         "x": [
          "caribbean"
         ],
         "xaxis": "x",
         "y": {
          "bdata": "AQ==",
          "dtype": "i1"
         },
         "yaxis": "y"
        },
        {
         "hovertemplate": "Especialidad=%{x}<br>Cantidad=%{y}<extra></extra>",
         "legendgroup": "Comida cubana",
         "marker": {
          "color": "#B6E880",
          "pattern": {
           "shape": ""
          }
         },
         "name": "Comida cubana",
         "orientation": "v",
         "showlegend": true,
         "textposition": "auto",
         "type": "bar",
         "x": [
          "Comida cubana"
         ],
         "xaxis": "x",
         "y": {
          "bdata": "AQ==",
          "dtype": "i1"
         },
         "yaxis": "y"
        },
        {
         "hovertemplate": "Especialidad=%{x}<br>Cantidad=%{y}<extra></extra>",
         "legendgroup": "Comida asiatica",
         "marker": {
          "color": "#FF97FF",
          "pattern": {
           "shape": ""
          }
         },
         "name": "Comida asiatica",
         "orientation": "v",
         "showlegend": true,
         "textposition": "auto",
         "type": "bar",
         "x": [
          "Comida asiatica"
         ],
         "xaxis": "x",
         "y": {
          "bdata": "AQ==",
          "dtype": "i1"
         },
         "yaxis": "y"
        },
        {
         "hovertemplate": "Especialidad=%{x}<br>Cantidad=%{y}<extra></extra>",
         "legendgroup": "mariscos",
         "marker": {
          "color": "#FECB52",
          "pattern": {
           "shape": ""
          }
         },
         "name": "mariscos",
         "orientation": "v",
         "showlegend": true,
         "textposition": "auto",
         "type": "bar",
         "x": [
          "mariscos"
         ],
         "xaxis": "x",
         "y": {
          "bdata": "AQ==",
          "dtype": "i1"
         },
         "yaxis": "y"
        },
        {
         "hovertemplate": "Especialidad=%{x}<br>Cantidad=%{y}<extra></extra>",
         "legendgroup": "fusion",
         "marker": {
          "color": "#636efa",
          "pattern": {
           "shape": ""
          }
         },
         "name": "fusion",
         "orientation": "v",
         "showlegend": true,
         "textposition": "auto",
         "type": "bar",
         "x": [
          "fusion"
         ],
         "xaxis": "x",
         "y": {
          "bdata": "AQ==",
          "dtype": "i1"
         },
         "yaxis": "y"
        },
        {
         "hovertemplate": "Especialidad=%{x}<br>Cantidad=%{y}<extra></extra>",
         "legendgroup": "Comida mexicana",
         "marker": {
          "color": "#EF553B",
          "pattern": {
           "shape": ""
          }
         },
         "name": "Comida mexicana",
         "orientation": "v",
         "showlegend": true,
         "textposition": "auto",
         "type": "bar",
         "x": [
          "Comida mexicana"
         ],
         "xaxis": "x",
         "y": {
          "bdata": "AQ==",
          "dtype": "i1"
         },
         "yaxis": "y"
        },
        {
         "hovertemplate": "Especialidad=%{x}<br>Cantidad=%{y}<extra></extra>",
         "legendgroup": "Pizzas",
         "marker": {
          "color": "#00cc96",
          "pattern": {
           "shape": ""
          }
         },
         "name": "Pizzas",
         "orientation": "v",
         "showlegend": true,
         "textposition": "auto",
         "type": "bar",
         "x": [
          "Pizzas"
         ],
         "xaxis": "x",
         "y": {
          "bdata": "AQ==",
          "dtype": "i1"
         },
         "yaxis": "y"
        },
        {
         "hovertemplate": "Especialidad=%{x}<br>Cantidad=%{y}<extra></extra>",
         "legendgroup": "Entrantes",
         "marker": {
          "color": "#ab63fa",
          "pattern": {
           "shape": ""
          }
         },
         "name": "Entrantes",
         "orientation": "v",
         "showlegend": true,
         "textposition": "auto",
         "type": "bar",
         "x": [
          "Entrantes"
         ],
         "xaxis": "x",
         "y": {
          "bdata": "AQ==",
          "dtype": "i1"
         },
         "yaxis": "y"
        },
        {
         "hovertemplate": "Especialidad=%{x}<br>Cantidad=%{y}<extra></extra>",
         "legendgroup": "Comida Americana",
         "marker": {
          "color": "#FFA15A",
          "pattern": {
           "shape": ""
          }
         },
         "name": "Comida Americana",
         "orientation": "v",
         "showlegend": true,
         "textposition": "auto",
         "type": "bar",
         "x": [
          "Comida Americana"
         ],
         "xaxis": "x",
         "y": {
          "bdata": "AQ==",
          "dtype": "i1"
         },
         "yaxis": "y"
        },
        {
         "hovertemplate": "Especialidad=%{x}<br>Cantidad=%{y}<extra></extra>",
         "legendgroup": "Sudamericana",
         "marker": {
          "color": "#19d3f3",
          "pattern": {
           "shape": ""
          }
         },
         "name": "Sudamericana",
         "orientation": "v",
         "showlegend": true,
         "textposition": "auto",
         "type": "bar",
         "x": [
          "Sudamericana"
         ],
         "xaxis": "x",
         "y": {
          "bdata": "AQ==",
          "dtype": "i1"
         },
         "yaxis": "y"
        },
        {
         "hovertemplate": "Especialidad=%{x}<br>Cantidad=%{y}<extra></extra>",
         "legendgroup": "Desayunos",
         "marker": {
          "color": "#FF6692",
          "pattern": {
           "shape": ""
          }
         },
         "name": "Desayunos",
         "orientation": "v",
         "showlegend": true,
         "textposition": "auto",
         "type": "bar",
         "x": [
          "Desayunos"
         ],
         "xaxis": "x",
         "y": {
          "bdata": "AQ==",
          "dtype": "i1"
         },
         "yaxis": "y"
        },
        {
         "hovertemplate": "Especialidad=%{x}<br>Cantidad=%{y}<extra></extra>",
         "legendgroup": "Cafes",
         "marker": {
          "color": "#B6E880",
          "pattern": {
           "shape": ""
          }
         },
         "name": "Cafes",
         "orientation": "v",
         "showlegend": true,
         "textposition": "auto",
         "type": "bar",
         "x": [
          "Cafes"
         ],
         "xaxis": "x",
         "y": {
          "bdata": "AQ==",
          "dtype": "i1"
         },
         "yaxis": "y"
        },
        {
         "hovertemplate": "Especialidad=%{x}<br>Cantidad=%{y}<extra></extra>",
         "legendgroup": "Italiana",
         "marker": {
          "color": "#FF97FF",
          "pattern": {
           "shape": ""
          }
         },
         "name": "Italiana",
         "orientation": "v",
         "showlegend": true,
         "textposition": "auto",
         "type": "bar",
         "x": [
          "Italiana"
         ],
         "xaxis": "x",
         "y": {
          "bdata": "AQ==",
          "dtype": "i1"
         },
         "yaxis": "y"
        },
        {
         "hovertemplate": "Especialidad=%{x}<br>Cantidad=%{y}<extra></extra>",
         "legendgroup": "Sandwiches",
         "marker": {
          "color": "#FECB52",
          "pattern": {
           "shape": ""
          }
         },
         "name": "Sandwiches",
         "orientation": "v",
         "showlegend": true,
         "textposition": "auto",
         "type": "bar",
         "x": [
          "Sandwiches"
         ],
         "xaxis": "x",
         "y": {
          "bdata": "AQ==",
          "dtype": "i1"
         },
         "yaxis": "y"
        },
        {
         "hovertemplate": "Especialidad=%{x}<br>Cantidad=%{y}<extra></extra>",
         "legendgroup": "Comida Italiana",
         "marker": {
          "color": "#636efa",
          "pattern": {
           "shape": ""
          }
         },
         "name": "Comida Italiana",
         "orientation": "v",
         "showlegend": true,
         "textposition": "auto",
         "type": "bar",
         "x": [
          "Comida Italiana"
         ],
         "xaxis": "x",
         "y": {
          "bdata": "AQ==",
          "dtype": "i1"
         },
         "yaxis": "y"
        }
       ],
       "layout": {
        "barmode": "relative",
        "height": 550,
        "legend": {
         "title": {
          "text": "Especialidad"
         },
         "tracegroupgap": 0
        },
        "template": {
         "data": {
          "bar": [
           {
            "error_x": {
             "color": "#2a3f5f"
            },
            "error_y": {
             "color": "#2a3f5f"
            },
            "marker": {
             "line": {
              "color": "#E5ECF6",
              "width": 0.5
             },
             "pattern": {
              "fillmode": "overlay",
              "size": 10,
              "solidity": 0.2
             }
            },
            "type": "bar"
           }
          ],
          "barpolar": [
           {
            "marker": {
             "line": {
              "color": "#E5ECF6",
              "width": 0.5
             },
             "pattern": {
              "fillmode": "overlay",
              "size": 10,
              "solidity": 0.2
             }
            },
            "type": "barpolar"
           }
          ],
          "carpet": [
           {
            "aaxis": {
             "endlinecolor": "#2a3f5f",
             "gridcolor": "white",
             "linecolor": "white",
             "minorgridcolor": "white",
             "startlinecolor": "#2a3f5f"
            },
            "baxis": {
             "endlinecolor": "#2a3f5f",
             "gridcolor": "white",
             "linecolor": "white",
             "minorgridcolor": "white",
             "startlinecolor": "#2a3f5f"
            },
            "type": "carpet"
           }
          ],
          "choropleth": [
           {
            "colorbar": {
             "outlinewidth": 0,
             "ticks": ""
            },
            "type": "choropleth"
           }
          ],
          "contour": [
           {
            "colorbar": {
             "outlinewidth": 0,
             "ticks": ""
            },
            "colorscale": [
             [
              0,
              "#0d0887"
             ],
             [
              0.1111111111111111,
              "#46039f"
             ],
             [
              0.2222222222222222,
              "#7201a8"
             ],
             [
              0.3333333333333333,
              "#9c179e"
             ],
             [
              0.4444444444444444,
              "#bd3786"
             ],
             [
              0.5555555555555556,
              "#d8576b"
             ],
             [
              0.6666666666666666,
              "#ed7953"
             ],
             [
              0.7777777777777778,
              "#fb9f3a"
             ],
             [
              0.8888888888888888,
              "#fdca26"
             ],
             [
              1,
              "#f0f921"
             ]
            ],
            "type": "contour"
           }
          ],
          "contourcarpet": [
           {
            "colorbar": {
             "outlinewidth": 0,
             "ticks": ""
            },
            "type": "contourcarpet"
           }
          ],
          "heatmap": [
           {
            "colorbar": {
             "outlinewidth": 0,
             "ticks": ""
            },
            "colorscale": [
             [
              0,
              "#0d0887"
             ],
             [
              0.1111111111111111,
              "#46039f"
             ],
             [
              0.2222222222222222,
              "#7201a8"
             ],
             [
              0.3333333333333333,
              "#9c179e"
             ],
             [
              0.4444444444444444,
              "#bd3786"
             ],
             [
              0.5555555555555556,
              "#d8576b"
             ],
             [
              0.6666666666666666,
              "#ed7953"
             ],
             [
              0.7777777777777778,
              "#fb9f3a"
             ],
             [
              0.8888888888888888,
              "#fdca26"
             ],
             [
              1,
              "#f0f921"
             ]
            ],
            "type": "heatmap"
           }
          ],
          "histogram": [
           {
            "marker": {
             "pattern": {
              "fillmode": "overlay",
              "size": 10,
              "solidity": 0.2
             }
            },
            "type": "histogram"
           }
          ],
          "histogram2d": [
           {
            "colorbar": {
             "outlinewidth": 0,
             "ticks": ""
            },
            "colorscale": [
             [
              0,
              "#0d0887"
             ],
             [
              0.1111111111111111,
              "#46039f"
             ],
             [
              0.2222222222222222,
              "#7201a8"
             ],
             [
              0.3333333333333333,
              "#9c179e"
             ],
             [
              0.4444444444444444,
              "#bd3786"
             ],
             [
              0.5555555555555556,
              "#d8576b"
             ],
             [
              0.6666666666666666,
              "#ed7953"
             ],
             [
              0.7777777777777778,
              "#fb9f3a"
             ],
             [
              0.8888888888888888,
              "#fdca26"
             ],
             [
              1,
              "#f0f921"
             ]
            ],
            "type": "histogram2d"
           }
          ],
          "histogram2dcontour": [
           {
            "colorbar": {
             "outlinewidth": 0,
             "ticks": ""
            },
            "colorscale": [
             [
              0,
              "#0d0887"
             ],
             [
              0.1111111111111111,
              "#46039f"
             ],
             [
              0.2222222222222222,
              "#7201a8"
             ],
             [
              0.3333333333333333,
              "#9c179e"
             ],
             [
              0.4444444444444444,
              "#bd3786"
             ],
             [
              0.5555555555555556,
              "#d8576b"
             ],
             [
              0.6666666666666666,
              "#ed7953"
             ],
             [
              0.7777777777777778,
              "#fb9f3a"
             ],
             [
              0.8888888888888888,
              "#fdca26"
             ],
             [
              1,
              "#f0f921"
             ]
            ],
            "type": "histogram2dcontour"
           }
          ],
          "mesh3d": [
           {
            "colorbar": {
             "outlinewidth": 0,
             "ticks": ""
            },
            "type": "mesh3d"
           }
          ],
          "parcoords": [
           {
            "line": {
             "colorbar": {
              "outlinewidth": 0,
              "ticks": ""
             }
            },
            "type": "parcoords"
           }
          ],
          "pie": [
           {
            "automargin": true,
            "type": "pie"
           }
          ],
          "scatter": [
           {
            "fillpattern": {
             "fillmode": "overlay",
             "size": 10,
             "solidity": 0.2
            },
            "type": "scatter"
           }
          ],
          "scatter3d": [
           {
            "line": {
             "colorbar": {
              "outlinewidth": 0,
              "ticks": ""
             }
            },
            "marker": {
             "colorbar": {
              "outlinewidth": 0,
              "ticks": ""
             }
            },
            "type": "scatter3d"
           }
          ],
          "scattercarpet": [
           {
            "marker": {
             "colorbar": {
              "outlinewidth": 0,
              "ticks": ""
             }
            },
            "type": "scattercarpet"
           }
          ],
          "scattergeo": [
           {
            "marker": {
             "colorbar": {
              "outlinewidth": 0,
              "ticks": ""
             }
            },
            "type": "scattergeo"
           }
          ],
          "scattergl": [
           {
            "marker": {
             "colorbar": {
              "outlinewidth": 0,
              "ticks": ""
             }
            },
            "type": "scattergl"
           }
          ],
          "scattermap": [
           {
            "marker": {
             "colorbar": {
              "outlinewidth": 0,
              "ticks": ""
             }
            },
            "type": "scattermap"
           }
          ],
          "scattermapbox": [
           {
            "marker": {
             "colorbar": {
              "outlinewidth": 0,
              "ticks": ""
             }
            },
            "type": "scattermapbox"
           }
          ],
          "scatterpolar": [
           {
            "marker": {
             "colorbar": {
              "outlinewidth": 0,
              "ticks": ""
             }
            },
            "type": "scatterpolar"
           }
          ],
          "scatterpolargl": [
           {
            "marker": {
             "colorbar": {
              "outlinewidth": 0,
              "ticks": ""
             }
            },
            "type": "scatterpolargl"
           }
          ],
          "scatterternary": [
           {
            "marker": {
             "colorbar": {
              "outlinewidth": 0,
              "ticks": ""
             }
            },
            "type": "scatterternary"
           }
          ],
          "surface": [
           {
            "colorbar": {
             "outlinewidth": 0,
             "ticks": ""
            },
            "colorscale": [
             [
              0,
              "#0d0887"
             ],
             [
              0.1111111111111111,
              "#46039f"
             ],
             [
              0.2222222222222222,
              "#7201a8"
             ],
             [
              0.3333333333333333,
              "#9c179e"
             ],
             [
              0.4444444444444444,
              "#bd3786"
             ],
             [
              0.5555555555555556,
              "#d8576b"
             ],
             [
              0.6666666666666666,
              "#ed7953"
             ],
             [
              0.7777777777777778,
              "#fb9f3a"
             ],
             [
              0.8888888888888888,
              "#fdca26"
             ],
             [
              1,
              "#f0f921"
             ]
            ],
            "type": "surface"
           }
          ],
          "table": [
           {
            "cells": {
             "fill": {
              "color": "#EBF0F8"
             },
             "line": {
              "color": "white"
             }
            },
            "header": {
             "fill": {
              "color": "#C8D4E3"
             },
             "line": {
              "color": "white"
             }
            },
            "type": "table"
           }
          ]
         },
         "layout": {
          "annotationdefaults": {
           "arrowcolor": "#2a3f5f",
           "arrowhead": 0,
           "arrowwidth": 1
          },
          "autotypenumbers": "strict",
          "coloraxis": {
           "colorbar": {
            "outlinewidth": 0,
            "ticks": ""
           }
          },
          "colorscale": {
           "diverging": [
            [
             0,
             "#8e0152"
            ],
            [
             0.1,
             "#c51b7d"
            ],
            [
             0.2,
             "#de77ae"
            ],
            [
             0.3,
             "#f1b6da"
            ],
            [
             0.4,
             "#fde0ef"
            ],
            [
             0.5,
             "#f7f7f7"
            ],
            [
             0.6,
             "#e6f5d0"
            ],
            [
             0.7,
             "#b8e186"
            ],
            [
             0.8,
             "#7fbc41"
            ],
            [
             0.9,
             "#4d9221"
            ],
            [
             1,
             "#276419"
            ]
           ],
           "sequential": [
            [
             0,
             "#0d0887"
            ],
            [
             0.1111111111111111,
             "#46039f"
            ],
            [
             0.2222222222222222,
             "#7201a8"
            ],
            [
             0.3333333333333333,
             "#9c179e"
            ],
            [
             0.4444444444444444,
             "#bd3786"
            ],
            [
             0.5555555555555556,
             "#d8576b"
            ],
            [
             0.6666666666666666,
             "#ed7953"
            ],
            [
             0.7777777777777778,
             "#fb9f3a"
            ],
            [
             0.8888888888888888,
             "#fdca26"
            ],
            [
             1,
             "#f0f921"
            ]
           ],
           "sequentialminus": [
            [
             0,
             "#0d0887"
            ],
            [
             0.1111111111111111,
             "#46039f"
            ],
            [
             0.2222222222222222,
             "#7201a8"
            ],
            [
             0.3333333333333333,
             "#9c179e"
            ],
            [
             0.4444444444444444,
             "#bd3786"
            ],
            [
             0.5555555555555556,
             "#d8576b"
            ],
            [
             0.6666666666666666,
             "#ed7953"
            ],
            [
             0.7777777777777778,
             "#fb9f3a"
            ],
            [
             0.8888888888888888,
             "#fdca26"
            ],
            [
             1,
             "#f0f921"
            ]
           ]
          },
          "colorway": [
           "#636efa",
           "#EF553B",
           "#00cc96",
           "#ab63fa",
           "#FFA15A",
           "#19d3f3",
           "#FF6692",
           "#B6E880",
           "#FF97FF",
           "#FECB52"
          ],
          "font": {
           "color": "#2a3f5f"
          },
          "geo": {
           "bgcolor": "white",
           "lakecolor": "white",
           "landcolor": "#E5ECF6",
           "showlakes": true,
           "showland": true,
           "subunitcolor": "white"
          },
          "hoverlabel": {
           "align": "left"
          },
          "hovermode": "closest",
          "mapbox": {
           "style": "light"
          },
          "paper_bgcolor": "white",
          "plot_bgcolor": "#E5ECF6",
          "polar": {
           "angularaxis": {
            "gridcolor": "white",
            "linecolor": "white",
            "ticks": ""
           },
           "bgcolor": "#E5ECF6",
           "radialaxis": {
            "gridcolor": "white",
            "linecolor": "white",
            "ticks": ""
           }
          },
          "scene": {
           "xaxis": {
            "backgroundcolor": "#E5ECF6",
            "gridcolor": "white",
            "gridwidth": 2,
            "linecolor": "white",
            "showbackground": true,
            "ticks": "",
            "zerolinecolor": "white"
           },
           "yaxis": {
            "backgroundcolor": "#E5ECF6",
            "gridcolor": "white",
            "gridwidth": 2,
            "linecolor": "white",
            "showbackground": true,
            "ticks": "",
            "zerolinecolor": "white"
           },
           "zaxis": {
            "backgroundcolor": "#E5ECF6",
            "gridcolor": "white",
            "gridwidth": 2,
            "linecolor": "white",
            "showbackground": true,
            "ticks": "",
            "zerolinecolor": "white"
           }
          },
          "shapedefaults": {
           "line": {
            "color": "#2a3f5f"
           }
          },
          "ternary": {
           "aaxis": {
            "gridcolor": "white",
            "linecolor": "white",
            "ticks": ""
           },
           "baxis": {
            "gridcolor": "white",
            "linecolor": "white",
            "ticks": ""
           },
           "bgcolor": "#E5ECF6",
           "caxis": {
            "gridcolor": "white",
            "linecolor": "white",
            "ticks": ""
           }
          },
          "title": {
           "x": 0.05
          },
          "xaxis": {
           "automargin": true,
           "gridcolor": "white",
           "linecolor": "white",
           "ticks": "",
           "title": {
            "standoff": 15
           },
           "zerolinecolor": "white",
           "zerolinewidth": 2
          },
          "yaxis": {
           "automargin": true,
           "gridcolor": "white",
           "linecolor": "white",
           "ticks": "",
           "title": {
            "standoff": 15
           },
           "zerolinecolor": "white",
           "zerolinewidth": 2
          }
         }
        },
        "title": {
         "text": "Especialidades más comunes en los Bares-restaurantes:"
        },
        "xaxis": {
         "anchor": "y",
         "categoryarray": [
          "Cubana",
          "caribena",
          "Otros",
          "internacional",
          "italiana",
          "Cocina mixta",
          "criolla",
          "Latina",
          "Pizza",
          "Tapas",
          "Centroamericana",
          "latina",
          "europea",
          "Internacional",
          "americana",
          "Criolla",
          "saludable",
          "Mediterranea",
          "comida rapida",
          "restaurante",
          "cafe",
          "Pizzeria",
          "ceilanesa",
          "india",
          "asiatica",
          "cafeteria",
          "international",
          "cocteleria",
          "turca",
          "Comida Internacional",
          "Cocktails",
          "comida criolla",
          "japanese",
          "Cocina criolla",
          "Cocteleria",
          "Maritima",
          "caribbean",
          "Comida cubana",
          "Comida asiatica",
          "mariscos",
          "fusion",
          "Comida mexicana",
          "Pizzas",
          "Entrantes",
          "Comida Americana",
          "Sudamericana",
          "Desayunos",
          "Cafes",
          "Italiana",
          "Sandwiches",
          "Comida Italiana"
         ],
         "categoryorder": "array",
         "domain": [
          0,
          1
         ],
         "title": {
          "text": "Especialidad"
         }
        },
        "yaxis": {
         "anchor": "x",
         "domain": [
          0,
          1
         ],
         "title": {
          "text": "Cantidad"
         }
        }
       }
      }
     },
     "metadata": {},
     "output_type": "display_data"
    }
   ],
   "source": [
    "df_bar = df[df['type'] == 'bar']\n",
    "df_restaurant = df[df['type'] == 'restaurant']\n",
    "df_barrestaurant = df[df['type'] == 'barrestaurant']\n",
    "\n",
    "df_bar = df_bar['speciality'].explode().value_counts().reset_index()\n",
    "df_restaurant = df_restaurant['speciality'].explode().value_counts().reset_index()\n",
    "df_barrestaurant = df_barrestaurant['speciality'].explode().value_counts().reset_index()\n",
    "\n",
    "fig_bar = px.bar(\n",
    "    df_bar,\n",
    "    x='speciality',\n",
    "    y='count',\n",
    "    title='Especialidades más comunes en los Bares:',\n",
    "    labels={'speciality': 'Especialidad', 'count': 'Cantidad'},\n",
    "    color='speciality',\n",
    "    height=550\n",
    ")\n",
    "\n",
    "fig_restaurant = px.bar(\n",
    "    df_restaurant,\n",
    "    x='speciality',\n",
    "    y='count',\n",
    "    title='Especialidades más comunes en los Restaurantes:',\n",
    "    labels={'speciality': 'Especialidad', 'count': 'Cantidad'},\n",
    "    color='speciality',\n",
    "    height=550\n",
    ")\n",
    "\n",
    "fig_barrestaurant = px.bar(\n",
    "    df_barrestaurant,\n",
    "    x='speciality',\n",
    "    y='count',\n",
    "    title='Especialidades más comunes en los Bares-restaurantes:',\n",
    "    labels={'speciality': 'Especialidad', 'count': 'Cantidad'},\n",
    "    color='speciality',\n",
    "    height=550\n",
    ")\n",
    "\n",
    "\n",
    "fig_bar.show()\n",
    "fig_restaurant.show()\n",
    "fig_barrestaurant.show()"
   ]
  },
  {
   "cell_type": "code",
   "execution_count": null,
   "metadata": {},
   "outputs": [],
   "source": []
  },
  {
   "cell_type": "code",
   "execution_count": 5,
   "metadata": {},
   "outputs": [
    {
     "data": {
      "application/vnd.plotly.v1+json": {
       "config": {
        "plotlyServerURL": "https://plot.ly"
       },
       "data": [
        {
         "hovertemplate": "Servicio=%{x}<br>Cantidad=%{y}<extra></extra>",
         "legendgroup": "Parking",
         "marker": {
          "color": "#636efa",
          "pattern": {
           "shape": ""
          }
         },
         "name": "Parking",
         "orientation": "v",
         "showlegend": true,
         "textposition": "auto",
         "type": "bar",
         "x": [
          "Parking"
         ],
         "xaxis": "x",
         "y": {
          "bdata": "FA==",
          "dtype": "i1"
         },
         "yaxis": "y"
        },
        {
         "hovertemplate": "Servicio=%{x}<br>Cantidad=%{y}<extra></extra>",
         "legendgroup": "Reservations",
         "marker": {
          "color": "#EF553B",
          "pattern": {
           "shape": ""
          }
         },
         "name": "Reservations",
         "orientation": "v",
         "showlegend": true,
         "textposition": "auto",
         "type": "bar",
         "x": [
          "Reservations"
         ],
         "xaxis": "x",
         "y": {
          "bdata": "Dw==",
          "dtype": "i1"
         },
         "yaxis": "y"
        },
        {
         "hovertemplate": "Servicio=%{x}<br>Cantidad=%{y}<extra></extra>",
         "legendgroup": "cash_national",
         "marker": {
          "color": "#00cc96",
          "pattern": {
           "shape": ""
          }
         },
         "name": "cash_national",
         "orientation": "v",
         "showlegend": true,
         "textposition": "auto",
         "type": "bar",
         "x": [
          "cash_national"
         ],
         "xaxis": "x",
         "y": {
          "bdata": "DA==",
          "dtype": "i1"
         },
         "yaxis": "y"
        },
        {
         "hovertemplate": "Servicio=%{x}<br>Cantidad=%{y}<extra></extra>",
         "legendgroup": "digital_transfer_national",
         "marker": {
          "color": "#ab63fa",
          "pattern": {
           "shape": ""
          }
         },
         "name": "digital_transfer_national",
         "orientation": "v",
         "showlegend": true,
         "textposition": "auto",
         "type": "bar",
         "x": [
          "digital_transfer_national"
         ],
         "xaxis": "x",
         "y": {
          "bdata": "CQ==",
          "dtype": "i1"
         },
         "yaxis": "y"
        },
        {
         "hovertemplate": "Servicio=%{x}<br>Cantidad=%{y}<extra></extra>",
         "legendgroup": "reservations",
         "marker": {
          "color": "#FFA15A",
          "pattern": {
           "shape": ""
          }
         },
         "name": "reservations",
         "orientation": "v",
         "showlegend": true,
         "textposition": "auto",
         "type": "bar",
         "x": [
          "reservations"
         ],
         "xaxis": "x",
         "y": {
          "bdata": "CA==",
          "dtype": "i1"
         },
         "yaxis": "y"
        },
        {
         "hovertemplate": "Servicio=%{x}<br>Cantidad=%{y}<extra></extra>",
         "legendgroup": "power_generator",
         "marker": {
          "color": "#19d3f3",
          "pattern": {
           "shape": ""
          }
         },
         "name": "power_generator",
         "orientation": "v",
         "showlegend": true,
         "textposition": "auto",
         "type": "bar",
         "x": [
          "power_generator"
         ],
         "xaxis": "x",
         "y": {
          "bdata": "CA==",
          "dtype": "i1"
         },
         "yaxis": "y"
        },
        {
         "hovertemplate": "Servicio=%{x}<br>Cantidad=%{y}<extra></extra>",
         "legendgroup": "parking",
         "marker": {
          "color": "#FF6692",
          "pattern": {
           "shape": ""
          }
         },
         "name": "parking",
         "orientation": "v",
         "showlegend": true,
         "textposition": "auto",
         "type": "bar",
         "x": [
          "parking"
         ],
         "xaxis": "x",
         "y": {
          "bdata": "Bw==",
          "dtype": "i1"
         },
         "yaxis": "y"
        },
        {
         "hovertemplate": "Servicio=%{x}<br>Cantidad=%{y}<extra></extra>",
         "legendgroup": "Efectivo",
         "marker": {
          "color": "#B6E880",
          "pattern": {
           "shape": ""
          }
         },
         "name": "Efectivo",
         "orientation": "v",
         "showlegend": true,
         "textposition": "auto",
         "type": "bar",
         "x": [
          "Efectivo"
         ],
         "xaxis": "x",
         "y": {
          "bdata": "BA==",
          "dtype": "i1"
         },
         "yaxis": "y"
        },
        {
         "hovertemplate": "Servicio=%{x}<br>Cantidad=%{y}<extra></extra>",
         "legendgroup": "Cash_national",
         "marker": {
          "color": "#FF97FF",
          "pattern": {
           "shape": ""
          }
         },
         "name": "Cash_national",
         "orientation": "v",
         "showlegend": true,
         "textposition": "auto",
         "type": "bar",
         "x": [
          "Cash_national"
         ],
         "xaxis": "x",
         "y": {
          "bdata": "BA==",
          "dtype": "i1"
         },
         "yaxis": "y"
        },
        {
         "hovertemplate": "Servicio=%{x}<br>Cantidad=%{y}<extra></extra>",
         "legendgroup": "A la carta",
         "marker": {
          "color": "#FECB52",
          "pattern": {
           "shape": ""
          }
         },
         "name": "A la carta",
         "orientation": "v",
         "showlegend": true,
         "textposition": "auto",
         "type": "bar",
         "x": [
          "A la carta"
         ],
         "xaxis": "x",
         "y": {
          "bdata": "BA==",
          "dtype": "i1"
         },
         "yaxis": "y"
        },
        {
         "hovertemplate": "Servicio=%{x}<br>Cantidad=%{y}<extra></extra>",
         "legendgroup": "Reservas",
         "marker": {
          "color": "#636efa",
          "pattern": {
           "shape": ""
          }
         },
         "name": "Reservas",
         "orientation": "v",
         "showlegend": true,
         "textposition": "auto",
         "type": "bar",
         "x": [
          "Reservas"
         ],
         "xaxis": "x",
         "y": {
          "bdata": "BA==",
          "dtype": "i1"
         },
         "yaxis": "y"
        },
        {
         "hovertemplate": "Servicio=%{x}<br>Cantidad=%{y}<extra></extra>",
         "legendgroup": "Servicio de mesa",
         "marker": {
          "color": "#EF553B",
          "pattern": {
           "shape": ""
          }
         },
         "name": "Servicio de mesa",
         "orientation": "v",
         "showlegend": true,
         "textposition": "auto",
         "type": "bar",
         "x": [
          "Servicio de mesa"
         ],
         "xaxis": "x",
         "y": {
          "bdata": "Aw==",
          "dtype": "i1"
         },
         "yaxis": "y"
        },
        {
         "hovertemplate": "Servicio=%{x}<br>Cantidad=%{y}<extra></extra>",
         "legendgroup": "child_care",
         "marker": {
          "color": "#00cc96",
          "pattern": {
           "shape": ""
          }
         },
         "name": "child_care",
         "orientation": "v",
         "showlegend": true,
         "textposition": "auto",
         "type": "bar",
         "x": [
          "child_care"
         ],
         "xaxis": "x",
         "y": {
          "bdata": "Aw==",
          "dtype": "i1"
         },
         "yaxis": "y"
        },
        {
         "hovertemplate": "Servicio=%{x}<br>Cantidad=%{y}<extra></extra>",
         "legendgroup": "delivery_areas",
         "marker": {
          "color": "#ab63fa",
          "pattern": {
           "shape": ""
          }
         },
         "name": "delivery_areas",
         "orientation": "v",
         "showlegend": true,
         "textposition": "auto",
         "type": "bar",
         "x": [
          "delivery_areas"
         ],
         "xaxis": "x",
         "y": {
          "bdata": "Aw==",
          "dtype": "i1"
         },
         "yaxis": "y"
        },
        {
         "hovertemplate": "Servicio=%{x}<br>Cantidad=%{y}<extra></extra>",
         "legendgroup": "Smoking Area",
         "marker": {
          "color": "#FFA15A",
          "pattern": {
           "shape": ""
          }
         },
         "name": "Smoking Area",
         "orientation": "v",
         "showlegend": true,
         "textposition": "auto",
         "type": "bar",
         "x": [
          "Smoking Area"
         ],
         "xaxis": "x",
         "y": {
          "bdata": "Aw==",
          "dtype": "i1"
         },
         "yaxis": "y"
        },
        {
         "hovertemplate": "Servicio=%{x}<br>Cantidad=%{y}<extra></extra>",
         "legendgroup": "Wifi",
         "marker": {
          "color": "#19d3f3",
          "pattern": {
           "shape": ""
          }
         },
         "name": "Wifi",
         "orientation": "v",
         "showlegend": true,
         "textposition": "auto",
         "type": "bar",
         "x": [
          "Wifi"
         ],
         "xaxis": "x",
         "y": {
          "bdata": "Aw==",
          "dtype": "i1"
         },
         "yaxis": "y"
        },
        {
         "hovertemplate": "Servicio=%{x}<br>Cantidad=%{y}<extra></extra>",
         "legendgroup": "Transferencia",
         "marker": {
          "color": "#FF6692",
          "pattern": {
           "shape": ""
          }
         },
         "name": "Transferencia",
         "orientation": "v",
         "showlegend": true,
         "textposition": "auto",
         "type": "bar",
         "x": [
          "Transferencia"
         ],
         "xaxis": "x",
         "y": {
          "bdata": "Aw==",
          "dtype": "i1"
         },
         "yaxis": "y"
        },
        {
         "hovertemplate": "Servicio=%{x}<br>Cantidad=%{y}<extra></extra>",
         "legendgroup": "Digital_transfer_national",
         "marker": {
          "color": "#B6E880",
          "pattern": {
           "shape": ""
          }
         },
         "name": "Digital_transfer_national",
         "orientation": "v",
         "showlegend": true,
         "textposition": "auto",
         "type": "bar",
         "x": [
          "Digital_transfer_national"
         ],
         "xaxis": "x",
         "y": {
          "bdata": "Aw==",
          "dtype": "i1"
         },
         "yaxis": "y"
        },
        {
         "hovertemplate": "Servicio=%{x}<br>Cantidad=%{y}<extra></extra>",
         "legendgroup": "Sanitario",
         "marker": {
          "color": "#FF97FF",
          "pattern": {
           "shape": ""
          }
         },
         "name": "Sanitario",
         "orientation": "v",
         "showlegend": true,
         "textposition": "auto",
         "type": "bar",
         "x": [
          "Sanitario"
         ],
         "xaxis": "x",
         "y": {
          "bdata": "Aw==",
          "dtype": "i1"
         },
         "yaxis": "y"
        },
        {
         "hovertemplate": "Servicio=%{x}<br>Cantidad=%{y}<extra></extra>",
         "legendgroup": "Tiene bar",
         "marker": {
          "color": "#FECB52",
          "pattern": {
           "shape": ""
          }
         },
         "name": "Tiene bar",
         "orientation": "v",
         "showlegend": true,
         "textposition": "auto",
         "type": "bar",
         "x": [
          "Tiene bar"
         ],
         "xaxis": "x",
         "y": {
          "bdata": "Aw==",
          "dtype": "i1"
         },
         "yaxis": "y"
        },
        {
         "hovertemplate": "Servicio=%{x}<br>Cantidad=%{y}<extra></extra>",
         "legendgroup": "delivery",
         "marker": {
          "color": "#636efa",
          "pattern": {
           "shape": ""
          }
         },
         "name": "delivery",
         "orientation": "v",
         "showlegend": true,
         "textposition": "auto",
         "type": "bar",
         "x": [
          "delivery"
         ],
         "xaxis": "x",
         "y": {
          "bdata": "Aw==",
          "dtype": "i1"
         },
         "yaxis": "y"
        },
        {
         "hovertemplate": "Servicio=%{x}<br>Cantidad=%{y}<extra></extra>",
         "legendgroup": "privado",
         "marker": {
          "color": "#EF553B",
          "pattern": {
           "shape": ""
          }
         },
         "name": "privado",
         "orientation": "v",
         "showlegend": true,
         "textposition": "auto",
         "type": "bar",
         "x": [
          "privado"
         ],
         "xaxis": "x",
         "y": {
          "bdata": "Aw==",
          "dtype": "i1"
         },
         "yaxis": "y"
        },
        {
         "hovertemplate": "Servicio=%{x}<br>Cantidad=%{y}<extra></extra>",
         "legendgroup": "reserves",
         "marker": {
          "color": "#00cc96",
          "pattern": {
           "shape": ""
          }
         },
         "name": "reserves",
         "orientation": "v",
         "showlegend": true,
         "textposition": "auto",
         "type": "bar",
         "x": [
          "reserves"
         ],
         "xaxis": "x",
         "y": {
          "bdata": "Ag==",
          "dtype": "i1"
         },
         "yaxis": "y"
        },
        {
         "hovertemplate": "Servicio=%{x}<br>Cantidad=%{y}<extra></extra>",
         "legendgroup": "payment_methods",
         "marker": {
          "color": "#ab63fa",
          "pattern": {
           "shape": ""
          }
         },
         "name": "payment_methods",
         "orientation": "v",
         "showlegend": true,
         "textposition": "auto",
         "type": "bar",
         "x": [
          "payment_methods"
         ],
         "xaxis": "x",
         "y": {
          "bdata": "Ag==",
          "dtype": "i1"
         },
         "yaxis": "y"
        },
        {
         "hovertemplate": "Servicio=%{x}<br>Cantidad=%{y}<extra></extra>",
         "legendgroup": "PaymentMethod",
         "marker": {
          "color": "#FFA15A",
          "pattern": {
           "shape": ""
          }
         },
         "name": "PaymentMethod",
         "orientation": "v",
         "showlegend": true,
         "textposition": "auto",
         "type": "bar",
         "x": [
          "PaymentMethod"
         ],
         "xaxis": "x",
         "y": {
          "bdata": "Ag==",
          "dtype": "i1"
         },
         "yaxis": "y"
        },
        {
         "hovertemplate": "Servicio=%{x}<br>Cantidad=%{y}<extra></extra>",
         "legendgroup": "Power_generator",
         "marker": {
          "color": "#19d3f3",
          "pattern": {
           "shape": ""
          }
         },
         "name": "Power_generator",
         "orientation": "v",
         "showlegend": true,
         "textposition": "auto",
         "type": "bar",
         "x": [
          "Power_generator"
         ],
         "xaxis": "x",
         "y": {
          "bdata": "Ag==",
          "dtype": "i1"
         },
         "yaxis": "y"
        },
        {
         "hovertemplate": "Servicio=%{x}<br>Cantidad=%{y}<extra></extra>",
         "legendgroup": "Bar completo",
         "marker": {
          "color": "#FF6692",
          "pattern": {
           "shape": ""
          }
         },
         "name": "Bar completo",
         "orientation": "v",
         "showlegend": true,
         "textposition": "auto",
         "type": "bar",
         "x": [
          "Bar completo"
         ],
         "xaxis": "x",
         "y": {
          "bdata": "Ag==",
          "dtype": "i1"
         },
         "yaxis": "y"
        },
        {
         "hovertemplate": "Servicio=%{x}<br>Cantidad=%{y}<extra></extra>",
         "legendgroup": "Sirve alcohol",
         "marker": {
          "color": "#B6E880",
          "pattern": {
           "shape": ""
          }
         },
         "name": "Sirve alcohol",
         "orientation": "v",
         "showlegend": true,
         "textposition": "auto",
         "type": "bar",
         "x": [
          "Sirve alcohol"
         ],
         "xaxis": "x",
         "y": {
          "bdata": "Ag==",
          "dtype": "i1"
         },
         "yaxis": "y"
        },
        {
         "hovertemplate": "Servicio=%{x}<br>Cantidad=%{y}<extra></extra>",
         "legendgroup": "Tarjeta",
         "marker": {
          "color": "#FF97FF",
          "pattern": {
           "shape": ""
          }
         },
         "name": "Tarjeta",
         "orientation": "v",
         "showlegend": true,
         "textposition": "auto",
         "type": "bar",
         "x": [
          "Tarjeta"
         ],
         "xaxis": "x",
         "y": {
          "bdata": "Ag==",
          "dtype": "i1"
         },
         "yaxis": "y"
        },
        {
         "hovertemplate": "Servicio=%{x}<br>Cantidad=%{y}<extra></extra>",
         "legendgroup": "Payment_methods",
         "marker": {
          "color": "#FECB52",
          "pattern": {
           "shape": ""
          }
         },
         "name": "Payment_methods",
         "orientation": "v",
         "showlegend": true,
         "textposition": "auto",
         "type": "bar",
         "x": [
          "Payment_methods"
         ],
         "xaxis": "x",
         "y": {
          "bdata": "Ag==",
          "dtype": "i1"
         },
         "yaxis": "y"
        },
        {
         "hovertemplate": "Servicio=%{x}<br>Cantidad=%{y}<extra></extra>",
         "legendgroup": "Delivery_areas",
         "marker": {
          "color": "#636efa",
          "pattern": {
           "shape": ""
          }
         },
         "name": "Delivery_areas",
         "orientation": "v",
         "showlegend": true,
         "textposition": "auto",
         "type": "bar",
         "x": [
          "Delivery_areas"
         ],
         "xaxis": "x",
         "y": {
          "bdata": "Ag==",
          "dtype": "i1"
         },
         "yaxis": "y"
        },
        {
         "hovertemplate": "Servicio=%{x}<br>Cantidad=%{y}<extra></extra>",
         "legendgroup": "Reservaciones",
         "marker": {
          "color": "#EF553B",
          "pattern": {
           "shape": ""
          }
         },
         "name": "Reservaciones",
         "orientation": "v",
         "showlegend": true,
         "textposition": "auto",
         "type": "bar",
         "x": [
          "Reservaciones"
         ],
         "xaxis": "x",
         "y": {
          "bdata": "Ag==",
          "dtype": "i1"
         },
         "yaxis": "y"
        },
        {
         "hovertemplate": "Servicio=%{x}<br>Cantidad=%{y}<extra></extra>",
         "legendgroup": "SmokingArea",
         "marker": {
          "color": "#00cc96",
          "pattern": {
           "shape": ""
          }
         },
         "name": "SmokingArea",
         "orientation": "v",
         "showlegend": true,
         "textposition": "auto",
         "type": "bar",
         "x": [
          "SmokingArea"
         ],
         "xaxis": "x",
         "y": {
          "bdata": "AQ==",
          "dtype": "i1"
         },
         "yaxis": "y"
        },
        {
         "hovertemplate": "Servicio=%{x}<br>Cantidad=%{y}<extra></extra>",
         "legendgroup": "Pets",
         "marker": {
          "color": "#ab63fa",
          "pattern": {
           "shape": ""
          }
         },
         "name": "Pets",
         "orientation": "v",
         "showlegend": true,
         "textposition": "auto",
         "type": "bar",
         "x": [
          "Pets"
         ],
         "xaxis": "x",
         "y": {
          "bdata": "AQ==",
          "dtype": "i1"
         },
         "yaxis": "y"
        },
        {
         "hovertemplate": "Servicio=%{x}<br>Cantidad=%{y}<extra></extra>",
         "legendgroup": "A la Carta",
         "marker": {
          "color": "#FFA15A",
          "pattern": {
           "shape": ""
          }
         },
         "name": "A la Carta",
         "orientation": "v",
         "showlegend": true,
         "textposition": "auto",
         "type": "bar",
         "x": [
          "A la Carta"
         ],
         "xaxis": "x",
         "y": {
          "bdata": "AQ==",
          "dtype": "i1"
         },
         "yaxis": "y"
        },
        {
         "hovertemplate": "Servicio=%{x}<br>Cantidad=%{y}<extra></extra>",
         "legendgroup": "Delivery",
         "marker": {
          "color": "#19d3f3",
          "pattern": {
           "shape": ""
          }
         },
         "name": "Delivery",
         "orientation": "v",
         "showlegend": true,
         "textposition": "auto",
         "type": "bar",
         "x": [
          "Delivery"
         ],
         "xaxis": "x",
         "y": {
          "bdata": "AQ==",
          "dtype": "i1"
         },
         "yaxis": "y"
        },
        {
         "hovertemplate": "Servicio=%{x}<br>Cantidad=%{y}<extra></extra>",
         "legendgroup": "WiFi",
         "marker": {
          "color": "#FF6692",
          "pattern": {
           "shape": ""
          }
         },
         "name": "WiFi",
         "orientation": "v",
         "showlegend": true,
         "textposition": "auto",
         "type": "bar",
         "x": [
          "WiFi"
         ],
         "xaxis": "x",
         "y": {
          "bdata": "AQ==",
          "dtype": "i1"
         },
         "yaxis": "y"
        },
        {
         "hovertemplate": "Servicio=%{x}<br>Cantidad=%{y}<extra></extra>",
         "legendgroup": "A domicilio",
         "marker": {
          "color": "#B6E880",
          "pattern": {
           "shape": ""
          }
         },
         "name": "A domicilio",
         "orientation": "v",
         "showlegend": true,
         "textposition": "auto",
         "type": "bar",
         "x": [
          "A domicilio"
         ],
         "xaxis": "x",
         "y": {
          "bdata": "AQ==",
          "dtype": "i1"
         },
         "yaxis": "y"
        },
        {
         "hovertemplate": "Servicio=%{x}<br>Cantidad=%{y}<extra></extra>",
         "legendgroup": "usd",
         "marker": {
          "color": "#FF97FF",
          "pattern": {
           "shape": ""
          }
         },
         "name": "usd",
         "orientation": "v",
         "showlegend": true,
         "textposition": "auto",
         "type": "bar",
         "x": [
          "usd"
         ],
         "xaxis": "x",
         "y": {
          "bdata": "AQ==",
          "dtype": "i1"
         },
         "yaxis": "y"
        },
        {
         "hovertemplate": "Servicio=%{x}<br>Cantidad=%{y}<extra></extra>",
         "legendgroup": "mlc",
         "marker": {
          "color": "#FECB52",
          "pattern": {
           "shape": ""
          }
         },
         "name": "mlc",
         "orientation": "v",
         "showlegend": true,
         "textposition": "auto",
         "type": "bar",
         "x": [
          "mlc"
         ],
         "xaxis": "x",
         "y": {
          "bdata": "AQ==",
          "dtype": "i1"
         },
         "yaxis": "y"
        },
        {
         "hovertemplate": "Servicio=%{x}<br>Cantidad=%{y}<extra></extra>",
         "legendgroup": "disable_support",
         "marker": {
          "color": "#636efa",
          "pattern": {
           "shape": ""
          }
         },
         "name": "disable_support",
         "orientation": "v",
         "showlegend": true,
         "textposition": "auto",
         "type": "bar",
         "x": [
          "disable_support"
         ],
         "xaxis": "x",
         "y": {
          "bdata": "AQ==",
          "dtype": "i1"
         },
         "yaxis": "y"
        },
        {
         "hovertemplate": "Servicio=%{x}<br>Cantidad=%{y}<extra></extra>",
         "legendgroup": "zelle",
         "marker": {
          "color": "#EF553B",
          "pattern": {
           "shape": ""
          }
         },
         "name": "zelle",
         "orientation": "v",
         "showlegend": true,
         "textposition": "auto",
         "type": "bar",
         "x": [
          "zelle"
         ],
         "xaxis": "x",
         "y": {
          "bdata": "AQ==",
          "dtype": "i1"
         },
         "yaxis": "y"
        },
        {
         "hovertemplate": "Servicio=%{x}<br>Cantidad=%{y}<extra></extra>",
         "legendgroup": "Banos",
         "marker": {
          "color": "#00cc96",
          "pattern": {
           "shape": ""
          }
         },
         "name": "Banos",
         "orientation": "v",
         "showlegend": true,
         "textposition": "auto",
         "type": "bar",
         "x": [
          "Banos"
         ],
         "xaxis": "x",
         "y": {
          "bdata": "AQ==",
          "dtype": "i1"
         },
         "yaxis": "y"
        },
        {
         "hovertemplate": "Servicio=%{x}<br>Cantidad=%{y}<extra></extra>",
         "legendgroup": "Bar en el lugar",
         "marker": {
          "color": "#ab63fa",
          "pattern": {
           "shape": ""
          }
         },
         "name": "Bar en el lugar",
         "orientation": "v",
         "showlegend": true,
         "textposition": "auto",
         "type": "bar",
         "x": [
          "Bar en el lugar"
         ],
         "xaxis": "x",
         "y": {
          "bdata": "AQ==",
          "dtype": "i1"
         },
         "yaxis": "y"
        },
        {
         "hovertemplate": "Servicio=%{x}<br>Cantidad=%{y}<extra></extra>",
         "legendgroup": "tiene bar",
         "marker": {
          "color": "#FFA15A",
          "pattern": {
           "shape": ""
          }
         },
         "name": "tiene bar",
         "orientation": "v",
         "showlegend": true,
         "textposition": "auto",
         "type": "bar",
         "x": [
          "tiene bar"
         ],
         "xaxis": "x",
         "y": {
          "bdata": "AQ==",
          "dtype": "i1"
         },
         "yaxis": "y"
        },
        {
         "hovertemplate": "Servicio=%{x}<br>Cantidad=%{y}<extra></extra>",
         "legendgroup": "sanitario",
         "marker": {
          "color": "#19d3f3",
          "pattern": {
           "shape": ""
          }
         },
         "name": "sanitario",
         "orientation": "v",
         "showlegend": true,
         "textposition": "auto",
         "type": "bar",
         "x": [
          "sanitario"
         ],
         "xaxis": "x",
         "y": {
          "bdata": "AQ==",
          "dtype": "i1"
         },
         "yaxis": "y"
        },
        {
         "hovertemplate": "Servicio=%{x}<br>Cantidad=%{y}<extra></extra>",
         "legendgroup": "Smoking area",
         "marker": {
          "color": "#FF6692",
          "pattern": {
           "shape": ""
          }
         },
         "name": "Smoking area",
         "orientation": "v",
         "showlegend": true,
         "textposition": "auto",
         "type": "bar",
         "x": [
          "Smoking area"
         ],
         "xaxis": "x",
         "y": {
          "bdata": "AQ==",
          "dtype": "i1"
         },
         "yaxis": "y"
        },
        {
         "hovertemplate": "Servicio=%{x}<br>Cantidad=%{y}<extra></extra>",
         "legendgroup": "Home service",
         "marker": {
          "color": "#B6E880",
          "pattern": {
           "shape": ""
          }
         },
         "name": "Home service",
         "orientation": "v",
         "showlegend": true,
         "textposition": "auto",
         "type": "bar",
         "x": [
          "Home service"
         ],
         "xaxis": "x",
         "y": {
          "bdata": "AQ==",
          "dtype": "i1"
         },
         "yaxis": "y"
        },
        {
         "hovertemplate": "Servicio=%{x}<br>Cantidad=%{y}<extra></extra>",
         "legendgroup": "Wheelchair ramp",
         "marker": {
          "color": "#FF97FF",
          "pattern": {
           "shape": ""
          }
         },
         "name": "Wheelchair ramp",
         "orientation": "v",
         "showlegend": true,
         "textposition": "auto",
         "type": "bar",
         "x": [
          "Wheelchair ramp"
         ],
         "xaxis": "x",
         "y": {
          "bdata": "AQ==",
          "dtype": "i1"
         },
         "yaxis": "y"
        },
        {
         "hovertemplate": "Servicio=%{x}<br>Cantidad=%{y}<extra></extra>",
         "legendgroup": "Infant stool",
         "marker": {
          "color": "#FECB52",
          "pattern": {
           "shape": ""
          }
         },
         "name": "Infant stool",
         "orientation": "v",
         "showlegend": true,
         "textposition": "auto",
         "type": "bar",
         "x": [
          "Infant stool"
         ],
         "xaxis": "x",
         "y": {
          "bdata": "AQ==",
          "dtype": "i1"
         },
         "yaxis": "y"
        },
        {
         "hovertemplate": "Servicio=%{x}<br>Cantidad=%{y}<extra></extra>",
         "legendgroup": "Entretenimiento",
         "marker": {
          "color": "#636efa",
          "pattern": {
           "shape": ""
          }
         },
         "name": "Entretenimiento",
         "orientation": "v",
         "showlegend": true,
         "textposition": "auto",
         "type": "bar",
         "x": [
          "Entretenimiento"
         ],
         "xaxis": "x",
         "y": {
          "bdata": "AQ==",
          "dtype": "i1"
         },
         "yaxis": "y"
        },
        {
         "hovertemplate": "Servicio=%{x}<br>Cantidad=%{y}<extra></extra>",
         "legendgroup": "Terraza exterior",
         "marker": {
          "color": "#EF553B",
          "pattern": {
           "shape": ""
          }
         },
         "name": "Terraza exterior",
         "orientation": "v",
         "showlegend": true,
         "textposition": "auto",
         "type": "bar",
         "x": [
          "Terraza exterior"
         ],
         "xaxis": "x",
         "y": {
          "bdata": "AQ==",
          "dtype": "i1"
         },
         "yaxis": "y"
        },
        {
         "hovertemplate": "Servicio=%{x}<br>Cantidad=%{y}<extra></extra>",
         "legendgroup": "Restaurante privado",
         "marker": {
          "color": "#00cc96",
          "pattern": {
           "shape": ""
          }
         },
         "name": "Restaurante privado",
         "orientation": "v",
         "showlegend": true,
         "textposition": "auto",
         "type": "bar",
         "x": [
          "Restaurante privado"
         ],
         "xaxis": "x",
         "y": {
          "bdata": "AQ==",
          "dtype": "i1"
         },
         "yaxis": "y"
        },
        {
         "hovertemplate": "Servicio=%{x}<br>Cantidad=%{y}<extra></extra>",
         "legendgroup": "Aparcamiento en la calle",
         "marker": {
          "color": "#ab63fa",
          "pattern": {
           "shape": ""
          }
         },
         "name": "Aparcamiento en la calle",
         "orientation": "v",
         "showlegend": true,
         "textposition": "auto",
         "type": "bar",
         "x": [
          "Aparcamiento en la calle"
         ],
         "xaxis": "x",
         "y": {
          "bdata": "AQ==",
          "dtype": "i1"
         },
         "yaxis": "y"
        },
        {
         "hovertemplate": "Servicio=%{x}<br>Cantidad=%{y}<extra></extra>",
         "legendgroup": "Acceso para discapacitados",
         "marker": {
          "color": "#FFA15A",
          "pattern": {
           "shape": ""
          }
         },
         "name": "Acceso para discapacitados",
         "orientation": "v",
         "showlegend": true,
         "textposition": "auto",
         "type": "bar",
         "x": [
          "Acceso para discapacitados"
         ],
         "xaxis": "x",
         "y": {
          "bdata": "AQ==",
          "dtype": "i1"
         },
         "yaxis": "y"
        },
        {
         "hovertemplate": "Servicio=%{x}<br>Cantidad=%{y}<extra></extra>",
         "legendgroup": "Television",
         "marker": {
          "color": "#19d3f3",
          "pattern": {
           "shape": ""
          }
         },
         "name": "Television",
         "orientation": "v",
         "showlegend": true,
         "textposition": "auto",
         "type": "bar",
         "x": [
          "Television"
         ],
         "xaxis": "x",
         "y": {
          "bdata": "AQ==",
          "dtype": "i1"
         },
         "yaxis": "y"
        },
        {
         "hovertemplate": "Servicio=%{x}<br>Cantidad=%{y}<extra></extra>",
         "legendgroup": "Estacionamiento gratuito en la calle",
         "marker": {
          "color": "#FF6692",
          "pattern": {
           "shape": ""
          }
         },
         "name": "Estacionamiento gratuito en la calle",
         "orientation": "v",
         "showlegend": true,
         "textposition": "auto",
         "type": "bar",
         "x": [
          "Estacionamiento gratuito en la calle"
         ],
         "xaxis": "x",
         "y": {
          "bdata": "AQ==",
          "dtype": "i1"
         },
         "yaxis": "y"
        },
        {
         "hovertemplate": "Servicio=%{x}<br>Cantidad=%{y}<extra></extra>",
         "legendgroup": "Acepta reservas",
         "marker": {
          "color": "#B6E880",
          "pattern": {
           "shape": ""
          }
         },
         "name": "Acepta reservas",
         "orientation": "v",
         "showlegend": true,
         "textposition": "auto",
         "type": "bar",
         "x": [
          "Acepta reservas"
         ],
         "xaxis": "x",
         "y": {
          "bdata": "AQ==",
          "dtype": "i1"
         },
         "yaxis": "y"
        },
        {
         "hovertemplate": "Servicio=%{x}<br>Cantidad=%{y}<extra></extra>",
         "legendgroup": "Musica en directo",
         "marker": {
          "color": "#FF97FF",
          "pattern": {
           "shape": ""
          }
         },
         "name": "Musica en directo",
         "orientation": "v",
         "showlegend": true,
         "textposition": "auto",
         "type": "bar",
         "x": [
          "Musica en directo"
         ],
         "xaxis": "x",
         "y": {
          "bdata": "AQ==",
          "dtype": "i1"
         },
         "yaxis": "y"
        },
        {
         "hovertemplate": "Servicio=%{x}<br>Cantidad=%{y}<extra></extra>",
         "legendgroup": "Capacidad",
         "marker": {
          "color": "#FECB52",
          "pattern": {
           "shape": ""
          }
         },
         "name": "Capacidad",
         "orientation": "v",
         "showlegend": true,
         "textposition": "auto",
         "type": "bar",
         "x": [
          "Capacidad"
         ],
         "xaxis": "x",
         "y": {
          "bdata": "AQ==",
          "dtype": "i1"
         },
         "yaxis": "y"
        },
        {
         "hovertemplate": "Servicio=%{x}<br>Cantidad=%{y}<extra></extra>",
         "legendgroup": "plant",
         "marker": {
          "color": "#636efa",
          "pattern": {
           "shape": ""
          }
         },
         "name": "plant",
         "orientation": "v",
         "showlegend": true,
         "textposition": "auto",
         "type": "bar",
         "x": [
          "plant"
         ],
         "xaxis": "x",
         "y": {
          "bdata": "AQ==",
          "dtype": "i1"
         },
         "yaxis": "y"
        },
        {
         "hovertemplate": "Servicio=%{x}<br>Cantidad=%{y}<extra></extra>",
         "legendgroup": "Asiento",
         "marker": {
          "color": "#EF553B",
          "pattern": {
           "shape": ""
          }
         },
         "name": "Asiento",
         "orientation": "v",
         "showlegend": true,
         "textposition": "auto",
         "type": "bar",
         "x": [
          "Asiento"
         ],
         "xaxis": "x",
         "y": {
          "bdata": "AQ==",
          "dtype": "i1"
         },
         "yaxis": "y"
        },
        {
         "hovertemplate": "Servicio=%{x}<br>Cantidad=%{y}<extra></extra>",
         "legendgroup": "Wi-Fi gratuito",
         "marker": {
          "color": "#00cc96",
          "pattern": {
           "shape": ""
          }
         },
         "name": "Wi-Fi gratuito",
         "orientation": "v",
         "showlegend": true,
         "textposition": "auto",
         "type": "bar",
         "x": [
          "Wi-Fi gratuito"
         ],
         "xaxis": "x",
         "y": {
          "bdata": "AQ==",
          "dtype": "i1"
         },
         "yaxis": "y"
        },
        {
         "hovertemplate": "Servicio=%{x}<br>Cantidad=%{y}<extra></extra>",
         "legendgroup": "Estacionamiento",
         "marker": {
          "color": "#ab63fa",
          "pattern": {
           "shape": ""
          }
         },
         "name": "Estacionamiento",
         "orientation": "v",
         "showlegend": true,
         "textposition": "auto",
         "type": "bar",
         "x": [
          "Estacionamiento"
         ],
         "xaxis": "x",
         "y": {
          "bdata": "AQ==",
          "dtype": "i1"
         },
         "yaxis": "y"
        },
        {
         "hovertemplate": "Servicio=%{x}<br>Cantidad=%{y}<extra></extra>",
         "legendgroup": "Generador electrico",
         "marker": {
          "color": "#FFA15A",
          "pattern": {
           "shape": ""
          }
         },
         "name": "Generador electrico",
         "orientation": "v",
         "showlegend": true,
         "textposition": "auto",
         "type": "bar",
         "x": [
          "Generador electrico"
         ],
         "xaxis": "x",
         "y": {
          "bdata": "AQ==",
          "dtype": "i1"
         },
         "yaxis": "y"
        },
        {
         "hovertemplate": "Servicio=%{x}<br>Cantidad=%{y}<extra></extra>",
         "legendgroup": "reservation",
         "marker": {
          "color": "#19d3f3",
          "pattern": {
           "shape": ""
          }
         },
         "name": "reservation",
         "orientation": "v",
         "showlegend": true,
         "textposition": "auto",
         "type": "bar",
         "x": [
          "reservation"
         ],
         "xaxis": "x",
         "y": {
          "bdata": "AQ==",
          "dtype": "i1"
         },
         "yaxis": "y"
        },
        {
         "hovertemplate": "Servicio=%{x}<br>Cantidad=%{y}<extra></extra>",
         "legendgroup": "Parqueo",
         "marker": {
          "color": "#FF6692",
          "pattern": {
           "shape": ""
          }
         },
         "name": "Parqueo",
         "orientation": "v",
         "showlegend": true,
         "textposition": "auto",
         "type": "bar",
         "x": [
          "Parqueo"
         ],
         "xaxis": "x",
         "y": {
          "bdata": "AQ==",
          "dtype": "i1"
         },
         "yaxis": "y"
        },
        {
         "hovertemplate": "Servicio=%{x}<br>Cantidad=%{y}<extra></extra>",
         "legendgroup": "Generador Electrico",
         "marker": {
          "color": "#B6E880",
          "pattern": {
           "shape": ""
          }
         },
         "name": "Generador Electrico",
         "orientation": "v",
         "showlegend": true,
         "textposition": "auto",
         "type": "bar",
         "x": [
          "Generador Electrico"
         ],
         "xaxis": "x",
         "y": {
          "bdata": "AQ==",
          "dtype": "i1"
         },
         "yaxis": "y"
        },
        {
         "hovertemplate": "Servicio=%{x}<br>Cantidad=%{y}<extra></extra>",
         "legendgroup": "reserva",
         "marker": {
          "color": "#FF97FF",
          "pattern": {
           "shape": ""
          }
         },
         "name": "reserva",
         "orientation": "v",
         "showlegend": true,
         "textposition": "auto",
         "type": "bar",
         "x": [
          "reserva"
         ],
         "xaxis": "x",
         "y": {
          "bdata": "AQ==",
          "dtype": "i1"
         },
         "yaxis": "y"
        },
        {
         "hovertemplate": "Servicio=%{x}<br>Cantidad=%{y}<extra></extra>",
         "legendgroup": "wifi",
         "marker": {
          "color": "#FECB52",
          "pattern": {
           "shape": ""
          }
         },
         "name": "wifi",
         "orientation": "v",
         "showlegend": true,
         "textposition": "auto",
         "type": "bar",
         "x": [
          "wifi"
         ],
         "xaxis": "x",
         "y": {
          "bdata": "AQ==",
          "dtype": "i1"
         },
         "yaxis": "y"
        },
        {
         "hovertemplate": "Servicio=%{x}<br>Cantidad=%{y}<extra></extra>",
         "legendgroup": "electric generator",
         "marker": {
          "color": "#636efa",
          "pattern": {
           "shape": ""
          }
         },
         "name": "electric generator",
         "orientation": "v",
         "showlegend": true,
         "textposition": "auto",
         "type": "bar",
         "x": [
          "electric generator"
         ],
         "xaxis": "x",
         "y": {
          "bdata": "AQ==",
          "dtype": "i1"
         },
         "yaxis": "y"
        },
        {
         "hovertemplate": "Servicio=%{x}<br>Cantidad=%{y}<extra></extra>",
         "legendgroup": "transferencia",
         "marker": {
          "color": "#EF553B",
          "pattern": {
           "shape": ""
          }
         },
         "name": "transferencia",
         "orientation": "v",
         "showlegend": true,
         "textposition": "auto",
         "type": "bar",
         "x": [
          "transferencia"
         ],
         "xaxis": "x",
         "y": {
          "bdata": "AQ==",
          "dtype": "i1"
         },
         "yaxis": "y"
        },
        {
         "hovertemplate": "Servicio=%{x}<br>Cantidad=%{y}<extra></extra>",
         "legendgroup": "take_away",
         "marker": {
          "color": "#00cc96",
          "pattern": {
           "shape": ""
          }
         },
         "name": "take_away",
         "orientation": "v",
         "showlegend": true,
         "textposition": "auto",
         "type": "bar",
         "x": [
          "take_away"
         ],
         "xaxis": "x",
         "y": {
          "bdata": "AQ==",
          "dtype": "i1"
         },
         "yaxis": "y"
        },
        {
         "hovertemplate": "Servicio=%{x}<br>Cantidad=%{y}<extra></extra>",
         "legendgroup": "reserve",
         "marker": {
          "color": "#ab63fa",
          "pattern": {
           "shape": ""
          }
         },
         "name": "reserve",
         "orientation": "v",
         "showlegend": true,
         "textposition": "auto",
         "type": "bar",
         "x": [
          "reserve"
         ],
         "xaxis": "x",
         "y": {
          "bdata": "AQ==",
          "dtype": "i1"
         },
         "yaxis": "y"
        }
       ],
       "layout": {
        "barmode": "relative",
        "height": 700,
        "legend": {
         "title": {
          "text": "Servicio"
         },
         "tracegroupgap": 0
        },
        "template": {
         "data": {
          "bar": [
           {
            "error_x": {
             "color": "#2a3f5f"
            },
            "error_y": {
             "color": "#2a3f5f"
            },
            "marker": {
             "line": {
              "color": "#E5ECF6",
              "width": 0.5
             },
             "pattern": {
              "fillmode": "overlay",
              "size": 10,
              "solidity": 0.2
             }
            },
            "type": "bar"
           }
          ],
          "barpolar": [
           {
            "marker": {
             "line": {
              "color": "#E5ECF6",
              "width": 0.5
             },
             "pattern": {
              "fillmode": "overlay",
              "size": 10,
              "solidity": 0.2
             }
            },
            "type": "barpolar"
           }
          ],
          "carpet": [
           {
            "aaxis": {
             "endlinecolor": "#2a3f5f",
             "gridcolor": "white",
             "linecolor": "white",
             "minorgridcolor": "white",
             "startlinecolor": "#2a3f5f"
            },
            "baxis": {
             "endlinecolor": "#2a3f5f",
             "gridcolor": "white",
             "linecolor": "white",
             "minorgridcolor": "white",
             "startlinecolor": "#2a3f5f"
            },
            "type": "carpet"
           }
          ],
          "choropleth": [
           {
            "colorbar": {
             "outlinewidth": 0,
             "ticks": ""
            },
            "type": "choropleth"
           }
          ],
          "contour": [
           {
            "colorbar": {
             "outlinewidth": 0,
             "ticks": ""
            },
            "colorscale": [
             [
              0,
              "#0d0887"
             ],
             [
              0.1111111111111111,
              "#46039f"
             ],
             [
              0.2222222222222222,
              "#7201a8"
             ],
             [
              0.3333333333333333,
              "#9c179e"
             ],
             [
              0.4444444444444444,
              "#bd3786"
             ],
             [
              0.5555555555555556,
              "#d8576b"
             ],
             [
              0.6666666666666666,
              "#ed7953"
             ],
             [
              0.7777777777777778,
              "#fb9f3a"
             ],
             [
              0.8888888888888888,
              "#fdca26"
             ],
             [
              1,
              "#f0f921"
             ]
            ],
            "type": "contour"
           }
          ],
          "contourcarpet": [
           {
            "colorbar": {
             "outlinewidth": 0,
             "ticks": ""
            },
            "type": "contourcarpet"
           }
          ],
          "heatmap": [
           {
            "colorbar": {
             "outlinewidth": 0,
             "ticks": ""
            },
            "colorscale": [
             [
              0,
              "#0d0887"
             ],
             [
              0.1111111111111111,
              "#46039f"
             ],
             [
              0.2222222222222222,
              "#7201a8"
             ],
             [
              0.3333333333333333,
              "#9c179e"
             ],
             [
              0.4444444444444444,
              "#bd3786"
             ],
             [
              0.5555555555555556,
              "#d8576b"
             ],
             [
              0.6666666666666666,
              "#ed7953"
             ],
             [
              0.7777777777777778,
              "#fb9f3a"
             ],
             [
              0.8888888888888888,
              "#fdca26"
             ],
             [
              1,
              "#f0f921"
             ]
            ],
            "type": "heatmap"
           }
          ],
          "histogram": [
           {
            "marker": {
             "pattern": {
              "fillmode": "overlay",
              "size": 10,
              "solidity": 0.2
             }
            },
            "type": "histogram"
           }
          ],
          "histogram2d": [
           {
            "colorbar": {
             "outlinewidth": 0,
             "ticks": ""
            },
            "colorscale": [
             [
              0,
              "#0d0887"
             ],
             [
              0.1111111111111111,
              "#46039f"
             ],
             [
              0.2222222222222222,
              "#7201a8"
             ],
             [
              0.3333333333333333,
              "#9c179e"
             ],
             [
              0.4444444444444444,
              "#bd3786"
             ],
             [
              0.5555555555555556,
              "#d8576b"
             ],
             [
              0.6666666666666666,
              "#ed7953"
             ],
             [
              0.7777777777777778,
              "#fb9f3a"
             ],
             [
              0.8888888888888888,
              "#fdca26"
             ],
             [
              1,
              "#f0f921"
             ]
            ],
            "type": "histogram2d"
           }
          ],
          "histogram2dcontour": [
           {
            "colorbar": {
             "outlinewidth": 0,
             "ticks": ""
            },
            "colorscale": [
             [
              0,
              "#0d0887"
             ],
             [
              0.1111111111111111,
              "#46039f"
             ],
             [
              0.2222222222222222,
              "#7201a8"
             ],
             [
              0.3333333333333333,
              "#9c179e"
             ],
             [
              0.4444444444444444,
              "#bd3786"
             ],
             [
              0.5555555555555556,
              "#d8576b"
             ],
             [
              0.6666666666666666,
              "#ed7953"
             ],
             [
              0.7777777777777778,
              "#fb9f3a"
             ],
             [
              0.8888888888888888,
              "#fdca26"
             ],
             [
              1,
              "#f0f921"
             ]
            ],
            "type": "histogram2dcontour"
           }
          ],
          "mesh3d": [
           {
            "colorbar": {
             "outlinewidth": 0,
             "ticks": ""
            },
            "type": "mesh3d"
           }
          ],
          "parcoords": [
           {
            "line": {
             "colorbar": {
              "outlinewidth": 0,
              "ticks": ""
             }
            },
            "type": "parcoords"
           }
          ],
          "pie": [
           {
            "automargin": true,
            "type": "pie"
           }
          ],
          "scatter": [
           {
            "fillpattern": {
             "fillmode": "overlay",
             "size": 10,
             "solidity": 0.2
            },
            "type": "scatter"
           }
          ],
          "scatter3d": [
           {
            "line": {
             "colorbar": {
              "outlinewidth": 0,
              "ticks": ""
             }
            },
            "marker": {
             "colorbar": {
              "outlinewidth": 0,
              "ticks": ""
             }
            },
            "type": "scatter3d"
           }
          ],
          "scattercarpet": [
           {
            "marker": {
             "colorbar": {
              "outlinewidth": 0,
              "ticks": ""
             }
            },
            "type": "scattercarpet"
           }
          ],
          "scattergeo": [
           {
            "marker": {
             "colorbar": {
              "outlinewidth": 0,
              "ticks": ""
             }
            },
            "type": "scattergeo"
           }
          ],
          "scattergl": [
           {
            "marker": {
             "colorbar": {
              "outlinewidth": 0,
              "ticks": ""
             }
            },
            "type": "scattergl"
           }
          ],
          "scattermap": [
           {
            "marker": {
             "colorbar": {
              "outlinewidth": 0,
              "ticks": ""
             }
            },
            "type": "scattermap"
           }
          ],
          "scattermapbox": [
           {
            "marker": {
             "colorbar": {
              "outlinewidth": 0,
              "ticks": ""
             }
            },
            "type": "scattermapbox"
           }
          ],
          "scatterpolar": [
           {
            "marker": {
             "colorbar": {
              "outlinewidth": 0,
              "ticks": ""
             }
            },
            "type": "scatterpolar"
           }
          ],
          "scatterpolargl": [
           {
            "marker": {
             "colorbar": {
              "outlinewidth": 0,
              "ticks": ""
             }
            },
            "type": "scatterpolargl"
           }
          ],
          "scatterternary": [
           {
            "marker": {
             "colorbar": {
              "outlinewidth": 0,
              "ticks": ""
             }
            },
            "type": "scatterternary"
           }
          ],
          "surface": [
           {
            "colorbar": {
             "outlinewidth": 0,
             "ticks": ""
            },
            "colorscale": [
             [
              0,
              "#0d0887"
             ],
             [
              0.1111111111111111,
              "#46039f"
             ],
             [
              0.2222222222222222,
              "#7201a8"
             ],
             [
              0.3333333333333333,
              "#9c179e"
             ],
             [
              0.4444444444444444,
              "#bd3786"
             ],
             [
              0.5555555555555556,
              "#d8576b"
             ],
             [
              0.6666666666666666,
              "#ed7953"
             ],
             [
              0.7777777777777778,
              "#fb9f3a"
             ],
             [
              0.8888888888888888,
              "#fdca26"
             ],
             [
              1,
              "#f0f921"
             ]
            ],
            "type": "surface"
           }
          ],
          "table": [
           {
            "cells": {
             "fill": {
              "color": "#EBF0F8"
             },
             "line": {
              "color": "white"
             }
            },
            "header": {
             "fill": {
              "color": "#C8D4E3"
             },
             "line": {
              "color": "white"
             }
            },
            "type": "table"
           }
          ]
         },
         "layout": {
          "annotationdefaults": {
           "arrowcolor": "#2a3f5f",
           "arrowhead": 0,
           "arrowwidth": 1
          },
          "autotypenumbers": "strict",
          "coloraxis": {
           "colorbar": {
            "outlinewidth": 0,
            "ticks": ""
           }
          },
          "colorscale": {
           "diverging": [
            [
             0,
             "#8e0152"
            ],
            [
             0.1,
             "#c51b7d"
            ],
            [
             0.2,
             "#de77ae"
            ],
            [
             0.3,
             "#f1b6da"
            ],
            [
             0.4,
             "#fde0ef"
            ],
            [
             0.5,
             "#f7f7f7"
            ],
            [
             0.6,
             "#e6f5d0"
            ],
            [
             0.7,
             "#b8e186"
            ],
            [
             0.8,
             "#7fbc41"
            ],
            [
             0.9,
             "#4d9221"
            ],
            [
             1,
             "#276419"
            ]
           ],
           "sequential": [
            [
             0,
             "#0d0887"
            ],
            [
             0.1111111111111111,
             "#46039f"
            ],
            [
             0.2222222222222222,
             "#7201a8"
            ],
            [
             0.3333333333333333,
             "#9c179e"
            ],
            [
             0.4444444444444444,
             "#bd3786"
            ],
            [
             0.5555555555555556,
             "#d8576b"
            ],
            [
             0.6666666666666666,
             "#ed7953"
            ],
            [
             0.7777777777777778,
             "#fb9f3a"
            ],
            [
             0.8888888888888888,
             "#fdca26"
            ],
            [
             1,
             "#f0f921"
            ]
           ],
           "sequentialminus": [
            [
             0,
             "#0d0887"
            ],
            [
             0.1111111111111111,
             "#46039f"
            ],
            [
             0.2222222222222222,
             "#7201a8"
            ],
            [
             0.3333333333333333,
             "#9c179e"
            ],
            [
             0.4444444444444444,
             "#bd3786"
            ],
            [
             0.5555555555555556,
             "#d8576b"
            ],
            [
             0.6666666666666666,
             "#ed7953"
            ],
            [
             0.7777777777777778,
             "#fb9f3a"
            ],
            [
             0.8888888888888888,
             "#fdca26"
            ],
            [
             1,
             "#f0f921"
            ]
           ]
          },
          "colorway": [
           "#636efa",
           "#EF553B",
           "#00cc96",
           "#ab63fa",
           "#FFA15A",
           "#19d3f3",
           "#FF6692",
           "#B6E880",
           "#FF97FF",
           "#FECB52"
          ],
          "font": {
           "color": "#2a3f5f"
          },
          "geo": {
           "bgcolor": "white",
           "lakecolor": "white",
           "landcolor": "#E5ECF6",
           "showlakes": true,
           "showland": true,
           "subunitcolor": "white"
          },
          "hoverlabel": {
           "align": "left"
          },
          "hovermode": "closest",
          "mapbox": {
           "style": "light"
          },
          "paper_bgcolor": "white",
          "plot_bgcolor": "#E5ECF6",
          "polar": {
           "angularaxis": {
            "gridcolor": "white",
            "linecolor": "white",
            "ticks": ""
           },
           "bgcolor": "#E5ECF6",
           "radialaxis": {
            "gridcolor": "white",
            "linecolor": "white",
            "ticks": ""
           }
          },
          "scene": {
           "xaxis": {
            "backgroundcolor": "#E5ECF6",
            "gridcolor": "white",
            "gridwidth": 2,
            "linecolor": "white",
            "showbackground": true,
            "ticks": "",
            "zerolinecolor": "white"
           },
           "yaxis": {
            "backgroundcolor": "#E5ECF6",
            "gridcolor": "white",
            "gridwidth": 2,
            "linecolor": "white",
            "showbackground": true,
            "ticks": "",
            "zerolinecolor": "white"
           },
           "zaxis": {
            "backgroundcolor": "#E5ECF6",
            "gridcolor": "white",
            "gridwidth": 2,
            "linecolor": "white",
            "showbackground": true,
            "ticks": "",
            "zerolinecolor": "white"
           }
          },
          "shapedefaults": {
           "line": {
            "color": "#2a3f5f"
           }
          },
          "ternary": {
           "aaxis": {
            "gridcolor": "white",
            "linecolor": "white",
            "ticks": ""
           },
           "baxis": {
            "gridcolor": "white",
            "linecolor": "white",
            "ticks": ""
           },
           "bgcolor": "#E5ECF6",
           "caxis": {
            "gridcolor": "white",
            "linecolor": "white",
            "ticks": ""
           }
          },
          "title": {
           "x": 0.05
          },
          "xaxis": {
           "automargin": true,
           "gridcolor": "white",
           "linecolor": "white",
           "ticks": "",
           "title": {
            "standoff": 15
           },
           "zerolinecolor": "white",
           "zerolinewidth": 2
          },
          "yaxis": {
           "automargin": true,
           "gridcolor": "white",
           "linecolor": "white",
           "ticks": "",
           "title": {
            "standoff": 15
           },
           "zerolinecolor": "white",
           "zerolinewidth": 2
          }
         }
        },
        "title": {
         "text": "Servicios más comunes y menos comunes en los Bar Restaurant"
        },
        "xaxis": {
         "anchor": "y",
         "categoryarray": [
          "Parking",
          "Reservations",
          "cash_national",
          "digital_transfer_national",
          "reservations",
          "power_generator",
          "parking",
          "Efectivo",
          "Cash_national",
          "A la carta",
          "Reservas",
          "Servicio de mesa",
          "child_care",
          "delivery_areas",
          "Smoking Area",
          "Wifi",
          "Transferencia",
          "Digital_transfer_national",
          "Sanitario",
          "Tiene bar",
          "delivery",
          "privado",
          "reserves",
          "payment_methods",
          "PaymentMethod",
          "Power_generator",
          "Bar completo",
          "Sirve alcohol",
          "Tarjeta",
          "Payment_methods",
          "Delivery_areas",
          "Reservaciones",
          "SmokingArea",
          "Pets",
          "A la Carta",
          "Delivery",
          "WiFi",
          "A domicilio",
          "usd",
          "mlc",
          "disable_support",
          "zelle",
          "Banos",
          "Bar en el lugar",
          "tiene bar",
          "sanitario",
          "Smoking area",
          "Home service",
          "Wheelchair ramp",
          "Infant stool",
          "Entretenimiento",
          "Terraza exterior",
          "Restaurante privado",
          "Aparcamiento en la calle",
          "Acceso para discapacitados",
          "Television",
          "Estacionamiento gratuito en la calle",
          "Acepta reservas",
          "Musica en directo",
          "Capacidad",
          "plant",
          "Asiento",
          "Wi-Fi gratuito",
          "Estacionamiento",
          "Generador electrico",
          "reservation",
          "Parqueo",
          "Generador Electrico",
          "reserva",
          "wifi",
          "electric generator",
          "transferencia",
          "take_away",
          "reserve"
         ],
         "categoryorder": "array",
         "domain": [
          0,
          1
         ],
         "title": {
          "text": "Servicio"
         }
        },
        "yaxis": {
         "anchor": "x",
         "domain": [
          0,
          1
         ],
         "title": {
          "text": "Cantidad"
         }
        }
       }
      }
     },
     "metadata": {},
     "output_type": "display_data"
    }
   ],
   "source": [
    "# Filtrar los datos para obtener solo los bar restaurant\n",
    "df_barrestaurant = df[df['type'] == 'barrestaurant']\n",
    "\n",
    "# Explode the services column to count each service individually\n",
    "df_services = df_barrestaurant['services'].explode().value_counts().reset_index()\n",
    "df_services.columns = ['service', 'count']\n",
    "\n",
    "# Crear el gráfico de barras apiladas\n",
    "fig = px.bar(\n",
    "    df_services,\n",
    "    x='service',\n",
    "    y='count',\n",
    "    title='Servicios más comunes y menos comunes en los Bar Restaurant',\n",
    "    labels={'service': 'Servicio', 'count': 'Cantidad'},\n",
    "    color='service',\n",
    "    height=700\n",
    ")\n",
    "\n",
    "fig.show()"
   ]
  },
  {
   "cell_type": "code",
   "execution_count": null,
   "metadata": {},
   "outputs": [],
   "source": []
  },
  {
   "cell_type": "code",
   "execution_count": 6,
   "metadata": {},
   "outputs": [
    {
     "data": {
      "text/html": [
       "<div>\n",
       "<style scoped>\n",
       "    .dataframe tbody tr th:only-of-type {\n",
       "        vertical-align: middle;\n",
       "    }\n",
       "\n",
       "    .dataframe tbody tr th {\n",
       "        vertical-align: top;\n",
       "    }\n",
       "\n",
       "    .dataframe thead th {\n",
       "        text-align: right;\n",
       "    }\n",
       "</style>\n",
       "<table border=\"1\" class=\"dataframe\">\n",
       "  <thead>\n",
       "    <tr style=\"text-align: right;\">\n",
       "      <th></th>\n",
       "      <th>category</th>\n",
       "      <th>count</th>\n",
       "    </tr>\n",
       "  </thead>\n",
       "  <tbody>\n",
       "    <tr>\n",
       "      <th>0</th>\n",
       "      <td>menu.starters</td>\n",
       "      <td>1892</td>\n",
       "    </tr>\n",
       "    <tr>\n",
       "      <th>1</th>\n",
       "      <td>menu.salads</td>\n",
       "      <td>77</td>\n",
       "    </tr>\n",
       "    <tr>\n",
       "      <th>2</th>\n",
       "      <td>menu.vegetables</td>\n",
       "      <td>58</td>\n",
       "    </tr>\n",
       "    <tr>\n",
       "      <th>3</th>\n",
       "      <td>menu.meats</td>\n",
       "      <td>768</td>\n",
       "    </tr>\n",
       "    <tr>\n",
       "      <th>4</th>\n",
       "      <td>menu.beef</td>\n",
       "      <td>151</td>\n",
       "    </tr>\n",
       "    <tr>\n",
       "      <th>5</th>\n",
       "      <td>menu.seafood</td>\n",
       "      <td>583</td>\n",
       "    </tr>\n",
       "    <tr>\n",
       "      <th>6</th>\n",
       "      <td>menu.burgers</td>\n",
       "      <td>125</td>\n",
       "    </tr>\n",
       "    <tr>\n",
       "      <th>7</th>\n",
       "      <td>menu.desserts</td>\n",
       "      <td>488</td>\n",
       "    </tr>\n",
       "    <tr>\n",
       "      <th>8</th>\n",
       "      <td>menu.cocktails</td>\n",
       "      <td>413</td>\n",
       "    </tr>\n",
       "    <tr>\n",
       "      <th>9</th>\n",
       "      <td>menu.twist_cocktails</td>\n",
       "      <td>14</td>\n",
       "    </tr>\n",
       "    <tr>\n",
       "      <th>10</th>\n",
       "      <td>menu.classic_cocktails</td>\n",
       "      <td>127</td>\n",
       "    </tr>\n",
       "    <tr>\n",
       "      <th>11</th>\n",
       "      <td>menu.tiki_cocktails</td>\n",
       "      <td>3</td>\n",
       "    </tr>\n",
       "    <tr>\n",
       "      <th>12</th>\n",
       "      <td>menu.tiki_author_cocktails</td>\n",
       "      <td>17</td>\n",
       "    </tr>\n",
       "    <tr>\n",
       "      <th>13</th>\n",
       "      <td>menu.others</td>\n",
       "      <td>5203</td>\n",
       "    </tr>\n",
       "    <tr>\n",
       "      <th>14</th>\n",
       "      <td>menu.drinks</td>\n",
       "      <td>3067</td>\n",
       "    </tr>\n",
       "  </tbody>\n",
       "</table>\n",
       "</div>"
      ],
      "text/plain": [
       "                      category  count\n",
       "0                menu.starters   1892\n",
       "1                  menu.salads     77\n",
       "2              menu.vegetables     58\n",
       "3                   menu.meats    768\n",
       "4                    menu.beef    151\n",
       "5                 menu.seafood    583\n",
       "6                 menu.burgers    125\n",
       "7                menu.desserts    488\n",
       "8               menu.cocktails    413\n",
       "9         menu.twist_cocktails     14\n",
       "10      menu.classic_cocktails    127\n",
       "11         menu.tiki_cocktails      3\n",
       "12  menu.tiki_author_cocktails     17\n",
       "13                 menu.others   5203\n",
       "14                 menu.drinks   3067"
      ]
     },
     "metadata": {},
     "output_type": "display_data"
    },
    {
     "data": {
      "application/vnd.plotly.v1+json": {
       "config": {
        "plotlyServerURL": "https://plot.ly"
       },
       "data": [
        {
         "hovertemplate": "Categoría=%{x}<br>Cantidad=%{y}<extra></extra>",
         "legendgroup": "menu.starters",
         "marker": {
          "color": "#636efa",
          "pattern": {
           "shape": ""
          }
         },
         "name": "menu.starters",
         "orientation": "v",
         "showlegend": true,
         "textposition": "auto",
         "type": "bar",
         "x": [
          "menu.starters"
         ],
         "xaxis": "x",
         "y": {
          "bdata": "ZAc=",
          "dtype": "i2"
         },
         "yaxis": "y"
        },
        {
         "hovertemplate": "Categoría=%{x}<br>Cantidad=%{y}<extra></extra>",
         "legendgroup": "menu.salads",
         "marker": {
          "color": "#EF553B",
          "pattern": {
           "shape": ""
          }
         },
         "name": "menu.salads",
         "orientation": "v",
         "showlegend": true,
         "textposition": "auto",
         "type": "bar",
         "x": [
          "menu.salads"
         ],
         "xaxis": "x",
         "y": {
          "bdata": "TQ==",
          "dtype": "i1"
         },
         "yaxis": "y"
        },
        {
         "hovertemplate": "Categoría=%{x}<br>Cantidad=%{y}<extra></extra>",
         "legendgroup": "menu.vegetables",
         "marker": {
          "color": "#00cc96",
          "pattern": {
           "shape": ""
          }
         },
         "name": "menu.vegetables",
         "orientation": "v",
         "showlegend": true,
         "textposition": "auto",
         "type": "bar",
         "x": [
          "menu.vegetables"
         ],
         "xaxis": "x",
         "y": {
          "bdata": "Og==",
          "dtype": "i1"
         },
         "yaxis": "y"
        },
        {
         "hovertemplate": "Categoría=%{x}<br>Cantidad=%{y}<extra></extra>",
         "legendgroup": "menu.meats",
         "marker": {
          "color": "#ab63fa",
          "pattern": {
           "shape": ""
          }
         },
         "name": "menu.meats",
         "orientation": "v",
         "showlegend": true,
         "textposition": "auto",
         "type": "bar",
         "x": [
          "menu.meats"
         ],
         "xaxis": "x",
         "y": {
          "bdata": "AAM=",
          "dtype": "i2"
         },
         "yaxis": "y"
        },
        {
         "hovertemplate": "Categoría=%{x}<br>Cantidad=%{y}<extra></extra>",
         "legendgroup": "menu.beef",
         "marker": {
          "color": "#FFA15A",
          "pattern": {
           "shape": ""
          }
         },
         "name": "menu.beef",
         "orientation": "v",
         "showlegend": true,
         "textposition": "auto",
         "type": "bar",
         "x": [
          "menu.beef"
         ],
         "xaxis": "x",
         "y": {
          "bdata": "lwA=",
          "dtype": "i2"
         },
         "yaxis": "y"
        },
        {
         "hovertemplate": "Categoría=%{x}<br>Cantidad=%{y}<extra></extra>",
         "legendgroup": "menu.seafood",
         "marker": {
          "color": "#19d3f3",
          "pattern": {
           "shape": ""
          }
         },
         "name": "menu.seafood",
         "orientation": "v",
         "showlegend": true,
         "textposition": "auto",
         "type": "bar",
         "x": [
          "menu.seafood"
         ],
         "xaxis": "x",
         "y": {
          "bdata": "RwI=",
          "dtype": "i2"
         },
         "yaxis": "y"
        },
        {
         "hovertemplate": "Categoría=%{x}<br>Cantidad=%{y}<extra></extra>",
         "legendgroup": "menu.burgers",
         "marker": {
          "color": "#FF6692",
          "pattern": {
           "shape": ""
          }
         },
         "name": "menu.burgers",
         "orientation": "v",
         "showlegend": true,
         "textposition": "auto",
         "type": "bar",
         "x": [
          "menu.burgers"
         ],
         "xaxis": "x",
         "y": {
          "bdata": "fQ==",
          "dtype": "i1"
         },
         "yaxis": "y"
        },
        {
         "hovertemplate": "Categoría=%{x}<br>Cantidad=%{y}<extra></extra>",
         "legendgroup": "menu.desserts",
         "marker": {
          "color": "#B6E880",
          "pattern": {
           "shape": ""
          }
         },
         "name": "menu.desserts",
         "orientation": "v",
         "showlegend": true,
         "textposition": "auto",
         "type": "bar",
         "x": [
          "menu.desserts"
         ],
         "xaxis": "x",
         "y": {
          "bdata": "6AE=",
          "dtype": "i2"
         },
         "yaxis": "y"
        },
        {
         "hovertemplate": "Categoría=%{x}<br>Cantidad=%{y}<extra></extra>",
         "legendgroup": "menu.cocktails",
         "marker": {
          "color": "#FF97FF",
          "pattern": {
           "shape": ""
          }
         },
         "name": "menu.cocktails",
         "orientation": "v",
         "showlegend": true,
         "textposition": "auto",
         "type": "bar",
         "x": [
          "menu.cocktails"
         ],
         "xaxis": "x",
         "y": {
          "bdata": "nQE=",
          "dtype": "i2"
         },
         "yaxis": "y"
        },
        {
         "hovertemplate": "Categoría=%{x}<br>Cantidad=%{y}<extra></extra>",
         "legendgroup": "menu.twist_cocktails",
         "marker": {
          "color": "#FECB52",
          "pattern": {
           "shape": ""
          }
         },
         "name": "menu.twist_cocktails",
         "orientation": "v",
         "showlegend": true,
         "textposition": "auto",
         "type": "bar",
         "x": [
          "menu.twist_cocktails"
         ],
         "xaxis": "x",
         "y": {
          "bdata": "Dg==",
          "dtype": "i1"
         },
         "yaxis": "y"
        },
        {
         "hovertemplate": "Categoría=%{x}<br>Cantidad=%{y}<extra></extra>",
         "legendgroup": "menu.classic_cocktails",
         "marker": {
          "color": "#636efa",
          "pattern": {
           "shape": ""
          }
         },
         "name": "menu.classic_cocktails",
         "orientation": "v",
         "showlegend": true,
         "textposition": "auto",
         "type": "bar",
         "x": [
          "menu.classic_cocktails"
         ],
         "xaxis": "x",
         "y": {
          "bdata": "fw==",
          "dtype": "i1"
         },
         "yaxis": "y"
        },
        {
         "hovertemplate": "Categoría=%{x}<br>Cantidad=%{y}<extra></extra>",
         "legendgroup": "menu.tiki_cocktails",
         "marker": {
          "color": "#EF553B",
          "pattern": {
           "shape": ""
          }
         },
         "name": "menu.tiki_cocktails",
         "orientation": "v",
         "showlegend": true,
         "textposition": "auto",
         "type": "bar",
         "x": [
          "menu.tiki_cocktails"
         ],
         "xaxis": "x",
         "y": {
          "bdata": "Aw==",
          "dtype": "i1"
         },
         "yaxis": "y"
        },
        {
         "hovertemplate": "Categoría=%{x}<br>Cantidad=%{y}<extra></extra>",
         "legendgroup": "menu.tiki_author_cocktails",
         "marker": {
          "color": "#00cc96",
          "pattern": {
           "shape": ""
          }
         },
         "name": "menu.tiki_author_cocktails",
         "orientation": "v",
         "showlegend": true,
         "textposition": "auto",
         "type": "bar",
         "x": [
          "menu.tiki_author_cocktails"
         ],
         "xaxis": "x",
         "y": {
          "bdata": "EQ==",
          "dtype": "i1"
         },
         "yaxis": "y"
        },
        {
         "hovertemplate": "Categoría=%{x}<br>Cantidad=%{y}<extra></extra>",
         "legendgroup": "menu.others",
         "marker": {
          "color": "#ab63fa",
          "pattern": {
           "shape": ""
          }
         },
         "name": "menu.others",
         "orientation": "v",
         "showlegend": true,
         "textposition": "auto",
         "type": "bar",
         "x": [
          "menu.others"
         ],
         "xaxis": "x",
         "y": {
          "bdata": "UxQ=",
          "dtype": "i2"
         },
         "yaxis": "y"
        },
        {
         "hovertemplate": "Categoría=%{x}<br>Cantidad=%{y}<extra></extra>",
         "legendgroup": "menu.drinks",
         "marker": {
          "color": "#FFA15A",
          "pattern": {
           "shape": ""
          }
         },
         "name": "menu.drinks",
         "orientation": "v",
         "showlegend": true,
         "textposition": "auto",
         "type": "bar",
         "x": [
          "menu.drinks"
         ],
         "xaxis": "x",
         "y": {
          "bdata": "+ws=",
          "dtype": "i2"
         },
         "yaxis": "y"
        }
       ],
       "layout": {
        "barmode": "relative",
        "height": 550,
        "legend": {
         "title": {
          "text": "Categoría"
         },
         "tracegroupgap": 0
        },
        "template": {
         "data": {
          "bar": [
           {
            "error_x": {
             "color": "#2a3f5f"
            },
            "error_y": {
             "color": "#2a3f5f"
            },
            "marker": {
             "line": {
              "color": "#E5ECF6",
              "width": 0.5
             },
             "pattern": {
              "fillmode": "overlay",
              "size": 10,
              "solidity": 0.2
             }
            },
            "type": "bar"
           }
          ],
          "barpolar": [
           {
            "marker": {
             "line": {
              "color": "#E5ECF6",
              "width": 0.5
             },
             "pattern": {
              "fillmode": "overlay",
              "size": 10,
              "solidity": 0.2
             }
            },
            "type": "barpolar"
           }
          ],
          "carpet": [
           {
            "aaxis": {
             "endlinecolor": "#2a3f5f",
             "gridcolor": "white",
             "linecolor": "white",
             "minorgridcolor": "white",
             "startlinecolor": "#2a3f5f"
            },
            "baxis": {
             "endlinecolor": "#2a3f5f",
             "gridcolor": "white",
             "linecolor": "white",
             "minorgridcolor": "white",
             "startlinecolor": "#2a3f5f"
            },
            "type": "carpet"
           }
          ],
          "choropleth": [
           {
            "colorbar": {
             "outlinewidth": 0,
             "ticks": ""
            },
            "type": "choropleth"
           }
          ],
          "contour": [
           {
            "colorbar": {
             "outlinewidth": 0,
             "ticks": ""
            },
            "colorscale": [
             [
              0,
              "#0d0887"
             ],
             [
              0.1111111111111111,
              "#46039f"
             ],
             [
              0.2222222222222222,
              "#7201a8"
             ],
             [
              0.3333333333333333,
              "#9c179e"
             ],
             [
              0.4444444444444444,
              "#bd3786"
             ],
             [
              0.5555555555555556,
              "#d8576b"
             ],
             [
              0.6666666666666666,
              "#ed7953"
             ],
             [
              0.7777777777777778,
              "#fb9f3a"
             ],
             [
              0.8888888888888888,
              "#fdca26"
             ],
             [
              1,
              "#f0f921"
             ]
            ],
            "type": "contour"
           }
          ],
          "contourcarpet": [
           {
            "colorbar": {
             "outlinewidth": 0,
             "ticks": ""
            },
            "type": "contourcarpet"
           }
          ],
          "heatmap": [
           {
            "colorbar": {
             "outlinewidth": 0,
             "ticks": ""
            },
            "colorscale": [
             [
              0,
              "#0d0887"
             ],
             [
              0.1111111111111111,
              "#46039f"
             ],
             [
              0.2222222222222222,
              "#7201a8"
             ],
             [
              0.3333333333333333,
              "#9c179e"
             ],
             [
              0.4444444444444444,
              "#bd3786"
             ],
             [
              0.5555555555555556,
              "#d8576b"
             ],
             [
              0.6666666666666666,
              "#ed7953"
             ],
             [
              0.7777777777777778,
              "#fb9f3a"
             ],
             [
              0.8888888888888888,
              "#fdca26"
             ],
             [
              1,
              "#f0f921"
             ]
            ],
            "type": "heatmap"
           }
          ],
          "histogram": [
           {
            "marker": {
             "pattern": {
              "fillmode": "overlay",
              "size": 10,
              "solidity": 0.2
             }
            },
            "type": "histogram"
           }
          ],
          "histogram2d": [
           {
            "colorbar": {
             "outlinewidth": 0,
             "ticks": ""
            },
            "colorscale": [
             [
              0,
              "#0d0887"
             ],
             [
              0.1111111111111111,
              "#46039f"
             ],
             [
              0.2222222222222222,
              "#7201a8"
             ],
             [
              0.3333333333333333,
              "#9c179e"
             ],
             [
              0.4444444444444444,
              "#bd3786"
             ],
             [
              0.5555555555555556,
              "#d8576b"
             ],
             [
              0.6666666666666666,
              "#ed7953"
             ],
             [
              0.7777777777777778,
              "#fb9f3a"
             ],
             [
              0.8888888888888888,
              "#fdca26"
             ],
             [
              1,
              "#f0f921"
             ]
            ],
            "type": "histogram2d"
           }
          ],
          "histogram2dcontour": [
           {
            "colorbar": {
             "outlinewidth": 0,
             "ticks": ""
            },
            "colorscale": [
             [
              0,
              "#0d0887"
             ],
             [
              0.1111111111111111,
              "#46039f"
             ],
             [
              0.2222222222222222,
              "#7201a8"
             ],
             [
              0.3333333333333333,
              "#9c179e"
             ],
             [
              0.4444444444444444,
              "#bd3786"
             ],
             [
              0.5555555555555556,
              "#d8576b"
             ],
             [
              0.6666666666666666,
              "#ed7953"
             ],
             [
              0.7777777777777778,
              "#fb9f3a"
             ],
             [
              0.8888888888888888,
              "#fdca26"
             ],
             [
              1,
              "#f0f921"
             ]
            ],
            "type": "histogram2dcontour"
           }
          ],
          "mesh3d": [
           {
            "colorbar": {
             "outlinewidth": 0,
             "ticks": ""
            },
            "type": "mesh3d"
           }
          ],
          "parcoords": [
           {
            "line": {
             "colorbar": {
              "outlinewidth": 0,
              "ticks": ""
             }
            },
            "type": "parcoords"
           }
          ],
          "pie": [
           {
            "automargin": true,
            "type": "pie"
           }
          ],
          "scatter": [
           {
            "fillpattern": {
             "fillmode": "overlay",
             "size": 10,
             "solidity": 0.2
            },
            "type": "scatter"
           }
          ],
          "scatter3d": [
           {
            "line": {
             "colorbar": {
              "outlinewidth": 0,
              "ticks": ""
             }
            },
            "marker": {
             "colorbar": {
              "outlinewidth": 0,
              "ticks": ""
             }
            },
            "type": "scatter3d"
           }
          ],
          "scattercarpet": [
           {
            "marker": {
             "colorbar": {
              "outlinewidth": 0,
              "ticks": ""
             }
            },
            "type": "scattercarpet"
           }
          ],
          "scattergeo": [
           {
            "marker": {
             "colorbar": {
              "outlinewidth": 0,
              "ticks": ""
             }
            },
            "type": "scattergeo"
           }
          ],
          "scattergl": [
           {
            "marker": {
             "colorbar": {
              "outlinewidth": 0,
              "ticks": ""
             }
            },
            "type": "scattergl"
           }
          ],
          "scattermap": [
           {
            "marker": {
             "colorbar": {
              "outlinewidth": 0,
              "ticks": ""
             }
            },
            "type": "scattermap"
           }
          ],
          "scattermapbox": [
           {
            "marker": {
             "colorbar": {
              "outlinewidth": 0,
              "ticks": ""
             }
            },
            "type": "scattermapbox"
           }
          ],
          "scatterpolar": [
           {
            "marker": {
             "colorbar": {
              "outlinewidth": 0,
              "ticks": ""
             }
            },
            "type": "scatterpolar"
           }
          ],
          "scatterpolargl": [
           {
            "marker": {
             "colorbar": {
              "outlinewidth": 0,
              "ticks": ""
             }
            },
            "type": "scatterpolargl"
           }
          ],
          "scatterternary": [
           {
            "marker": {
             "colorbar": {
              "outlinewidth": 0,
              "ticks": ""
             }
            },
            "type": "scatterternary"
           }
          ],
          "surface": [
           {
            "colorbar": {
             "outlinewidth": 0,
             "ticks": ""
            },
            "colorscale": [
             [
              0,
              "#0d0887"
             ],
             [
              0.1111111111111111,
              "#46039f"
             ],
             [
              0.2222222222222222,
              "#7201a8"
             ],
             [
              0.3333333333333333,
              "#9c179e"
             ],
             [
              0.4444444444444444,
              "#bd3786"
             ],
             [
              0.5555555555555556,
              "#d8576b"
             ],
             [
              0.6666666666666666,
              "#ed7953"
             ],
             [
              0.7777777777777778,
              "#fb9f3a"
             ],
             [
              0.8888888888888888,
              "#fdca26"
             ],
             [
              1,
              "#f0f921"
             ]
            ],
            "type": "surface"
           }
          ],
          "table": [
           {
            "cells": {
             "fill": {
              "color": "#EBF0F8"
             },
             "line": {
              "color": "white"
             }
            },
            "header": {
             "fill": {
              "color": "#C8D4E3"
             },
             "line": {
              "color": "white"
             }
            },
            "type": "table"
           }
          ]
         },
         "layout": {
          "annotationdefaults": {
           "arrowcolor": "#2a3f5f",
           "arrowhead": 0,
           "arrowwidth": 1
          },
          "autotypenumbers": "strict",
          "coloraxis": {
           "colorbar": {
            "outlinewidth": 0,
            "ticks": ""
           }
          },
          "colorscale": {
           "diverging": [
            [
             0,
             "#8e0152"
            ],
            [
             0.1,
             "#c51b7d"
            ],
            [
             0.2,
             "#de77ae"
            ],
            [
             0.3,
             "#f1b6da"
            ],
            [
             0.4,
             "#fde0ef"
            ],
            [
             0.5,
             "#f7f7f7"
            ],
            [
             0.6,
             "#e6f5d0"
            ],
            [
             0.7,
             "#b8e186"
            ],
            [
             0.8,
             "#7fbc41"
            ],
            [
             0.9,
             "#4d9221"
            ],
            [
             1,
             "#276419"
            ]
           ],
           "sequential": [
            [
             0,
             "#0d0887"
            ],
            [
             0.1111111111111111,
             "#46039f"
            ],
            [
             0.2222222222222222,
             "#7201a8"
            ],
            [
             0.3333333333333333,
             "#9c179e"
            ],
            [
             0.4444444444444444,
             "#bd3786"
            ],
            [
             0.5555555555555556,
             "#d8576b"
            ],
            [
             0.6666666666666666,
             "#ed7953"
            ],
            [
             0.7777777777777778,
             "#fb9f3a"
            ],
            [
             0.8888888888888888,
             "#fdca26"
            ],
            [
             1,
             "#f0f921"
            ]
           ],
           "sequentialminus": [
            [
             0,
             "#0d0887"
            ],
            [
             0.1111111111111111,
             "#46039f"
            ],
            [
             0.2222222222222222,
             "#7201a8"
            ],
            [
             0.3333333333333333,
             "#9c179e"
            ],
            [
             0.4444444444444444,
             "#bd3786"
            ],
            [
             0.5555555555555556,
             "#d8576b"
            ],
            [
             0.6666666666666666,
             "#ed7953"
            ],
            [
             0.7777777777777778,
             "#fb9f3a"
            ],
            [
             0.8888888888888888,
             "#fdca26"
            ],
            [
             1,
             "#f0f921"
            ]
           ]
          },
          "colorway": [
           "#636efa",
           "#EF553B",
           "#00cc96",
           "#ab63fa",
           "#FFA15A",
           "#19d3f3",
           "#FF6692",
           "#B6E880",
           "#FF97FF",
           "#FECB52"
          ],
          "font": {
           "color": "#2a3f5f"
          },
          "geo": {
           "bgcolor": "white",
           "lakecolor": "white",
           "landcolor": "#E5ECF6",
           "showlakes": true,
           "showland": true,
           "subunitcolor": "white"
          },
          "hoverlabel": {
           "align": "left"
          },
          "hovermode": "closest",
          "mapbox": {
           "style": "light"
          },
          "paper_bgcolor": "white",
          "plot_bgcolor": "#E5ECF6",
          "polar": {
           "angularaxis": {
            "gridcolor": "white",
            "linecolor": "white",
            "ticks": ""
           },
           "bgcolor": "#E5ECF6",
           "radialaxis": {
            "gridcolor": "white",
            "linecolor": "white",
            "ticks": ""
           }
          },
          "scene": {
           "xaxis": {
            "backgroundcolor": "#E5ECF6",
            "gridcolor": "white",
            "gridwidth": 2,
            "linecolor": "white",
            "showbackground": true,
            "ticks": "",
            "zerolinecolor": "white"
           },
           "yaxis": {
            "backgroundcolor": "#E5ECF6",
            "gridcolor": "white",
            "gridwidth": 2,
            "linecolor": "white",
            "showbackground": true,
            "ticks": "",
            "zerolinecolor": "white"
           },
           "zaxis": {
            "backgroundcolor": "#E5ECF6",
            "gridcolor": "white",
            "gridwidth": 2,
            "linecolor": "white",
            "showbackground": true,
            "ticks": "",
            "zerolinecolor": "white"
           }
          },
          "shapedefaults": {
           "line": {
            "color": "#2a3f5f"
           }
          },
          "ternary": {
           "aaxis": {
            "gridcolor": "white",
            "linecolor": "white",
            "ticks": ""
           },
           "baxis": {
            "gridcolor": "white",
            "linecolor": "white",
            "ticks": ""
           },
           "bgcolor": "#E5ECF6",
           "caxis": {
            "gridcolor": "white",
            "linecolor": "white",
            "ticks": ""
           }
          },
          "title": {
           "x": 0.05
          },
          "xaxis": {
           "automargin": true,
           "gridcolor": "white",
           "linecolor": "white",
           "ticks": "",
           "title": {
            "standoff": 15
           },
           "zerolinecolor": "white",
           "zerolinewidth": 2
          },
          "yaxis": {
           "automargin": true,
           "gridcolor": "white",
           "linecolor": "white",
           "ticks": "",
           "title": {
            "standoff": 15
           },
           "zerolinecolor": "white",
           "zerolinewidth": 2
          }
         }
        },
        "title": {
         "text": "Cantidad de platos en cada categoría del menú"
        },
        "xaxis": {
         "anchor": "y",
         "categoryarray": [
          "menu.starters",
          "menu.salads",
          "menu.vegetables",
          "menu.meats",
          "menu.beef",
          "menu.seafood",
          "menu.burgers",
          "menu.desserts",
          "menu.cocktails",
          "menu.twist_cocktails",
          "menu.classic_cocktails",
          "menu.tiki_cocktails",
          "menu.tiki_author_cocktails",
          "menu.others",
          "menu.drinks"
         ],
         "categoryorder": "array",
         "domain": [
          0,
          1
         ],
         "title": {
          "text": "Categoría"
         }
        },
        "yaxis": {
         "anchor": "x",
         "domain": [
          0,
          1
         ],
         "title": {
          "text": "Cantidad"
         }
        }
       }
      }
     },
     "metadata": {},
     "output_type": "display_data"
    }
   ],
   "source": [
    "menu_categories = [\n",
    "    'menu.starters', 'menu.salads', 'menu.vegetables', 'menu.meats', 'menu.beef',\n",
    "    'menu.seafood', 'menu.burgers', 'menu.desserts', 'menu.cocktails', 'menu.twist_cocktails',\n",
    "    'menu.classic_cocktails', 'menu.tiki_cocktails', 'menu.tiki_author_cocktails', 'menu.others',\n",
    "    'menu.drinks'\n",
    "]\n",
    "\n",
    "menu_counts = {category: df[category].explode().notna().sum() for category in menu_categories}\n",
    "\n",
    "df_menu_counts = pd.DataFrame(list(menu_counts.items()), columns=['category', 'count'])\n",
    "display(df_menu_counts)\n",
    "\n",
    "fig = px.bar(\n",
    "    df_menu_counts,\n",
    "    x='category',\n",
    "    y='count',\n",
    "    title='Cantidad de platos en cada categoría del menú',\n",
    "    labels={'category': 'Categoría', 'count': 'Cantidad'},\n",
    "    color='category',\n",
    "    height=550\n",
    ")\n",
    "\n",
    "fig.show()"
   ]
  },
  {
   "cell_type": "code",
   "execution_count": 7,
   "metadata": {},
   "outputs": [
    {
     "data": {
      "text/html": [
       "<div>\n",
       "<style scoped>\n",
       "    .dataframe tbody tr th:only-of-type {\n",
       "        vertical-align: middle;\n",
       "    }\n",
       "\n",
       "    .dataframe tbody tr th {\n",
       "        vertical-align: top;\n",
       "    }\n",
       "\n",
       "    .dataframe thead th {\n",
       "        text-align: right;\n",
       "    }\n",
       "</style>\n",
       "<table border=\"1\" class=\"dataframe\">\n",
       "  <thead>\n",
       "    <tr style=\"text-align: right;\">\n",
       "      <th></th>\n",
       "      <th>municipality</th>\n",
       "      <th>menu_starters_mean</th>\n",
       "    </tr>\n",
       "  </thead>\n",
       "  <tbody>\n",
       "    <tr>\n",
       "      <th>0</th>\n",
       "      <td>Arroyo Naranjo</td>\n",
       "      <td>832.841424</td>\n",
       "    </tr>\n",
       "    <tr>\n",
       "      <th>1</th>\n",
       "      <td>Boyeros</td>\n",
       "      <td>1069.910435</td>\n",
       "    </tr>\n",
       "    <tr>\n",
       "      <th>2</th>\n",
       "      <td>Centro Habana</td>\n",
       "      <td>1109.281573</td>\n",
       "    </tr>\n",
       "    <tr>\n",
       "      <th>3</th>\n",
       "      <td>Cerro</td>\n",
       "      <td>673.635185</td>\n",
       "    </tr>\n",
       "    <tr>\n",
       "      <th>4</th>\n",
       "      <td>Cotorro</td>\n",
       "      <td>812.905576</td>\n",
       "    </tr>\n",
       "    <tr>\n",
       "      <th>5</th>\n",
       "      <td>Diez de Octubre</td>\n",
       "      <td>1523.209665</td>\n",
       "    </tr>\n",
       "    <tr>\n",
       "      <th>6</th>\n",
       "      <td>Guanabacoa</td>\n",
       "      <td>718.759019</td>\n",
       "    </tr>\n",
       "    <tr>\n",
       "      <th>7</th>\n",
       "      <td>Habana Vieja</td>\n",
       "      <td>1863.626955</td>\n",
       "    </tr>\n",
       "    <tr>\n",
       "      <th>8</th>\n",
       "      <td>Habana del Este</td>\n",
       "      <td>771.061557</td>\n",
       "    </tr>\n",
       "    <tr>\n",
       "      <th>9</th>\n",
       "      <td>La Lisa</td>\n",
       "      <td>714.783333</td>\n",
       "    </tr>\n",
       "    <tr>\n",
       "      <th>10</th>\n",
       "      <td>Marianao</td>\n",
       "      <td>824.465689</td>\n",
       "    </tr>\n",
       "    <tr>\n",
       "      <th>11</th>\n",
       "      <td>Playa</td>\n",
       "      <td>1439.072943</td>\n",
       "    </tr>\n",
       "    <tr>\n",
       "      <th>12</th>\n",
       "      <td>Plaza de la Revolucion</td>\n",
       "      <td>1252.910676</td>\n",
       "    </tr>\n",
       "    <tr>\n",
       "      <th>13</th>\n",
       "      <td>Regla</td>\n",
       "      <td>688.579545</td>\n",
       "    </tr>\n",
       "    <tr>\n",
       "      <th>14</th>\n",
       "      <td>San Miguel del Padron</td>\n",
       "      <td>802.077020</td>\n",
       "    </tr>\n",
       "  </tbody>\n",
       "</table>\n",
       "</div>"
      ],
      "text/plain": [
       "              municipality  menu_starters_mean\n",
       "0           Arroyo Naranjo          832.841424\n",
       "1                  Boyeros         1069.910435\n",
       "2            Centro Habana         1109.281573\n",
       "3                    Cerro          673.635185\n",
       "4                  Cotorro          812.905576\n",
       "5          Diez de Octubre         1523.209665\n",
       "6               Guanabacoa          718.759019\n",
       "7             Habana Vieja         1863.626955\n",
       "8          Habana del Este          771.061557\n",
       "9                  La Lisa          714.783333\n",
       "10                Marianao          824.465689\n",
       "11                   Playa         1439.072943\n",
       "12  Plaza de la Revolucion         1252.910676\n",
       "13                   Regla          688.579545\n",
       "14   San Miguel del Padron          802.077020"
      ]
     },
     "metadata": {},
     "output_type": "display_data"
    },
    {
     "data": {
      "application/vnd.plotly.v1+json": {
       "config": {
        "plotlyServerURL": "https://plot.ly"
       },
       "data": [
        {
         "hovertemplate": "municipality=%{x}<br>menu_starters_mean=%{y}<extra></extra>",
         "legendgroup": "",
         "marker": {
          "color": "#636efa",
          "pattern": {
           "shape": ""
          }
         },
         "name": "",
         "orientation": "v",
         "showlegend": false,
         "textposition": "auto",
         "type": "bar",
         "x": [
          "Arroyo Naranjo",
          "Boyeros",
          "Centro Habana",
          "Cerro",
          "Cotorro",
          "Diez de Octubre",
          "Guanabacoa",
          "Habana Vieja",
          "Habana del Este",
          "La Lisa",
          "Marianao",
          "Playa",
          "Plaza de la Revolucion",
          "Regla",
          "San Miguel del Padron"
         ],
         "xaxis": "x",
         "y": {
          "bdata": "78eYPLsGikDCbvVIpLeQQBe4t1QgVZFAMWr42xQNhUD0k5SePmeJQPhtgrLWzJdASlhteBJ2hkCuWoMAgh6dQBL+whF+GIhARERERERWhkCtMPa6ucOJQB6XjbFKfJZArSJJiKSTk0CMLrroooSFQHeGxLydEIlA",
          "dtype": "f8"
         },
         "yaxis": "y"
        }
       ],
       "layout": {
        "barmode": "relative",
        "legend": {
         "tracegroupgap": 0
        },
        "margin": {
         "t": 60
        },
        "template": {
         "data": {
          "bar": [
           {
            "error_x": {
             "color": "#2a3f5f"
            },
            "error_y": {
             "color": "#2a3f5f"
            },
            "marker": {
             "line": {
              "color": "#E5ECF6",
              "width": 0.5
             },
             "pattern": {
              "fillmode": "overlay",
              "size": 10,
              "solidity": 0.2
             }
            },
            "type": "bar"
           }
          ],
          "barpolar": [
           {
            "marker": {
             "line": {
              "color": "#E5ECF6",
              "width": 0.5
             },
             "pattern": {
              "fillmode": "overlay",
              "size": 10,
              "solidity": 0.2
             }
            },
            "type": "barpolar"
           }
          ],
          "carpet": [
           {
            "aaxis": {
             "endlinecolor": "#2a3f5f",
             "gridcolor": "white",
             "linecolor": "white",
             "minorgridcolor": "white",
             "startlinecolor": "#2a3f5f"
            },
            "baxis": {
             "endlinecolor": "#2a3f5f",
             "gridcolor": "white",
             "linecolor": "white",
             "minorgridcolor": "white",
             "startlinecolor": "#2a3f5f"
            },
            "type": "carpet"
           }
          ],
          "choropleth": [
           {
            "colorbar": {
             "outlinewidth": 0,
             "ticks": ""
            },
            "type": "choropleth"
           }
          ],
          "contour": [
           {
            "colorbar": {
             "outlinewidth": 0,
             "ticks": ""
            },
            "colorscale": [
             [
              0,
              "#0d0887"
             ],
             [
              0.1111111111111111,
              "#46039f"
             ],
             [
              0.2222222222222222,
              "#7201a8"
             ],
             [
              0.3333333333333333,
              "#9c179e"
             ],
             [
              0.4444444444444444,
              "#bd3786"
             ],
             [
              0.5555555555555556,
              "#d8576b"
             ],
             [
              0.6666666666666666,
              "#ed7953"
             ],
             [
              0.7777777777777778,
              "#fb9f3a"
             ],
             [
              0.8888888888888888,
              "#fdca26"
             ],
             [
              1,
              "#f0f921"
             ]
            ],
            "type": "contour"
           }
          ],
          "contourcarpet": [
           {
            "colorbar": {
             "outlinewidth": 0,
             "ticks": ""
            },
            "type": "contourcarpet"
           }
          ],
          "heatmap": [
           {
            "colorbar": {
             "outlinewidth": 0,
             "ticks": ""
            },
            "colorscale": [
             [
              0,
              "#0d0887"
             ],
             [
              0.1111111111111111,
              "#46039f"
             ],
             [
              0.2222222222222222,
              "#7201a8"
             ],
             [
              0.3333333333333333,
              "#9c179e"
             ],
             [
              0.4444444444444444,
              "#bd3786"
             ],
             [
              0.5555555555555556,
              "#d8576b"
             ],
             [
              0.6666666666666666,
              "#ed7953"
             ],
             [
              0.7777777777777778,
              "#fb9f3a"
             ],
             [
              0.8888888888888888,
              "#fdca26"
             ],
             [
              1,
              "#f0f921"
             ]
            ],
            "type": "heatmap"
           }
          ],
          "histogram": [
           {
            "marker": {
             "pattern": {
              "fillmode": "overlay",
              "size": 10,
              "solidity": 0.2
             }
            },
            "type": "histogram"
           }
          ],
          "histogram2d": [
           {
            "colorbar": {
             "outlinewidth": 0,
             "ticks": ""
            },
            "colorscale": [
             [
              0,
              "#0d0887"
             ],
             [
              0.1111111111111111,
              "#46039f"
             ],
             [
              0.2222222222222222,
              "#7201a8"
             ],
             [
              0.3333333333333333,
              "#9c179e"
             ],
             [
              0.4444444444444444,
              "#bd3786"
             ],
             [
              0.5555555555555556,
              "#d8576b"
             ],
             [
              0.6666666666666666,
              "#ed7953"
             ],
             [
              0.7777777777777778,
              "#fb9f3a"
             ],
             [
              0.8888888888888888,
              "#fdca26"
             ],
             [
              1,
              "#f0f921"
             ]
            ],
            "type": "histogram2d"
           }
          ],
          "histogram2dcontour": [
           {
            "colorbar": {
             "outlinewidth": 0,
             "ticks": ""
            },
            "colorscale": [
             [
              0,
              "#0d0887"
             ],
             [
              0.1111111111111111,
              "#46039f"
             ],
             [
              0.2222222222222222,
              "#7201a8"
             ],
             [
              0.3333333333333333,
              "#9c179e"
             ],
             [
              0.4444444444444444,
              "#bd3786"
             ],
             [
              0.5555555555555556,
              "#d8576b"
             ],
             [
              0.6666666666666666,
              "#ed7953"
             ],
             [
              0.7777777777777778,
              "#fb9f3a"
             ],
             [
              0.8888888888888888,
              "#fdca26"
             ],
             [
              1,
              "#f0f921"
             ]
            ],
            "type": "histogram2dcontour"
           }
          ],
          "mesh3d": [
           {
            "colorbar": {
             "outlinewidth": 0,
             "ticks": ""
            },
            "type": "mesh3d"
           }
          ],
          "parcoords": [
           {
            "line": {
             "colorbar": {
              "outlinewidth": 0,
              "ticks": ""
             }
            },
            "type": "parcoords"
           }
          ],
          "pie": [
           {
            "automargin": true,
            "type": "pie"
           }
          ],
          "scatter": [
           {
            "fillpattern": {
             "fillmode": "overlay",
             "size": 10,
             "solidity": 0.2
            },
            "type": "scatter"
           }
          ],
          "scatter3d": [
           {
            "line": {
             "colorbar": {
              "outlinewidth": 0,
              "ticks": ""
             }
            },
            "marker": {
             "colorbar": {
              "outlinewidth": 0,
              "ticks": ""
             }
            },
            "type": "scatter3d"
           }
          ],
          "scattercarpet": [
           {
            "marker": {
             "colorbar": {
              "outlinewidth": 0,
              "ticks": ""
             }
            },
            "type": "scattercarpet"
           }
          ],
          "scattergeo": [
           {
            "marker": {
             "colorbar": {
              "outlinewidth": 0,
              "ticks": ""
             }
            },
            "type": "scattergeo"
           }
          ],
          "scattergl": [
           {
            "marker": {
             "colorbar": {
              "outlinewidth": 0,
              "ticks": ""
             }
            },
            "type": "scattergl"
           }
          ],
          "scattermap": [
           {
            "marker": {
             "colorbar": {
              "outlinewidth": 0,
              "ticks": ""
             }
            },
            "type": "scattermap"
           }
          ],
          "scattermapbox": [
           {
            "marker": {
             "colorbar": {
              "outlinewidth": 0,
              "ticks": ""
             }
            },
            "type": "scattermapbox"
           }
          ],
          "scatterpolar": [
           {
            "marker": {
             "colorbar": {
              "outlinewidth": 0,
              "ticks": ""
             }
            },
            "type": "scatterpolar"
           }
          ],
          "scatterpolargl": [
           {
            "marker": {
             "colorbar": {
              "outlinewidth": 0,
              "ticks": ""
             }
            },
            "type": "scatterpolargl"
           }
          ],
          "scatterternary": [
           {
            "marker": {
             "colorbar": {
              "outlinewidth": 0,
              "ticks": ""
             }
            },
            "type": "scatterternary"
           }
          ],
          "surface": [
           {
            "colorbar": {
             "outlinewidth": 0,
             "ticks": ""
            },
            "colorscale": [
             [
              0,
              "#0d0887"
             ],
             [
              0.1111111111111111,
              "#46039f"
             ],
             [
              0.2222222222222222,
              "#7201a8"
             ],
             [
              0.3333333333333333,
              "#9c179e"
             ],
             [
              0.4444444444444444,
              "#bd3786"
             ],
             [
              0.5555555555555556,
              "#d8576b"
             ],
             [
              0.6666666666666666,
              "#ed7953"
             ],
             [
              0.7777777777777778,
              "#fb9f3a"
             ],
             [
              0.8888888888888888,
              "#fdca26"
             ],
             [
              1,
              "#f0f921"
             ]
            ],
            "type": "surface"
           }
          ],
          "table": [
           {
            "cells": {
             "fill": {
              "color": "#EBF0F8"
             },
             "line": {
              "color": "white"
             }
            },
            "header": {
             "fill": {
              "color": "#C8D4E3"
             },
             "line": {
              "color": "white"
             }
            },
            "type": "table"
           }
          ]
         },
         "layout": {
          "annotationdefaults": {
           "arrowcolor": "#2a3f5f",
           "arrowhead": 0,
           "arrowwidth": 1
          },
          "autotypenumbers": "strict",
          "coloraxis": {
           "colorbar": {
            "outlinewidth": 0,
            "ticks": ""
           }
          },
          "colorscale": {
           "diverging": [
            [
             0,
             "#8e0152"
            ],
            [
             0.1,
             "#c51b7d"
            ],
            [
             0.2,
             "#de77ae"
            ],
            [
             0.3,
             "#f1b6da"
            ],
            [
             0.4,
             "#fde0ef"
            ],
            [
             0.5,
             "#f7f7f7"
            ],
            [
             0.6,
             "#e6f5d0"
            ],
            [
             0.7,
             "#b8e186"
            ],
            [
             0.8,
             "#7fbc41"
            ],
            [
             0.9,
             "#4d9221"
            ],
            [
             1,
             "#276419"
            ]
           ],
           "sequential": [
            [
             0,
             "#0d0887"
            ],
            [
             0.1111111111111111,
             "#46039f"
            ],
            [
             0.2222222222222222,
             "#7201a8"
            ],
            [
             0.3333333333333333,
             "#9c179e"
            ],
            [
             0.4444444444444444,
             "#bd3786"
            ],
            [
             0.5555555555555556,
             "#d8576b"
            ],
            [
             0.6666666666666666,
             "#ed7953"
            ],
            [
             0.7777777777777778,
             "#fb9f3a"
            ],
            [
             0.8888888888888888,
             "#fdca26"
            ],
            [
             1,
             "#f0f921"
            ]
           ],
           "sequentialminus": [
            [
             0,
             "#0d0887"
            ],
            [
             0.1111111111111111,
             "#46039f"
            ],
            [
             0.2222222222222222,
             "#7201a8"
            ],
            [
             0.3333333333333333,
             "#9c179e"
            ],
            [
             0.4444444444444444,
             "#bd3786"
            ],
            [
             0.5555555555555556,
             "#d8576b"
            ],
            [
             0.6666666666666666,
             "#ed7953"
            ],
            [
             0.7777777777777778,
             "#fb9f3a"
            ],
            [
             0.8888888888888888,
             "#fdca26"
            ],
            [
             1,
             "#f0f921"
            ]
           ]
          },
          "colorway": [
           "#636efa",
           "#EF553B",
           "#00cc96",
           "#ab63fa",
           "#FFA15A",
           "#19d3f3",
           "#FF6692",
           "#B6E880",
           "#FF97FF",
           "#FECB52"
          ],
          "font": {
           "color": "#2a3f5f"
          },
          "geo": {
           "bgcolor": "white",
           "lakecolor": "white",
           "landcolor": "#E5ECF6",
           "showlakes": true,
           "showland": true,
           "subunitcolor": "white"
          },
          "hoverlabel": {
           "align": "left"
          },
          "hovermode": "closest",
          "mapbox": {
           "style": "light"
          },
          "paper_bgcolor": "white",
          "plot_bgcolor": "#E5ECF6",
          "polar": {
           "angularaxis": {
            "gridcolor": "white",
            "linecolor": "white",
            "ticks": ""
           },
           "bgcolor": "#E5ECF6",
           "radialaxis": {
            "gridcolor": "white",
            "linecolor": "white",
            "ticks": ""
           }
          },
          "scene": {
           "xaxis": {
            "backgroundcolor": "#E5ECF6",
            "gridcolor": "white",
            "gridwidth": 2,
            "linecolor": "white",
            "showbackground": true,
            "ticks": "",
            "zerolinecolor": "white"
           },
           "yaxis": {
            "backgroundcolor": "#E5ECF6",
            "gridcolor": "white",
            "gridwidth": 2,
            "linecolor": "white",
            "showbackground": true,
            "ticks": "",
            "zerolinecolor": "white"
           },
           "zaxis": {
            "backgroundcolor": "#E5ECF6",
            "gridcolor": "white",
            "gridwidth": 2,
            "linecolor": "white",
            "showbackground": true,
            "ticks": "",
            "zerolinecolor": "white"
           }
          },
          "shapedefaults": {
           "line": {
            "color": "#2a3f5f"
           }
          },
          "ternary": {
           "aaxis": {
            "gridcolor": "white",
            "linecolor": "white",
            "ticks": ""
           },
           "baxis": {
            "gridcolor": "white",
            "linecolor": "white",
            "ticks": ""
           },
           "bgcolor": "#E5ECF6",
           "caxis": {
            "gridcolor": "white",
            "linecolor": "white",
            "ticks": ""
           }
          },
          "title": {
           "x": 0.05
          },
          "xaxis": {
           "automargin": true,
           "gridcolor": "white",
           "linecolor": "white",
           "ticks": "",
           "title": {
            "standoff": 15
           },
           "zerolinecolor": "white",
           "zerolinewidth": 2
          },
          "yaxis": {
           "automargin": true,
           "gridcolor": "white",
           "linecolor": "white",
           "ticks": "",
           "title": {
            "standoff": 15
           },
           "zerolinecolor": "white",
           "zerolinewidth": 2
          }
         }
        },
        "xaxis": {
         "anchor": "y",
         "domain": [
          0,
          1
         ],
         "title": {
          "text": "municipality"
         }
        },
        "yaxis": {
         "anchor": "x",
         "domain": [
          0,
          1
         ],
         "title": {
          "text": "menu_starters_mean"
         }
        }
       }
      }
     },
     "metadata": {},
     "output_type": "display_data"
    }
   ],
   "source": [
    "#df2 = df[['municipality', 'menu_starters_mean', 'menu_salads_min', 'menu_vegetables_min', 'menu_meats_min']]\n",
    "df2 = df.groupby('municipality')['menu_starters_mean'].mean().reset_index()\n",
    "#df \n",
    "display(df2)\n",
    "px.bar(\n",
    "    df2,\n",
    "    x='municipality',\n",
    "    y='menu_starters_mean'\n",
    ")"
   ]
  },
  {
   "cell_type": "code",
   "execution_count": 8,
   "metadata": {},
   "outputs": [
    {
     "data": {
      "application/vnd.plotly.v1+json": {
       "config": {
        "plotlyServerURL": "https://plot.ly"
       },
       "data": [
        {
         "alignmentgroup": "True",
         "box": {
          "visible": true
         },
         "hovertemplate": "Origen=%{x}<br>Precio=%{y}<extra></extra>",
         "legendgroup": "Importada",
         "marker": {
          "color": "#636efa"
         },
         "name": "Importada",
         "offsetgroup": "Importada",
         "orientation": "v",
         "points": "all",
         "scalegroup": "True",
         "showlegend": true,
         "type": "violin",
         "x": [
          "Importada",
          "Importada",
          "Importada",
          "Importada",
          "Importada",
          "Importada",
          "Importada",
          "Importada",
          "Importada",
          "Importada",
          "Importada",
          "Importada",
          "Importada",
          "Importada",
          "Importada",
          "Importada",
          "Importada",
          "Importada",
          "Importada",
          "Importada",
          "Importada",
          "Importada",
          "Importada",
          "Importada",
          "Importada",
          "Importada",
          "Importada",
          "Importada",
          "Importada",
          "Importada",
          "Importada",
          "Importada",
          "Importada",
          "Importada",
          "Importada",
          "Importada",
          "Importada",
          "Importada",
          "Importada",
          "Importada",
          "Importada",
          "Importada",
          "Importada",
          "Importada",
          "Importada",
          "Importada",
          "Importada",
          "Importada",
          "Importada",
          "Importada",
          "Importada",
          "Importada",
          "Importada",
          "Importada",
          "Importada",
          "Importada",
          "Importada",
          "Importada",
          "Importada",
          "Importada",
          "Importada",
          "Importada",
          "Importada",
          "Importada",
          "Importada",
          "Importada",
          "Importada",
          "Importada",
          "Importada",
          "Importada",
          "Importada",
          "Importada",
          "Importada",
          "Importada",
          "Importada",
          "Importada",
          "Importada",
          "Importada",
          "Importada",
          "Importada",
          "Importada",
          "Importada",
          "Importada",
          "Importada",
          "Importada",
          "Importada",
          "Importada",
          "Importada",
          "Importada",
          "Importada",
          "Importada",
          "Importada",
          "Importada",
          "Importada",
          "Importada",
          "Importada",
          "Importada",
          "Importada",
          "Importada",
          "Importada",
          "Importada",
          "Importada",
          "Importada",
          "Importada",
          "Importada",
          "Importada",
          "Importada",
          "Importada",
          "Importada",
          "Importada",
          "Importada",
          "Importada",
          "Importada",
          "Importada",
          "Importada",
          "Importada",
          "Importada",
          "Importada",
          "Importada",
          "Importada",
          "Importada",
          "Importada",
          "Importada",
          "Importada",
          "Importada",
          "Importada",
          "Importada",
          "Importada",
          "Importada",
          "Importada",
          "Importada",
          "Importada",
          "Importada",
          "Importada",
          "Importada",
          "Importada",
          "Importada",
          "Importada",
          "Importada",
          "Importada",
          "Importada",
          "Importada",
          "Importada",
          "Importada",
          "Importada",
          "Importada",
          "Importada",
          "Importada",
          "Importada",
          "Importada",
          "Importada",
          "Importada",
          "Importada",
          "Importada",
          "Importada",
          "Importada",
          "Importada",
          "Importada",
          "Importada",
          "Importada",
          "Importada",
          "Importada",
          "Importada",
          "Importada",
          "Importada",
          "Importada",
          "Importada",
          "Importada",
          "Importada",
          "Importada",
          "Importada",
          "Importada",
          "Importada",
          "Importada",
          "Importada",
          "Importada",
          "Importada",
          "Importada",
          "Importada",
          "Importada",
          "Importada",
          "Importada",
          "Importada",
          "Importada",
          "Importada",
          "Importada",
          "Importada",
          "Importada",
          "Importada",
          "Importada",
          "Importada",
          "Importada",
          "Importada",
          "Importada",
          "Importada",
          "Importada",
          "Importada",
          "Importada",
          "Importada",
          "Importada",
          "Importada",
          "Importada",
          "Importada",
          "Importada",
          "Importada",
          "Importada",
          "Importada",
          "Importada",
          "Importada",
          "Importada",
          "Importada",
          "Importada",
          "Importada",
          "Importada",
          "Importada",
          "Importada",
          "Importada",
          "Importada",
          "Importada",
          "Importada",
          "Importada",
          "Importada",
          "Importada",
          "Importada",
          "Importada",
          "Importada",
          "Importada",
          "Importada",
          "Importada",
          "Importada",
          "Importada",
          "Importada",
          "Importada",
          "Importada",
          "Importada",
          "Importada",
          "Importada",
          "Importada",
          "Importada",
          "Importada",
          "Importada",
          "Importada",
          "Importada",
          "Importada",
          "Importada",
          "Importada",
          "Importada",
          "Importada",
          "Importada",
          "Importada",
          "Importada",
          "Importada",
          "Importada",
          "Importada",
          "Importada",
          "Importada",
          "Importada",
          "Importada",
          "Importada",
          "Importada",
          "Importada",
          "Importada",
          "Importada",
          "Importada",
          "Importada",
          "Importada",
          "Importada",
          "Importada",
          "Importada",
          "Importada",
          "Importada",
          "Importada",
          "Importada",
          "Importada",
          "Importada",
          "Importada",
          "Importada",
          "Importada",
          "Importada",
          "Importada",
          "Importada",
          "Importada",
          "Importada",
          "Importada",
          "Importada",
          "Importada",
          "Importada",
          "Importada",
          "Importada",
          "Importada",
          "Importada",
          "Importada",
          "Importada",
          "Importada",
          "Importada",
          "Importada",
          "Importada",
          "Importada",
          "Importada",
          "Importada",
          "Importada",
          "Importada",
          "Importada",
          "Importada",
          "Importada",
          "Importada",
          "Importada",
          "Importada",
          "Importada",
          "Importada",
          "Importada",
          "Importada",
          "Importada",
          "Importada",
          "Importada",
          "Importada",
          "Importada",
          "Importada",
          "Importada",
          "Importada",
          "Importada",
          "Importada",
          "Importada",
          "Importada",
          "Importada",
          "Importada",
          "Importada",
          "Importada",
          "Importada",
          "Importada",
          "Importada",
          "Importada",
          "Importada",
          "Importada",
          "Importada",
          "Importada",
          "Importada",
          "Importada",
          "Importada",
          "Importada",
          "Importada",
          "Importada",
          "Importada",
          "Importada",
          "Importada",
          "Importada",
          "Importada",
          "Importada",
          "Importada",
          "Importada",
          "Importada",
          "Importada",
          "Importada",
          "Importada",
          "Importada",
          "Importada",
          "Importada",
          "Importada",
          "Importada",
          "Importada",
          "Importada",
          "Importada",
          "Importada",
          "Importada",
          "Importada",
          "Importada",
          "Importada",
          "Importada",
          "Importada",
          "Importada",
          "Importada",
          "Importada",
          "Importada",
          "Importada",
          "Importada",
          "Importada",
          "Importada",
          "Importada",
          "Importada",
          "Importada",
          "Importada",
          "Importada",
          "Importada",
          "Importada",
          "Importada",
          "Importada",
          "Importada",
          "Importada",
          "Importada",
          "Importada",
          "Importada",
          "Importada",
          "Importada",
          "Importada",
          "Importada",
          "Importada",
          "Importada",
          "Importada",
          "Importada",
          "Importada",
          "Importada",
          "Importada",
          "Importada",
          "Importada",
          "Importada",
          "Importada",
          "Importada",
          "Importada",
          "Importada",
          "Importada",
          "Importada",
          "Importada",
          "Importada",
          "Importada",
          "Importada",
          "Importada",
          "Importada",
          "Importada",
          "Importada",
          "Importada",
          "Importada",
          "Importada",
          "Importada",
          "Importada",
          "Importada",
          "Importada",
          "Importada",
          "Importada",
          "Importada",
          "Importada",
          "Importada",
          "Importada",
          "Importada",
          "Importada",
          "Importada",
          "Importada",
          "Importada",
          "Importada",
          "Importada",
          "Importada",
          "Importada",
          "Importada",
          "Importada",
          "Importada",
          "Importada",
          "Importada",
          "Importada",
          "Importada",
          "Importada",
          "Importada",
          "Importada",
          "Importada",
          "Importada",
          "Importada",
          "Importada",
          "Importada",
          "Importada",
          "Importada",
          "Importada",
          "Importada",
          "Importada",
          "Importada",
          "Importada",
          "Importada",
          "Importada",
          "Importada",
          "Importada",
          "Importada",
          "Importada",
          "Importada",
          "Importada",
          "Importada",
          "Importada",
          "Importada",
          "Importada",
          "Importada",
          "Importada",
          "Importada",
          "Importada",
          "Importada",
          "Importada",
          "Importada",
          "Importada",
          "Importada",
          "Importada",
          "Importada",
          "Importada",
          "Importada",
          "Importada",
          "Importada",
          "Importada",
          "Importada",
          "Importada",
          "Importada",
          "Importada",
          "Importada",
          "Importada",
          "Importada",
          "Importada",
          "Importada",
          "Importada",
          "Importada",
          "Importada",
          "Importada",
          "Importada",
          "Importada",
          "Importada",
          "Importada",
          "Importada",
          "Importada",
          "Importada",
          "Importada",
          "Importada",
          "Importada",
          "Importada",
          "Importada",
          "Importada",
          "Importada",
          "Importada",
          "Importada",
          "Importada",
          "Importada",
          "Importada",
          "Importada",
          "Importada",
          "Importada",
          "Importada",
          "Importada",
          "Importada",
          "Importada",
          "Importada",
          "Importada",
          "Importada",
          "Importada",
          "Importada",
          "Importada",
          "Importada",
          "Importada",
          "Importada",
          "Importada",
          "Importada",
          "Importada",
          "Importada",
          "Importada",
          "Importada",
          "Importada",
          "Importada",
          "Importada",
          "Importada",
          "Importada",
          "Importada",
          "Importada",
          "Importada",
          "Importada",
          "Importada",
          "Importada",
          "Importada",
          "Importada",
          "Importada",
          "Importada",
          "Importada",
          "Importada",
          "Importada",
          "Importada",
          "Importada",
          "Importada",
          "Importada",
          "Importada",
          "Importada",
          "Importada",
          "Importada",
          "Importada",
          "Importada",
          "Importada",
          "Importada",
          "Importada",
          "Importada",
          "Importada",
          "Importada",
          "Importada",
          "Importada",
          "Importada",
          "Importada",
          "Importada",
          "Importada",
          "Importada",
          "Importada",
          "Importada",
          "Importada",
          "Importada",
          "Importada",
          "Importada",
          "Importada",
          "Importada",
          "Importada",
          "Importada",
          "Importada",
          "Importada",
          "Importada",
          "Importada",
          "Importada",
          "Importada",
          "Importada",
          "Importada",
          "Importada",
          "Importada",
          "Importada",
          "Importada",
          "Importada",
          "Importada",
          "Importada",
          "Importada",
          "Importada",
          "Importada",
          "Importada",
          "Importada",
          "Importada",
          "Importada",
          "Importada",
          "Importada",
          "Importada",
          "Importada",
          "Importada",
          "Importada",
          "Importada",
          "Importada",
          "Importada",
          "Importada",
          "Importada",
          "Importada",
          "Importada",
          "Importada",
          "Importada",
          "Importada",
          "Importada",
          "Importada",
          "Importada",
          "Importada",
          "Importada",
          "Importada",
          "Importada",
          "Importada",
          "Importada",
          "Importada",
          "Importada",
          "Importada",
          "Importada",
          "Importada",
          "Importada",
          "Importada",
          "Importada",
          "Importada",
          "Importada",
          "Importada",
          "Importada",
          "Importada",
          "Importada",
          "Importada",
          "Importada",
          "Importada",
          "Importada",
          "Importada",
          "Importada",
          "Importada",
          "Importada",
          "Importada",
          "Importada",
          "Importada",
          "Importada",
          "Importada",
          "Importada",
          "Importada",
          "Importada",
          "Importada",
          "Importada",
          "Importada",
          "Importada",
          "Importada",
          "Importada",
          "Importada",
          "Importada",
          "Importada",
          "Importada",
          "Importada",
          "Importada",
          "Importada",
          "Importada",
          "Importada",
          "Importada",
          "Importada",
          "Importada",
          "Importada",
          "Importada",
          "Importada",
          "Importada",
          "Importada",
          "Importada",
          "Importada",
          "Importada",
          "Importada",
          "Importada",
          "Importada",
          "Importada",
          "Importada",
          "Importada",
          "Importada",
          "Importada",
          "Importada",
          "Importada",
          "Importada",
          "Importada",
          "Importada",
          "Importada",
          "Importada",
          "Importada",
          "Importada",
          "Importada",
          "Importada",
          "Importada",
          "Importada",
          "Importada",
          "Importada",
          "Importada",
          "Importada",
          "Importada",
          "Importada",
          "Importada",
          "Importada",
          "Importada",
          "Importada",
          "Importada",
          "Importada",
          "Importada",
          "Importada",
          "Importada",
          "Importada",
          "Importada",
          "Importada",
          "Importada",
          "Importada",
          "Importada",
          "Importada",
          "Importada",
          "Importada",
          "Importada",
          "Importada",
          "Importada",
          "Importada",
          "Importada",
          "Importada",
          "Importada",
          "Importada",
          "Importada",
          "Importada",
          "Importada",
          "Importada",
          "Importada",
          "Importada",
          "Importada",
          "Importada",
          "Importada",
          "Importada",
          "Importada",
          "Importada",
          "Importada",
          "Importada",
          "Importada",
          "Importada",
          "Importada",
          "Importada",
          "Importada",
          "Importada",
          "Importada",
          "Importada",
          "Importada",
          "Importada",
          "Importada",
          "Importada",
          "Importada",
          "Importada",
          "Importada",
          "Importada",
          "Importada",
          "Importada",
          "Importada",
          "Importada",
          "Importada",
          "Importada",
          "Importada",
          "Importada",
          "Importada",
          "Importada",
          "Importada",
          "Importada",
          "Importada",
          "Importada",
          "Importada",
          "Importada",
          "Importada",
          "Importada",
          "Importada",
          "Importada",
          "Importada",
          "Importada",
          "Importada",
          "Importada",
          "Importada",
          "Importada",
          "Importada",
          "Importada",
          "Importada",
          "Importada",
          "Importada",
          "Importada",
          "Importada",
          "Importada",
          "Importada",
          "Importada",
          "Importada",
          "Importada",
          "Importada",
          "Importada",
          "Importada",
          "Importada",
          "Importada",
          "Importada",
          "Importada",
          "Importada",
          "Importada",
          "Importada",
          "Importada",
          "Importada",
          "Importada",
          "Importada",
          "Importada",
          "Importada",
          "Importada",
          "Importada",
          "Importada",
          "Importada",
          "Importada",
          "Importada",
          "Importada",
          "Importada",
          "Importada",
          "Importada",
          "Importada",
          "Importada",
          "Importada",
          "Importada",
          "Importada",
          "Importada",
          "Importada",
          "Importada",
          "Importada",
          "Importada",
          "Importada",
          "Importada",
          "Importada",
          "Importada",
          "Importada",
          "Importada",
          "Importada",
          "Importada",
          "Importada",
          "Importada",
          "Importada",
          "Importada",
          "Importada",
          "Importada",
          "Importada",
          "Importada",
          "Importada",
          "Importada",
          "Importada",
          "Importada",
          "Importada",
          "Importada",
          "Importada",
          "Importada",
          "Importada",
          "Importada",
          "Importada",
          "Importada",
          "Importada",
          "Importada",
          "Importada",
          "Importada",
          "Importada",
          "Importada",
          "Importada",
          "Importada",
          "Importada",
          "Importada",
          "Importada",
          "Importada",
          "Importada",
          "Importada",
          "Importada",
          "Importada",
          "Importada",
          "Importada",
          "Importada",
          "Importada",
          "Importada",
          "Importada",
          "Importada",
          "Importada",
          "Importada",
          "Importada",
          "Importada",
          "Importada",
          "Importada",
          "Importada",
          "Importada",
          "Importada",
          "Importada",
          "Importada",
          "Importada",
          "Importada",
          "Importada",
          "Importada",
          "Importada",
          "Importada",
          "Importada",
          "Importada",
          "Importada",
          "Importada",
          "Importada",
          "Importada",
          "Importada",
          "Importada",
          "Importada",
          "Importada",
          "Importada",
          "Importada",
          "Importada",
          "Importada",
          "Importada",
          "Importada",
          "Importada",
          "Importada",
          "Importada",
          "Importada",
          "Importada",
          "Importada",
          "Importada",
          "Importada",
          "Importada",
          "Importada",
          "Importada",
          "Importada",
          "Importada",
          "Importada",
          "Importada",
          "Importada",
          "Importada",
          "Importada",
          "Importada",
          "Importada",
          "Importada",
          "Importada",
          "Importada",
          "Importada",
          "Importada",
          "Importada",
          "Importada",
          "Importada",
          "Importada",
          "Importada",
          "Importada",
          "Importada",
          "Importada",
          "Importada",
          "Importada",
          "Importada",
          "Importada",
          "Importada",
          "Importada",
          "Importada",
          "Importada",
          "Importada",
          "Importada",
          "Importada",
          "Importada",
          "Importada",
          "Importada",
          "Importada",
          "Importada",
          "Importada",
          "Importada",
          "Importada",
          "Importada",
          "Importada",
          "Importada",
          "Importada",
          "Importada",
          "Importada",
          "Importada",
          "Importada",
          "Importada",
          "Importada",
          "Importada",
          "Importada",
          "Importada",
          "Importada",
          "Importada",
          "Importada",
          "Importada",
          "Importada",
          "Importada",
          "Importada",
          "Importada",
          "Importada",
          "Importada",
          "Importada",
          "Importada",
          "Importada",
          "Importada",
          "Importada",
          "Importada",
          "Importada",
          "Importada",
          "Importada",
          "Importada",
          "Importada",
          "Importada",
          "Importada",
          "Importada",
          "Importada",
          "Importada",
          "Importada",
          "Importada",
          "Importada",
          "Importada",
          "Importada",
          "Importada",
          "Importada",
          "Importada",
          "Importada",
          "Importada",
          "Importada",
          "Importada",
          "Importada",
          "Importada",
          "Importada",
          "Importada",
          "Importada",
          "Importada",
          "Importada",
          "Importada",
          "Importada",
          "Importada",
          "Importada",
          "Importada",
          "Importada",
          "Importada",
          "Importada",
          "Importada",
          "Importada",
          "Importada",
          "Importada",
          "Importada",
          "Importada",
          "Importada",
          "Importada",
          "Importada",
          "Importada",
          "Importada",
          "Importada",
          "Importada",
          "Importada",
          "Importada",
          "Importada",
          "Importada",
          "Importada",
          "Importada",
          "Importada",
          "Importada",
          "Importada",
          "Importada",
          "Importada",
          "Importada",
          "Importada",
          "Importada",
          "Importada",
          "Importada",
          "Importada",
          "Importada",
          "Importada",
          "Importada",
          "Importada",
          "Importada",
          "Importada",
          "Importada",
          "Importada",
          "Importada",
          "Importada",
          "Importada",
          "Importada",
          "Importada",
          "Importada",
          "Importada",
          "Importada",
          "Importada",
          "Importada",
          "Importada",
          "Importada",
          "Importada",
          "Importada",
          "Importada",
          "Importada",
          "Importada",
          "Importada",
          "Importada",
          "Importada",
          "Importada",
          "Importada",
          "Importada",
          "Importada",
          "Importada",
          "Importada",
          "Importada",
          "Importada",
          "Importada",
          "Importada",
          "Importada",
          "Importada",
          "Importada",
          "Importada",
          "Importada",
          "Importada",
          "Importada",
          "Importada",
          "Importada",
          "Importada",
          "Importada",
          "Importada",
          "Importada",
          "Importada",
          "Importada",
          "Importada",
          "Importada",
          "Importada",
          "Importada",
          "Importada",
          "Importada",
          "Importada",
          "Importada",
          "Importada",
          "Importada",
          "Importada",
          "Importada",
          "Importada",
          "Importada",
          "Importada",
          "Importada",
          "Importada",
          "Importada",
          "Importada",
          "Importada",
          "Importada",
          "Importada",
          "Importada",
          "Importada",
          "Importada",
          "Importada",
          "Importada",
          "Importada",
          "Importada",
          "Importada",
          "Importada",
          "Importada",
          "Importada",
          "Importada",
          "Importada",
          "Importada",
          "Importada",
          "Importada",
          "Importada",
          "Importada",
          "Importada",
          "Importada",
          "Importada",
          "Importada",
          "Importada",
          "Importada",
          "Importada",
          "Importada",
          "Importada",
          "Importada",
          "Importada",
          "Importada",
          "Importada",
          "Importada",
          "Importada",
          "Importada",
          "Importada",
          "Importada",
          "Importada",
          "Importada",
          "Importada",
          "Importada",
          "Importada",
          "Importada",
          "Importada",
          "Importada",
          "Importada",
          "Importada",
          "Importada",
          "Importada",
          "Importada",
          "Importada",
          "Importada",
          "Importada",
          "Importada",
          "Importada",
          "Importada",
          "Importada",
          "Importada",
          "Importada",
          "Importada",
          "Importada",
          "Importada",
          "Importada",
          "Importada",
          "Importada",
          "Importada",
          "Importada",
          "Importada",
          "Importada",
          "Importada",
          "Importada",
          "Importada",
          "Importada",
          "Importada",
          "Importada",
          "Importada",
          "Importada",
          "Importada",
          "Importada",
          "Importada",
          "Importada",
          "Importada",
          "Importada",
          "Importada",
          "Importada",
          "Importada",
          "Importada",
          "Importada",
          "Importada",
          "Importada",
          "Importada",
          "Importada",
          "Importada",
          "Importada",
          "Importada",
          "Importada",
          "Importada",
          "Importada",
          "Importada",
          "Importada",
          "Importada",
          "Importada",
          "Importada",
          "Importada",
          "Importada",
          "Importada",
          "Importada",
          "Importada",
          "Importada",
          "Importada",
          "Importada",
          "Importada",
          "Importada",
          "Importada",
          "Importada",
          "Importada",
          "Importada",
          "Importada",
          "Importada",
          "Importada",
          "Importada",
          "Importada",
          "Importada",
          "Importada",
          "Importada",
          "Importada",
          "Importada",
          "Importada",
          "Importada",
          "Importada",
          "Importada",
          "Importada",
          "Importada",
          "Importada",
          "Importada",
          "Importada",
          "Importada",
          "Importada",
          "Importada",
          "Importada",
          "Importada",
          "Importada",
          "Importada",
          "Importada",
          "Importada",
          "Importada",
          "Importada",
          "Importada",
          "Importada",
          "Importada",
          "Importada",
          "Importada",
          "Importada",
          "Importada",
          "Importada",
          "Importada",
          "Importada",
          "Importada",
          "Importada",
          "Importada",
          "Importada",
          "Importada",
          "Importada",
          "Importada",
          "Importada",
          "Importada",
          "Importada",
          "Importada",
          "Importada",
          "Importada",
          "Importada",
          "Importada",
          "Importada",
          "Importada",
          "Importada",
          "Importada",
          "Importada",
          "Importada",
          "Importada",
          "Importada",
          "Importada",
          "Importada",
          "Importada",
          "Importada",
          "Importada",
          "Importada",
          "Importada",
          "Importada",
          "Importada",
          "Importada",
          "Importada",
          "Importada",
          "Importada",
          "Importada",
          "Importada",
          "Importada",
          "Importada",
          "Importada",
          "Importada",
          "Importada",
          "Importada",
          "Importada",
          "Importada",
          "Importada",
          "Importada",
          "Importada",
          "Importada",
          "Importada",
          "Importada",
          "Importada",
          "Importada",
          "Importada",
          "Importada",
          "Importada",
          "Importada",
          "Importada",
          "Importada",
          "Importada",
          "Importada",
          "Importada",
          "Importada",
          "Importada",
          "Importada",
          "Importada",
          "Importada",
          "Importada",
          "Importada",
          "Importada",
          "Importada",
          "Importada",
          "Importada",
          "Importada",
          "Importada",
          "Importada",
          "Importada",
          "Importada",
          "Importada",
          "Importada",
          "Importada",
          "Importada",
          "Importada",
          "Importada",
          "Importada",
          "Importada",
          "Importada",
          "Importada",
          "Importada",
          "Importada",
          "Importada",
          "Importada",
          "Importada",
          "Importada",
          "Importada",
          "Importada",
          "Importada",
          "Importada",
          "Importada",
          "Importada",
          "Importada",
          "Importada",
          "Importada",
          "Importada",
          "Importada",
          "Importada",
          "Importada",
          "Importada",
          "Importada",
          "Importada",
          "Importada",
          "Importada",
          "Importada",
          "Importada",
          "Importada",
          "Importada",
          "Importada",
          "Importada",
          "Importada",
          "Importada",
          "Importada",
          "Importada",
          "Importada",
          "Importada",
          "Importada",
          "Importada",
          "Importada",
          "Importada",
          "Importada",
          "Importada",
          "Importada",
          "Importada",
          "Importada",
          "Importada",
          "Importada",
          "Importada",
          "Importada",
          "Importada",
          "Importada",
          "Importada",
          "Importada",
          "Importada",
          "Importada",
          "Importada",
          "Importada",
          "Importada",
          "Importada",
          "Importada",
          "Importada",
          "Importada",
          "Importada",
          "Importada",
          "Importada",
          "Importada",
          "Importada",
          "Importada",
          "Importada",
          "Importada",
          "Importada",
          "Importada",
          "Importada",
          "Importada",
          "Importada",
          "Importada",
          "Importada",
          "Importada",
          "Importada",
          "Importada",
          "Importada",
          "Importada",
          "Importada",
          "Importada",
          "Importada",
          "Importada",
          "Importada",
          "Importada",
          "Importada",
          "Importada",
          "Importada",
          "Importada",
          "Importada",
          "Importada",
          "Importada",
          "Importada",
          "Importada",
          "Importada",
          "Importada",
          "Importada",
          "Importada",
          "Importada",
          "Importada",
          "Importada",
          "Importada",
          "Importada",
          "Importada",
          "Importada",
          "Importada",
          "Importada",
          "Importada",
          "Importada",
          "Importada",
          "Importada",
          "Importada",
          "Importada",
          "Importada",
          "Importada",
          "Importada",
          "Importada",
          "Importada",
          "Importada",
          "Importada",
          "Importada",
          "Importada",
          "Importada",
          "Importada",
          "Importada",
          "Importada",
          "Importada",
          "Importada",
          "Importada",
          "Importada",
          "Importada",
          "Importada",
          "Importada",
          "Importada",
          "Importada",
          "Importada",
          "Importada",
          "Importada",
          "Importada",
          "Importada",
          "Importada",
          "Importada",
          "Importada",
          "Importada",
          "Importada",
          "Importada",
          "Importada",
          "Importada",
          "Importada",
          "Importada",
          "Importada",
          "Importada",
          "Importada",
          "Importada",
          "Importada",
          "Importada",
          "Importada",
          "Importada",
          "Importada",
          "Importada",
          "Importada",
          "Importada",
          "Importada",
          "Importada",
          "Importada",
          "Importada",
          "Importada",
          "Importada",
          "Importada",
          "Importada",
          "Importada",
          "Importada",
          "Importada",
          "Importada",
          "Importada",
          "Importada",
          "Importada",
          "Importada",
          "Importada",
          "Importada",
          "Importada",
          "Importada",
          "Importada",
          "Importada",
          "Importada",
          "Importada",
          "Importada",
          "Importada",
          "Importada",
          "Importada",
          "Importada",
          "Importada",
          "Importada",
          "Importada",
          "Importada",
          "Importada",
          "Importada",
          "Importada",
          "Importada",
          "Importada",
          "Importada",
          "Importada",
          "Importada",
          "Importada",
          "Importada",
          "Importada",
          "Importada",
          "Importada",
          "Importada",
          "Importada",
          "Importada",
          "Importada",
          "Importada",
          "Importada",
          "Importada",
          "Importada",
          "Importada",
          "Importada",
          "Importada",
          "Importada",
          "Importada",
          "Importada",
          "Importada",
          "Importada",
          "Importada",
          "Importada",
          "Importada",
          "Importada",
          "Importada",
          "Importada",
          "Importada",
          "Importada",
          "Importada",
          "Importada",
          "Importada",
          "Importada",
          "Importada",
          "Importada",
          "Importada",
          "Importada",
          "Importada",
          "Importada",
          "Importada",
          "Importada",
          "Importada",
          "Importada",
          "Importada",
          "Importada",
          "Importada",
          "Importada",
          "Importada",
          "Importada",
          "Importada",
          "Importada",
          "Importada",
          "Importada",
          "Importada",
          "Importada",
          "Importada",
          "Importada",
          "Importada",
          "Importada",
          "Importada",
          "Importada",
          "Importada",
          "Importada",
          "Importada",
          "Importada",
          "Importada",
          "Importada",
          "Importada",
          "Importada",
          "Importada",
          "Importada",
          "Importada",
          "Importada",
          "Importada",
          "Importada",
          "Importada",
          "Importada",
          "Importada",
          "Importada",
          "Importada",
          "Importada",
          "Importada",
          "Importada",
          "Importada",
          "Importada",
          "Importada",
          "Importada",
          "Importada",
          "Importada",
          "Importada",
          "Importada",
          "Importada",
          "Importada",
          "Importada",
          "Importada",
          "Importada",
          "Importada",
          "Importada",
          "Importada",
          "Importada",
          "Importada",
          "Importada",
          "Importada",
          "Importada",
          "Importada",
          "Importada",
          "Importada",
          "Importada",
          "Importada",
          "Importada",
          "Importada",
          "Importada",
          "Importada",
          "Importada",
          "Importada",
          "Importada",
          "Importada",
          "Importada",
          "Importada",
          "Importada",
          "Importada",
          "Importada",
          "Importada",
          "Importada",
          "Importada",
          "Importada",
          "Importada",
          "Importada",
          "Importada",
          "Importada",
          "Importada",
          "Importada",
          "Importada",
          "Importada",
          "Importada",
          "Importada",
          "Importada",
          "Importada",
          "Importada",
          "Importada",
          "Importada",
          "Importada",
          "Importada",
          "Importada",
          "Importada",
          "Importada",
          "Importada",
          "Importada",
          "Importada",
          "Importada",
          "Importada",
          "Importada",
          "Importada",
          "Importada",
          "Importada",
          "Importada",
          "Importada",
          "Importada",
          "Importada",
          "Importada",
          "Importada",
          "Importada",
          "Importada",
          "Importada",
          "Importada",
          "Importada",
          "Importada",
          "Importada",
          "Importada",
          "Importada",
          "Importada",
          "Importada",
          "Importada",
          "Importada",
          "Importada",
          "Importada",
          "Importada",
          "Importada",
          "Importada",
          "Importada",
          "Importada",
          "Importada",
          "Importada",
          "Importada",
          "Importada",
          "Importada",
          "Importada",
          "Importada",
          "Importada",
          "Importada",
          "Importada",
          "Importada",
          "Importada",
          "Importada",
          "Importada",
          "Importada",
          "Importada",
          "Importada",
          "Importada",
          "Importada",
          "Importada",
          "Importada",
          "Importada",
          "Importada",
          "Importada",
          "Importada",
          "Importada",
          "Importada",
          "Importada",
          "Importada",
          "Importada",
          "Importada",
          "Importada",
          "Importada",
          "Importada",
          "Importada",
          "Importada",
          "Importada",
          "Importada",
          "Importada",
          "Importada",
          "Importada",
          "Importada",
          "Importada",
          "Importada",
          "Importada",
          "Importada",
          "Importada",
          "Importada",
          "Importada",
          "Importada",
          "Importada",
          "Importada",
          "Importada",
          "Importada",
          "Importada",
          "Importada",
          "Importada",
          "Importada",
          "Importada",
          "Importada",
          "Importada",
          "Importada",
          "Importada",
          "Importada",
          "Importada",
          "Importada",
          "Importada",
          "Importada",
          "Importada",
          "Importada",
          "Importada",
          "Importada",
          "Importada",
          "Importada",
          "Importada",
          "Importada",
          "Importada",
          "Importada",
          "Importada",
          "Importada",
          "Importada",
          "Importada",
          "Importada",
          "Importada",
          "Importada",
          "Importada",
          "Importada",
          "Importada",
          "Importada",
          "Importada",
          "Importada",
          "Importada",
          "Importada",
          "Importada",
          "Importada",
          "Importada",
          "Importada",
          "Importada",
          "Importada",
          "Importada",
          "Importada",
          "Importada",
          "Importada",
          "Importada",
          "Importada",
          "Importada",
          "Importada",
          "Importada",
          "Importada",
          "Importada",
          "Importada",
          "Importada",
          "Importada",
          "Importada",
          "Importada",
          "Importada",
          "Importada",
          "Importada",
          "Importada",
          "Importada",
          "Importada",
          "Importada",
          "Importada",
          "Importada",
          "Importada",
          "Importada",
          "Importada",
          "Importada",
          "Importada",
          "Importada",
          "Importada",
          "Importada",
          "Importada",
          "Importada",
          "Importada",
          "Importada",
          "Importada",
          "Importada",
          "Importada",
          "Importada",
          "Importada",
          "Importada",
          "Importada",
          "Importada",
          "Importada",
          "Importada",
          "Importada",
          "Importada",
          "Importada",
          "Importada",
          "Importada",
          "Importada",
          "Importada",
          "Importada",
          "Importada",
          "Importada",
          "Importada",
          "Importada",
          "Importada",
          "Importada",
          "Importada",
          "Importada",
          "Importada",
          "Importada",
          "Importada",
          "Importada",
          "Importada",
          "Importada",
          "Importada",
          "Importada",
          "Importada",
          "Importada",
          "Importada",
          "Importada",
          "Importada",
          "Importada",
          "Importada",
          "Importada",
          "Importada",
          "Importada",
          "Importada",
          "Importada",
          "Importada",
          "Importada",
          "Importada",
          "Importada",
          "Importada",
          "Importada",
          "Importada",
          "Importada",
          "Importada",
          "Importada",
          "Importada",
          "Importada",
          "Importada",
          "Importada",
          "Importada",
          "Importada",
          "Importada",
          "Importada",
          "Importada",
          "Importada",
          "Importada",
          "Importada",
          "Importada",
          "Importada",
          "Importada",
          "Importada",
          "Importada",
          "Importada",
          "Importada",
          "Importada",
          "Importada",
          "Importada",
          "Importada",
          "Importada",
          "Importada",
          "Importada",
          "Importada",
          "Importada",
          "Importada",
          "Importada",
          "Importada",
          "Importada",
          "Importada",
          "Importada",
          "Importada",
          "Importada",
          "Importada",
          "Importada",
          "Importada",
          "Importada",
          "Importada",
          "Importada",
          "Importada",
          "Importada",
          "Importada",
          "Importada",
          "Importada",
          "Importada",
          "Importada",
          "Importada",
          "Importada",
          "Importada",
          "Importada",
          "Importada",
          "Importada",
          "Importada",
          "Importada",
          "Importada",
          "Importada",
          "Importada",
          "Importada",
          "Importada",
          "Importada",
          "Importada",
          "Importada",
          "Importada",
          "Importada",
          "Importada",
          "Importada",
          "Importada",
          "Importada",
          "Importada",
          "Importada",
          "Importada",
          "Importada",
          "Importada",
          "Importada",
          "Importada",
          "Importada",
          "Importada",
          "Importada",
          "Importada",
          "Importada",
          "Importada",
          "Importada",
          "Importada",
          "Importada",
          "Importada",
          "Importada",
          "Importada",
          "Importada",
          "Importada",
          "Importada",
          "Importada",
          "Importada",
          "Importada",
          "Importada",
          "Importada",
          "Importada",
          "Importada",
          "Importada",
          "Importada",
          "Importada",
          "Importada",
          "Importada",
          "Importada",
          "Importada",
          "Importada",
          "Importada",
          "Importada",
          "Importada",
          "Importada",
          "Importada",
          "Importada",
          "Importada",
          "Importada",
          "Importada",
          "Importada",
          "Importada",
          "Importada",
          "Importada",
          "Importada",
          "Importada",
          "Importada",
          "Importada",
          "Importada",
          "Importada",
          "Importada",
          "Importada",
          "Importada",
          "Importada",
          "Importada",
          "Importada",
          "Importada",
          "Importada",
          "Importada",
          "Importada",
          "Importada",
          "Importada",
          "Importada",
          "Importada",
          "Importada",
          "Importada",
          "Importada",
          "Importada",
          "Importada",
          "Importada",
          "Importada",
          "Importada",
          "Importada",
          "Importada",
          "Importada",
          "Importada",
          "Importada",
          "Importada",
          "Importada",
          "Importada",
          "Importada",
          "Importada",
          "Importada",
          "Importada",
          "Importada",
          "Importada",
          "Importada",
          "Importada",
          "Importada",
          "Importada",
          "Importada",
          "Importada",
          "Importada",
          "Importada",
          "Importada",
          "Importada",
          "Importada",
          "Importada",
          "Importada",
          "Importada",
          "Importada",
          "Importada",
          "Importada",
          "Importada",
          "Importada",
          "Importada",
          "Importada",
          "Importada",
          "Importada",
          "Importada",
          "Importada",
          "Importada",
          "Importada",
          "Importada",
          "Importada",
          "Importada",
          "Importada",
          "Importada",
          "Importada",
          "Importada",
          "Importada",
          "Importada",
          "Importada",
          "Importada",
          "Importada",
          "Importada",
          "Importada",
          "Importada",
          "Importada",
          "Importada",
          "Importada",
          "Importada",
          "Importada",
          "Importada",
          "Importada",
          "Importada",
          "Importada",
          "Importada",
          "Importada",
          "Importada",
          "Importada",
          "Importada",
          "Importada",
          "Importada",
          "Importada",
          "Importada",
          "Importada",
          "Importada",
          "Importada",
          "Importada",
          "Importada",
          "Importada",
          "Importada",
          "Importada",
          "Importada",
          "Importada",
          "Importada",
          "Importada",
          "Importada",
          "Importada",
          "Importada",
          "Importada",
          "Importada",
          "Importada",
          "Importada",
          "Importada",
          "Importada",
          "Importada",
          "Importada",
          "Importada",
          "Importada",
          "Importada",
          "Importada",
          "Importada",
          "Importada",
          "Importada",
          "Importada",
          "Importada",
          "Importada",
          "Importada",
          "Importada",
          "Importada",
          "Importada",
          "Importada",
          "Importada",
          "Importada",
          "Importada",
          "Importada",
          "Importada",
          "Importada",
          "Importada",
          "Importada",
          "Importada",
          "Importada",
          "Importada",
          "Importada",
          "Importada",
          "Importada",
          "Importada",
          "Importada",
          "Importada",
          "Importada",
          "Importada",
          "Importada",
          "Importada",
          "Importada",
          "Importada",
          "Importada",
          "Importada",
          "Importada",
          "Importada",
          "Importada",
          "Importada",
          "Importada",
          "Importada",
          "Importada",
          "Importada",
          "Importada",
          "Importada",
          "Importada",
          "Importada",
          "Importada",
          "Importada",
          "Importada",
          "Importada",
          "Importada",
          "Importada",
          "Importada",
          "Importada",
          "Importada",
          "Importada",
          "Importada",
          "Importada",
          "Importada",
          "Importada",
          "Importada",
          "Importada",
          "Importada",
          "Importada",
          "Importada",
          "Importada",
          "Importada",
          "Importada",
          "Importada",
          "Importada",
          "Importada",
          "Importada",
          "Importada",
          "Importada",
          "Importada",
          "Importada",
          "Importada",
          "Importada",
          "Importada",
          "Importada",
          "Importada",
          "Importada",
          "Importada",
          "Importada",
          "Importada",
          "Importada",
          "Importada",
          "Importada",
          "Importada",
          "Importada",
          "Importada",
          "Importada",
          "Importada",
          "Importada",
          "Importada",
          "Importada",
          "Importada",
          "Importada",
          "Importada",
          "Importada",
          "Importada",
          "Importada",
          "Importada",
          "Importada",
          "Importada",
          "Importada",
          "Importada",
          "Importada",
          "Importada",
          "Importada",
          "Importada",
          "Importada",
          "Importada",
          "Importada",
          "Importada",
          "Importada",
          "Importada",
          "Importada",
          "Importada",
          "Importada",
          "Importada",
          "Importada",
          "Importada",
          "Importada",
          "Importada",
          "Importada",
          "Importada",
          "Importada",
          "Importada",
          "Importada",
          "Importada",
          "Importada",
          "Importada",
          "Importada",
          "Importada",
          "Importada",
          "Importada",
          "Importada",
          "Importada",
          "Importada",
          "Importada",
          "Importada",
          "Importada",
          "Importada",
          "Importada",
          "Importada",
          "Importada",
          "Importada",
          "Importada",
          "Importada",
          "Importada",
          "Importada",
          "Importada",
          "Importada",
          "Importada",
          "Importada",
          "Importada",
          "Importada",
          "Importada",
          "Importada",
          "Importada",
          "Importada",
          "Importada",
          "Importada",
          "Importada",
          "Importada",
          "Importada",
          "Importada",
          "Importada",
          "Importada",
          "Importada",
          "Importada",
          "Importada",
          "Importada",
          "Importada",
          "Importada",
          "Importada",
          "Importada",
          "Importada",
          "Importada",
          "Importada",
          "Importada",
          "Importada",
          "Importada",
          "Importada",
          "Importada",
          "Importada",
          "Importada",
          "Importada",
          "Importada",
          "Importada",
          "Importada",
          "Importada",
          "Importada",
          "Importada",
          "Importada",
          "Importada",
          "Importada",
          "Importada",
          "Importada",
          "Importada",
          "Importada",
          "Importada",
          "Importada",
          "Importada",
          "Importada",
          "Importada",
          "Importada",
          "Importada",
          "Importada",
          "Importada",
          "Importada",
          "Importada",
          "Importada",
          "Importada",
          "Importada",
          "Importada",
          "Importada",
          "Importada",
          "Importada",
          "Importada",
          "Importada",
          "Importada",
          "Importada",
          "Importada",
          "Importada",
          "Importada",
          "Importada",
          "Importada",
          "Importada",
          "Importada",
          "Importada",
          "Importada",
          "Importada",
          "Importada",
          "Importada",
          "Importada",
          "Importada",
          "Importada",
          "Importada",
          "Importada",
          "Importada",
          "Importada",
          "Importada",
          "Importada",
          "Importada",
          "Importada",
          "Importada",
          "Importada",
          "Importada",
          "Importada",
          "Importada",
          "Importada",
          "Importada",
          "Importada",
          "Importada",
          "Importada",
          "Importada",
          "Importada",
          "Importada",
          "Importada",
          "Importada",
          "Importada",
          "Importada",
          "Importada",
          "Importada",
          "Importada",
          "Importada",
          "Importada",
          "Importada",
          "Importada",
          "Importada",
          "Importada",
          "Importada",
          "Importada",
          "Importada",
          "Importada",
          "Importada",
          "Importada",
          "Importada",
          "Importada",
          "Importada",
          "Importada",
          "Importada",
          "Importada",
          "Importada",
          "Importada",
          "Importada",
          "Importada",
          "Importada",
          "Importada",
          "Importada",
          "Importada",
          "Importada",
          "Importada",
          "Importada",
          "Importada",
          "Importada",
          "Importada",
          "Importada",
          "Importada",
          "Importada",
          "Importada",
          "Importada",
          "Importada",
          "Importada",
          "Importada",
          "Importada",
          "Importada",
          "Importada",
          "Importada",
          "Importada",
          "Importada",
          "Importada",
          "Importada",
          "Importada",
          "Importada",
          "Importada",
          "Importada",
          "Importada",
          "Importada",
          "Importada",
          "Importada",
          "Importada",
          "Importada",
          "Importada",
          "Importada",
          "Importada",
          "Importada",
          "Importada",
          "Importada",
          "Importada",
          "Importada",
          "Importada",
          "Importada",
          "Importada",
          "Importada",
          "Importada",
          "Importada",
          "Importada",
          "Importada",
          "Importada",
          "Importada",
          "Importada",
          "Importada",
          "Importada",
          "Importada",
          "Importada",
          "Importada",
          "Importada",
          "Importada",
          "Importada",
          "Importada",
          "Importada",
          "Importada",
          "Importada",
          "Importada",
          "Importada",
          "Importada",
          "Importada",
          "Importada",
          "Importada",
          "Importada",
          "Importada",
          "Importada",
          "Importada",
          "Importada",
          "Importada",
          "Importada",
          "Importada",
          "Importada",
          "Importada",
          "Importada",
          "Importada",
          "Importada",
          "Importada",
          "Importada",
          "Importada",
          "Importada",
          "Importada",
          "Importada",
          "Importada",
          "Importada",
          "Importada",
          "Importada",
          "Importada",
          "Importada",
          "Importada",
          "Importada",
          "Importada",
          "Importada",
          "Importada",
          "Importada",
          "Importada",
          "Importada",
          "Importada",
          "Importada",
          "Importada",
          "Importada",
          "Importada",
          "Importada",
          "Importada",
          "Importada",
          "Importada",
          "Importada",
          "Importada",
          "Importada",
          "Importada",
          "Importada",
          "Importada",
          "Importada",
          "Importada",
          "Importada",
          "Importada",
          "Importada",
          "Importada",
          "Importada",
          "Importada",
          "Importada",
          "Importada",
          "Importada",
          "Importada",
          "Importada",
          "Importada",
          "Importada",
          "Importada",
          "Importada",
          "Importada",
          "Importada",
          "Importada",
          "Importada",
          "Importada",
          "Importada",
          "Importada",
          "Importada",
          "Importada",
          "Importada",
          "Importada",
          "Importada",
          "Importada",
          "Importada",
          "Importada",
          "Importada",
          "Importada",
          "Importada",
          "Importada",
          "Importada",
          "Importada",
          "Importada",
          "Importada",
          "Importada",
          "Importada",
          "Importada",
          "Importada",
          "Importada",
          "Importada",
          "Importada",
          "Importada",
          "Importada",
          "Importada",
          "Importada",
          "Importada",
          "Importada",
          "Importada",
          "Importada",
          "Importada",
          "Importada",
          "Importada",
          "Importada",
          "Importada",
          "Importada",
          "Importada",
          "Importada",
          "Importada",
          "Importada",
          "Importada",
          "Importada",
          "Importada",
          "Importada",
          "Importada",
          "Importada",
          "Importada",
          "Importada",
          "Importada",
          "Importada",
          "Importada",
          "Importada",
          "Importada",
          "Importada",
          "Importada",
          "Importada",
          "Importada",
          "Importada",
          "Importada",
          "Importada",
          "Importada",
          "Importada",
          "Importada",
          "Importada",
          "Importada",
          "Importada",
          "Importada",
          "Importada",
          "Importada",
          "Importada",
          "Importada",
          "Importada",
          "Importada",
          "Importada",
          "Importada",
          "Importada",
          "Importada",
          "Importada",
          "Importada",
          "Importada",
          "Importada",
          "Importada",
          "Importada",
          "Importada",
          "Importada",
          "Importada",
          "Importada",
          "Importada",
          "Importada",
          "Importada",
          "Importada",
          "Importada",
          "Importada",
          "Importada",
          "Importada",
          "Importada",
          "Importada",
          "Importada",
          "Importada",
          "Importada",
          "Importada",
          "Importada",
          "Importada",
          "Importada",
          "Importada",
          "Importada",
          "Importada",
          "Importada",
          "Importada",
          "Importada",
          "Importada",
          "Importada",
          "Importada",
          "Importada",
          "Importada",
          "Importada",
          "Importada",
          "Importada",
          "Importada",
          "Importada",
          "Importada",
          "Importada",
          "Importada",
          "Importada",
          "Importada",
          "Importada",
          "Importada",
          "Importada",
          "Importada",
          "Importada",
          "Importada",
          "Importada",
          "Importada",
          "Importada",
          "Importada",
          "Importada",
          "Importada",
          "Importada",
          "Importada",
          "Importada",
          "Importada",
          "Importada",
          "Importada",
          "Importada",
          "Importada",
          "Importada",
          "Importada",
          "Importada",
          "Importada",
          "Importada",
          "Importada",
          "Importada",
          "Importada",
          "Importada",
          "Importada",
          "Importada",
          "Importada",
          "Importada",
          "Importada",
          "Importada",
          "Importada",
          "Importada",
          "Importada",
          "Importada",
          "Importada",
          "Importada",
          "Importada",
          "Importada",
          "Importada",
          "Importada",
          "Importada",
          "Importada",
          "Importada",
          "Importada",
          "Importada",
          "Importada",
          "Importada",
          "Importada",
          "Importada",
          "Importada",
          "Importada",
          "Importada",
          "Importada",
          "Importada",
          "Importada",
          "Importada",
          "Importada",
          "Importada",
          "Importada",
          "Importada",
          "Importada",
          "Importada",
          "Importada",
          "Importada",
          "Importada",
          "Importada",
          "Importada",
          "Importada",
          "Importada",
          "Importada",
          "Importada",
          "Importada",
          "Importada",
          "Importada",
          "Importada",
          "Importada",
          "Importada",
          "Importada",
          "Importada",
          "Importada",
          "Importada",
          "Importada",
          "Importada",
          "Importada",
          "Importada",
          "Importada",
          "Importada",
          "Importada",
          "Importada",
          "Importada",
          "Importada",
          "Importada",
          "Importada",
          "Importada",
          "Importada",
          "Importada",
          "Importada",
          "Importada",
          "Importada",
          "Importada",
          "Importada",
          "Importada",
          "Importada",
          "Importada",
          "Importada",
          "Importada",
          "Importada",
          "Importada",
          "Importada",
          "Importada",
          "Importada",
          "Importada",
          "Importada",
          "Importada",
          "Importada",
          "Importada",
          "Importada",
          "Importada",
          "Importada",
          "Importada",
          "Importada",
          "Importada",
          "Importada",
          "Importada",
          "Importada",
          "Importada",
          "Importada",
          "Importada",
          "Importada",
          "Importada",
          "Importada",
          "Importada",
          "Importada",
          "Importada",
          "Importada",
          "Importada",
          "Importada",
          "Importada",
          "Importada",
          "Importada",
          "Importada",
          "Importada",
          "Importada",
          "Importada",
          "Importada",
          "Importada",
          "Importada",
          "Importada",
          "Importada",
          "Importada",
          "Importada",
          "Importada",
          "Importada",
          "Importada",
          "Importada",
          "Importada",
          "Importada",
          "Importada",
          "Importada",
          "Importada",
          "Importada",
          "Importada",
          "Importada",
          "Importada",
          "Importada",
          "Importada",
          "Importada",
          "Importada",
          "Importada",
          "Importada",
          "Importada",
          "Importada",
          "Importada",
          "Importada",
          "Importada",
          "Importada",
          "Importada",
          "Importada",
          "Importada",
          "Importada",
          "Importada",
          "Importada",
          "Importada",
          "Importada",
          "Importada",
          "Importada",
          "Importada",
          "Importada",
          "Importada",
          "Importada",
          "Importada",
          "Importada",
          "Importada",
          "Importada",
          "Importada",
          "Importada",
          "Importada",
          "Importada",
          "Importada",
          "Importada",
          "Importada",
          "Importada",
          "Importada",
          "Importada",
          "Importada",
          "Importada",
          "Importada",
          "Importada",
          "Importada",
          "Importada",
          "Importada",
          "Importada",
          "Importada",
          "Importada",
          "Importada",
          "Importada",
          "Importada",
          "Importada",
          "Importada",
          "Importada",
          "Importada",
          "Importada",
          "Importada",
          "Importada",
          "Importada",
          "Importada",
          "Importada",
          "Importada",
          "Importada",
          "Importada",
          "Importada",
          "Importada",
          "Importada",
          "Importada",
          "Importada",
          "Importada",
          "Importada",
          "Importada",
          "Importada",
          "Importada",
          "Importada",
          "Importada",
          "Importada",
          "Importada",
          "Importada",
          "Importada",
          "Importada",
          "Importada",
          "Importada",
          "Importada",
          "Importada",
          "Importada",
          "Importada",
          "Importada",
          "Importada",
          "Importada",
          "Importada",
          "Importada",
          "Importada",
          "Importada",
          "Importada",
          "Importada",
          "Importada",
          "Importada",
          "Importada",
          "Importada",
          "Importada",
          "Importada",
          "Importada",
          "Importada",
          "Importada",
          "Importada",
          "Importada",
          "Importada",
          "Importada",
          "Importada",
          "Importada",
          "Importada",
          "Importada",
          "Importada",
          "Importada",
          "Importada",
          "Importada",
          "Importada",
          "Importada",
          "Importada",
          "Importada",
          "Importada",
          "Importada",
          "Importada",
          "Importada",
          "Importada",
          "Importada",
          "Importada",
          "Importada",
          "Importada",
          "Importada",
          "Importada",
          "Importada",
          "Importada",
          "Importada",
          "Importada",
          "Importada",
          "Importada",
          "Importada",
          "Importada",
          "Importada",
          "Importada",
          "Importada",
          "Importada",
          "Importada",
          "Importada",
          "Importada",
          "Importada",
          "Importada",
          "Importada",
          "Importada",
          "Importada",
          "Importada",
          "Importada",
          "Importada",
          "Importada",
          "Importada",
          "Importada",
          "Importada",
          "Importada",
          "Importada",
          "Importada",
          "Importada",
          "Importada",
          "Importada",
          "Importada",
          "Importada",
          "Importada",
          "Importada",
          "Importada",
          "Importada",
          "Importada",
          "Importada",
          "Importada",
          "Importada",
          "Importada",
          "Importada",
          "Importada",
          "Importada",
          "Importada",
          "Importada",
          "Importada",
          "Importada",
          "Importada",
          "Importada",
          "Importada",
          "Importada",
          "Importada",
          "Importada",
          "Importada",
          "Importada",
          "Importada",
          "Importada",
          "Importada",
          "Importada",
          "Importada",
          "Importada",
          "Importada",
          "Importada",
          "Importada",
          "Importada",
          "Importada",
          "Importada",
          "Importada",
          "Importada",
          "Importada",
          "Importada",
          "Importada",
          "Importada",
          "Importada",
          "Importada",
          "Importada",
          "Importada",
          "Importada",
          "Importada",
          "Importada",
          "Importada",
          "Importada",
          "Importada",
          "Importada",
          "Importada",
          "Importada",
          "Importada",
          "Importada",
          "Importada",
          "Importada",
          "Importada",
          "Importada",
          "Importada",
          "Importada",
          "Importada",
          "Importada",
          "Importada",
          "Importada",
          "Importada",
          "Importada",
          "Importada",
          "Importada",
          "Importada",
          "Importada",
          "Importada",
          "Importada",
          "Importada",
          "Importada",
          "Importada",
          "Importada",
          "Importada",
          "Importada",
          "Importada",
          "Importada",
          "Importada",
          "Importada",
          "Importada",
          "Importada",
          "Importada",
          "Importada",
          "Importada",
          "Importada",
          "Importada",
          "Importada",
          "Importada",
          "Importada",
          "Importada",
          "Importada",
          "Importada",
          "Importada",
          "Importada",
          "Importada",
          "Importada",
          "Importada",
          "Importada",
          "Importada",
          "Importada",
          "Importada",
          "Importada",
          "Importada",
          "Importada",
          "Importada",
          "Importada",
          "Importada",
          "Importada",
          "Importada",
          "Importada",
          "Importada",
          "Importada",
          "Importada",
          "Importada",
          "Importada",
          "Importada",
          "Importada",
          "Importada",
          "Importada",
          "Importada",
          "Importada",
          "Importada",
          "Importada",
          "Importada",
          "Importada",
          "Importada",
          "Importada",
          "Importada",
          "Importada",
          "Importada",
          "Importada",
          "Importada",
          "Importada",
          "Importada",
          "Importada",
          "Importada",
          "Importada",
          "Importada",
          "Importada",
          "Importada",
          "Importada",
          "Importada",
          "Importada",
          "Importada",
          "Importada",
          "Importada",
          "Importada",
          "Importada",
          "Importada",
          "Importada",
          "Importada",
          "Importada",
          "Importada",
          "Importada",
          "Importada",
          "Importada",
          "Importada",
          "Importada",
          "Importada",
          "Importada",
          "Importada",
          "Importada",
          "Importada",
          "Importada",
          "Importada",
          "Importada",
          "Importada",
          "Importada",
          "Importada",
          "Importada",
          "Importada",
          "Importada",
          "Importada",
          "Importada",
          "Importada",
          "Importada",
          "Importada",
          "Importada",
          "Importada",
          "Importada",
          "Importada",
          "Importada",
          "Importada",
          "Importada",
          "Importada",
          "Importada",
          "Importada",
          "Importada",
          "Importada",
          "Importada",
          "Importada",
          "Importada",
          "Importada",
          "Importada",
          "Importada",
          "Importada",
          "Importada",
          "Importada",
          "Importada",
          "Importada",
          "Importada",
          "Importada",
          "Importada",
          "Importada",
          "Importada",
          "Importada",
          "Importada",
          "Importada",
          "Importada",
          "Importada",
          "Importada",
          "Importada",
          "Importada",
          "Importada",
          "Importada",
          "Importada",
          "Importada",
          "Importada",
          "Importada",
          "Importada",
          "Importada",
          "Importada",
          "Importada",
          "Importada",
          "Importada",
          "Importada",
          "Importada",
          "Importada",
          "Importada",
          "Importada",
          "Importada",
          "Importada",
          "Importada",
          "Importada",
          "Importada",
          "Importada",
          "Importada",
          "Importada",
          "Importada",
          "Importada",
          "Importada",
          "Importada",
          "Importada",
          "Importada",
          "Importada",
          "Importada",
          "Importada",
          "Importada",
          "Importada",
          "Importada",
          "Importada",
          "Importada",
          "Importada",
          "Importada",
          "Importada",
          "Importada",
          "Importada",
          "Importada",
          "Importada",
          "Importada",
          "Importada",
          "Importada",
          "Importada",
          "Importada",
          "Importada",
          "Importada",
          "Importada",
          "Importada",
          "Importada",
          "Importada",
          "Importada",
          "Importada",
          "Importada",
          "Importada",
          "Importada",
          "Importada",
          "Importada",
          "Importada",
          "Importada",
          "Importada",
          "Importada",
          "Importada",
          "Importada",
          "Importada",
          "Importada",
          "Importada",
          "Importada",
          "Importada",
          "Importada",
          "Importada",
          "Importada",
          "Importada",
          "Importada",
          "Importada",
          "Importada",
          "Importada",
          "Importada",
          "Importada",
          "Importada",
          "Importada",
          "Importada",
          "Importada",
          "Importada",
          "Importada",
          "Importada",
          "Importada",
          "Importada",
          "Importada",
          "Importada",
          "Importada",
          "Importada",
          "Importada",
          "Importada",
          "Importada",
          "Importada",
          "Importada",
          "Importada",
          "Importada",
          "Importada",
          "Importada",
          "Importada",
          "Importada",
          "Importada",
          "Importada",
          "Importada",
          "Importada",
          "Importada",
          "Importada",
          "Importada",
          "Importada",
          "Importada",
          "Importada",
          "Importada",
          "Importada",
          "Importada",
          "Importada",
          "Importada",
          "Importada",
          "Importada",
          "Importada",
          "Importada",
          "Importada",
          "Importada",
          "Importada",
          "Importada",
          "Importada",
          "Importada",
          "Importada",
          "Importada",
          "Importada",
          "Importada",
          "Importada",
          "Importada",
          "Importada",
          "Importada",
          "Importada",
          "Importada",
          "Importada",
          "Importada",
          "Importada",
          "Importada",
          "Importada",
          "Importada",
          "Importada",
          "Importada",
          "Importada",
          "Importada",
          "Importada",
          "Importada",
          "Importada",
          "Importada",
          "Importada",
          "Importada",
          "Importada",
          "Importada",
          "Importada",
          "Importada",
          "Importada",
          "Importada",
          "Importada",
          "Importada",
          "Importada",
          "Importada",
          "Importada",
          "Importada",
          "Importada",
          "Importada",
          "Importada",
          "Importada",
          "Importada",
          "Importada",
          "Importada",
          "Importada",
          "Importada",
          "Importada",
          "Importada",
          "Importada",
          "Importada",
          "Importada",
          "Importada",
          "Importada",
          "Importada",
          "Importada",
          "Importada",
          "Importada",
          "Importada",
          "Importada",
          "Importada",
          "Importada",
          "Importada",
          "Importada",
          "Importada",
          "Importada",
          "Importada",
          "Importada",
          "Importada",
          "Importada",
          "Importada",
          "Importada",
          "Importada",
          "Importada",
          "Importada",
          "Importada",
          "Importada",
          "Importada",
          "Importada",
          "Importada",
          "Importada",
          "Importada",
          "Importada",
          "Importada",
          "Importada",
          "Importada",
          "Importada",
          "Importada",
          "Importada",
          "Importada",
          "Importada",
          "Importada",
          "Importada",
          "Importada",
          "Importada",
          "Importada",
          "Importada",
          "Importada",
          "Importada",
          "Importada",
          "Importada",
          "Importada",
          "Importada",
          "Importada",
          "Importada",
          "Importada",
          "Importada",
          "Importada",
          "Importada",
          "Importada",
          "Importada",
          "Importada",
          "Importada",
          "Importada",
          "Importada",
          "Importada",
          "Importada",
          "Importada",
          "Importada",
          "Importada",
          "Importada",
          "Importada",
          "Importada",
          "Importada",
          "Importada",
          "Importada",
          "Importada",
          "Importada",
          "Importada",
          "Importada",
          "Importada",
          "Importada",
          "Importada",
          "Importada",
          "Importada",
          "Importada",
          "Importada",
          "Importada",
          "Importada",
          "Importada",
          "Importada",
          "Importada",
          "Importada",
          "Importada",
          "Importada",
          "Importada",
          "Importada",
          "Importada",
          "Importada",
          "Importada",
          "Importada",
          "Importada",
          "Importada",
          "Importada",
          "Importada",
          "Importada",
          "Importada",
          "Importada",
          "Importada",
          "Importada",
          "Importada",
          "Importada",
          "Importada",
          "Importada",
          "Importada",
          "Importada",
          "Importada",
          "Importada",
          "Importada",
          "Importada",
          "Importada",
          "Importada",
          "Importada",
          "Importada",
          "Importada",
          "Importada",
          "Importada",
          "Importada",
          "Importada",
          "Importada",
          "Importada",
          "Importada",
          "Importada",
          "Importada",
          "Importada",
          "Importada",
          "Importada",
          "Importada",
          "Importada",
          "Importada",
          "Importada",
          "Importada",
          "Importada",
          "Importada",
          "Importada",
          "Importada",
          "Importada",
          "Importada",
          "Importada",
          "Importada",
          "Importada",
          "Importada",
          "Importada",
          "Importada",
          "Importada",
          "Importada",
          "Importada",
          "Importada",
          "Importada",
          "Importada",
          "Importada",
          "Importada",
          "Importada",
          "Importada",
          "Importada",
          "Importada",
          "Importada",
          "Importada",
          "Importada",
          "Importada",
          "Importada",
          "Importada",
          "Importada",
          "Importada",
          "Importada",
          "Importada",
          "Importada",
          "Importada",
          "Importada",
          "Importada",
          "Importada",
          "Importada",
          "Importada",
          "Importada",
          "Importada",
          "Importada",
          "Importada",
          "Importada",
          "Importada",
          "Importada",
          "Importada",
          "Importada",
          "Importada",
          "Importada",
          "Importada",
          "Importada",
          "Importada",
          "Importada",
          "Importada",
          "Importada",
          "Importada",
          "Importada",
          "Importada",
          "Importada",
          "Importada",
          "Importada",
          "Importada",
          "Importada",
          "Importada",
          "Importada",
          "Importada",
          "Importada",
          "Importada",
          "Importada",
          "Importada",
          "Importada",
          "Importada",
          "Importada",
          "Importada",
          "Importada",
          "Importada",
          "Importada",
          "Importada",
          "Importada",
          "Importada",
          "Importada",
          "Importada",
          "Importada",
          "Importada",
          "Importada",
          "Importada",
          "Importada",
          "Importada",
          "Importada",
          "Importada",
          "Importada",
          "Importada",
          "Importada",
          "Importada",
          "Importada",
          "Importada",
          "Importada",
          "Importada",
          "Importada",
          "Importada",
          "Importada",
          "Importada",
          "Importada",
          "Importada",
          "Importada",
          "Importada",
          "Importada",
          "Importada",
          "Importada",
          "Importada",
          "Importada",
          "Importada",
          "Importada",
          "Importada",
          "Importada",
          "Importada",
          "Importada",
          "Importada",
          "Importada",
          "Importada",
          "Importada",
          "Importada",
          "Importada",
          "Importada",
          "Importada",
          "Importada",
          "Importada",
          "Importada",
          "Importada",
          "Importada",
          "Importada",
          "Importada",
          "Importada",
          "Importada",
          "Importada",
          "Importada",
          "Importada",
          "Importada",
          "Importada",
          "Importada",
          "Importada",
          "Importada",
          "Importada",
          "Importada",
          "Importada",
          "Importada",
          "Importada",
          "Importada",
          "Importada",
          "Importada",
          "Importada",
          "Importada",
          "Importada",
          "Importada",
          "Importada",
          "Importada",
          "Importada",
          "Importada",
          "Importada",
          "Importada",
          "Importada",
          "Importada",
          "Importada",
          "Importada",
          "Importada",
          "Importada",
          "Importada",
          "Importada",
          "Importada",
          "Importada",
          "Importada",
          "Importada",
          "Importada",
          "Importada",
          "Importada",
          "Importada",
          "Importada",
          "Importada",
          "Importada",
          "Importada",
          "Importada",
          "Importada",
          "Importada",
          "Importada",
          "Importada",
          "Importada",
          "Importada",
          "Importada",
          "Importada",
          "Importada",
          "Importada",
          "Importada",
          "Importada",
          "Importada",
          "Importada",
          "Importada",
          "Importada",
          "Importada",
          "Importada",
          "Importada",
          "Importada",
          "Importada",
          "Importada",
          "Importada",
          "Importada",
          "Importada",
          "Importada",
          "Importada",
          "Importada",
          "Importada",
          "Importada",
          "Importada",
          "Importada",
          "Importada",
          "Importada",
          "Importada",
          "Importada",
          "Importada",
          "Importada",
          "Importada",
          "Importada",
          "Importada",
          "Importada",
          "Importada",
          "Importada",
          "Importada",
          "Importada",
          "Importada",
          "Importada",
          "Importada",
          "Importada",
          "Importada",
          "Importada",
          "Importada",
          "Importada",
          "Importada",
          "Importada",
          "Importada",
          "Importada",
          "Importada",
          "Importada",
          "Importada",
          "Importada",
          "Importada",
          "Importada",
          "Importada",
          "Importada",
          "Importada",
          "Importada",
          "Importada",
          "Importada",
          "Importada",
          "Importada",
          "Importada",
          "Importada",
          "Importada",
          "Importada",
          "Importada",
          "Importada",
          "Importada",
          "Importada",
          "Importada",
          "Importada",
          "Importada",
          "Importada",
          "Importada",
          "Importada",
          "Importada",
          "Importada",
          "Importada",
          "Importada",
          "Importada",
          "Importada",
          "Importada",
          "Importada",
          "Importada",
          "Importada",
          "Importada",
          "Importada",
          "Importada",
          "Importada",
          "Importada",
          "Importada",
          "Importada",
          "Importada",
          "Importada",
          "Importada",
          "Importada",
          "Importada",
          "Importada",
          "Importada",
          "Importada",
          "Importada",
          "Importada",
          "Importada",
          "Importada",
          "Importada",
          "Importada",
          "Importada",
          "Importada",
          "Importada",
          "Importada",
          "Importada",
          "Importada",
          "Importada",
          "Importada",
          "Importada",
          "Importada",
          "Importada",
          "Importada",
          "Importada",
          "Importada",
          "Importada",
          "Importada",
          "Importada",
          "Importada",
          "Importada",
          "Importada",
          "Importada",
          "Importada",
          "Importada",
          "Importada",
          "Importada",
          "Importada",
          "Importada",
          "Importada",
          "Importada",
          "Importada",
          "Importada",
          "Importada",
          "Importada",
          "Importada",
          "Importada",
          "Importada",
          "Importada",
          "Importada",
          "Importada",
          "Importada",
          "Importada",
          "Importada",
          "Importada",
          "Importada",
          "Importada",
          "Importada",
          "Importada",
          "Importada",
          "Importada",
          "Importada",
          "Importada",
          "Importada",
          "Importada",
          "Importada",
          "Importada",
          "Importada",
          "Importada",
          "Importada",
          "Importada",
          "Importada",
          "Importada",
          "Importada",
          "Importada",
          "Importada",
          "Importada",
          "Importada",
          "Importada",
          "Importada",
          "Importada",
          "Importada",
          "Importada",
          "Importada",
          "Importada",
          "Importada",
          "Importada",
          "Importada",
          "Importada",
          "Importada",
          "Importada",
          "Importada",
          "Importada",
          "Importada",
          "Importada",
          "Importada",
          "Importada",
          "Importada",
          "Importada",
          "Importada",
          "Importada",
          "Importada",
          "Importada",
          "Importada",
          "Importada",
          "Importada",
          "Importada",
          "Importada",
          "Importada",
          "Importada",
          "Importada",
          "Importada",
          "Importada",
          "Importada",
          "Importada",
          "Importada",
          "Importada",
          "Importada",
          "Importada",
          "Importada",
          "Importada",
          "Importada",
          "Importada",
          "Importada",
          "Importada",
          "Importada",
          "Importada",
          "Importada",
          "Importada",
          "Importada",
          "Importada",
          "Importada",
          "Importada",
          "Importada",
          "Importada",
          "Importada",
          "Importada",
          "Importada",
          "Importada",
          "Importada",
          "Importada",
          "Importada",
          "Importada",
          "Importada",
          "Importada",
          "Importada",
          "Importada",
          "Importada",
          "Importada",
          "Importada",
          "Importada",
          "Importada",
          "Importada",
          "Importada",
          "Importada",
          "Importada",
          "Importada",
          "Importada",
          "Importada",
          "Importada",
          "Importada",
          "Importada",
          "Importada",
          "Importada",
          "Importada",
          "Importada",
          "Importada",
          "Importada",
          "Importada",
          "Importada",
          "Importada",
          "Importada",
          "Importada",
          "Importada",
          "Importada",
          "Importada",
          "Importada",
          "Importada",
          "Importada",
          "Importada",
          "Importada",
          "Importada",
          "Importada",
          "Importada",
          "Importada",
          "Importada",
          "Importada",
          "Importada",
          "Importada",
          "Importada",
          "Importada",
          "Importada",
          "Importada",
          "Importada",
          "Importada",
          "Importada",
          "Importada",
          "Importada",
          "Importada",
          "Importada",
          "Importada",
          "Importada",
          "Importada",
          "Importada",
          "Importada",
          "Importada",
          "Importada",
          "Importada",
          "Importada",
          "Importada",
          "Importada",
          "Importada",
          "Importada",
          "Importada",
          "Importada",
          "Importada",
          "Importada",
          "Importada",
          "Importada",
          "Importada",
          "Importada",
          "Importada",
          "Importada",
          "Importada",
          "Importada",
          "Importada",
          "Importada",
          "Importada",
          "Importada",
          "Importada",
          "Importada",
          "Importada",
          "Importada",
          "Importada",
          "Importada",
          "Importada",
          "Importada",
          "Importada",
          "Importada",
          "Importada",
          "Importada",
          "Importada",
          "Importada",
          "Importada",
          "Importada",
          "Importada",
          "Importada",
          "Importada",
          "Importada",
          "Importada",
          "Importada",
          "Importada",
          "Importada",
          "Importada",
          "Importada",
          "Importada",
          "Importada",
          "Importada",
          "Importada",
          "Importada",
          "Importada",
          "Importada",
          "Importada",
          "Importada",
          "Importada",
          "Importada",
          "Importada",
          "Importada",
          "Importada",
          "Importada",
          "Importada",
          "Importada",
          "Importada",
          "Importada",
          "Importada",
          "Importada",
          "Importada",
          "Importada",
          "Importada",
          "Importada",
          "Importada",
          "Importada",
          "Importada",
          "Importada",
          "Importada",
          "Importada",
          "Importada",
          "Importada",
          "Importada",
          "Importada",
          "Importada",
          "Importada",
          "Importada",
          "Importada",
          "Importada",
          "Importada",
          "Importada",
          "Importada",
          "Importada",
          "Importada",
          "Importada",
          "Importada",
          "Importada",
          "Importada",
          "Importada",
          "Importada",
          "Importada",
          "Importada",
          "Importada",
          "Importada",
          "Importada",
          "Importada",
          "Importada",
          "Importada",
          "Importada",
          "Importada",
          "Importada",
          "Importada",
          "Importada",
          "Importada",
          "Importada",
          "Importada",
          "Importada",
          "Importada",
          "Importada",
          "Importada",
          "Importada",
          "Importada",
          "Importada",
          "Importada",
          "Importada",
          "Importada",
          "Importada",
          "Importada",
          "Importada",
          "Importada",
          "Importada",
          "Importada",
          "Importada",
          "Importada",
          "Importada",
          "Importada",
          "Importada",
          "Importada",
          "Importada",
          "Importada",
          "Importada",
          "Importada",
          "Importada",
          "Importada",
          "Importada",
          "Importada",
          "Importada",
          "Importada",
          "Importada",
          "Importada",
          "Importada",
          "Importada",
          "Importada",
          "Importada",
          "Importada",
          "Importada",
          "Importada",
          "Importada",
          "Importada",
          "Importada",
          "Importada",
          "Importada",
          "Importada",
          "Importada",
          "Importada",
          "Importada",
          "Importada",
          "Importada",
          "Importada",
          "Importada",
          "Importada",
          "Importada",
          "Importada",
          "Importada",
          "Importada",
          "Importada",
          "Importada",
          "Importada",
          "Importada",
          "Importada",
          "Importada",
          "Importada",
          "Importada",
          "Importada",
          "Importada",
          "Importada",
          "Importada",
          "Importada",
          "Importada",
          "Importada",
          "Importada",
          "Importada",
          "Importada",
          "Importada",
          "Importada",
          "Importada",
          "Importada",
          "Importada",
          "Importada",
          "Importada",
          "Importada",
          "Importada",
          "Importada",
          "Importada",
          "Importada",
          "Importada",
          "Importada",
          "Importada",
          "Importada",
          "Importada",
          "Importada",
          "Importada",
          "Importada",
          "Importada",
          "Importada",
          "Importada",
          "Importada",
          "Importada",
          "Importada",
          "Importada",
          "Importada",
          "Importada",
          "Importada",
          "Importada",
          "Importada",
          "Importada",
          "Importada",
          "Importada",
          "Importada",
          "Importada",
          "Importada",
          "Importada",
          "Importada",
          "Importada",
          "Importada",
          "Importada",
          "Importada",
          "Importada",
          "Importada",
          "Importada",
          "Importada",
          "Importada",
          "Importada",
          "Importada",
          "Importada",
          "Importada",
          "Importada",
          "Importada",
          "Importada",
          "Importada",
          "Importada",
          "Importada",
          "Importada",
          "Importada",
          "Importada",
          "Importada",
          "Importada",
          "Importada",
          "Importada",
          "Importada",
          "Importada",
          "Importada",
          "Importada",
          "Importada",
          "Importada",
          "Importada",
          "Importada",
          "Importada",
          "Importada",
          "Importada",
          "Importada",
          "Importada",
          "Importada",
          "Importada",
          "Importada",
          "Importada",
          "Importada",
          "Importada",
          "Importada",
          "Importada",
          "Importada",
          "Importada",
          "Importada",
          "Importada",
          "Importada",
          "Importada",
          "Importada",
          "Importada",
          "Importada",
          "Importada",
          "Importada",
          "Importada",
          "Importada",
          "Importada",
          "Importada",
          "Importada",
          "Importada",
          "Importada",
          "Importada",
          "Importada",
          "Importada",
          "Importada",
          "Importada",
          "Importada",
          "Importada",
          "Importada",
          "Importada",
          "Importada",
          "Importada",
          "Importada",
          "Importada",
          "Importada",
          "Importada",
          "Importada",
          "Importada",
          "Importada",
          "Importada",
          "Importada",
          "Importada",
          "Importada",
          "Importada",
          "Importada",
          "Importada",
          "Importada",
          "Importada",
          "Importada",
          "Importada",
          "Importada",
          "Importada",
          "Importada",
          "Importada",
          "Importada",
          "Importada",
          "Importada",
          "Importada",
          "Importada",
          "Importada",
          "Importada",
          "Importada",
          "Importada",
          "Importada",
          "Importada",
          "Importada",
          "Importada",
          "Importada",
          "Importada",
          "Importada",
          "Importada",
          "Importada",
          "Importada",
          "Importada",
          "Importada",
          "Importada",
          "Importada",
          "Importada",
          "Importada",
          "Importada",
          "Importada",
          "Importada",
          "Importada",
          "Importada",
          "Importada",
          "Importada",
          "Importada",
          "Importada",
          "Importada",
          "Importada",
          "Importada",
          "Importada",
          "Importada",
          "Importada",
          "Importada",
          "Importada",
          "Importada",
          "Importada",
          "Importada",
          "Importada",
          "Importada",
          "Importada",
          "Importada",
          "Importada",
          "Importada",
          "Importada",
          "Importada",
          "Importada",
          "Importada",
          "Importada",
          "Importada",
          "Importada",
          "Importada",
          "Importada",
          "Importada",
          "Importada",
          "Importada",
          "Importada",
          "Importada",
          "Importada",
          "Importada",
          "Importada",
          "Importada",
          "Importada",
          "Importada",
          "Importada",
          "Importada",
          "Importada",
          "Importada",
          "Importada",
          "Importada",
          "Importada",
          "Importada",
          "Importada",
          "Importada",
          "Importada",
          "Importada",
          "Importada",
          "Importada",
          "Importada",
          "Importada",
          "Importada",
          "Importada",
          "Importada",
          "Importada",
          "Importada",
          "Importada",
          "Importada",
          "Importada",
          "Importada",
          "Importada",
          "Importada",
          "Importada",
          "Importada",
          "Importada",
          "Importada",
          "Importada",
          "Importada",
          "Importada",
          "Importada",
          "Importada",
          "Importada",
          "Importada",
          "Importada",
          "Importada",
          "Importada",
          "Importada",
          "Importada",
          "Importada",
          "Importada",
          "Importada",
          "Importada",
          "Importada",
          "Importada",
          "Importada",
          "Importada",
          "Importada",
          "Importada",
          "Importada",
          "Importada",
          "Importada",
          "Importada",
          "Importada",
          "Importada",
          "Importada",
          "Importada",
          "Importada",
          "Importada",
          "Importada",
          "Importada",
          "Importada",
          "Importada",
          "Importada",
          "Importada",
          "Importada",
          "Importada",
          "Importada",
          "Importada",
          "Importada",
          "Importada",
          "Importada",
          "Importada",
          "Importada",
          "Importada",
          "Importada",
          "Importada",
          "Importada",
          "Importada",
          "Importada",
          "Importada",
          "Importada",
          "Importada",
          "Importada",
          "Importada",
          "Importada",
          "Importada",
          "Importada",
          "Importada",
          "Importada",
          "Importada",
          "Importada",
          "Importada",
          "Importada",
          "Importada",
          "Importada",
          "Importada",
          "Importada",
          "Importada",
          "Importada",
          "Importada",
          "Importada",
          "Importada",
          "Importada",
          "Importada",
          "Importada",
          "Importada",
          "Importada",
          "Importada",
          "Importada",
          "Importada",
          "Importada",
          "Importada",
          "Importada",
          "Importada",
          "Importada",
          "Importada",
          "Importada",
          "Importada",
          "Importada",
          "Importada",
          "Importada",
          "Importada",
          "Importada",
          "Importada",
          "Importada",
          "Importada",
          "Importada",
          "Importada",
          "Importada",
          "Importada",
          "Importada",
          "Importada",
          "Importada",
          "Importada",
          "Importada",
          "Importada",
          "Importada",
          "Importada",
          "Importada",
          "Importada",
          "Importada",
          "Importada",
          "Importada",
          "Importada",
          "Importada",
          "Importada",
          "Importada",
          "Importada",
          "Importada",
          "Importada",
          "Importada",
          "Importada",
          "Importada",
          "Importada",
          "Importada",
          "Importada",
          "Importada",
          "Importada",
          "Importada",
          "Importada",
          "Importada",
          "Importada",
          "Importada",
          "Importada",
          "Importada",
          "Importada",
          "Importada",
          "Importada",
          "Importada",
          "Importada",
          "Importada",
          "Importada",
          "Importada",
          "Importada",
          "Importada",
          "Importada",
          "Importada",
          "Importada",
          "Importada",
          "Importada",
          "Importada",
          "Importada",
          "Importada",
          "Importada",
          "Importada",
          "Importada",
          "Importada",
          "Importada",
          "Importada",
          "Importada",
          "Importada",
          "Importada",
          "Importada",
          "Importada",
          "Importada",
          "Importada",
          "Importada",
          "Importada",
          "Importada",
          "Importada",
          "Importada",
          "Importada",
          "Importada",
          "Importada",
          "Importada",
          "Importada",
          "Importada",
          "Importada",
          "Importada",
          "Importada",
          "Importada",
          "Importada",
          "Importada",
          "Importada",
          "Importada",
          "Importada",
          "Importada",
          "Importada",
          "Importada",
          "Importada",
          "Importada",
          "Importada",
          "Importada",
          "Importada",
          "Importada",
          "Importada",
          "Importada",
          "Importada",
          "Importada",
          "Importada",
          "Importada",
          "Importada",
          "Importada",
          "Importada",
          "Importada",
          "Importada",
          "Importada",
          "Importada",
          "Importada",
          "Importada",
          "Importada",
          "Importada",
          "Importada",
          "Importada",
          "Importada",
          "Importada",
          "Importada",
          "Importada",
          "Importada",
          "Importada",
          "Importada",
          "Importada",
          "Importada",
          "Importada",
          "Importada",
          "Importada",
          "Importada",
          "Importada",
          "Importada",
          "Importada",
          "Importada",
          "Importada",
          "Importada",
          "Importada",
          "Importada",
          "Importada",
          "Importada",
          "Importada",
          "Importada",
          "Importada",
          "Importada",
          "Importada",
          "Importada",
          "Importada",
          "Importada",
          "Importada",
          "Importada",
          "Importada",
          "Importada",
          "Importada",
          "Importada",
          "Importada",
          "Importada",
          "Importada",
          "Importada",
          "Importada",
          "Importada",
          "Importada",
          "Importada",
          "Importada",
          "Importada",
          "Importada",
          "Importada",
          "Importada",
          "Importada",
          "Importada",
          "Importada",
          "Importada",
          "Importada",
          "Importada",
          "Importada",
          "Importada",
          "Importada",
          "Importada",
          "Importada",
          "Importada",
          "Importada",
          "Importada",
          "Importada",
          "Importada",
          "Importada",
          "Importada",
          "Importada",
          "Importada",
          "Importada",
          "Importada",
          "Importada",
          "Importada",
          "Importada",
          "Importada",
          "Importada",
          "Importada",
          "Importada",
          "Importada",
          "Importada",
          "Importada",
          "Importada",
          "Importada",
          "Importada",
          "Importada",
          "Importada",
          "Importada",
          "Importada",
          "Importada",
          "Importada",
          "Importada",
          "Importada",
          "Importada",
          "Importada",
          "Importada",
          "Importada",
          "Importada",
          "Importada",
          "Importada",
          "Importada",
          "Importada",
          "Importada",
          "Importada",
          "Importada",
          "Importada",
          "Importada",
          "Importada",
          "Importada",
          "Importada",
          "Importada",
          "Importada",
          "Importada",
          "Importada",
          "Importada",
          "Importada",
          "Importada",
          "Importada",
          "Importada",
          "Importada",
          "Importada",
          "Importada",
          "Importada",
          "Importada",
          "Importada",
          "Importada",
          "Importada",
          "Importada",
          "Importada",
          "Importada",
          "Importada",
          "Importada",
          "Importada",
          "Importada",
          "Importada",
          "Importada",
          "Importada",
          "Importada",
          "Importada",
          "Importada",
          "Importada",
          "Importada",
          "Importada",
          "Importada",
          "Importada",
          "Importada",
          "Importada",
          "Importada",
          "Importada",
          "Importada",
          "Importada",
          "Importada",
          "Importada",
          "Importada",
          "Importada",
          "Importada",
          "Importada",
          "Importada",
          "Importada",
          "Importada",
          "Importada",
          "Importada",
          "Importada",
          "Importada",
          "Importada",
          "Importada",
          "Importada",
          "Importada",
          "Importada",
          "Importada",
          "Importada",
          "Importada",
          "Importada",
          "Importada",
          "Importada",
          "Importada",
          "Importada",
          "Importada",
          "Importada",
          "Importada",
          "Importada",
          "Importada",
          "Importada",
          "Importada",
          "Importada",
          "Importada",
          "Importada",
          "Importada",
          "Importada",
          "Importada",
          "Importada",
          "Importada",
          "Importada",
          "Importada",
          "Importada",
          "Importada",
          "Importada",
          "Importada",
          "Importada",
          "Importada",
          "Importada",
          "Importada",
          "Importada",
          "Importada",
          "Importada",
          "Importada",
          "Importada",
          "Importada",
          "Importada",
          "Importada",
          "Importada",
          "Importada",
          "Importada",
          "Importada",
          "Importada",
          "Importada",
          "Importada",
          "Importada",
          "Importada",
          "Importada",
          "Importada",
          "Importada",
          "Importada",
          "Importada",
          "Importada",
          "Importada",
          "Importada",
          "Importada",
          "Importada",
          "Importada",
          "Importada",
          "Importada",
          "Importada",
          "Importada",
          "Importada",
          "Importada",
          "Importada",
          "Importada",
          "Importada",
          "Importada",
          "Importada",
          "Importada",
          "Importada",
          "Importada",
          "Importada",
          "Importada",
          "Importada",
          "Importada",
          "Importada",
          "Importada",
          "Importada",
          "Importada",
          "Importada",
          "Importada",
          "Importada",
          "Importada",
          "Importada",
          "Importada",
          "Importada",
          "Importada",
          "Importada",
          "Importada",
          "Importada",
          "Importada",
          "Importada",
          "Importada",
          "Importada",
          "Importada",
          "Importada",
          "Importada",
          "Importada",
          "Importada",
          "Importada",
          "Importada",
          "Importada",
          "Importada",
          "Importada",
          "Importada",
          "Importada",
          "Importada",
          "Importada",
          "Importada",
          "Importada",
          "Importada",
          "Importada",
          "Importada",
          "Importada",
          "Importada",
          "Importada",
          "Importada",
          "Importada",
          "Importada",
          "Importada",
          "Importada",
          "Importada",
          "Importada",
          "Importada",
          "Importada",
          "Importada",
          "Importada",
          "Importada",
          "Importada",
          "Importada",
          "Importada",
          "Importada",
          "Importada",
          "Importada",
          "Importada",
          "Importada",
          "Importada",
          "Importada",
          "Importada",
          "Importada",
          "Importada",
          "Importada",
          "Importada",
          "Importada",
          "Importada",
          "Importada",
          "Importada",
          "Importada",
          "Importada",
          "Importada",
          "Importada",
          "Importada",
          "Importada",
          "Importada",
          "Importada",
          "Importada",
          "Importada",
          "Importada",
          "Importada",
          "Importada",
          "Importada",
          "Importada",
          "Importada",
          "Importada",
          "Importada",
          "Importada",
          "Importada",
          "Importada",
          "Importada",
          "Importada",
          "Importada",
          "Importada",
          "Importada",
          "Importada",
          "Importada",
          "Importada",
          "Importada",
          "Importada",
          "Importada",
          "Importada",
          "Importada",
          "Importada",
          "Importada",
          "Importada",
          "Importada",
          "Importada",
          "Importada",
          "Importada",
          "Importada",
          "Importada",
          "Importada",
          "Importada",
          "Importada",
          "Importada",
          "Importada",
          "Importada",
          "Importada",
          "Importada",
          "Importada",
          "Importada",
          "Importada",
          "Importada",
          "Importada",
          "Importada",
          "Importada",
          "Importada",
          "Importada",
          "Importada",
          "Importada",
          "Importada",
          "Importada",
          "Importada",
          "Importada",
          "Importada",
          "Importada",
          "Importada",
          "Importada",
          "Importada",
          "Importada",
          "Importada",
          "Importada",
          "Importada",
          "Importada",
          "Importada",
          "Importada",
          "Importada",
          "Importada",
          "Importada",
          "Importada",
          "Importada",
          "Importada",
          "Importada",
          "Importada",
          "Importada",
          "Importada",
          "Importada",
          "Importada",
          "Importada",
          "Importada",
          "Importada",
          "Importada",
          "Importada",
          "Importada",
          "Importada",
          "Importada",
          "Importada",
          "Importada",
          "Importada",
          "Importada",
          "Importada",
          "Importada",
          "Importada",
          "Importada",
          "Importada",
          "Importada",
          "Importada",
          "Importada",
          "Importada",
          "Importada",
          "Importada",
          "Importada",
          "Importada",
          "Importada",
          "Importada",
          "Importada",
          "Importada",
          "Importada",
          "Importada",
          "Importada",
          "Importada",
          "Importada",
          "Importada",
          "Importada",
          "Importada",
          "Importada",
          "Importada",
          "Importada",
          "Importada",
          "Importada",
          "Importada",
          "Importada",
          "Importada",
          "Importada",
          "Importada",
          "Importada",
          "Importada",
          "Importada",
          "Importada",
          "Importada",
          "Importada",
          "Importada",
          "Importada",
          "Importada",
          "Importada",
          "Importada",
          "Importada",
          "Importada",
          "Importada",
          "Importada",
          "Importada",
          "Importada",
          "Importada",
          "Importada",
          "Importada",
          "Importada",
          "Importada",
          "Importada",
          "Importada",
          "Importada",
          "Importada",
          "Importada",
          "Importada",
          "Importada",
          "Importada",
          "Importada",
          "Importada",
          "Importada",
          "Importada",
          "Importada",
          "Importada",
          "Importada",
          "Importada",
          "Importada",
          "Importada",
          "Importada",
          "Importada",
          "Importada",
          "Importada",
          "Importada",
          "Importada",
          "Importada",
          "Importada",
          "Importada",
          "Importada",
          "Importada",
          "Importada",
          "Importada",
          "Importada",
          "Importada",
          "Importada",
          "Importada",
          "Importada",
          "Importada",
          "Importada",
          "Importada",
          "Importada",
          "Importada",
          "Importada",
          "Importada",
          "Importada",
          "Importada",
          "Importada",
          "Importada",
          "Importada",
          "Importada",
          "Importada",
          "Importada",
          "Importada",
          "Importada",
          "Importada",
          "Importada",
          "Importada",
          "Importada",
          "Importada",
          "Importada",
          "Importada",
          "Importada",
          "Importada",
          "Importada",
          "Importada",
          "Importada",
          "Importada",
          "Importada",
          "Importada",
          "Importada",
          "Importada",
          "Importada",
          "Importada",
          "Importada",
          "Importada",
          "Importada",
          "Importada",
          "Importada",
          "Importada",
          "Importada",
          "Importada",
          "Importada",
          "Importada",
          "Importada",
          "Importada",
          "Importada",
          "Importada",
          "Importada",
          "Importada",
          "Importada",
          "Importada",
          "Importada",
          "Importada",
          "Importada",
          "Importada",
          "Importada",
          "Importada",
          "Importada",
          "Importada",
          "Importada",
          "Importada",
          "Importada",
          "Importada",
          "Importada",
          "Importada",
          "Importada",
          "Importada",
          "Importada",
          "Importada",
          "Importada",
          "Importada",
          "Importada",
          "Importada",
          "Importada",
          "Importada",
          "Importada",
          "Importada",
          "Importada",
          "Importada",
          "Importada",
          "Importada",
          "Importada",
          "Importada",
          "Importada",
          "Importada",
          "Importada",
          "Importada",
          "Importada",
          "Importada",
          "Importada",
          "Importada",
          "Importada",
          "Importada",
          "Importada",
          "Importada",
          "Importada",
          "Importada",
          "Importada",
          "Importada",
          "Importada",
          "Importada",
          "Importada",
          "Importada",
          "Importada",
          "Importada",
          "Importada",
          "Importada",
          "Importada",
          "Importada",
          "Importada",
          "Importada",
          "Importada",
          "Importada",
          "Importada",
          "Importada",
          "Importada",
          "Importada",
          "Importada",
          "Importada",
          "Importada",
          "Importada",
          "Importada",
          "Importada",
          "Importada",
          "Importada",
          "Importada",
          "Importada",
          "Importada",
          "Importada",
          "Importada",
          "Importada",
          "Importada",
          "Importada",
          "Importada",
          "Importada",
          "Importada",
          "Importada",
          "Importada",
          "Importada",
          "Importada",
          "Importada",
          "Importada",
          "Importada",
          "Importada",
          "Importada",
          "Importada",
          "Importada",
          "Importada",
          "Importada",
          "Importada",
          "Importada",
          "Importada",
          "Importada",
          "Importada",
          "Importada",
          "Importada",
          "Importada",
          "Importada",
          "Importada",
          "Importada",
          "Importada",
          "Importada",
          "Importada",
          "Importada",
          "Importada",
          "Importada",
          "Importada",
          "Importada",
          "Importada",
          "Importada",
          "Importada",
          "Importada",
          "Importada",
          "Importada",
          "Importada",
          "Importada",
          "Importada",
          "Importada",
          "Importada",
          "Importada",
          "Importada",
          "Importada",
          "Importada",
          "Importada",
          "Importada",
          "Importada",
          "Importada",
          "Importada",
          "Importada",
          "Importada",
          "Importada",
          "Importada",
          "Importada",
          "Importada",
          "Importada",
          "Importada",
          "Importada",
          "Importada",
          "Importada",
          "Importada",
          "Importada",
          "Importada",
          "Importada",
          "Importada",
          "Importada",
          "Importada",
          "Importada",
          "Importada",
          "Importada",
          "Importada",
          "Importada",
          "Importada",
          "Importada",
          "Importada",
          "Importada",
          "Importada",
          "Importada",
          "Importada",
          "Importada",
          "Importada",
          "Importada",
          "Importada",
          "Importada",
          "Importada",
          "Importada",
          "Importada",
          "Importada",
          "Importada",
          "Importada",
          "Importada",
          "Importada",
          "Importada",
          "Importada",
          "Importada",
          "Importada",
          "Importada",
          "Importada",
          "Importada",
          "Importada",
          "Importada",
          "Importada",
          "Importada",
          "Importada",
          "Importada",
          "Importada",
          "Importada",
          "Importada",
          "Importada",
          "Importada",
          "Importada",
          "Importada",
          "Importada",
          "Importada",
          "Importada",
          "Importada",
          "Importada",
          "Importada",
          "Importada",
          "Importada",
          "Importada",
          "Importada",
          "Importada",
          "Importada",
          "Importada",
          "Importada",
          "Importada",
          "Importada",
          "Importada",
          "Importada",
          "Importada",
          "Importada",
          "Importada",
          "Importada",
          "Importada",
          "Importada",
          "Importada",
          "Importada",
          "Importada",
          "Importada",
          "Importada",
          "Importada",
          "Importada",
          "Importada",
          "Importada",
          "Importada",
          "Importada",
          "Importada",
          "Importada",
          "Importada",
          "Importada",
          "Importada",
          "Importada",
          "Importada",
          "Importada",
          "Importada",
          "Importada",
          "Importada",
          "Importada",
          "Importada",
          "Importada",
          "Importada",
          "Importada",
          "Importada",
          "Importada",
          "Importada",
          "Importada",
          "Importada",
          "Importada",
          "Importada",
          "Importada",
          "Importada",
          "Importada",
          "Importada",
          "Importada",
          "Importada",
          "Importada",
          "Importada",
          "Importada",
          "Importada",
          "Importada",
          "Importada",
          "Importada",
          "Importada",
          "Importada",
          "Importada",
          "Importada",
          "Importada",
          "Importada",
          "Importada",
          "Importada",
          "Importada",
          "Importada",
          "Importada",
          "Importada",
          "Importada",
          "Importada",
          "Importada",
          "Importada",
          "Importada",
          "Importada",
          "Importada",
          "Importada",
          "Importada",
          "Importada",
          "Importada",
          "Importada",
          "Importada",
          "Importada",
          "Importada",
          "Importada",
          "Importada",
          "Importada",
          "Importada",
          "Importada",
          "Importada",
          "Importada",
          "Importada",
          "Importada",
          "Importada",
          "Importada",
          "Importada",
          "Importada",
          "Importada",
          "Importada",
          "Importada",
          "Importada",
          "Importada",
          "Importada",
          "Importada",
          "Importada",
          "Importada",
          "Importada",
          "Importada",
          "Importada",
          "Importada",
          "Importada",
          "Importada",
          "Importada",
          "Importada",
          "Importada",
          "Importada",
          "Importada",
          "Importada",
          "Importada",
          "Importada",
          "Importada",
          "Importada",
          "Importada",
          "Importada",
          "Importada",
          "Importada",
          "Importada",
          "Importada",
          "Importada",
          "Importada",
          "Importada",
          "Importada",
          "Importada",
          "Importada",
          "Importada",
          "Importada",
          "Importada",
          "Importada",
          "Importada",
          "Importada",
          "Importada",
          "Importada",
          "Importada",
          "Importada",
          "Importada",
          "Importada",
          "Importada",
          "Importada",
          "Importada",
          "Importada",
          "Importada",
          "Importada",
          "Importada",
          "Importada",
          "Importada",
          "Importada",
          "Importada",
          "Importada",
          "Importada",
          "Importada",
          "Importada",
          "Importada",
          "Importada",
          "Importada",
          "Importada",
          "Importada",
          "Importada",
          "Importada",
          "Importada",
          "Importada",
          "Importada",
          "Importada",
          "Importada",
          "Importada",
          "Importada",
          "Importada",
          "Importada",
          "Importada",
          "Importada",
          "Importada",
          "Importada",
          "Importada",
          "Importada",
          "Importada",
          "Importada",
          "Importada",
          "Importada",
          "Importada",
          "Importada",
          "Importada",
          "Importada",
          "Importada",
          "Importada",
          "Importada",
          "Importada",
          "Importada",
          "Importada",
          "Importada",
          "Importada",
          "Importada",
          "Importada",
          "Importada",
          "Importada",
          "Importada",
          "Importada",
          "Importada",
          "Importada",
          "Importada",
          "Importada",
          "Importada",
          "Importada",
          "Importada",
          "Importada",
          "Importada",
          "Importada",
          "Importada",
          "Importada",
          "Importada",
          "Importada",
          "Importada",
          "Importada",
          "Importada",
          "Importada",
          "Importada",
          "Importada",
          "Importada",
          "Importada",
          "Importada",
          "Importada",
          "Importada",
          "Importada",
          "Importada",
          "Importada",
          "Importada",
          "Importada",
          "Importada",
          "Importada",
          "Importada",
          "Importada",
          "Importada",
          "Importada",
          "Importada",
          "Importada",
          "Importada",
          "Importada",
          "Importada",
          "Importada",
          "Importada",
          "Importada",
          "Importada",
          "Importada",
          "Importada",
          "Importada",
          "Importada",
          "Importada",
          "Importada",
          "Importada",
          "Importada",
          "Importada",
          "Importada",
          "Importada",
          "Importada",
          "Importada",
          "Importada",
          "Importada",
          "Importada",
          "Importada",
          "Importada",
          "Importada",
          "Importada",
          "Importada",
          "Importada",
          "Importada",
          "Importada",
          "Importada",
          "Importada",
          "Importada",
          "Importada",
          "Importada",
          "Importada",
          "Importada",
          "Importada",
          "Importada",
          "Importada",
          "Importada",
          "Importada",
          "Importada",
          "Importada",
          "Importada",
          "Importada",
          "Importada",
          "Importada",
          "Importada",
          "Importada",
          "Importada",
          "Importada",
          "Importada",
          "Importada",
          "Importada",
          "Importada",
          "Importada",
          "Importada",
          "Importada",
          "Importada",
          "Importada",
          "Importada",
          "Importada",
          "Importada",
          "Importada",
          "Importada",
          "Importada",
          "Importada",
          "Importada",
          "Importada",
          "Importada",
          "Importada",
          "Importada",
          "Importada",
          "Importada",
          "Importada",
          "Importada",
          "Importada",
          "Importada",
          "Importada",
          "Importada",
          "Importada",
          "Importada",
          "Importada",
          "Importada",
          "Importada",
          "Importada",
          "Importada",
          "Importada",
          "Importada",
          "Importada",
          "Importada",
          "Importada",
          "Importada",
          "Importada",
          "Importada",
          "Importada",
          "Importada",
          "Importada",
          "Importada",
          "Importada",
          "Importada",
          "Importada",
          "Importada",
          "Importada",
          "Importada",
          "Importada",
          "Importada",
          "Importada",
          "Importada",
          "Importada",
          "Importada",
          "Importada",
          "Importada",
          "Importada",
          "Importada",
          "Importada",
          "Importada",
          "Importada",
          "Importada",
          "Importada",
          "Importada",
          "Importada",
          "Importada",
          "Importada",
          "Importada",
          "Importada",
          "Importada",
          "Importada",
          "Importada",
          "Importada",
          "Importada",
          "Importada",
          "Importada",
          "Importada",
          "Importada",
          "Importada",
          "Importada",
          "Importada",
          "Importada",
          "Importada",
          "Importada",
          "Importada",
          "Importada",
          "Importada",
          "Importada",
          "Importada",
          "Importada",
          "Importada",
          "Importada",
          "Importada",
          "Importada",
          "Importada",
          "Importada",
          "Importada",
          "Importada",
          "Importada",
          "Importada",
          "Importada",
          "Importada",
          "Importada",
          "Importada",
          "Importada",
          "Importada",
          "Importada",
          "Importada",
          "Importada",
          "Importada",
          "Importada",
          "Importada",
          "Importada",
          "Importada",
          "Importada",
          "Importada",
          "Importada",
          "Importada",
          "Importada",
          "Importada",
          "Importada",
          "Importada",
          "Importada",
          "Importada",
          "Importada",
          "Importada",
          "Importada",
          "Importada",
          "Importada",
          "Importada",
          "Importada",
          "Importada",
          "Importada",
          "Importada",
          "Importada",
          "Importada",
          "Importada",
          "Importada",
          "Importada",
          "Importada",
          "Importada",
          "Importada",
          "Importada",
          "Importada",
          "Importada",
          "Importada",
          "Importada",
          "Importada",
          "Importada",
          "Importada",
          "Importada",
          "Importada",
          "Importada",
          "Importada",
          "Importada",
          "Importada",
          "Importada",
          "Importada",
          "Importada",
          "Importada",
          "Importada",
          "Importada",
          "Importada",
          "Importada",
          "Importada",
          "Importada",
          "Importada",
          "Importada",
          "Importada",
          "Importada",
          "Importada",
          "Importada",
          "Importada",
          "Importada",
          "Importada",
          "Importada",
          "Importada",
          "Importada",
          "Importada",
          "Importada",
          "Importada",
          "Importada",
          "Importada",
          "Importada",
          "Importada",
          "Importada",
          "Importada",
          "Importada",
          "Importada",
          "Importada",
          "Importada",
          "Importada",
          "Importada",
          "Importada",
          "Importada",
          "Importada",
          "Importada",
          "Importada",
          "Importada",
          "Importada",
          "Importada",
          "Importada",
          "Importada",
          "Importada",
          "Importada",
          "Importada",
          "Importada",
          "Importada",
          "Importada",
          "Importada",
          "Importada",
          "Importada",
          "Importada",
          "Importada",
          "Importada",
          "Importada",
          "Importada",
          "Importada",
          "Importada",
          "Importada",
          "Importada",
          "Importada",
          "Importada",
          "Importada",
          "Importada",
          "Importada",
          "Importada",
          "Importada",
          "Importada",
          "Importada",
          "Importada",
          "Importada",
          "Importada",
          "Importada",
          "Importada",
          "Importada",
          "Importada",
          "Importada",
          "Importada",
          "Importada",
          "Importada",
          "Importada",
          "Importada",
          "Importada",
          "Importada",
          "Importada",
          "Importada",
          "Importada",
          "Importada",
          "Importada",
          "Importada",
          "Importada",
          "Importada",
          "Importada",
          "Importada",
          "Importada",
          "Importada",
          "Importada",
          "Importada",
          "Importada",
          "Importada",
          "Importada",
          "Importada",
          "Importada",
          "Importada",
          "Importada",
          "Importada",
          "Importada",
          "Importada",
          "Importada",
          "Importada",
          "Importada",
          "Importada",
          "Importada",
          "Importada",
          "Importada",
          "Importada",
          "Importada",
          "Importada",
          "Importada",
          "Importada",
          "Importada",
          "Importada",
          "Importada",
          "Importada",
          "Importada",
          "Importada",
          "Importada",
          "Importada",
          "Importada",
          "Importada",
          "Importada",
          "Importada",
          "Importada",
          "Importada",
          "Importada",
          "Importada",
          "Importada",
          "Importada",
          "Importada",
          "Importada",
          "Importada",
          "Importada",
          "Importada",
          "Importada",
          "Importada",
          "Importada",
          "Importada",
          "Importada",
          "Importada",
          "Importada",
          "Importada",
          "Importada",
          "Importada",
          "Importada",
          "Importada",
          "Importada",
          "Importada",
          "Importada",
          "Importada",
          "Importada",
          "Importada",
          "Importada",
          "Importada",
          "Importada",
          "Importada",
          "Importada",
          "Importada",
          "Importada",
          "Importada",
          "Importada",
          "Importada",
          "Importada",
          "Importada",
          "Importada",
          "Importada",
          "Importada",
          "Importada",
          "Importada",
          "Importada",
          "Importada",
          "Importada",
          "Importada",
          "Importada",
          "Importada",
          "Importada",
          "Importada",
          "Importada",
          "Importada",
          "Importada",
          "Importada",
          "Importada",
          "Importada",
          "Importada",
          "Importada",
          "Importada",
          "Importada",
          "Importada",
          "Importada",
          "Importada",
          "Importada",
          "Importada",
          "Importada",
          "Importada",
          "Importada",
          "Importada",
          "Importada",
          "Importada",
          "Importada",
          "Importada",
          "Importada",
          "Importada",
          "Importada",
          "Importada",
          "Importada",
          "Importada",
          "Importada",
          "Importada",
          "Importada",
          "Importada",
          "Importada",
          "Importada",
          "Importada",
          "Importada",
          "Importada",
          "Importada",
          "Importada",
          "Importada",
          "Importada",
          "Importada",
          "Importada",
          "Importada",
          "Importada",
          "Importada",
          "Importada",
          "Importada",
          "Importada",
          "Importada",
          "Importada",
          "Importada",
          "Importada",
          "Importada",
          "Importada",
          "Importada",
          "Importada",
          "Importada",
          "Importada",
          "Importada",
          "Importada",
          "Importada",
          "Importada",
          "Importada",
          "Importada",
          "Importada",
          "Importada",
          "Importada",
          "Importada",
          "Importada",
          "Importada",
          "Importada",
          "Importada",
          "Importada",
          "Importada",
          "Importada",
          "Importada",
          "Importada",
          "Importada",
          "Importada",
          "Importada",
          "Importada",
          "Importada",
          "Importada",
          "Importada",
          "Importada",
          "Importada",
          "Importada",
          "Importada",
          "Importada",
          "Importada",
          "Importada",
          "Importada",
          "Importada",
          "Importada",
          "Importada",
          "Importada",
          "Importada",
          "Importada",
          "Importada",
          "Importada",
          "Importada",
          "Importada",
          "Importada",
          "Importada",
          "Importada",
          "Importada",
          "Importada",
          "Importada",
          "Importada",
          "Importada",
          "Importada",
          "Importada",
          "Importada",
          "Importada",
          "Importada",
          "Importada",
          "Importada",
          "Importada",
          "Importada",
          "Importada",
          "Importada",
          "Importada",
          "Importada",
          "Importada",
          "Importada",
          "Importada",
          "Importada",
          "Importada",
          "Importada",
          "Importada",
          "Importada",
          "Importada",
          "Importada",
          "Importada",
          "Importada",
          "Importada",
          "Importada",
          "Importada",
          "Importada",
          "Importada",
          "Importada",
          "Importada",
          "Importada",
          "Importada",
          "Importada",
          "Importada",
          "Importada",
          "Importada",
          "Importada",
          "Importada",
          "Importada",
          "Importada",
          "Importada",
          "Importada",
          "Importada",
          "Importada",
          "Importada",
          "Importada",
          "Importada",
          "Importada",
          "Importada",
          "Importada",
          "Importada",
          "Importada",
          "Importada",
          "Importada",
          "Importada",
          "Importada",
          "Importada",
          "Importada",
          "Importada",
          "Importada",
          "Importada",
          "Importada",
          "Importada",
          "Importada",
          "Importada",
          "Importada",
          "Importada",
          "Importada",
          "Importada",
          "Importada",
          "Importada",
          "Importada",
          "Importada",
          "Importada",
          "Importada",
          "Importada",
          "Importada",
          "Importada",
          "Importada",
          "Importada",
          "Importada",
          "Importada",
          "Importada",
          "Importada",
          "Importada",
          "Importada",
          "Importada",
          "Importada",
          "Importada",
          "Importada",
          "Importada",
          "Importada",
          "Importada",
          "Importada",
          "Importada",
          "Importada",
          "Importada",
          "Importada",
          "Importada",
          "Importada",
          "Importada",
          "Importada",
          "Importada",
          "Importada",
          "Importada",
          "Importada",
          "Importada",
          "Importada",
          "Importada",
          "Importada",
          "Importada",
          "Importada",
          "Importada",
          "Importada",
          "Importada",
          "Importada",
          "Importada",
          "Importada",
          "Importada",
          "Importada",
          "Importada",
          "Importada",
          "Importada",
          "Importada",
          "Importada",
          "Importada",
          "Importada",
          "Importada",
          "Importada",
          "Importada",
          "Importada",
          "Importada",
          "Importada",
          "Importada",
          "Importada",
          "Importada",
          "Importada",
          "Importada",
          "Importada",
          "Importada",
          "Importada",
          "Importada",
          "Importada",
          "Importada",
          "Importada",
          "Importada",
          "Importada",
          "Importada",
          "Importada",
          "Importada",
          "Importada",
          "Importada",
          "Importada",
          "Importada",
          "Importada",
          "Importada",
          "Importada",
          "Importada",
          "Importada",
          "Importada",
          "Importada",
          "Importada",
          "Importada",
          "Importada",
          "Importada",
          "Importada",
          "Importada",
          "Importada",
          "Importada",
          "Importada",
          "Importada",
          "Importada",
          "Importada",
          "Importada",
          "Importada",
          "Importada",
          "Importada",
          "Importada",
          "Importada",
          "Importada",
          "Importada",
          "Importada",
          "Importada",
          "Importada",
          "Importada",
          "Importada",
          "Importada",
          "Importada",
          "Importada",
          "Importada",
          "Importada",
          "Importada",
          "Importada",
          "Importada",
          "Importada",
          "Importada",
          "Importada",
          "Importada",
          "Importada",
          "Importada",
          "Importada",
          "Importada",
          "Importada",
          "Importada",
          "Importada",
          "Importada",
          "Importada",
          "Importada",
          "Importada",
          "Importada",
          "Importada",
          "Importada",
          "Importada",
          "Importada",
          "Importada",
          "Importada",
          "Importada",
          "Importada",
          "Importada",
          "Importada",
          "Importada",
          "Importada",
          "Importada",
          "Importada",
          "Importada",
          "Importada",
          "Importada",
          "Importada",
          "Importada",
          "Importada",
          "Importada",
          "Importada",
          "Importada",
          "Importada",
          "Importada",
          "Importada",
          "Importada",
          "Importada",
          "Importada",
          "Importada",
          "Importada",
          "Importada",
          "Importada",
          "Importada",
          "Importada",
          "Importada",
          "Importada",
          "Importada",
          "Importada",
          "Importada",
          "Importada",
          "Importada",
          "Importada",
          "Importada",
          "Importada",
          "Importada",
          "Importada",
          "Importada",
          "Importada",
          "Importada",
          "Importada",
          "Importada",
          "Importada",
          "Importada",
          "Importada",
          "Importada",
          "Importada",
          "Importada",
          "Importada",
          "Importada",
          "Importada",
          "Importada",
          "Importada",
          "Importada",
          "Importada",
          "Importada",
          "Importada",
          "Importada",
          "Importada",
          "Importada",
          "Importada",
          "Importada",
          "Importada",
          "Importada",
          "Importada",
          "Importada",
          "Importada",
          "Importada",
          "Importada",
          "Importada",
          "Importada",
          "Importada",
          "Importada",
          "Importada",
          "Importada",
          "Importada",
          "Importada",
          "Importada",
          "Importada",
          "Importada",
          "Importada",
          "Importada",
          "Importada",
          "Importada",
          "Importada",
          "Importada",
          "Importada",
          "Importada",
          "Importada",
          "Importada",
          "Importada",
          "Importada",
          "Importada",
          "Importada",
          "Importada",
          "Importada",
          "Importada",
          "Importada",
          "Importada",
          "Importada",
          "Importada",
          "Importada",
          "Importada",
          "Importada",
          "Importada",
          "Importada",
          "Importada",
          "Importada",
          "Importada",
          "Importada",
          "Importada",
          "Importada",
          "Importada",
          "Importada",
          "Importada",
          "Importada",
          "Importada",
          "Importada",
          "Importada",
          "Importada",
          "Importada",
          "Importada",
          "Importada",
          "Importada",
          "Importada",
          "Importada",
          "Importada",
          "Importada",
          "Importada",
          "Importada",
          "Importada",
          "Importada",
          "Importada",
          "Importada",
          "Importada",
          "Importada",
          "Importada",
          "Importada",
          "Importada",
          "Importada",
          "Importada",
          "Importada",
          "Importada",
          "Importada",
          "Importada",
          "Importada",
          "Importada",
          "Importada",
          "Importada",
          "Importada",
          "Importada",
          "Importada",
          "Importada",
          "Importada",
          "Importada",
          "Importada",
          "Importada",
          "Importada",
          "Importada",
          "Importada",
          "Importada",
          "Importada",
          "Importada",
          "Importada",
          "Importada",
          "Importada",
          "Importada",
          "Importada",
          "Importada",
          "Importada",
          "Importada",
          "Importada",
          "Importada",
          "Importada",
          "Importada",
          "Importada",
          "Importada",
          "Importada",
          "Importada",
          "Importada",
          "Importada",
          "Importada",
          "Importada",
          "Importada",
          "Importada",
          "Importada",
          "Importada",
          "Importada",
          "Importada",
          "Importada",
          "Importada",
          "Importada",
          "Importada",
          "Importada",
          "Importada",
          "Importada",
          "Importada",
          "Importada",
          "Importada",
          "Importada",
          "Importada",
          "Importada",
          "Importada",
          "Importada",
          "Importada",
          "Importada",
          "Importada",
          "Importada",
          "Importada",
          "Importada",
          "Importada",
          "Importada",
          "Importada",
          "Importada",
          "Importada",
          "Importada",
          "Importada",
          "Importada",
          "Importada",
          "Importada",
          "Importada",
          "Importada",
          "Importada",
          "Importada",
          "Importada",
          "Importada",
          "Importada",
          "Importada",
          "Importada",
          "Importada",
          "Importada",
          "Importada",
          "Importada",
          "Importada",
          "Importada",
          "Importada",
          "Importada",
          "Importada",
          "Importada",
          "Importada",
          "Importada",
          "Importada",
          "Importada",
          "Importada",
          "Importada",
          "Importada",
          "Importada",
          "Importada",
          "Importada",
          "Importada",
          "Importada",
          "Importada",
          "Importada",
          "Importada",
          "Importada",
          "Importada",
          "Importada",
          "Importada",
          "Importada",
          "Importada",
          "Importada",
          "Importada",
          "Importada",
          "Importada",
          "Importada",
          "Importada",
          "Importada",
          "Importada",
          "Importada",
          "Importada",
          "Importada",
          "Importada",
          "Importada",
          "Importada",
          "Importada",
          "Importada",
          "Importada",
          "Importada",
          "Importada",
          "Importada",
          "Importada",
          "Importada",
          "Importada",
          "Importada",
          "Importada",
          "Importada",
          "Importada",
          "Importada",
          "Importada",
          "Importada",
          "Importada",
          "Importada",
          "Importada",
          "Importada",
          "Importada",
          "Importada",
          "Importada",
          "Importada",
          "Importada",
          "Importada",
          "Importada",
          "Importada",
          "Importada",
          "Importada",
          "Importada",
          "Importada",
          "Importada",
          "Importada",
          "Importada",
          "Importada",
          "Importada",
          "Importada",
          "Importada",
          "Importada",
          "Importada",
          "Importada",
          "Importada",
          "Importada",
          "Importada",
          "Importada",
          "Importada",
          "Importada",
          "Importada",
          "Importada",
          "Importada",
          "Importada",
          "Importada",
          "Importada",
          "Importada",
          "Importada",
          "Importada",
          "Importada",
          "Importada",
          "Importada",
          "Importada",
          "Importada",
          "Importada",
          "Importada",
          "Importada",
          "Importada",
          "Importada",
          "Importada",
          "Importada",
          "Importada",
          "Importada",
          "Importada",
          "Importada",
          "Importada",
          "Importada",
          "Importada",
          "Importada",
          "Importada",
          "Importada",
          "Importada",
          "Importada",
          "Importada",
          "Importada",
          "Importada",
          "Importada",
          "Importada",
          "Importada",
          "Importada",
          "Importada",
          "Importada",
          "Importada",
          "Importada",
          "Importada",
          "Importada",
          "Importada",
          "Importada",
          "Importada",
          "Importada",
          "Importada",
          "Importada",
          "Importada",
          "Importada",
          "Importada",
          "Importada",
          "Importada",
          "Importada",
          "Importada",
          "Importada",
          "Importada",
          "Importada",
          "Importada",
          "Importada",
          "Importada",
          "Importada",
          "Importada",
          "Importada",
          "Importada",
          "Importada",
          "Importada",
          "Importada",
          "Importada",
          "Importada",
          "Importada",
          "Importada",
          "Importada",
          "Importada",
          "Importada",
          "Importada",
          "Importada",
          "Importada",
          "Importada",
          "Importada",
          "Importada",
          "Importada",
          "Importada",
          "Importada",
          "Importada",
          "Importada",
          "Importada",
          "Importada",
          "Importada",
          "Importada",
          "Importada",
          "Importada",
          "Importada",
          "Importada",
          "Importada",
          "Importada",
          "Importada",
          "Importada",
          "Importada",
          "Importada",
          "Importada",
          "Importada",
          "Importada",
          "Importada",
          "Importada",
          "Importada",
          "Importada",
          "Importada",
          "Importada",
          "Importada",
          "Importada",
          "Importada",
          "Importada",
          "Importada",
          "Importada",
          "Importada",
          "Importada",
          "Importada",
          "Importada",
          "Importada",
          "Importada",
          "Importada",
          "Importada",
          "Importada",
          "Importada",
          "Importada",
          "Importada",
          "Importada",
          "Importada",
          "Importada",
          "Importada",
          "Importada",
          "Importada",
          "Importada",
          "Importada",
          "Importada",
          "Importada",
          "Importada",
          "Importada",
          "Importada",
          "Importada",
          "Importada",
          "Importada",
          "Importada",
          "Importada",
          "Importada",
          "Importada",
          "Importada",
          "Importada",
          "Importada",
          "Importada",
          "Importada",
          "Importada",
          "Importada",
          "Importada",
          "Importada",
          "Importada",
          "Importada",
          "Importada",
          "Importada",
          "Importada",
          "Importada",
          "Importada",
          "Importada",
          "Importada",
          "Importada",
          "Importada",
          "Importada",
          "Importada",
          "Importada",
          "Importada",
          "Importada",
          "Importada",
          "Importada",
          "Importada",
          "Importada",
          "Importada",
          "Importada",
          "Importada",
          "Importada",
          "Importada",
          "Importada",
          "Importada",
          "Importada",
          "Importada",
          "Importada",
          "Importada",
          "Importada",
          "Importada",
          "Importada",
          "Importada",
          "Importada",
          "Importada",
          "Importada",
          "Importada",
          "Importada",
          "Importada",
          "Importada",
          "Importada",
          "Importada",
          "Importada",
          "Importada",
          "Importada",
          "Importada",
          "Importada",
          "Importada",
          "Importada",
          "Importada",
          "Importada",
          "Importada",
          "Importada",
          "Importada",
          "Importada",
          "Importada",
          "Importada",
          "Importada",
          "Importada",
          "Importada",
          "Importada",
          "Importada",
          "Importada",
          "Importada",
          "Importada",
          "Importada",
          "Importada",
          "Importada",
          "Importada",
          "Importada",
          "Importada",
          "Importada",
          "Importada",
          "Importada",
          "Importada",
          "Importada",
          "Importada",
          "Importada",
          "Importada",
          "Importada",
          "Importada",
          "Importada",
          "Importada",
          "Importada",
          "Importada",
          "Importada",
          "Importada",
          "Importada",
          "Importada",
          "Importada",
          "Importada",
          "Importada",
          "Importada",
          "Importada",
          "Importada",
          "Importada",
          "Importada",
          "Importada",
          "Importada",
          "Importada",
          "Importada",
          "Importada",
          "Importada",
          "Importada",
          "Importada",
          "Importada",
          "Importada",
          "Importada",
          "Importada",
          "Importada",
          "Importada",
          "Importada",
          "Importada",
          "Importada",
          "Importada",
          "Importada",
          "Importada",
          "Importada",
          "Importada",
          "Importada",
          "Importada",
          "Importada",
          "Importada",
          "Importada",
          "Importada",
          "Importada",
          "Importada",
          "Importada",
          "Importada",
          "Importada",
          "Importada",
          "Importada",
          "Importada",
          "Importada",
          "Importada",
          "Importada",
          "Importada",
          "Importada",
          "Importada",
          "Importada",
          "Importada",
          "Importada",
          "Importada",
          "Importada",
          "Importada",
          "Importada",
          "Importada",
          "Importada",
          "Importada",
          "Importada",
          "Importada",
          "Importada",
          "Importada",
          "Importada",
          "Importada",
          "Importada",
          "Importada",
          "Importada",
          "Importada",
          "Importada",
          "Importada",
          "Importada",
          "Importada",
          "Importada",
          "Importada",
          "Importada",
          "Importada",
          "Importada",
          "Importada",
          "Importada",
          "Importada",
          "Importada",
          "Importada",
          "Importada",
          "Importada",
          "Importada",
          "Importada",
          "Importada",
          "Importada",
          "Importada",
          "Importada",
          "Importada",
          "Importada",
          "Importada",
          "Importada",
          "Importada",
          "Importada",
          "Importada",
          "Importada",
          "Importada",
          "Importada",
          "Importada",
          "Importada",
          "Importada",
          "Importada",
          "Importada",
          "Importada",
          "Importada",
          "Importada",
          "Importada",
          "Importada",
          "Importada",
          "Importada",
          "Importada",
          "Importada",
          "Importada",
          "Importada",
          "Importada",
          "Importada",
          "Importada",
          "Importada",
          "Importada",
          "Importada",
          "Importada",
          "Importada",
          "Importada",
          "Importada",
          "Importada",
          "Importada",
          "Importada",
          "Importada",
          "Importada",
          "Importada",
          "Importada",
          "Importada",
          "Importada",
          "Importada",
          "Importada",
          "Importada",
          "Importada",
          "Importada",
          "Importada",
          "Importada",
          "Importada",
          "Importada",
          "Importada",
          "Importada",
          "Importada",
          "Importada",
          "Importada",
          "Importada",
          "Importada",
          "Importada",
          "Importada",
          "Importada",
          "Importada",
          "Importada",
          "Importada",
          "Importada",
          "Importada",
          "Importada",
          "Importada",
          "Importada",
          "Importada",
          "Importada",
          "Importada",
          "Importada",
          "Importada",
          "Importada",
          "Importada",
          "Importada",
          "Importada",
          "Importada",
          "Importada",
          "Importada",
          "Importada",
          "Importada",
          "Importada",
          "Importada",
          "Importada",
          "Importada",
          "Importada",
          "Importada",
          "Importada",
          "Importada",
          "Importada",
          "Importada",
          "Importada",
          "Importada",
          "Importada",
          "Importada",
          "Importada",
          "Importada",
          "Importada",
          "Importada",
          "Importada",
          "Importada",
          "Importada",
          "Importada",
          "Importada",
          "Importada",
          "Importada",
          "Importada",
          "Importada",
          "Importada",
          "Importada",
          "Importada",
          "Importada",
          "Importada",
          "Importada",
          "Importada",
          "Importada",
          "Importada",
          "Importada",
          "Importada",
          "Importada",
          "Importada",
          "Importada",
          "Importada",
          "Importada",
          "Importada",
          "Importada",
          "Importada",
          "Importada",
          "Importada",
          "Importada",
          "Importada",
          "Importada",
          "Importada",
          "Importada",
          "Importada",
          "Importada",
          "Importada",
          "Importada",
          "Importada",
          "Importada",
          "Importada",
          "Importada",
          "Importada",
          "Importada",
          "Importada",
          "Importada",
          "Importada",
          "Importada",
          "Importada",
          "Importada",
          "Importada",
          "Importada",
          "Importada",
          "Importada",
          "Importada",
          "Importada",
          "Importada",
          "Importada",
          "Importada",
          "Importada",
          "Importada",
          "Importada",
          "Importada",
          "Importada",
          "Importada",
          "Importada",
          "Importada",
          "Importada",
          "Importada",
          "Importada",
          "Importada",
          "Importada",
          "Importada",
          "Importada",
          "Importada",
          "Importada",
          "Importada",
          "Importada",
          "Importada",
          "Importada",
          "Importada",
          "Importada",
          "Importada",
          "Importada",
          "Importada",
          "Importada",
          "Importada",
          "Importada",
          "Importada",
          "Importada",
          "Importada",
          "Importada",
          "Importada",
          "Importada",
          "Importada",
          "Importada",
          "Importada",
          "Importada",
          "Importada",
          "Importada",
          "Importada",
          "Importada",
          "Importada",
          "Importada",
          "Importada",
          "Importada",
          "Importada",
          "Importada",
          "Importada",
          "Importada",
          "Importada",
          "Importada",
          "Importada",
          "Importada",
          "Importada",
          "Importada",
          "Importada",
          "Importada",
          "Importada",
          "Importada",
          "Importada",
          "Importada",
          "Importada",
          "Importada",
          "Importada",
          "Importada",
          "Importada",
          "Importada",
          "Importada",
          "Importada",
          "Importada",
          "Importada",
          "Importada",
          "Importada",
          "Importada",
          "Importada",
          "Importada",
          "Importada",
          "Importada",
          "Importada",
          "Importada",
          "Importada",
          "Importada",
          "Importada",
          "Importada",
          "Importada",
          "Importada",
          "Importada",
          "Importada",
          "Importada",
          "Importada",
          "Importada",
          "Importada",
          "Importada",
          "Importada",
          "Importada",
          "Importada",
          "Importada",
          "Importada",
          "Importada",
          "Importada",
          "Importada",
          "Importada",
          "Importada",
          "Importada",
          "Importada",
          "Importada",
          "Importada",
          "Importada",
          "Importada",
          "Importada",
          "Importada",
          "Importada",
          "Importada",
          "Importada",
          "Importada",
          "Importada",
          "Importada",
          "Importada",
          "Importada",
          "Importada",
          "Importada",
          "Importada",
          "Importada",
          "Importada",
          "Importada",
          "Importada",
          "Importada",
          "Importada",
          "Importada",
          "Importada",
          "Importada",
          "Importada",
          "Importada",
          "Importada",
          "Importada",
          "Importada",
          "Importada",
          "Importada",
          "Importada",
          "Importada",
          "Importada",
          "Importada",
          "Importada",
          "Importada",
          "Importada",
          "Importada",
          "Importada",
          "Importada",
          "Importada",
          "Importada",
          "Importada",
          "Importada",
          "Importada",
          "Importada",
          "Importada",
          "Importada",
          "Importada",
          "Importada",
          "Importada",
          "Importada",
          "Importada",
          "Importada",
          "Importada",
          "Importada",
          "Importada",
          "Importada",
          "Importada",
          "Importada",
          "Importada",
          "Importada",
          "Importada",
          "Importada",
          "Importada",
          "Importada",
          "Importada",
          "Importada",
          "Importada",
          "Importada",
          "Importada",
          "Importada",
          "Importada",
          "Importada",
          "Importada",
          "Importada",
          "Importada",
          "Importada",
          "Importada",
          "Importada",
          "Importada",
          "Importada",
          "Importada",
          "Importada",
          "Importada",
          "Importada",
          "Importada",
          "Importada",
          "Importada",
          "Importada",
          "Importada",
          "Importada",
          "Importada",
          "Importada",
          "Importada",
          "Importada",
          "Importada",
          "Importada",
          "Importada",
          "Importada",
          "Importada",
          "Importada",
          "Importada",
          "Importada",
          "Importada",
          "Importada",
          "Importada",
          "Importada",
          "Importada",
          "Importada",
          "Importada",
          "Importada",
          "Importada",
          "Importada",
          "Importada",
          "Importada",
          "Importada",
          "Importada",
          "Importada",
          "Importada",
          "Importada",
          "Importada",
          "Importada",
          "Importada",
          "Importada",
          "Importada",
          "Importada",
          "Importada",
          "Importada",
          "Importada",
          "Importada",
          "Importada",
          "Importada",
          "Importada",
          "Importada",
          "Importada",
          "Importada",
          "Importada",
          "Importada",
          "Importada",
          "Importada",
          "Importada",
          "Importada",
          "Importada",
          "Importada",
          "Importada",
          "Importada",
          "Importada",
          "Importada",
          "Importada",
          "Importada",
          "Importada",
          "Importada",
          "Importada",
          "Importada",
          "Importada",
          "Importada",
          "Importada",
          "Importada",
          "Importada",
          "Importada",
          "Importada",
          "Importada",
          "Importada",
          "Importada",
          "Importada",
          "Importada",
          "Importada",
          "Importada",
          "Importada",
          "Importada",
          "Importada",
          "Importada",
          "Importada",
          "Importada",
          "Importada",
          "Importada",
          "Importada",
          "Importada",
          "Importada",
          "Importada",
          "Importada",
          "Importada",
          "Importada",
          "Importada",
          "Importada",
          "Importada",
          "Importada",
          "Importada",
          "Importada",
          "Importada",
          "Importada",
          "Importada",
          "Importada",
          "Importada",
          "Importada",
          "Importada",
          "Importada",
          "Importada",
          "Importada",
          "Importada",
          "Importada",
          "Importada",
          "Importada",
          "Importada",
          "Importada",
          "Importada",
          "Importada",
          "Importada",
          "Importada",
          "Importada",
          "Importada",
          "Importada",
          "Importada",
          "Importada",
          "Importada",
          "Importada",
          "Importada",
          "Importada",
          "Importada",
          "Importada",
          "Importada",
          "Importada",
          "Importada",
          "Importada",
          "Importada",
          "Importada",
          "Importada",
          "Importada",
          "Importada",
          "Importada",
          "Importada",
          "Importada",
          "Importada",
          "Importada",
          "Importada",
          "Importada",
          "Importada",
          "Importada",
          "Importada",
          "Importada",
          "Importada",
          "Importada",
          "Importada",
          "Importada",
          "Importada",
          "Importada",
          "Importada",
          "Importada",
          "Importada",
          "Importada",
          "Importada",
          "Importada",
          "Importada",
          "Importada",
          "Importada",
          "Importada",
          "Importada",
          "Importada",
          "Importada",
          "Importada",
          "Importada",
          "Importada",
          "Importada",
          "Importada",
          "Importada",
          "Importada",
          "Importada",
          "Importada",
          "Importada",
          "Importada",
          "Importada",
          "Importada",
          "Importada",
          "Importada",
          "Importada",
          "Importada",
          "Importada",
          "Importada",
          "Importada",
          "Importada",
          "Importada",
          "Importada",
          "Importada",
          "Importada",
          "Importada",
          "Importada",
          "Importada",
          "Importada",
          "Importada",
          "Importada",
          "Importada",
          "Importada",
          "Importada",
          "Importada",
          "Importada",
          "Importada",
          "Importada",
          "Importada",
          "Importada",
          "Importada",
          "Importada",
          "Importada",
          "Importada",
          "Importada",
          "Importada",
          "Importada",
          "Importada",
          "Importada",
          "Importada",
          "Importada",
          "Importada",
          "Importada",
          "Importada",
          "Importada",
          "Importada",
          "Importada",
          "Importada",
          "Importada",
          "Importada",
          "Importada",
          "Importada",
          "Importada",
          "Importada",
          "Importada",
          "Importada",
          "Importada",
          "Importada",
          "Importada",
          "Importada",
          "Importada",
          "Importada",
          "Importada",
          "Importada",
          "Importada",
          "Importada",
          "Importada",
          "Importada",
          "Importada",
          "Importada",
          "Importada",
          "Importada",
          "Importada",
          "Importada",
          "Importada",
          "Importada",
          "Importada",
          "Importada",
          "Importada",
          "Importada",
          "Importada",
          "Importada",
          "Importada",
          "Importada",
          "Importada",
          "Importada",
          "Importada",
          "Importada",
          "Importada",
          "Importada",
          "Importada",
          "Importada",
          "Importada",
          "Importada",
          "Importada",
          "Importada",
          "Importada",
          "Importada",
          "Importada",
          "Importada",
          "Importada",
          "Importada",
          "Importada",
          "Importada",
          "Importada",
          "Importada",
          "Importada",
          "Importada",
          "Importada",
          "Importada",
          "Importada",
          "Importada",
          "Importada",
          "Importada",
          "Importada",
          "Importada",
          "Importada",
          "Importada",
          "Importada",
          "Importada",
          "Importada",
          "Importada",
          "Importada",
          "Importada",
          "Importada",
          "Importada",
          "Importada",
          "Importada",
          "Importada",
          "Importada",
          "Importada",
          "Importada",
          "Importada",
          "Importada",
          "Importada",
          "Importada",
          "Importada",
          "Importada",
          "Importada",
          "Importada",
          "Importada",
          "Importada",
          "Importada",
          "Importada",
          "Importada",
          "Importada",
          "Importada",
          "Importada",
          "Importada",
          "Importada",
          "Importada",
          "Importada",
          "Importada",
          "Importada",
          "Importada",
          "Importada",
          "Importada",
          "Importada",
          "Importada",
          "Importada",
          "Importada",
          "Importada",
          "Importada",
          "Importada",
          "Importada",
          "Importada",
          "Importada",
          "Importada",
          "Importada",
          "Importada",
          "Importada",
          "Importada",
          "Importada",
          "Importada",
          "Importada",
          "Importada",
          "Importada",
          "Importada",
          "Importada",
          "Importada",
          "Importada",
          "Importada",
          "Importada",
          "Importada",
          "Importada",
          "Importada",
          "Importada",
          "Importada",
          "Importada",
          "Importada",
          "Importada",
          "Importada",
          "Importada",
          "Importada",
          "Importada",
          "Importada",
          "Importada",
          "Importada",
          "Importada",
          "Importada",
          "Importada",
          "Importada",
          "Importada",
          "Importada",
          "Importada",
          "Importada",
          "Importada",
          "Importada",
          "Importada",
          "Importada",
          "Importada",
          "Importada",
          "Importada",
          "Importada",
          "Importada",
          "Importada",
          "Importada",
          "Importada",
          "Importada",
          "Importada",
          "Importada",
          "Importada",
          "Importada",
          "Importada",
          "Importada",
          "Importada",
          "Importada",
          "Importada",
          "Importada",
          "Importada",
          "Importada",
          "Importada",
          "Importada",
          "Importada",
          "Importada",
          "Importada",
          "Importada",
          "Importada",
          "Importada",
          "Importada",
          "Importada",
          "Importada",
          "Importada",
          "Importada",
          "Importada",
          "Importada",
          "Importada",
          "Importada",
          "Importada",
          "Importada",
          "Importada",
          "Importada",
          "Importada",
          "Importada",
          "Importada",
          "Importada",
          "Importada",
          "Importada",
          "Importada",
          "Importada",
          "Importada",
          "Importada",
          "Importada",
          "Importada",
          "Importada",
          "Importada",
          "Importada",
          "Importada",
          "Importada",
          "Importada",
          "Importada",
          "Importada",
          "Importada",
          "Importada",
          "Importada",
          "Importada",
          "Importada",
          "Importada",
          "Importada",
          "Importada",
          "Importada",
          "Importada",
          "Importada",
          "Importada",
          "Importada",
          "Importada",
          "Importada",
          "Importada",
          "Importada",
          "Importada",
          "Importada",
          "Importada",
          "Importada",
          "Importada",
          "Importada",
          "Importada",
          "Importada",
          "Importada",
          "Importada",
          "Importada",
          "Importada",
          "Importada",
          "Importada",
          "Importada",
          "Importada",
          "Importada",
          "Importada",
          "Importada",
          "Importada",
          "Importada",
          "Importada",
          "Importada",
          "Importada",
          "Importada",
          "Importada",
          "Importada",
          "Importada",
          "Importada",
          "Importada",
          "Importada",
          "Importada",
          "Importada",
          "Importada",
          "Importada",
          "Importada",
          "Importada",
          "Importada",
          "Importada",
          "Importada",
          "Importada",
          "Importada",
          "Importada",
          "Importada",
          "Importada",
          "Importada",
          "Importada",
          "Importada",
          "Importada",
          "Importada",
          "Importada",
          "Importada",
          "Importada",
          "Importada",
          "Importada",
          "Importada",
          "Importada",
          "Importada",
          "Importada",
          "Importada",
          "Importada",
          "Importada",
          "Importada",
          "Importada",
          "Importada",
          "Importada",
          "Importada",
          "Importada",
          "Importada",
          "Importada",
          "Importada",
          "Importada",
          "Importada",
          "Importada",
          "Importada",
          "Importada",
          "Importada",
          "Importada",
          "Importada",
          "Importada",
          "Importada",
          "Importada",
          "Importada",
          "Importada",
          "Importada",
          "Importada",
          "Importada",
          "Importada",
          "Importada",
          "Importada",
          "Importada",
          "Importada",
          "Importada",
          "Importada",
          "Importada",
          "Importada",
          "Importada",
          "Importada",
          "Importada",
          "Importada",
          "Importada",
          "Importada",
          "Importada",
          "Importada",
          "Importada",
          "Importada",
          "Importada",
          "Importada",
          "Importada",
          "Importada",
          "Importada",
          "Importada",
          "Importada",
          "Importada",
          "Importada",
          "Importada",
          "Importada",
          "Importada",
          "Importada",
          "Importada",
          "Importada",
          "Importada",
          "Importada",
          "Importada",
          "Importada",
          "Importada",
          "Importada",
          "Importada",
          "Importada",
          "Importada",
          "Importada",
          "Importada",
          "Importada",
          "Importada",
          "Importada",
          "Importada",
          "Importada",
          "Importada",
          "Importada",
          "Importada",
          "Importada",
          "Importada",
          "Importada",
          "Importada",
          "Importada",
          "Importada",
          "Importada",
          "Importada",
          "Importada",
          "Importada",
          "Importada",
          "Importada",
          "Importada",
          "Importada",
          "Importada",
          "Importada",
          "Importada",
          "Importada",
          "Importada",
          "Importada",
          "Importada",
          "Importada",
          "Importada",
          "Importada",
          "Importada",
          "Importada",
          "Importada",
          "Importada",
          "Importada",
          "Importada",
          "Importada",
          "Importada",
          "Importada",
          "Importada",
          "Importada",
          "Importada",
          "Importada",
          "Importada",
          "Importada",
          "Importada",
          "Importada",
          "Importada",
          "Importada",
          "Importada",
          "Importada",
          "Importada",
          "Importada",
          "Importada",
          "Importada",
          "Importada",
          "Importada",
          "Importada",
          "Importada",
          "Importada",
          "Importada",
          "Importada",
          "Importada",
          "Importada",
          "Importada",
          "Importada",
          "Importada",
          "Importada",
          "Importada",
          "Importada",
          "Importada",
          "Importada",
          "Importada",
          "Importada",
          "Importada",
          "Importada",
          "Importada",
          "Importada",
          "Importada",
          "Importada",
          "Importada",
          "Importada",
          "Importada",
          "Importada",
          "Importada",
          "Importada",
          "Importada",
          "Importada",
          "Importada",
          "Importada",
          "Importada",
          "Importada",
          "Importada",
          "Importada",
          "Importada",
          "Importada",
          "Importada",
          "Importada",
          "Importada",
          "Importada",
          "Importada",
          "Importada",
          "Importada",
          "Importada",
          "Importada",
          "Importada",
          "Importada",
          "Importada",
          "Importada",
          "Importada",
          "Importada",
          "Importada",
          "Importada",
          "Importada",
          "Importada",
          "Importada",
          "Importada",
          "Importada",
          "Importada",
          "Importada",
          "Importada",
          "Importada",
          "Importada",
          "Importada",
          "Importada",
          "Importada",
          "Importada",
          "Importada",
          "Importada",
          "Importada",
          "Importada",
          "Importada",
          "Importada",
          "Importada",
          "Importada",
          "Importada",
          "Importada",
          "Importada",
          "Importada",
          "Importada",
          "Importada",
          "Importada",
          "Importada",
          "Importada",
          "Importada",
          "Importada",
          "Importada",
          "Importada",
          "Importada",
          "Importada",
          "Importada",
          "Importada",
          "Importada",
          "Importada",
          "Importada",
          "Importada",
          "Importada",
          "Importada",
          "Importada",
          "Importada",
          "Importada",
          "Importada",
          "Importada",
          "Importada",
          "Importada",
          "Importada",
          "Importada",
          "Importada",
          "Importada",
          "Importada",
          "Importada",
          "Importada",
          "Importada",
          "Importada",
          "Importada",
          "Importada",
          "Importada",
          "Importada",
          "Importada",
          "Importada",
          "Importada",
          "Importada",
          "Importada",
          "Importada",
          "Importada",
          "Importada",
          "Importada",
          "Importada",
          "Importada",
          "Importada",
          "Importada",
          "Importada",
          "Importada",
          "Importada",
          "Importada",
          "Importada",
          "Importada",
          "Importada",
          "Importada",
          "Importada",
          "Importada",
          "Importada",
          "Importada",
          "Importada",
          "Importada",
          "Importada",
          "Importada",
          "Importada",
          "Importada",
          "Importada",
          "Importada",
          "Importada",
          "Importada",
          "Importada",
          "Importada",
          "Importada",
          "Importada",
          "Importada",
          "Importada",
          "Importada",
          "Importada",
          "Importada",
          "Importada",
          "Importada",
          "Importada",
          "Importada",
          "Importada",
          "Importada",
          "Importada",
          "Importada",
          "Importada",
          "Importada",
          "Importada",
          "Importada",
          "Importada",
          "Importada",
          "Importada",
          "Importada",
          "Importada",
          "Importada",
          "Importada",
          "Importada",
          "Importada",
          "Importada",
          "Importada",
          "Importada",
          "Importada",
          "Importada",
          "Importada",
          "Importada",
          "Importada",
          "Importada",
          "Importada",
          "Importada",
          "Importada",
          "Importada",
          "Importada",
          "Importada",
          "Importada",
          "Importada",
          "Importada",
          "Importada",
          "Importada",
          "Importada",
          "Importada",
          "Importada",
          "Importada",
          "Importada",
          "Importada",
          "Importada",
          "Importada",
          "Importada",
          "Importada",
          "Importada",
          "Importada",
          "Importada",
          "Importada",
          "Importada",
          "Importada",
          "Importada",
          "Importada",
          "Importada",
          "Importada",
          "Importada",
          "Importada",
          "Importada",
          "Importada",
          "Importada",
          "Importada",
          "Importada",
          "Importada",
          "Importada",
          "Importada",
          "Importada",
          "Importada",
          "Importada",
          "Importada",
          "Importada",
          "Importada",
          "Importada",
          "Importada",
          "Importada",
          "Importada",
          "Importada",
          "Importada",
          "Importada",
          "Importada",
          "Importada",
          "Importada",
          "Importada",
          "Importada",
          "Importada",
          "Importada",
          "Importada",
          "Importada",
          "Importada",
          "Importada",
          "Importada",
          "Importada",
          "Importada",
          "Importada",
          "Importada",
          "Importada",
          "Importada",
          "Importada",
          "Importada",
          "Importada",
          "Importada",
          "Importada",
          "Importada",
          "Importada",
          "Importada",
          "Importada",
          "Importada",
          "Importada",
          "Importada",
          "Importada",
          "Importada",
          "Importada",
          "Importada",
          "Importada",
          "Importada",
          "Importada",
          "Importada",
          "Importada",
          "Importada",
          "Importada",
          "Importada",
          "Importada",
          "Importada",
          "Importada",
          "Importada",
          "Importada",
          "Importada",
          "Importada",
          "Importada",
          "Importada",
          "Importada",
          "Importada",
          "Importada",
          "Importada",
          "Importada",
          "Importada",
          "Importada",
          "Importada",
          "Importada",
          "Importada",
          "Importada",
          "Importada",
          "Importada",
          "Importada",
          "Importada",
          "Importada",
          "Importada",
          "Importada",
          "Importada",
          "Importada",
          "Importada",
          "Importada",
          "Importada",
          "Importada",
          "Importada",
          "Importada",
          "Importada",
          "Importada",
          "Importada",
          "Importada",
          "Importada",
          "Importada",
          "Importada",
          "Importada",
          "Importada",
          "Importada",
          "Importada",
          "Importada",
          "Importada",
          "Importada",
          "Importada",
          "Importada",
          "Importada",
          "Importada",
          "Importada",
          "Importada",
          "Importada",
          "Importada",
          "Importada",
          "Importada",
          "Importada",
          "Importada",
          "Importada",
          "Importada",
          "Importada",
          "Importada",
          "Importada",
          "Importada",
          "Importada",
          "Importada",
          "Importada",
          "Importada",
          "Importada",
          "Importada",
          "Importada",
          "Importada",
          "Importada",
          "Importada",
          "Importada",
          "Importada",
          "Importada",
          "Importada",
          "Importada",
          "Importada",
          "Importada",
          "Importada",
          "Importada",
          "Importada",
          "Importada",
          "Importada",
          "Importada",
          "Importada",
          "Importada",
          "Importada",
          "Importada",
          "Importada",
          "Importada",
          "Importada",
          "Importada",
          "Importada",
          "Importada",
          "Importada",
          "Importada",
          "Importada",
          "Importada",
          "Importada",
          "Importada",
          "Importada",
          "Importada",
          "Importada",
          "Importada",
          "Importada",
          "Importada",
          "Importada",
          "Importada",
          "Importada",
          "Importada",
          "Importada",
          "Importada",
          "Importada",
          "Importada",
          "Importada",
          "Importada",
          "Importada",
          "Importada",
          "Importada",
          "Importada",
          "Importada",
          "Importada",
          "Importada",
          "Importada",
          "Importada",
          "Importada",
          "Importada",
          "Importada",
          "Importada",
          "Importada",
          "Importada",
          "Importada",
          "Importada",
          "Importada",
          "Importada",
          "Importada",
          "Importada",
          "Importada",
          "Importada",
          "Importada",
          "Importada",
          "Importada",
          "Importada",
          "Importada",
          "Importada",
          "Importada",
          "Importada",
          "Importada",
          "Importada",
          "Importada",
          "Importada",
          "Importada",
          "Importada",
          "Importada",
          "Importada",
          "Importada",
          "Importada",
          "Importada",
          "Importada",
          "Importada",
          "Importada",
          "Importada",
          "Importada",
          "Importada",
          "Importada",
          "Importada",
          "Importada",
          "Importada",
          "Importada",
          "Importada",
          "Importada",
          "Importada",
          "Importada",
          "Importada",
          "Importada",
          "Importada",
          "Importada",
          "Importada",
          "Importada",
          "Importada",
          "Importada",
          "Importada",
          "Importada",
          "Importada",
          "Importada",
          "Importada",
          "Importada",
          "Importada",
          "Importada",
          "Importada",
          "Importada",
          "Importada",
          "Importada",
          "Importada",
          "Importada",
          "Importada",
          "Importada",
          "Importada",
          "Importada",
          "Importada",
          "Importada",
          "Importada",
          "Importada",
          "Importada",
          "Importada",
          "Importada",
          "Importada",
          "Importada",
          "Importada",
          "Importada",
          "Importada",
          "Importada",
          "Importada",
          "Importada",
          "Importada",
          "Importada",
          "Importada",
          "Importada",
          "Importada",
          "Importada",
          "Importada",
          "Importada",
          "Importada",
          "Importada",
          "Importada",
          "Importada",
          "Importada",
          "Importada",
          "Importada",
          "Importada",
          "Importada",
          "Importada",
          "Importada",
          "Importada",
          "Importada",
          "Importada",
          "Importada",
          "Importada",
          "Importada",
          "Importada",
          "Importada",
          "Importada",
          "Importada",
          "Importada",
          "Importada",
          "Importada",
          "Importada",
          "Importada",
          "Importada",
          "Importada",
          "Importada",
          "Importada",
          "Importada",
          "Importada",
          "Importada",
          "Importada",
          "Importada",
          "Importada",
          "Importada",
          "Importada",
          "Importada",
          "Importada",
          "Importada",
          "Importada",
          "Importada",
          "Importada",
          "Importada",
          "Importada",
          "Importada",
          "Importada",
          "Importada",
          "Importada",
          "Importada",
          "Importada",
          "Importada",
          "Importada",
          "Importada",
          "Importada",
          "Importada",
          "Importada",
          "Importada",
          "Importada",
          "Importada",
          "Importada",
          "Importada",
          "Importada",
          "Importada",
          "Importada",
          "Importada",
          "Importada",
          "Importada",
          "Importada",
          "Importada",
          "Importada",
          "Importada",
          "Importada",
          "Importada",
          "Importada",
          "Importada",
          "Importada",
          "Importada",
          "Importada",
          "Importada",
          "Importada",
          "Importada",
          "Importada",
          "Importada",
          "Importada",
          "Importada",
          "Importada",
          "Importada",
          "Importada",
          "Importada",
          "Importada",
          "Importada",
          "Importada",
          "Importada",
          "Importada",
          "Importada",
          "Importada",
          "Importada",
          "Importada",
          "Importada",
          "Importada",
          "Importada",
          "Importada",
          "Importada",
          "Importada",
          "Importada",
          "Importada",
          "Importada",
          "Importada",
          "Importada",
          "Importada",
          "Importada",
          "Importada",
          "Importada",
          "Importada",
          "Importada",
          "Importada",
          "Importada",
          "Importada",
          "Importada",
          "Importada",
          "Importada",
          "Importada",
          "Importada",
          "Importada",
          "Importada",
          "Importada",
          "Importada",
          "Importada",
          "Importada",
          "Importada",
          "Importada",
          "Importada",
          "Importada",
          "Importada",
          "Importada",
          "Importada",
          "Importada",
          "Importada",
          "Importada",
          "Importada",
          "Importada",
          "Importada",
          "Importada",
          "Importada",
          "Importada",
          "Importada",
          "Importada",
          "Importada",
          "Importada",
          "Importada",
          "Importada",
          "Importada",
          "Importada",
          "Importada",
          "Importada",
          "Importada",
          "Importada",
          "Importada",
          "Importada",
          "Importada",
          "Importada",
          "Importada",
          "Importada",
          "Importada",
          "Importada",
          "Importada",
          "Importada",
          "Importada",
          "Importada",
          "Importada",
          "Importada",
          "Importada",
          "Importada",
          "Importada",
          "Importada",
          "Importada",
          "Importada",
          "Importada",
          "Importada",
          "Importada",
          "Importada",
          "Importada",
          "Importada",
          "Importada",
          "Importada",
          "Importada",
          "Importada",
          "Importada",
          "Importada",
          "Importada",
          "Importada",
          "Importada",
          "Importada",
          "Importada",
          "Importada",
          "Importada",
          "Importada",
          "Importada",
          "Importada",
          "Importada",
          "Importada",
          "Importada",
          "Importada",
          "Importada",
          "Importada",
          "Importada",
          "Importada",
          "Importada",
          "Importada",
          "Importada",
          "Importada",
          "Importada",
          "Importada",
          "Importada",
          "Importada",
          "Importada",
          "Importada",
          "Importada",
          "Importada",
          "Importada",
          "Importada",
          "Importada",
          "Importada",
          "Importada",
          "Importada",
          "Importada",
          "Importada",
          "Importada",
          "Importada",
          "Importada",
          "Importada",
          "Importada",
          "Importada",
          "Importada",
          "Importada",
          "Importada",
          "Importada",
          "Importada",
          "Importada",
          "Importada",
          "Importada",
          "Importada",
          "Importada",
          "Importada",
          "Importada",
          "Importada",
          "Importada",
          "Importada",
          "Importada",
          "Importada",
          "Importada",
          "Importada",
          "Importada",
          "Importada",
          "Importada",
          "Importada",
          "Importada",
          "Importada",
          "Importada",
          "Importada",
          "Importada",
          "Importada",
          "Importada",
          "Importada",
          "Importada",
          "Importada",
          "Importada",
          "Importada",
          "Importada",
          "Importada",
          "Importada",
          "Importada",
          "Importada",
          "Importada",
          "Importada",
          "Importada",
          "Importada",
          "Importada",
          "Importada",
          "Importada",
          "Importada",
          "Importada",
          "Importada",
          "Importada",
          "Importada",
          "Importada",
          "Importada",
          "Importada",
          "Importada",
          "Importada",
          "Importada",
          "Importada",
          "Importada",
          "Importada",
          "Importada",
          "Importada",
          "Importada",
          "Importada",
          "Importada",
          "Importada",
          "Importada",
          "Importada",
          "Importada",
          "Importada",
          "Importada",
          "Importada",
          "Importada",
          "Importada",
          "Importada",
          "Importada",
          "Importada",
          "Importada",
          "Importada",
          "Importada",
          "Importada",
          "Importada",
          "Importada",
          "Importada",
          "Importada",
          "Importada",
          "Importada",
          "Importada",
          "Importada",
          "Importada",
          "Importada",
          "Importada",
          "Importada",
          "Importada",
          "Importada",
          "Importada",
          "Importada",
          "Importada",
          "Importada",
          "Importada",
          "Importada",
          "Importada",
          "Importada",
          "Importada",
          "Importada",
          "Importada",
          "Importada",
          "Importada",
          "Importada",
          "Importada",
          "Importada",
          "Importada",
          "Importada",
          "Importada",
          "Importada",
          "Importada",
          "Importada",
          "Importada",
          "Importada",
          "Importada",
          "Importada",
          "Importada",
          "Importada",
          "Importada",
          "Importada",
          "Importada",
          "Importada",
          "Importada",
          "Importada",
          "Importada",
          "Importada",
          "Importada",
          "Importada",
          "Importada",
          "Importada",
          "Importada",
          "Importada",
          "Importada",
          "Importada",
          "Importada",
          "Importada",
          "Importada",
          "Importada",
          "Importada",
          "Importada",
          "Importada",
          "Importada",
          "Importada",
          "Importada",
          "Importada",
          "Importada",
          "Importada",
          "Importada",
          "Importada",
          "Importada",
          "Importada",
          "Importada",
          "Importada",
          "Importada",
          "Importada",
          "Importada",
          "Importada",
          "Importada",
          "Importada",
          "Importada",
          "Importada",
          "Importada",
          "Importada",
          "Importada",
          "Importada",
          "Importada",
          "Importada",
          "Importada",
          "Importada",
          "Importada",
          "Importada",
          "Importada",
          "Importada",
          "Importada",
          "Importada",
          "Importada",
          "Importada",
          "Importada",
          "Importada",
          "Importada",
          "Importada",
          "Importada",
          "Importada",
          "Importada",
          "Importada",
          "Importada",
          "Importada",
          "Importada",
          "Importada",
          "Importada",
          "Importada",
          "Importada",
          "Importada",
          "Importada",
          "Importada",
          "Importada",
          "Importada",
          "Importada",
          "Importada",
          "Importada",
          "Importada",
          "Importada",
          "Importada",
          "Importada",
          "Importada",
          "Importada",
          "Importada",
          "Importada",
          "Importada",
          "Importada",
          "Importada",
          "Importada",
          "Importada",
          "Importada",
          "Importada",
          "Importada",
          "Importada",
          "Importada",
          "Importada",
          "Importada",
          "Importada",
          "Importada",
          "Importada",
          "Importada",
          "Importada",
          "Importada",
          "Importada",
          "Importada",
          "Importada",
          "Importada",
          "Importada",
          "Importada",
          "Importada",
          "Importada",
          "Importada",
          "Importada",
          "Importada",
          "Importada",
          "Importada",
          "Importada",
          "Importada",
          "Importada",
          "Importada",
          "Importada",
          "Importada",
          "Importada",
          "Importada",
          "Importada",
          "Importada",
          "Importada",
          "Importada",
          "Importada",
          "Importada",
          "Importada",
          "Importada",
          "Importada",
          "Importada",
          "Importada",
          "Importada",
          "Importada",
          "Importada",
          "Importada",
          "Importada",
          "Importada",
          "Importada",
          "Importada",
          "Importada",
          "Importada",
          "Importada",
          "Importada",
          "Importada",
          "Importada",
          "Importada",
          "Importada",
          "Importada",
          "Importada",
          "Importada",
          "Importada",
          "Importada",
          "Importada",
          "Importada",
          "Importada",
          "Importada",
          "Importada",
          "Importada",
          "Importada",
          "Importada",
          "Importada",
          "Importada",
          "Importada",
          "Importada",
          "Importada",
          "Importada",
          "Importada",
          "Importada",
          "Importada",
          "Importada",
          "Importada",
          "Importada",
          "Importada",
          "Importada",
          "Importada",
          "Importada",
          "Importada",
          "Importada",
          "Importada",
          "Importada",
          "Importada",
          "Importada",
          "Importada",
          "Importada",
          "Importada",
          "Importada",
          "Importada",
          "Importada",
          "Importada",
          "Importada",
          "Importada",
          "Importada",
          "Importada",
          "Importada",
          "Importada",
          "Importada",
          "Importada",
          "Importada",
          "Importada",
          "Importada",
          "Importada",
          "Importada",
          "Importada",
          "Importada",
          "Importada",
          "Importada",
          "Importada",
          "Importada",
          "Importada",
          "Importada",
          "Importada",
          "Importada",
          "Importada",
          "Importada",
          "Importada",
          "Importada",
          "Importada",
          "Importada",
          "Importada",
          "Importada",
          "Importada",
          "Importada",
          "Importada",
          "Importada",
          "Importada",
          "Importada",
          "Importada",
          "Importada",
          "Importada",
          "Importada",
          "Importada",
          "Importada",
          "Importada",
          "Importada",
          "Importada",
          "Importada",
          "Importada",
          "Importada",
          "Importada",
          "Importada",
          "Importada",
          "Importada",
          "Importada",
          "Importada",
          "Importada",
          "Importada",
          "Importada",
          "Importada",
          "Importada",
          "Importada",
          "Importada",
          "Importada",
          "Importada",
          "Importada",
          "Importada",
          "Importada",
          "Importada",
          "Importada",
          "Importada",
          "Importada",
          "Importada",
          "Importada",
          "Importada",
          "Importada",
          "Importada",
          "Importada",
          "Importada",
          "Importada",
          "Importada",
          "Importada",
          "Importada",
          "Importada",
          "Importada",
          "Importada",
          "Importada",
          "Importada",
          "Importada",
          "Importada",
          "Importada",
          "Importada",
          "Importada",
          "Importada",
          "Importada",
          "Importada",
          "Importada",
          "Importada",
          "Importada",
          "Importada",
          "Importada",
          "Importada",
          "Importada",
          "Importada",
          "Importada",
          "Importada",
          "Importada",
          "Importada",
          "Importada",
          "Importada",
          "Importada",
          "Importada",
          "Importada",
          "Importada",
          "Importada",
          "Importada",
          "Importada",
          "Importada",
          "Importada",
          "Importada",
          "Importada",
          "Importada",
          "Importada",
          "Importada",
          "Importada",
          "Importada",
          "Importada",
          "Importada",
          "Importada",
          "Importada",
          "Importada",
          "Importada",
          "Importada",
          "Importada",
          "Importada",
          "Importada",
          "Importada",
          "Importada",
          "Importada",
          "Importada",
          "Importada",
          "Importada",
          "Importada",
          "Importada",
          "Importada",
          "Importada",
          "Importada",
          "Importada",
          "Importada",
          "Importada",
          "Importada",
          "Importada",
          "Importada",
          "Importada",
          "Importada",
          "Importada",
          "Importada",
          "Importada",
          "Importada",
          "Importada",
          "Importada",
          "Importada",
          "Importada",
          "Importada",
          "Importada",
          "Importada",
          "Importada",
          "Importada",
          "Importada",
          "Importada",
          "Importada",
          "Importada",
          "Importada",
          "Importada",
          "Importada",
          "Importada",
          "Importada",
          "Importada",
          "Importada",
          "Importada",
          "Importada",
          "Importada",
          "Importada",
          "Importada",
          "Importada",
          "Importada",
          "Importada",
          "Importada",
          "Importada",
          "Importada",
          "Importada",
          "Importada",
          "Importada",
          "Importada",
          "Importada",
          "Importada",
          "Importada",
          "Importada",
          "Importada",
          "Importada",
          "Importada",
          "Importada",
          "Importada",
          "Importada",
          "Importada",
          "Importada",
          "Importada",
          "Importada",
          "Importada",
          "Importada",
          "Importada",
          "Importada",
          "Importada",
          "Importada",
          "Importada",
          "Importada",
          "Importada",
          "Importada",
          "Importada",
          "Importada",
          "Importada",
          "Importada",
          "Importada",
          "Importada",
          "Importada",
          "Importada",
          "Importada",
          "Importada",
          "Importada",
          "Importada",
          "Importada",
          "Importada",
          "Importada",
          "Importada",
          "Importada",
          "Importada",
          "Importada",
          "Importada",
          "Importada",
          "Importada",
          "Importada",
          "Importada",
          "Importada",
          "Importada",
          "Importada",
          "Importada",
          "Importada",
          "Importada",
          "Importada",
          "Importada",
          "Importada",
          "Importada",
          "Importada",
          "Importada",
          "Importada",
          "Importada",
          "Importada",
          "Importada",
          "Importada",
          "Importada",
          "Importada",
          "Importada",
          "Importada",
          "Importada",
          "Importada",
          "Importada",
          "Importada",
          "Importada",
          "Importada",
          "Importada",
          "Importada",
          "Importada",
          "Importada",
          "Importada",
          "Importada",
          "Importada",
          "Importada",
          "Importada",
          "Importada",
          "Importada",
          "Importada",
          "Importada",
          "Importada",
          "Importada",
          "Importada",
          "Importada",
          "Importada",
          "Importada",
          "Importada",
          "Importada",
          "Importada",
          "Importada",
          "Importada",
          "Importada",
          "Importada",
          "Importada",
          "Importada",
          "Importada",
          "Importada",
          "Importada",
          "Importada",
          "Importada",
          "Importada",
          "Importada",
          "Importada",
          "Importada",
          "Importada",
          "Importada",
          "Importada",
          "Importada",
          "Importada",
          "Importada",
          "Importada",
          "Importada",
          "Importada",
          "Importada",
          "Importada",
          "Importada",
          "Importada",
          "Importada",
          "Importada",
          "Importada",
          "Importada",
          "Importada",
          "Importada",
          "Importada",
          "Importada",
          "Importada",
          "Importada",
          "Importada",
          "Importada",
          "Importada",
          "Importada",
          "Importada",
          "Importada",
          "Importada",
          "Importada",
          "Importada",
          "Importada",
          "Importada",
          "Importada",
          "Importada",
          "Importada",
          "Importada",
          "Importada",
          "Importada",
          "Importada",
          "Importada",
          "Importada",
          "Importada",
          "Importada",
          "Importada",
          "Importada",
          "Importada",
          "Importada",
          "Importada",
          "Importada",
          "Importada",
          "Importada",
          "Importada",
          "Importada",
          "Importada",
          "Importada",
          "Importada",
          "Importada",
          "Importada",
          "Importada",
          "Importada",
          "Importada",
          "Importada",
          "Importada",
          "Importada",
          "Importada",
          "Importada",
          "Importada",
          "Importada",
          "Importada",
          "Importada",
          "Importada",
          "Importada",
          "Importada",
          "Importada",
          "Importada",
          "Importada",
          "Importada",
          "Importada",
          "Importada",
          "Importada",
          "Importada",
          "Importada",
          "Importada",
          "Importada",
          "Importada",
          "Importada",
          "Importada",
          "Importada",
          "Importada",
          "Importada",
          "Importada",
          "Importada",
          "Importada",
          "Importada",
          "Importada",
          "Importada",
          "Importada",
          "Importada",
          "Importada",
          "Importada",
          "Importada",
          "Importada",
          "Importada",
          "Importada",
          "Importada",
          "Importada",
          "Importada",
          "Importada",
          "Importada",
          "Importada",
          "Importada",
          "Importada",
          "Importada",
          "Importada",
          "Importada",
          "Importada",
          "Importada",
          "Importada",
          "Importada",
          "Importada",
          "Importada",
          "Importada",
          "Importada",
          "Importada",
          "Importada",
          "Importada",
          "Importada",
          "Importada",
          "Importada",
          "Importada",
          "Importada",
          "Importada",
          "Importada",
          "Importada",
          "Importada",
          "Importada",
          "Importada",
          "Importada",
          "Importada",
          "Importada",
          "Importada",
          "Importada",
          "Importada",
          "Importada",
          "Importada",
          "Importada",
          "Importada",
          "Importada",
          "Importada",
          "Importada",
          "Importada",
          "Importada",
          "Importada",
          "Importada",
          "Importada",
          "Importada",
          "Importada",
          "Importada",
          "Importada",
          "Importada",
          "Importada",
          "Importada",
          "Importada",
          "Importada",
          "Importada",
          "Importada",
          "Importada",
          "Importada",
          "Importada",
          "Importada",
          "Importada",
          "Importada",
          "Importada",
          "Importada",
          "Importada",
          "Importada",
          "Importada",
          "Importada",
          "Importada",
          "Importada",
          "Importada",
          "Importada",
          "Importada",
          "Importada",
          "Importada",
          "Importada",
          "Importada",
          "Importada",
          "Importada",
          "Importada",
          "Importada",
          "Importada",
          "Importada",
          "Importada",
          "Importada",
          "Importada",
          "Importada",
          "Importada",
          "Importada",
          "Importada",
          "Importada",
          "Importada",
          "Importada",
          "Importada",
          "Importada",
          "Importada",
          "Importada",
          "Importada",
          "Importada",
          "Importada",
          "Importada",
          "Importada",
          "Importada",
          "Importada",
          "Importada",
          "Importada",
          "Importada",
          "Importada",
          "Importada",
          "Importada",
          "Importada",
          "Importada",
          "Importada",
          "Importada",
          "Importada",
          "Importada",
          "Importada",
          "Importada",
          "Importada",
          "Importada",
          "Importada",
          "Importada",
          "Importada",
          "Importada",
          "Importada",
          "Importada",
          "Importada",
          "Importada",
          "Importada",
          "Importada",
          "Importada",
          "Importada",
          "Importada",
          "Importada",
          "Importada",
          "Importada",
          "Importada",
          "Importada",
          "Importada",
          "Importada",
          "Importada",
          "Importada",
          "Importada",
          "Importada",
          "Importada",
          "Importada",
          "Importada",
          "Importada",
          "Importada",
          "Importada",
          "Importada",
          "Importada",
          "Importada",
          "Importada",
          "Importada",
          "Importada",
          "Importada",
          "Importada",
          "Importada",
          "Importada",
          "Importada",
          "Importada",
          "Importada",
          "Importada",
          "Importada",
          "Importada",
          "Importada",
          "Importada",
          "Importada",
          "Importada",
          "Importada",
          "Importada",
          "Importada",
          "Importada",
          "Importada",
          "Importada",
          "Importada",
          "Importada",
          "Importada",
          "Importada",
          "Importada",
          "Importada",
          "Importada",
          "Importada",
          "Importada",
          "Importada",
          "Importada",
          "Importada",
          "Importada",
          "Importada",
          "Importada",
          "Importada",
          "Importada",
          "Importada",
          "Importada",
          "Importada",
          "Importada",
          "Importada",
          "Importada",
          "Importada",
          "Importada",
          "Importada",
          "Importada",
          "Importada",
          "Importada",
          "Importada",
          "Importada",
          "Importada",
          "Importada",
          "Importada",
          "Importada",
          "Importada",
          "Importada",
          "Importada",
          "Importada",
          "Importada",
          "Importada",
          "Importada",
          "Importada",
          "Importada",
          "Importada",
          "Importada",
          "Importada",
          "Importada",
          "Importada",
          "Importada",
          "Importada",
          "Importada",
          "Importada",
          "Importada",
          "Importada",
          "Importada",
          "Importada",
          "Importada",
          "Importada",
          "Importada",
          "Importada",
          "Importada",
          "Importada",
          "Importada",
          "Importada",
          "Importada",
          "Importada",
          "Importada",
          "Importada",
          "Importada",
          "Importada",
          "Importada",
          "Importada",
          "Importada",
          "Importada",
          "Importada",
          "Importada",
          "Importada",
          "Importada",
          "Importada",
          "Importada",
          "Importada",
          "Importada",
          "Importada",
          "Importada",
          "Importada",
          "Importada",
          "Importada",
          "Importada",
          "Importada",
          "Importada",
          "Importada",
          "Importada",
          "Importada",
          "Importada",
          "Importada",
          "Importada",
          "Importada",
          "Importada",
          "Importada",
          "Importada",
          "Importada",
          "Importada",
          "Importada",
          "Importada",
          "Importada",
          "Importada",
          "Importada",
          "Importada",
          "Importada",
          "Importada",
          "Importada",
          "Importada",
          "Importada",
          "Importada",
          "Importada",
          "Importada",
          "Importada",
          "Importada",
          "Importada",
          "Importada",
          "Importada",
          "Importada",
          "Importada",
          "Importada",
          "Importada",
          "Importada",
          "Importada",
          "Importada",
          "Importada",
          "Importada",
          "Importada",
          "Importada",
          "Importada",
          "Importada",
          "Importada",
          "Importada",
          "Importada",
          "Importada",
          "Importada",
          "Importada",
          "Importada",
          "Importada",
          "Importada",
          "Importada",
          "Importada",
          "Importada",
          "Importada",
          "Importada",
          "Importada",
          "Importada",
          "Importada",
          "Importada",
          "Importada",
          "Importada",
          "Importada",
          "Importada",
          "Importada",
          "Importada",
          "Importada",
          "Importada",
          "Importada",
          "Importada",
          "Importada",
          "Importada",
          "Importada",
          "Importada",
          "Importada",
          "Importada",
          "Importada",
          "Importada",
          "Importada",
          "Importada",
          "Importada",
          "Importada",
          "Importada",
          "Importada",
          "Importada",
          "Importada",
          "Importada",
          "Importada",
          "Importada",
          "Importada",
          "Importada",
          "Importada",
          "Importada",
          "Importada",
          "Importada",
          "Importada",
          "Importada",
          "Importada",
          "Importada",
          "Importada",
          "Importada",
          "Importada",
          "Importada",
          "Importada",
          "Importada",
          "Importada",
          "Importada",
          "Importada",
          "Importada",
          "Importada",
          "Importada",
          "Importada",
          "Importada",
          "Importada",
          "Importada",
          "Importada",
          "Importada",
          "Importada",
          "Importada",
          "Importada",
          "Importada",
          "Importada",
          "Importada",
          "Importada",
          "Importada",
          "Importada",
          "Importada",
          "Importada",
          "Importada",
          "Importada",
          "Importada",
          "Importada",
          "Importada",
          "Importada",
          "Importada",
          "Importada",
          "Importada",
          "Importada",
          "Importada",
          "Importada",
          "Importada",
          "Importada",
          "Importada",
          "Importada",
          "Importada",
          "Importada",
          "Importada",
          "Importada",
          "Importada",
          "Importada",
          "Importada",
          "Importada",
          "Importada",
          "Importada",
          "Importada",
          "Importada",
          "Importada",
          "Importada",
          "Importada",
          "Importada",
          "Importada",
          "Importada",
          "Importada",
          "Importada",
          "Importada",
          "Importada",
          "Importada",
          "Importada",
          "Importada",
          "Importada",
          "Importada",
          "Importada",
          "Importada",
          "Importada",
          "Importada",
          "Importada",
          "Importada",
          "Importada",
          "Importada",
          "Importada",
          "Importada",
          "Importada",
          "Importada",
          "Importada",
          "Importada",
          "Importada",
          "Importada",
          "Importada",
          "Importada",
          "Importada",
          "Importada",
          "Importada",
          "Importada",
          "Importada",
          "Importada",
          "Importada",
          "Importada",
          "Importada",
          "Importada",
          "Importada",
          "Importada",
          "Importada",
          "Importada",
          "Importada",
          "Importada",
          "Importada",
          "Importada",
          "Importada",
          "Importada",
          "Importada",
          "Importada",
          "Importada",
          "Importada",
          "Importada",
          "Importada",
          "Importada",
          "Importada",
          "Importada",
          "Importada",
          "Importada",
          "Importada",
          "Importada",
          "Importada",
          "Importada",
          "Importada",
          "Importada",
          "Importada",
          "Importada",
          "Importada",
          "Importada",
          "Importada",
          "Importada",
          "Importada",
          "Importada",
          "Importada",
          "Importada",
          "Importada",
          "Importada",
          "Importada",
          "Importada",
          "Importada",
          "Importada",
          "Importada",
          "Importada",
          "Importada",
          "Importada",
          "Importada",
          "Importada",
          "Importada",
          "Importada",
          "Importada",
          "Importada",
          "Importada",
          "Importada",
          "Importada",
          "Importada",
          "Importada",
          "Importada",
          "Importada",
          "Importada",
          "Importada",
          "Importada",
          "Importada",
          "Importada",
          "Importada",
          "Importada",
          "Importada",
          "Importada",
          "Importada",
          "Importada",
          "Importada",
          "Importada",
          "Importada",
          "Importada",
          "Importada",
          "Importada",
          "Importada",
          "Importada",
          "Importada",
          "Importada",
          "Importada",
          "Importada",
          "Importada",
          "Importada",
          "Importada",
          "Importada",
          "Importada",
          "Importada",
          "Importada",
          "Importada",
          "Importada",
          "Importada",
          "Importada",
          "Importada",
          "Importada",
          "Importada",
          "Importada",
          "Importada",
          "Importada",
          "Importada",
          "Importada",
          "Importada",
          "Importada",
          "Importada",
          "Importada",
          "Importada",
          "Importada",
          "Importada",
          "Importada",
          "Importada",
          "Importada",
          "Importada",
          "Importada",
          "Importada",
          "Importada",
          "Importada",
          "Importada",
          "Importada",
          "Importada",
          "Importada",
          "Importada",
          "Importada",
          "Importada",
          "Importada",
          "Importada",
          "Importada",
          "Importada",
          "Importada",
          "Importada",
          "Importada",
          "Importada",
          "Importada",
          "Importada",
          "Importada",
          "Importada",
          "Importada",
          "Importada",
          "Importada",
          "Importada",
          "Importada",
          "Importada",
          "Importada",
          "Importada",
          "Importada",
          "Importada",
          "Importada",
          "Importada",
          "Importada",
          "Importada",
          "Importada",
          "Importada",
          "Importada",
          "Importada",
          "Importada",
          "Importada",
          "Importada",
          "Importada",
          "Importada",
          "Importada",
          "Importada",
          "Importada",
          "Importada",
          "Importada",
          "Importada",
          "Importada",
          "Importada",
          "Importada",
          "Importada",
          "Importada",
          "Importada",
          "Importada",
          "Importada",
          "Importada",
          "Importada",
          "Importada",
          "Importada",
          "Importada",
          "Importada",
          "Importada",
          "Importada",
          "Importada",
          "Importada",
          "Importada",
          "Importada",
          "Importada",
          "Importada",
          "Importada",
          "Importada",
          "Importada",
          "Importada",
          "Importada",
          "Importada",
          "Importada",
          "Importada",
          "Importada",
          "Importada",
          "Importada",
          "Importada",
          "Importada",
          "Importada",
          "Importada",
          "Importada",
          "Importada",
          "Importada",
          "Importada",
          "Importada",
          "Importada",
          "Importada",
          "Importada",
          "Importada",
          "Importada",
          "Importada",
          "Importada",
          "Importada",
          "Importada",
          "Importada",
          "Importada",
          "Importada",
          "Importada",
          "Importada",
          "Importada",
          "Importada",
          "Importada",
          "Importada",
          "Importada",
          "Importada",
          "Importada",
          "Importada",
          "Importada",
          "Importada",
          "Importada",
          "Importada",
          "Importada",
          "Importada",
          "Importada",
          "Importada",
          "Importada",
          "Importada",
          "Importada",
          "Importada",
          "Importada",
          "Importada",
          "Importada",
          "Importada",
          "Importada",
          "Importada",
          "Importada",
          "Importada",
          "Importada",
          "Importada",
          "Importada",
          "Importada",
          "Importada",
          "Importada",
          "Importada",
          "Importada",
          "Importada",
          "Importada",
          "Importada",
          "Importada",
          "Importada",
          "Importada",
          "Importada",
          "Importada",
          "Importada",
          "Importada",
          "Importada",
          "Importada",
          "Importada",
          "Importada",
          "Importada",
          "Importada",
          "Importada",
          "Importada",
          "Importada",
          "Importada",
          "Importada",
          "Importada",
          "Importada",
          "Importada",
          "Importada",
          "Importada",
          "Importada",
          "Importada",
          "Importada",
          "Importada",
          "Importada",
          "Importada",
          "Importada",
          "Importada",
          "Importada",
          "Importada",
          "Importada",
          "Importada",
          "Importada",
          "Importada",
          "Importada",
          "Importada",
          "Importada",
          "Importada",
          "Importada",
          "Importada",
          "Importada",
          "Importada",
          "Importada",
          "Importada",
          "Importada",
          "Importada",
          "Importada",
          "Importada",
          "Importada",
          "Importada",
          "Importada",
          "Importada",
          "Importada",
          "Importada",
          "Importada",
          "Importada",
          "Importada",
          "Importada",
          "Importada",
          "Importada",
          "Importada",
          "Importada",
          "Importada",
          "Importada",
          "Importada",
          "Importada",
          "Importada",
          "Importada",
          "Importada",
          "Importada",
          "Importada",
          "Importada",
          "Importada",
          "Importada",
          "Importada",
          "Importada",
          "Importada",
          "Importada",
          "Importada",
          "Importada",
          "Importada",
          "Importada",
          "Importada",
          "Importada",
          "Importada",
          "Importada",
          "Importada",
          "Importada",
          "Importada",
          "Importada",
          "Importada",
          "Importada",
          "Importada",
          "Importada",
          "Importada",
          "Importada",
          "Importada",
          "Importada",
          "Importada",
          "Importada",
          "Importada",
          "Importada",
          "Importada",
          "Importada",
          "Importada",
          "Importada",
          "Importada",
          "Importada",
          "Importada",
          "Importada",
          "Importada",
          "Importada",
          "Importada",
          "Importada",
          "Importada",
          "Importada",
          "Importada",
          "Importada",
          "Importada",
          "Importada",
          "Importada",
          "Importada",
          "Importada",
          "Importada",
          "Importada",
          "Importada",
          "Importada",
          "Importada",
          "Importada",
          "Importada",
          "Importada",
          "Importada",
          "Importada",
          "Importada",
          "Importada",
          "Importada",
          "Importada",
          "Importada",
          "Importada",
          "Importada",
          "Importada",
          "Importada",
          "Importada",
          "Importada",
          "Importada",
          "Importada",
          "Importada",
          "Importada",
          "Importada",
          "Importada",
          "Importada",
          "Importada",
          "Importada",
          "Importada",
          "Importada",
          "Importada",
          "Importada",
          "Importada",
          "Importada",
          "Importada",
          "Importada",
          "Importada",
          "Importada",
          "Importada",
          "Importada",
          "Importada",
          "Importada",
          "Importada",
          "Importada",
          "Importada",
          "Importada",
          "Importada",
          "Importada",
          "Importada",
          "Importada",
          "Importada",
          "Importada",
          "Importada",
          "Importada",
          "Importada",
          "Importada",
          "Importada",
          "Importada",
          "Importada",
          "Importada",
          "Importada",
          "Importada",
          "Importada",
          "Importada",
          "Importada",
          "Importada",
          "Importada",
          "Importada",
          "Importada",
          "Importada",
          "Importada",
          "Importada",
          "Importada",
          "Importada",
          "Importada",
          "Importada",
          "Importada",
          "Importada",
          "Importada",
          "Importada",
          "Importada",
          "Importada",
          "Importada",
          "Importada",
          "Importada",
          "Importada",
          "Importada",
          "Importada",
          "Importada",
          "Importada",
          "Importada",
          "Importada",
          "Importada",
          "Importada",
          "Importada",
          "Importada",
          "Importada",
          "Importada",
          "Importada",
          "Importada",
          "Importada",
          "Importada",
          "Importada",
          "Importada",
          "Importada",
          "Importada",
          "Importada",
          "Importada",
          "Importada",
          "Importada",
          "Importada",
          "Importada",
          "Importada",
          "Importada",
          "Importada",
          "Importada",
          "Importada",
          "Importada",
          "Importada",
          "Importada",
          "Importada",
          "Importada",
          "Importada",
          "Importada",
          "Importada",
          "Importada",
          "Importada",
          "Importada",
          "Importada",
          "Importada",
          "Importada",
          "Importada",
          "Importada",
          "Importada",
          "Importada",
          "Importada",
          "Importada",
          "Importada",
          "Importada",
          "Importada",
          "Importada",
          "Importada",
          "Importada",
          "Importada",
          "Importada",
          "Importada",
          "Importada",
          "Importada",
          "Importada",
          "Importada",
          "Importada",
          "Importada",
          "Importada",
          "Importada",
          "Importada",
          "Importada",
          "Importada",
          "Importada",
          "Importada",
          "Importada",
          "Importada",
          "Importada",
          "Importada",
          "Importada",
          "Importada",
          "Importada",
          "Importada",
          "Importada",
          "Importada",
          "Importada",
          "Importada",
          "Importada",
          "Importada",
          "Importada",
          "Importada",
          "Importada",
          "Importada",
          "Importada",
          "Importada",
          "Importada",
          "Importada",
          "Importada",
          "Importada",
          "Importada",
          "Importada",
          "Importada",
          "Importada",
          "Importada",
          "Importada",
          "Importada",
          "Importada",
          "Importada",
          "Importada",
          "Importada",
          "Importada",
          "Importada",
          "Importada",
          "Importada",
          "Importada",
          "Importada",
          "Importada",
          "Importada",
          "Importada",
          "Importada",
          "Importada",
          "Importada",
          "Importada",
          "Importada",
          "Importada",
          "Importada",
          "Importada",
          "Importada",
          "Importada",
          "Importada",
          "Importada",
          "Importada",
          "Importada",
          "Importada",
          "Importada",
          "Importada",
          "Importada",
          "Importada",
          "Importada",
          "Importada",
          "Importada",
          "Importada",
          "Importada",
          "Importada",
          "Importada",
          "Importada",
          "Importada",
          "Importada",
          "Importada",
          "Importada",
          "Importada",
          "Importada",
          "Importada",
          "Importada",
          "Importada",
          "Importada",
          "Importada",
          "Importada",
          "Importada",
          "Importada",
          "Importada",
          "Importada",
          "Importada",
          "Importada",
          "Importada",
          "Importada",
          "Importada",
          "Importada",
          "Importada",
          "Importada",
          "Importada",
          "Importada",
          "Importada",
          "Importada",
          "Importada",
          "Importada",
          "Importada",
          "Importada",
          "Importada",
          "Importada",
          "Importada",
          "Importada",
          "Importada",
          "Importada",
          "Importada",
          "Importada",
          "Importada",
          "Importada",
          "Importada",
          "Importada",
          "Importada",
          "Importada",
          "Importada",
          "Importada",
          "Importada",
          "Importada",
          "Importada",
          "Importada",
          "Importada",
          "Importada",
          "Importada",
          "Importada",
          "Importada",
          "Importada",
          "Importada",
          "Importada",
          "Importada",
          "Importada",
          "Importada",
          "Importada",
          "Importada",
          "Importada",
          "Importada",
          "Importada",
          "Importada",
          "Importada",
          "Importada",
          "Importada",
          "Importada",
          "Importada",
          "Importada",
          "Importada",
          "Importada",
          "Importada",
          "Importada",
          "Importada",
          "Importada",
          "Importada",
          "Importada",
          "Importada",
          "Importada",
          "Importada",
          "Importada",
          "Importada",
          "Importada",
          "Importada",
          "Importada",
          "Importada",
          "Importada",
          "Importada",
          "Importada",
          "Importada",
          "Importada",
          "Importada",
          "Importada",
          "Importada",
          "Importada",
          "Importada",
          "Importada",
          "Importada",
          "Importada",
          "Importada",
          "Importada",
          "Importada",
          "Importada",
          "Importada",
          "Importada",
          "Importada",
          "Importada",
          "Importada",
          "Importada",
          "Importada",
          "Importada",
          "Importada",
          "Importada",
          "Importada",
          "Importada",
          "Importada",
          "Importada",
          "Importada",
          "Importada",
          "Importada",
          "Importada",
          "Importada",
          "Importada",
          "Importada",
          "Importada",
          "Importada",
          "Importada",
          "Importada",
          "Importada",
          "Importada",
          "Importada",
          "Importada",
          "Importada",
          "Importada",
          "Importada",
          "Importada",
          "Importada",
          "Importada",
          "Importada",
          "Importada",
          "Importada",
          "Importada",
          "Importada",
          "Importada",
          "Importada",
          "Importada",
          "Importada",
          "Importada",
          "Importada",
          "Importada",
          "Importada",
          "Importada",
          "Importada",
          "Importada",
          "Importada",
          "Importada",
          "Importada",
          "Importada",
          "Importada",
          "Importada",
          "Importada",
          "Importada",
          "Importada",
          "Importada",
          "Importada",
          "Importada",
          "Importada",
          "Importada",
          "Importada",
          "Importada",
          "Importada",
          "Importada",
          "Importada",
          "Importada",
          "Importada",
          "Importada",
          "Importada",
          "Importada",
          "Importada",
          "Importada",
          "Importada",
          "Importada",
          "Importada",
          "Importada",
          "Importada",
          "Importada",
          "Importada",
          "Importada",
          "Importada",
          "Importada",
          "Importada",
          "Importada",
          "Importada",
          "Importada",
          "Importada",
          "Importada",
          "Importada",
          "Importada",
          "Importada",
          "Importada",
          "Importada",
          "Importada",
          "Importada",
          "Importada",
          "Importada",
          "Importada",
          "Importada",
          "Importada",
          "Importada",
          "Importada",
          "Importada",
          "Importada",
          "Importada",
          "Importada",
          "Importada",
          "Importada",
          "Importada",
          "Importada",
          "Importada",
          "Importada",
          "Importada",
          "Importada",
          "Importada",
          "Importada",
          "Importada",
          "Importada",
          "Importada",
          "Importada",
          "Importada",
          "Importada",
          "Importada",
          "Importada",
          "Importada",
          "Importada",
          "Importada",
          "Importada",
          "Importada",
          "Importada",
          "Importada",
          "Importada",
          "Importada",
          "Importada",
          "Importada",
          "Importada",
          "Importada",
          "Importada",
          "Importada",
          "Importada",
          "Importada",
          "Importada",
          "Importada",
          "Importada",
          "Importada",
          "Importada",
          "Importada",
          "Importada",
          "Importada",
          "Importada",
          "Importada",
          "Importada",
          "Importada",
          "Importada",
          "Importada",
          "Importada",
          "Importada",
          "Importada",
          "Importada",
          "Importada",
          "Importada",
          "Importada",
          "Importada",
          "Importada",
          "Importada",
          "Importada",
          "Importada",
          "Importada",
          "Importada",
          "Importada",
          "Importada",
          "Importada",
          "Importada",
          "Importada",
          "Importada",
          "Importada",
          "Importada",
          "Importada",
          "Importada"
         ],
         "x0": " ",
         "xaxis": "x",
         "y": {
          "bdata": "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",
          "dtype": "f8"
         },
         "y0": " ",
         "yaxis": "y"
        },
        {
         "alignmentgroup": "True",
         "box": {
          "visible": true
         },
         "hovertemplate": "Origen=%{x}<br>Precio=%{y}<extra></extra>",
         "legendgroup": "Nacional",
         "marker": {
          "color": "#EF553B"
         },
         "name": "Nacional",
         "offsetgroup": "Nacional",
         "orientation": "v",
         "points": "all",
         "scalegroup": "True",
         "showlegend": true,
         "type": "violin",
         "x": [
          "Nacional",
          "Nacional"
         ],
         "x0": " ",
         "xaxis": "x",
         "y": {
          "bdata": "AAAAAAAA+H8AAAAAAMByQA==",
          "dtype": "f8"
         },
         "y0": " ",
         "yaxis": "y"
        }
       ],
       "layout": {
        "legend": {
         "title": {
          "text": "Origen"
         },
         "tracegroupgap": 0
        },
        "template": {
         "data": {
          "bar": [
           {
            "error_x": {
             "color": "#2a3f5f"
            },
            "error_y": {
             "color": "#2a3f5f"
            },
            "marker": {
             "line": {
              "color": "#E5ECF6",
              "width": 0.5
             },
             "pattern": {
              "fillmode": "overlay",
              "size": 10,
              "solidity": 0.2
             }
            },
            "type": "bar"
           }
          ],
          "barpolar": [
           {
            "marker": {
             "line": {
              "color": "#E5ECF6",
              "width": 0.5
             },
             "pattern": {
              "fillmode": "overlay",
              "size": 10,
              "solidity": 0.2
             }
            },
            "type": "barpolar"
           }
          ],
          "carpet": [
           {
            "aaxis": {
             "endlinecolor": "#2a3f5f",
             "gridcolor": "white",
             "linecolor": "white",
             "minorgridcolor": "white",
             "startlinecolor": "#2a3f5f"
            },
            "baxis": {
             "endlinecolor": "#2a3f5f",
             "gridcolor": "white",
             "linecolor": "white",
             "minorgridcolor": "white",
             "startlinecolor": "#2a3f5f"
            },
            "type": "carpet"
           }
          ],
          "choropleth": [
           {
            "colorbar": {
             "outlinewidth": 0,
             "ticks": ""
            },
            "type": "choropleth"
           }
          ],
          "contour": [
           {
            "colorbar": {
             "outlinewidth": 0,
             "ticks": ""
            },
            "colorscale": [
             [
              0,
              "#0d0887"
             ],
             [
              0.1111111111111111,
              "#46039f"
             ],
             [
              0.2222222222222222,
              "#7201a8"
             ],
             [
              0.3333333333333333,
              "#9c179e"
             ],
             [
              0.4444444444444444,
              "#bd3786"
             ],
             [
              0.5555555555555556,
              "#d8576b"
             ],
             [
              0.6666666666666666,
              "#ed7953"
             ],
             [
              0.7777777777777778,
              "#fb9f3a"
             ],
             [
              0.8888888888888888,
              "#fdca26"
             ],
             [
              1,
              "#f0f921"
             ]
            ],
            "type": "contour"
           }
          ],
          "contourcarpet": [
           {
            "colorbar": {
             "outlinewidth": 0,
             "ticks": ""
            },
            "type": "contourcarpet"
           }
          ],
          "heatmap": [
           {
            "colorbar": {
             "outlinewidth": 0,
             "ticks": ""
            },
            "colorscale": [
             [
              0,
              "#0d0887"
             ],
             [
              0.1111111111111111,
              "#46039f"
             ],
             [
              0.2222222222222222,
              "#7201a8"
             ],
             [
              0.3333333333333333,
              "#9c179e"
             ],
             [
              0.4444444444444444,
              "#bd3786"
             ],
             [
              0.5555555555555556,
              "#d8576b"
             ],
             [
              0.6666666666666666,
              "#ed7953"
             ],
             [
              0.7777777777777778,
              "#fb9f3a"
             ],
             [
              0.8888888888888888,
              "#fdca26"
             ],
             [
              1,
              "#f0f921"
             ]
            ],
            "type": "heatmap"
           }
          ],
          "histogram": [
           {
            "marker": {
             "pattern": {
              "fillmode": "overlay",
              "size": 10,
              "solidity": 0.2
             }
            },
            "type": "histogram"
           }
          ],
          "histogram2d": [
           {
            "colorbar": {
             "outlinewidth": 0,
             "ticks": ""
            },
            "colorscale": [
             [
              0,
              "#0d0887"
             ],
             [
              0.1111111111111111,
              "#46039f"
             ],
             [
              0.2222222222222222,
              "#7201a8"
             ],
             [
              0.3333333333333333,
              "#9c179e"
             ],
             [
              0.4444444444444444,
              "#bd3786"
             ],
             [
              0.5555555555555556,
              "#d8576b"
             ],
             [
              0.6666666666666666,
              "#ed7953"
             ],
             [
              0.7777777777777778,
              "#fb9f3a"
             ],
             [
              0.8888888888888888,
              "#fdca26"
             ],
             [
              1,
              "#f0f921"
             ]
            ],
            "type": "histogram2d"
           }
          ],
          "histogram2dcontour": [
           {
            "colorbar": {
             "outlinewidth": 0,
             "ticks": ""
            },
            "colorscale": [
             [
              0,
              "#0d0887"
             ],
             [
              0.1111111111111111,
              "#46039f"
             ],
             [
              0.2222222222222222,
              "#7201a8"
             ],
             [
              0.3333333333333333,
              "#9c179e"
             ],
             [
              0.4444444444444444,
              "#bd3786"
             ],
             [
              0.5555555555555556,
              "#d8576b"
             ],
             [
              0.6666666666666666,
              "#ed7953"
             ],
             [
              0.7777777777777778,
              "#fb9f3a"
             ],
             [
              0.8888888888888888,
              "#fdca26"
             ],
             [
              1,
              "#f0f921"
             ]
            ],
            "type": "histogram2dcontour"
           }
          ],
          "mesh3d": [
           {
            "colorbar": {
             "outlinewidth": 0,
             "ticks": ""
            },
            "type": "mesh3d"
           }
          ],
          "parcoords": [
           {
            "line": {
             "colorbar": {
              "outlinewidth": 0,
              "ticks": ""
             }
            },
            "type": "parcoords"
           }
          ],
          "pie": [
           {
            "automargin": true,
            "type": "pie"
           }
          ],
          "scatter": [
           {
            "fillpattern": {
             "fillmode": "overlay",
             "size": 10,
             "solidity": 0.2
            },
            "type": "scatter"
           }
          ],
          "scatter3d": [
           {
            "line": {
             "colorbar": {
              "outlinewidth": 0,
              "ticks": ""
             }
            },
            "marker": {
             "colorbar": {
              "outlinewidth": 0,
              "ticks": ""
             }
            },
            "type": "scatter3d"
           }
          ],
          "scattercarpet": [
           {
            "marker": {
             "colorbar": {
              "outlinewidth": 0,
              "ticks": ""
             }
            },
            "type": "scattercarpet"
           }
          ],
          "scattergeo": [
           {
            "marker": {
             "colorbar": {
              "outlinewidth": 0,
              "ticks": ""
             }
            },
            "type": "scattergeo"
           }
          ],
          "scattergl": [
           {
            "marker": {
             "colorbar": {
              "outlinewidth": 0,
              "ticks": ""
             }
            },
            "type": "scattergl"
           }
          ],
          "scattermap": [
           {
            "marker": {
             "colorbar": {
              "outlinewidth": 0,
              "ticks": ""
             }
            },
            "type": "scattermap"
           }
          ],
          "scattermapbox": [
           {
            "marker": {
             "colorbar": {
              "outlinewidth": 0,
              "ticks": ""
             }
            },
            "type": "scattermapbox"
           }
          ],
          "scatterpolar": [
           {
            "marker": {
             "colorbar": {
              "outlinewidth": 0,
              "ticks": ""
             }
            },
            "type": "scatterpolar"
           }
          ],
          "scatterpolargl": [
           {
            "marker": {
             "colorbar": {
              "outlinewidth": 0,
              "ticks": ""
             }
            },
            "type": "scatterpolargl"
           }
          ],
          "scatterternary": [
           {
            "marker": {
             "colorbar": {
              "outlinewidth": 0,
              "ticks": ""
             }
            },
            "type": "scatterternary"
           }
          ],
          "surface": [
           {
            "colorbar": {
             "outlinewidth": 0,
             "ticks": ""
            },
            "colorscale": [
             [
              0,
              "#0d0887"
             ],
             [
              0.1111111111111111,
              "#46039f"
             ],
             [
              0.2222222222222222,
              "#7201a8"
             ],
             [
              0.3333333333333333,
              "#9c179e"
             ],
             [
              0.4444444444444444,
              "#bd3786"
             ],
             [
              0.5555555555555556,
              "#d8576b"
             ],
             [
              0.6666666666666666,
              "#ed7953"
             ],
             [
              0.7777777777777778,
              "#fb9f3a"
             ],
             [
              0.8888888888888888,
              "#fdca26"
             ],
             [
              1,
              "#f0f921"
             ]
            ],
            "type": "surface"
           }
          ],
          "table": [
           {
            "cells": {
             "fill": {
              "color": "#EBF0F8"
             },
             "line": {
              "color": "white"
             }
            },
            "header": {
             "fill": {
              "color": "#C8D4E3"
             },
             "line": {
              "color": "white"
             }
            },
            "type": "table"
           }
          ]
         },
         "layout": {
          "annotationdefaults": {
           "arrowcolor": "#2a3f5f",
           "arrowhead": 0,
           "arrowwidth": 1
          },
          "autotypenumbers": "strict",
          "coloraxis": {
           "colorbar": {
            "outlinewidth": 0,
            "ticks": ""
           }
          },
          "colorscale": {
           "diverging": [
            [
             0,
             "#8e0152"
            ],
            [
             0.1,
             "#c51b7d"
            ],
            [
             0.2,
             "#de77ae"
            ],
            [
             0.3,
             "#f1b6da"
            ],
            [
             0.4,
             "#fde0ef"
            ],
            [
             0.5,
             "#f7f7f7"
            ],
            [
             0.6,
             "#e6f5d0"
            ],
            [
             0.7,
             "#b8e186"
            ],
            [
             0.8,
             "#7fbc41"
            ],
            [
             0.9,
             "#4d9221"
            ],
            [
             1,
             "#276419"
            ]
           ],
           "sequential": [
            [
             0,
             "#0d0887"
            ],
            [
             0.1111111111111111,
             "#46039f"
            ],
            [
             0.2222222222222222,
             "#7201a8"
            ],
            [
             0.3333333333333333,
             "#9c179e"
            ],
            [
             0.4444444444444444,
             "#bd3786"
            ],
            [
             0.5555555555555556,
             "#d8576b"
            ],
            [
             0.6666666666666666,
             "#ed7953"
            ],
            [
             0.7777777777777778,
             "#fb9f3a"
            ],
            [
             0.8888888888888888,
             "#fdca26"
            ],
            [
             1,
             "#f0f921"
            ]
           ],
           "sequentialminus": [
            [
             0,
             "#0d0887"
            ],
            [
             0.1111111111111111,
             "#46039f"
            ],
            [
             0.2222222222222222,
             "#7201a8"
            ],
            [
             0.3333333333333333,
             "#9c179e"
            ],
            [
             0.4444444444444444,
             "#bd3786"
            ],
            [
             0.5555555555555556,
             "#d8576b"
            ],
            [
             0.6666666666666666,
             "#ed7953"
            ],
            [
             0.7777777777777778,
             "#fb9f3a"
            ],
            [
             0.8888888888888888,
             "#fdca26"
            ],
            [
             1,
             "#f0f921"
            ]
           ]
          },
          "colorway": [
           "#636efa",
           "#EF553B",
           "#00cc96",
           "#ab63fa",
           "#FFA15A",
           "#19d3f3",
           "#FF6692",
           "#B6E880",
           "#FF97FF",
           "#FECB52"
          ],
          "font": {
           "color": "#2a3f5f"
          },
          "geo": {
           "bgcolor": "white",
           "lakecolor": "white",
           "landcolor": "#E5ECF6",
           "showlakes": true,
           "showland": true,
           "subunitcolor": "white"
          },
          "hoverlabel": {
           "align": "left"
          },
          "hovermode": "closest",
          "mapbox": {
           "style": "light"
          },
          "paper_bgcolor": "white",
          "plot_bgcolor": "#E5ECF6",
          "polar": {
           "angularaxis": {
            "gridcolor": "white",
            "linecolor": "white",
            "ticks": ""
           },
           "bgcolor": "#E5ECF6",
           "radialaxis": {
            "gridcolor": "white",
            "linecolor": "white",
            "ticks": ""
           }
          },
          "scene": {
           "xaxis": {
            "backgroundcolor": "#E5ECF6",
            "gridcolor": "white",
            "gridwidth": 2,
            "linecolor": "white",
            "showbackground": true,
            "ticks": "",
            "zerolinecolor": "white"
           },
           "yaxis": {
            "backgroundcolor": "#E5ECF6",
            "gridcolor": "white",
            "gridwidth": 2,
            "linecolor": "white",
            "showbackground": true,
            "ticks": "",
            "zerolinecolor": "white"
           },
           "zaxis": {
            "backgroundcolor": "#E5ECF6",
            "gridcolor": "white",
            "gridwidth": 2,
            "linecolor": "white",
            "showbackground": true,
            "ticks": "",
            "zerolinecolor": "white"
           }
          },
          "shapedefaults": {
           "line": {
            "color": "#2a3f5f"
           }
          },
          "ternary": {
           "aaxis": {
            "gridcolor": "white",
            "linecolor": "white",
            "ticks": ""
           },
           "baxis": {
            "gridcolor": "white",
            "linecolor": "white",
            "ticks": ""
           },
           "bgcolor": "#E5ECF6",
           "caxis": {
            "gridcolor": "white",
            "linecolor": "white",
            "ticks": ""
           }
          },
          "title": {
           "x": 0.05
          },
          "xaxis": {
           "automargin": true,
           "gridcolor": "white",
           "linecolor": "white",
           "ticks": "",
           "title": {
            "standoff": 15
           },
           "zerolinecolor": "white",
           "zerolinewidth": 2
          },
          "yaxis": {
           "automargin": true,
           "gridcolor": "white",
           "linecolor": "white",
           "ticks": "",
           "title": {
            "standoff": 15
           },
           "zerolinecolor": "white",
           "zerolinewidth": 2
          }
         }
        },
        "title": {
         "text": "Distribución de precios de las bebidas (Nacionales: 0.02%, Importadas: 99.98%)"
        },
        "violinmode": "overlay",
        "xaxis": {
         "anchor": "y",
         "categoryarray": [
          "Importada",
          "Nacional"
         ],
         "categoryorder": "array",
         "domain": [
          0,
          1
         ],
         "title": {
          "text": "Origen"
         }
        },
        "yaxis": {
         "anchor": "x",
         "domain": [
          0,
          1
         ],
         "title": {
          "text": "Precio"
         }
        }
       }
      }
     },
     "metadata": {},
     "output_type": "display_data"
    }
   ],
   "source": [
    "#df_drinks_prices = df[drink_price_columns]\n",
    "#print(df['menu.drinks'])\n",
    "df_drinks_prices = df.rename(columns={'drinks.nacional': 'nacional', 'drinks.importada': 'importada'})\n",
    "\n",
    "df_drinks_prices = df_drinks_prices.melt(var_name='drink', value_name='price')\n",
    "#display(df_drinks_prices)\n",
    "df_drinks_prices['origin'] = df_drinks_prices['drink'].apply(lambda x: 'Nacional' if 'nacional' in x.lower() else 'Importada')\n",
    "\n",
    "df_drinks_prices = df_drinks_prices.dropna(subset=['price'])\n",
    "\n",
    "df_drinks_prices['price'] = pd.to_numeric(df_drinks_prices['price'], errors='coerce')\n",
    "\n",
    "total_drinks = df_drinks_prices['origin'].value_counts().sum()\n",
    "percentages = df_drinks_prices['origin'].value_counts() / total_drinks * 100\n",
    "\n",
    "fig = px.violin(\n",
    "    df_drinks_prices,\n",
    "    x='origin',\n",
    "    y='price',\n",
    "    color='origin',\n",
    "    box=True,\n",
    "    points='all',\n",
    "    title='Distribución de precios de las bebidas (Nacionales vs Importadas)',\n",
    "    labels={'origin': 'Origen', 'price': 'Precio'}\n",
    ")\n",
    "\n",
    "fig.update_layout(\n",
    "    title=f'Distribución de precios de las bebidas (Nacionales: {percentages[\"Nacional\"]:.2f}%, Importadas: {percentages[\"Importada\"]:.2f}%)'\n",
    ")\n",
    "\n",
    "fig.show()"
   ]
  }
 ],
 "metadata": {
  "kernelspec": {
   "display_name": "Python 3",
   "language": "python",
   "name": "python3"
  },
  "language_info": {
   "codemirror_mode": {
    "name": "ipython",
    "version": 3
   },
   "file_extension": ".py",
   "mimetype": "text/x-python",
   "name": "python",
   "nbconvert_exporter": "python",
   "pygments_lexer": "ipython3",
   "version": "3.13.1"
  }
 },
 "nbformat": 4,
 "nbformat_minor": 2
}
