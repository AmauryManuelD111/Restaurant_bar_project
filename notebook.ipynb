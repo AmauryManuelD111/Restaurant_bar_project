{
 "cells": [
  {
   "cell_type": "code",
   "execution_count": null,
   "metadata": {},
   "outputs": [],
   "source": [
    "import os\n",
    "import json\n",
    "import pandas as pd\n",
    "import matplotlib.pyplot as plt\n",
    "import plotly.express as px\n",
    "from datetime import datetime\n",
    "from utiles import json_loader, obtener_df\n",
    "\n",
    "\n",
    "pd.set_option('display.max_rows', None)\n",
    "pd.set_option('display.max_columns', None)\n",
    "\n",
    "json_list = json_loader('jsons')\n",
    "\n",
    "df = obtener_df(json_list)\n"
   ]
  },
  {
   "cell_type": "code",
   "execution_count": null,
   "metadata": {},
   "outputs": [],
   "source": [
    "\n",
    "df_type_counts = df.groupby('type').size().reset_index(name='counts')\n",
    "df_type_qualification = df.groupby('type')['qualification'].mean().reset_index(name='qualification')\n",
    "px.pie(\n",
    "    df_type_counts,\n",
    "    names='type',\n",
    "    values='counts',\n",
    "    title='Proporción de establecimientos por tipo de local:',\n",
    "    labels={'type': 'Tipo', 'counts': 'Cantidad'},\n",
    "    color='type',\n",
    "    height=400\n",
    ").show()\n",
    "px.bar(\n",
    "    df_type_qualification,\n",
    "    x='type',\n",
    "    y='qualification',\n",
    "    title='Calificación promedio por tipo de local:',\n",
    "    labels={'type': 'Tipo', 'qualification': 'Calificación'},\n",
    "    color='type',\n",
    "    height=400,\n",
    "    range_y= (df_type_qualification['qualification'].min(), df_type_qualification['qualification'].max())\n",
    ")"
   ]
  },
  {
   "cell_type": "code",
   "execution_count": null,
   "metadata": {},
   "outputs": [],
   "source": [
    "df_type_facebook = df.groupby('contact.facebook').count().reset_index()\n",
    "df_type_instagram = df.groupby('contact.instagram').count().reset_index()\n",
    "df_type_website = df.groupby('contact.website').count().reset_index()\n",
    "df_type_phone = df.groupby('contact.phone').count().reset_index()\n",
    "\n",
    "df_type_facebook['contact.facebook'] = df_type_facebook['contact.facebook'].map({True: 'Si', False: 'No'})\n",
    "df_type_instagram['contact.instagram'] = df_type_instagram['contact.instagram'].map({True: 'Si', False: 'No'})\n",
    "df_type_website['contact.website'] = df_type_website['contact.website'].map({True: 'Si', False: 'No'})\n",
    "df_type_phone['contact.phone'] = df_type_phone['contact.phone'].map({True: 'Si', False: 'No'})\n",
    "\n",
    "px.bar(\n",
    "    df_type_facebook,\n",
    "    x='contact.facebook',\n",
    "    y='name',\n",
    "    labels={'contact.facebook': 'Facebook', 'name': 'Cantidad de locales'},\n",
    "    color='contact.facebook',\n",
    "    title='Cantidad de locales que poseen Facebook',\n",
    "    height=300\n",
    ").show()\n",
    "\n",
    "px.bar(\n",
    "    df_type_instagram,\n",
    "    x='contact.instagram',\n",
    "    y='name',\n",
    "    labels={'contact.instagram': 'Instagram', 'name': 'Cantidad de locales'},\n",
    "    color='contact.instagram',\n",
    "    title='Cantidad de locales que poseen Instagram',\n",
    "    height=300\n",
    ").show()\n",
    "\n",
    "px.bar(\n",
    "    df_type_website,\n",
    "    x='contact.website',\n",
    "    y='name',\n",
    "    labels={'contact.website': 'Website', 'name': 'Cantidad de locales'},\n",
    "    color='contact.website',\n",
    "    title='Cantidad de locales que poseen Website',\n",
    "    height=300\n",
    ").show()\n",
    "\n",
    "px.bar(\n",
    "    df_type_phone,\n",
    "    x='contact.phone',\n",
    "    y='name',\n",
    "    labels={'contact.phone': 'Telefono', 'name': 'Cantidad de locales'},\n",
    "    color='contact.phone',\n",
    "    title='Cantidad de locales que poseen Telefono',\n",
    "    height=300\n",
    ").show()"
   ]
  },
  {
   "cell_type": "markdown",
   "metadata": {},
   "source": [
    "El objetivo que me trace con el proyecto fue el de analizar los horarios de apertura y cierre de los restaurantes que puede tener varios objetivos y beneficios, tanto para los propietarios de los restaurantes como para los clientes y analistas del sector como los siguientes: \n",
    "\n",
    "1. Optimizacion de Operaciones\n",
    "Identificacion de Horas Pico: analizar los horarios puede ayudar a identificar las horas mas concurridas, lo que permite a los restaurantes ajustar su personal y recursos para satisfacer la demanda.\n",
    "Ajuste de Horarios: Si se observa que ciertos días o horas tienen poca afluencia, los propietarios pueden considerar ajustar los horarios de apertura o cierre para optimizar costos.\n",
    "2. Mejora de la Experiencia del Cliente\n",
    "Disponibilidad: Conocer los horarios de apertura permite a los clientes planificar sus visitas, evitando frustraciones por encontrar el restaurante cerrado.\n",
    "Promociones y Eventos: Los restaurantes pueden programar promociones o eventos especiales en horarios donde normalmente hay menos clientes, atrayendo mas visitantes.\n",
    "3. Analisis de Competencia\n",
    "Comparacion de Horarios: analizar los horarios de apertura de la competencia puede ayudar a los restaurantes a posicionarse mejor en el mercado, eligiendo horarios que les permitan captar mas clientes.\n",
    "Identificacion de Oportunidades: Si muchos restaurantes en una zona cierran temprano, un restaurante que permanezca abierto mas tiempo puede atraer a clientes que buscan opciones mas tarde.\n",
    "4. Planificacion de Recursos\n",
    "Gestion de Personal: Con un analisis de horarios, los restaurantes pueden planificar mejor la programacion de su personal, asegurando que haya suficiente personal durante las horas pico y evitando el exceso de personal en horas de baja afluencia.\n",
    "Control de Costos: Ajustar los horarios de operacion puede ayudar a reducir costos operativos, como el consumo de energía y otros gastos asociados.\n",
    "5. Tendencias del Mercado\n",
    "Identificacion de Patrones: Analizar los horarios puede revelar tendencias en el comportamiento del consumidor, lo que puede ser útil para la planificacion a largo plazo.\n",
    "Adaptacion a Cambios: Los cambios en los habitos de los consumidores (por ejemplo, mas personas que cenan tarde) pueden ser identificados a través del analisis de horarios, permitiendo a los restaurantes adaptarse a estas tendencias.\n",
    "6. Datos para Toma de Decisiones\n",
    "Informes y Analisis: Los datos sobre horarios pueden ser utilizados en informes para la toma de decisiones estratégicas, como la expansion de un negocio o la apertura de nuevas sucursales."
   ]
  },
  {
   "cell_type": "markdown",
   "metadata": {},
   "source": [
    "### MIPIJAENSALSASAAAAAA"
   ]
  }
 ],
 "metadata": {
  "kernelspec": {
   "display_name": "Python 3",
   "language": "python",
   "name": "python3"
  },
  "language_info": {
   "codemirror_mode": {
    "name": "ipython",
    "version": 3
   },
   "file_extension": ".py",
   "mimetype": "text/x-python",
   "name": "python",
   "nbconvert_exporter": "python",
   "pygments_lexer": "ipython3",
   "version": "3.13.1"
  }
 },
 "nbformat": 4,
 "nbformat_minor": 2
}
